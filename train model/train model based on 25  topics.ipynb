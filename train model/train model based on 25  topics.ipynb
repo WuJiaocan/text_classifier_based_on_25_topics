{
 "cells": [
  {
   "cell_type": "code",
   "execution_count": null,
   "metadata": {},
   "outputs": [],
   "source": [
    "'''\n",
    "    模型数据来自second_data\n",
    "'''"
   ]
  },
  {
   "cell_type": "markdown",
   "metadata": {},
   "source": [
    "### 加载所有数据，（正负样本）"
   ]
  },
  {
   "cell_type": "code",
   "execution_count": 25,
   "metadata": {},
   "outputs": [],
   "source": [
    "with open(\"../from_es_download_samples/total_negative_samples.txt\", \"r\", encoding=\"utf-8\") as negative_samples:\n",
    "    with open(\"../from_es_download_samples/total_positive_samples.txt\", \"r\", encoding=\"utf-8\") as positive_samples:\n",
    "        with open(\"./total_data.txt\", \"w\", encoding=\"utf-8\") as total_data:\n",
    "            negative_data = negative_samples.readlines()\n",
    "            positive_data = positive_samples.readlines()\n",
    "            for line in negative_data:\n",
    "                total_data.write(line)\n",
    "            for line in positive_data:\n",
    "                total_data.write(line)"
   ]
  },
  {
   "cell_type": "markdown",
   "metadata": {},
   "source": [
    "### 文本处理，分词，去词性非n开头的词，去停用词，去特殊符号，"
   ]
  },
  {
   "cell_type": "code",
   "execution_count": 5,
   "metadata": {},
   "outputs": [],
   "source": [
    "# 将文本和标签分离\n",
    "X = []\n",
    "Y = []\n",
    "with open(\"./total_data.txt\", \"r\", encoding=\"utf-8\") as total_data:\n",
    "    for line in total_data:\n",
    "        label = line.strip().split(\"\\t\")[0]\n",
    "        content = line.strip().split(\"\\t\")[1]\n",
    "        X.append(content)\n",
    "        Y.append(label)"
   ]
  },
  {
   "cell_type": "code",
   "execution_count": 80,
   "metadata": {},
   "outputs": [],
   "source": [
    "# 分词，去掉词性是非n开头的词，返回分词结果\n",
    "def tokenize_text(text):\n",
    "    token_texts = []\n",
    "    import jieba.posseg as psg\n",
    "    for line in text:\n",
    "        word = [word for word, flag in psg.cut(line) if flag.startswith('n')]\n",
    "        token_texts.append(\" \".join(word))\n",
    "    return token_texts"
   ]
  },
  {
   "cell_type": "code",
   "execution_count": 81,
   "metadata": {},
   "outputs": [],
   "source": [
    "# 去除停用词,中英文特殊符号\n",
    "def remove_stopwords(token_texts):\n",
    "    # 加载中文特殊符号\n",
    "    import zhon.hanzi\n",
    "    chi_char = zhon.hanzi.punctuation\n",
    "    # 加载英文特殊符号\n",
    "    import string\n",
    "    eng_char = string.punctuation\n",
    "    # 加载停用词\n",
    "    with open(\"./stop_words.utf8\", \"r\", encoding=\"utf-8\") as stop_word:\n",
    "        stop_words = stop_word.readlines()\n",
    "        filtered_token_texts = []\n",
    "        for token_text in token_texts:\n",
    "            filtered_token_text = [token for token in token_text \n",
    "                                   if token not in stop_words and token not in chi_char and token not in eng_char]\n",
    "            filtered_token_texts.append(\"\".join(filtered_token_text))\n",
    "    return filtered_token_texts"
   ]
  },
  {
   "cell_type": "markdown",
   "metadata": {},
   "source": [
    "### tfidf获取文本特征矩阵"
   ]
  },
  {
   "cell_type": "code",
   "execution_count": 85,
   "metadata": {},
   "outputs": [],
   "source": [
    "def get_feature_matrix(corpus):\n",
    "    from sklearn.feature_extraction.text import TfidfVectorizer\n",
    "    vectorizer = TfidfVectorizer(min_df=2, max_df=1.0, ngram_range=(1,2))\n",
    "    features = vectorizer.fit_transform(corpus)\n",
    "    return vectorizer, features"
   ]
  },
  {
   "cell_type": "code",
   "execution_count": 86,
   "metadata": {},
   "outputs": [],
   "source": [
    "def main():\n",
    "    # 原始文本分词，去词性非n开头的词，去停用词，去特殊符号\n",
    "    tokenize_texts = tokenize_text(X)\n",
    "    filtered_token_texts = remove_stopwords(tokenize_texts)\n",
    "    \n",
    "    #--------------------------------------此处报错----------------------------------------------------\n",
    "    # 处理过的文本划分训练集/测试集\n",
    "    from sklearn.model_selection import train_test_split\n",
    "    train_x, test_x, train_y, test_y = train_test_split(filtered_token_texts, Y, test_size=0.1, random_state=21)\n",
    "    \n",
    "    # tfidf获取训练集/测试集特征\n",
    "    tfidf_vectorizer, train_features = get_feature_matrix(train_x)\n",
    "    test_features = tfidf_vectorizer.transform(test_x)\n",
    "    \n",
    "    # SVM预测分类结果\n",
    "    from sklearn.svm import LinearSVC\n",
    "    from sklearn.metrics import classification_report\n",
    "    svm = LinearSVC()\n",
    "    svm.fit(train_features, train_y)\n",
    "    y_prediction = svm.predict(test_features)\n",
    "    \n",
    "    print(classification_report(y_true=test_y, y_pred=y_prediction))"
   ]
  },
  {
   "cell_type": "code",
   "execution_count": 87,
   "metadata": {},
   "outputs": [
    {
     "ename": "ImportError",
     "evalue": "cannot import name 'LinearSVM'",
     "output_type": "error",
     "traceback": [
      "\u001b[0;31m---------------------------------------------------------------------------\u001b[0m",
      "\u001b[0;31mImportError\u001b[0m                               Traceback (most recent call last)",
      "\u001b[0;32m<ipython-input-87-263240bbee7e>\u001b[0m in \u001b[0;36m<module>\u001b[0;34m()\u001b[0m\n\u001b[0;32m----> 1\u001b[0;31m \u001b[0mmain\u001b[0m\u001b[0;34m(\u001b[0m\u001b[0;34m)\u001b[0m\u001b[0;34m\u001b[0m\u001b[0m\n\u001b[0m",
      "\u001b[0;32m<ipython-input-86-3c8612ca31f2>\u001b[0m in \u001b[0;36mmain\u001b[0;34m()\u001b[0m\n\u001b[1;32m     14\u001b[0m \u001b[0;34m\u001b[0m\u001b[0m\n\u001b[1;32m     15\u001b[0m     \u001b[0;31m# SVM预测分类结果\u001b[0m\u001b[0;34m\u001b[0m\u001b[0;34m\u001b[0m\u001b[0m\n\u001b[0;32m---> 16\u001b[0;31m     \u001b[0;32mfrom\u001b[0m \u001b[0msklearn\u001b[0m\u001b[0;34m.\u001b[0m\u001b[0msvm\u001b[0m \u001b[0;32mimport\u001b[0m \u001b[0mLinearSVM\u001b[0m\u001b[0;34m\u001b[0m\u001b[0m\n\u001b[0m\u001b[1;32m     17\u001b[0m     \u001b[0;32mfrom\u001b[0m \u001b[0msklearn\u001b[0m\u001b[0;34m.\u001b[0m\u001b[0mmetrics\u001b[0m \u001b[0;32mimport\u001b[0m \u001b[0mclassification_report\u001b[0m\u001b[0;34m\u001b[0m\u001b[0m\n\u001b[1;32m     18\u001b[0m     \u001b[0msvm\u001b[0m \u001b[0;34m=\u001b[0m \u001b[0mLinearSVC\u001b[0m\u001b[0;34m(\u001b[0m\u001b[0;34m)\u001b[0m\u001b[0;34m\u001b[0m\u001b[0m\n",
      "\u001b[0;31mImportError\u001b[0m: cannot import name 'LinearSVM'"
     ]
    }
   ],
   "source": [
    "main()"
   ]
  },
  {
   "cell_type": "markdown",
   "metadata": {},
   "source": [
    "# 直接按照jieba分词的结果"
   ]
  },
  {
   "cell_type": "markdown",
   "metadata": {},
   "source": [
    "### 分开调试"
   ]
  },
  {
   "cell_type": "code",
   "execution_count": 91,
   "metadata": {},
   "outputs": [],
   "source": [
    "# 分词，去掉词性是非n开头的词，返回分词结果\n",
    "token_texts = []\n",
    "import jieba.posseg as psg\n",
    "for line in X:\n",
    "    word = [word for word, flag in psg.cut(line) if flag.startswith('n')]\n",
    "    token_texts.append(\" \".join(word))"
   ]
  },
  {
   "cell_type": "code",
   "execution_count": 93,
   "metadata": {},
   "outputs": [
    {
     "data": {
      "text/plain": [
       "49262"
      ]
     },
     "execution_count": 93,
     "metadata": {},
     "output_type": "execute_result"
    }
   ],
   "source": [
    "len(token_texts)"
   ]
  },
  {
   "cell_type": "code",
   "execution_count": 129,
   "metadata": {},
   "outputs": [
    {
     "data": {
      "text/plain": [
       "'比特 币 代表 区块 链 时代 点对点 价值 信任 问题 比特 币 投资品 属性 区块 链 时代 以太 坊 智能 合约 场景 共用 主链 网络 底层 比特 币 以太 坊 增量 区块 两者 过度 共识 无法 社会 规模 比特 币 以太 坊 科技 生态 角度 面 科技 新加坡 中国区 技术 合作伙伴 区块 链 项目 工具 平台 价值 债务 网络 集体 共识 机制 链 系统 场景 网络 流动性 总量 货币 弹性 价值 恒定 技术 方面 分层 结构 过度 共识 问题 链 主链 共识 时 外界 跨链 跨链 时间 需链 解决问题 以太 坊 智能 合约 思想 比特 币 区块 链 安全性 算力 通用性 向下兼容 链 开发者 跨链 协议 成本 技术 架构图 物理 世界 系统 链 跨链 协议 市场 主链 债务 网络 实体 经济 产生 关联 债务 网络 传统 经济学 模型 供需 关系 债务 企业 资金 流动性 生产力 例子 资金 公司 上 官方 资金 流动性 商业 承兑汇票 交易 总量 系统 经济 价值 动态 生态 机制 中心 价值 恒定 弹性 投机者 无法 炒币 牟利 债务 双方 利益 市面上 区块 链 底层 智能 合约 区块 链 容量 链 大量 用户 门槛 场景 特点 科技 重塑 底层 据介绍 主链 开发周期 工具 社群 生态 团队 人 网络 经验 区块 链 技术 币圈 链圈 中国 过程 区块 链 技术 行业 落地 创始人 李茗 乐视 集团 核心 团队 成员 乐视云 总监 太一云 数字 货币 开发者 技术 郭 原太一云 元宝 网 产品 负责人 郝 方舟 区块 链 优质 项目 加微信 公司 姓名 事由'"
      ]
     },
     "execution_count": 129,
     "metadata": {},
     "output_type": "execute_result"
    }
   ],
   "source": [
    "token_texts[0]"
   ]
  },
  {
   "cell_type": "code",
   "execution_count": 94,
   "metadata": {},
   "outputs": [],
   "source": [
    "# 去除停用词,中英文特殊符号\n",
    "\n",
    "# 加载中文特殊符号\n",
    "import zhon.hanzi\n",
    "chi_char = zhon.hanzi.punctuation\n",
    "# 加载英文特殊符号\n",
    "import string\n",
    "eng_char = string.punctuation\n",
    "# 加载停用词\n",
    "with open(\"./stop_words.utf8\", \"r\", encoding=\"utf-8\") as stop_word:\n",
    "    stop_words = stop_word.readlines()\n",
    "    filtered_token_texts = []\n",
    "    for token_text in token_texts:\n",
    "        filtered_token_text = [token for token in token_text \n",
    "                               if token not in stop_words and token not in chi_char and token not in eng_char]\n",
    "        filtered_token_texts.append(\"\".join(filtered_token_text))"
   ]
  },
  {
   "cell_type": "code",
   "execution_count": 116,
   "metadata": {},
   "outputs": [
    {
     "data": {
      "text/plain": [
       "'物流业 转型 序幕 物流 科技 服务商 货运 破局 互联网 时代 物流 行业 互联网 概念 传统 物流 公司 方向 物流 科技 服务商 货运 互联网 行业 痛点 难题 行业 模式 物流 行业 世纪 中国 物流 行业 传统 信息 价格 信任 体系 痛点 互联网 时代 新 原本 传统 物流 行业 迫切需要 货运 创始人 杨邦照 物流 干线 专线 同城 物流 信息化 项目 行业 传统 物流 行业 突破口 突破口 互联网 时代 物流 互联网 技术 工具 互联网 时代 新 电商 转型 物流 阿里 京东 苏宁 巨头 主战场 货物 互联网 时代 用户 货物 人性化 体验 阿里 新 京东 无界 物流 行业 转型 经济 阶段 高质量 阶段 中求 优 中求 中国 经济 结构性 中国 经济 新亮点 中国 中国 转型 高值 创造型 工业 流量 货运 互联网 技术 传统 物流 行业 效率 互联网 物流 技术 传统 行业 滴滴 美团 互联网 技术 信息 价格 物流 行业 痛点 用户 不确定性 特点 互联网 技术 角色 行业 货运 互联网 突破性 利用 云 数据 联网 传感 网 科技 技术 重塑 人 货 关系 链接 物流业 转型 货运 旗下 物流 系统 城 零担 整车 场景 用户 效率 降低成本 收货人 企业 全国 运力 信息化 智能化 网络 运力 货运 旗下 专业 城 管理系统 同城 智能 人工智能 优势 规划 路线 城 企业 能力 效率 专业 零担 管理系统 主打 办公 路线 规划 订单 资金 专业 物流 系统 窄带 联网 技术 货物 精准 定位 层层 分包 信息 断层 问题 单 体验 时 物流 行业 互联网 技术 基础设施 人 共识 货运 物流 行业 痛点 问题 用户 体验 助力 行业 货运 破局 路 环境 技术 模式 物流 行业 变局 时代 货运 破局 行业 转型 电商 物流 粮草 军队 战争 粮草先行 货运 旗下 智能化 系统 物流 链条 智能化 网络 库存 海量 订单 助力 行业 链 智慧 货运 数据 信息化 商流 物流 信息流 资金流 风 体系 物流 企业 产业链 商贸 企业 商户 金融 附加值 模式 科技 元素 物流 行业 行业 阶段 货运 物流 商业模式 市场 规模 传统 物流 行业'"
      ]
     },
     "execution_count": 116,
     "metadata": {},
     "output_type": "execute_result"
    }
   ],
   "source": [
    "filtered_token_texts[9999]"
   ]
  },
  {
   "cell_type": "code",
   "execution_count": 97,
   "metadata": {},
   "outputs": [],
   "source": [
    "# 处理过的文本划分训练集/测试集\n",
    "from sklearn.model_selection import train_test_split\n",
    "train_x, test_x, train_y, test_y = train_test_split(filtered_token_texts, Y, test_size=0.1, random_state=21)"
   ]
  },
  {
   "cell_type": "code",
   "execution_count": 98,
   "metadata": {},
   "outputs": [
    {
     "data": {
      "text/plain": [
       "44335"
      ]
     },
     "execution_count": 98,
     "metadata": {},
     "output_type": "execute_result"
    }
   ],
   "source": [
    "len(train_x)"
   ]
  },
  {
   "cell_type": "code",
   "execution_count": 99,
   "metadata": {},
   "outputs": [
    {
     "data": {
      "text/plain": [
       "4927"
      ]
     },
     "execution_count": 99,
     "metadata": {},
     "output_type": "execute_result"
    }
   ],
   "source": [
    "len(test_x)"
   ]
  },
  {
   "cell_type": "markdown",
   "metadata": {},
   "source": [
    "#### 保留全部默认的1659834个特征"
   ]
  },
  {
   "cell_type": "code",
   "execution_count": 100,
   "metadata": {},
   "outputs": [],
   "source": [
    "from sklearn.feature_extraction.text import TfidfVectorizer\n",
    "vectorizer = TfidfVectorizer(min_df=2, max_df=1.0, ngram_range=(1,2))\n",
    "train_features = vectorizer.fit_transform(train_x)\n",
    "test_features = vectorizer.transform(test_x)"
   ]
  },
  {
   "cell_type": "code",
   "execution_count": 101,
   "metadata": {},
   "outputs": [
    {
     "data": {
      "text/plain": [
       "(44335, 1659834)"
      ]
     },
     "execution_count": 101,
     "metadata": {},
     "output_type": "execute_result"
    }
   ],
   "source": [
    "train_features.shape"
   ]
  },
  {
   "cell_type": "code",
   "execution_count": 102,
   "metadata": {},
   "outputs": [
    {
     "data": {
      "text/plain": [
       "(4927, 1659834)"
      ]
     },
     "execution_count": 102,
     "metadata": {},
     "output_type": "execute_result"
    }
   ],
   "source": [
    "test_features.shape"
   ]
  },
  {
   "cell_type": "code",
   "execution_count": 103,
   "metadata": {},
   "outputs": [
    {
     "name": "stdout",
     "output_type": "stream",
     "text": [
      "             precision    recall  f1-score   support\n",
      "\n",
      "          0       0.80      0.75      0.77      1296\n",
      "          1       0.91      0.93      0.92      3631\n",
      "\n",
      "avg / total       0.88      0.89      0.88      4927\n",
      "\n"
     ]
    }
   ],
   "source": [
    "# SVM预测分类结果\n",
    "from sklearn.svm import LinearSVC\n",
    "from sklearn.metrics import classification_report\n",
    "svm = LinearSVC()\n",
    "svm.fit(train_features, train_y)\n",
    "y_prediction = svm.predict(test_features)\n",
    "\n",
    "print(classification_report(y_true=test_y, y_pred=y_prediction))"
   ]
  },
  {
   "cell_type": "markdown",
   "metadata": {},
   "source": [
    "#### 特征数减少到100000"
   ]
  },
  {
   "cell_type": "code",
   "execution_count": 109,
   "metadata": {},
   "outputs": [],
   "source": [
    "from sklearn.feature_extraction.text import TfidfVectorizer\n",
    "vectorizer = TfidfVectorizer(min_df=2, max_df=1.0, ngram_range=(1,2), max_features=100000)\n",
    "train_features = vectorizer.fit_transform(train_x)\n",
    "test_features = vectorizer.transform(test_x)"
   ]
  },
  {
   "cell_type": "code",
   "execution_count": 110,
   "metadata": {},
   "outputs": [
    {
     "data": {
      "text/plain": [
       "(44335, 100000)"
      ]
     },
     "execution_count": 110,
     "metadata": {},
     "output_type": "execute_result"
    }
   ],
   "source": [
    "train_features.shape"
   ]
  },
  {
   "cell_type": "code",
   "execution_count": 111,
   "metadata": {},
   "outputs": [
    {
     "data": {
      "text/plain": [
       "(4927, 100000)"
      ]
     },
     "execution_count": 111,
     "metadata": {},
     "output_type": "execute_result"
    }
   ],
   "source": [
    "test_features.shape"
   ]
  },
  {
   "cell_type": "code",
   "execution_count": 112,
   "metadata": {},
   "outputs": [
    {
     "name": "stdout",
     "output_type": "stream",
     "text": [
      "             precision    recall  f1-score   support\n",
      "\n",
      "          0       0.79      0.73      0.76      1296\n",
      "          1       0.90      0.93      0.92      3631\n",
      "\n",
      "avg / total       0.87      0.88      0.87      4927\n",
      "\n"
     ]
    }
   ],
   "source": [
    "# SVM预测分类结果\n",
    "from sklearn.svm import LinearSVC\n",
    "from sklearn.metrics import classification_report\n",
    "svm = LinearSVC()\n",
    "svm.fit(train_features, train_y)\n",
    "y_prediction = svm.predict(test_features)\n",
    "\n",
    "print(classification_report(y_true=test_y, y_pred=y_prediction))"
   ]
  },
  {
   "cell_type": "markdown",
   "metadata": {},
   "source": [
    "#### 特征数减少到5000"
   ]
  },
  {
   "cell_type": "code",
   "execution_count": 105,
   "metadata": {},
   "outputs": [],
   "source": [
    "from sklearn.feature_extraction.text import TfidfVectorizer\n",
    "vectorizer = TfidfVectorizer(min_df=2, max_df=1.0, ngram_range=(1,2), max_features=5000)\n",
    "train_features = vectorizer.fit_transform(train_x)\n",
    "test_features = vectorizer.transform(test_x)"
   ]
  },
  {
   "cell_type": "code",
   "execution_count": 106,
   "metadata": {},
   "outputs": [
    {
     "data": {
      "text/plain": [
       "(44335, 5000)"
      ]
     },
     "execution_count": 106,
     "metadata": {},
     "output_type": "execute_result"
    }
   ],
   "source": [
    "train_features.shape"
   ]
  },
  {
   "cell_type": "code",
   "execution_count": 107,
   "metadata": {},
   "outputs": [
    {
     "data": {
      "text/plain": [
       "(4927, 5000)"
      ]
     },
     "execution_count": 107,
     "metadata": {},
     "output_type": "execute_result"
    }
   ],
   "source": [
    "test_features.shape"
   ]
  },
  {
   "cell_type": "code",
   "execution_count": 108,
   "metadata": {},
   "outputs": [
    {
     "name": "stdout",
     "output_type": "stream",
     "text": [
      "             precision    recall  f1-score   support\n",
      "\n",
      "          0       0.78      0.66      0.71      1296\n",
      "          1       0.88      0.93      0.91      3631\n",
      "\n",
      "avg / total       0.86      0.86      0.86      4927\n",
      "\n"
     ]
    }
   ],
   "source": [
    "# SVM预测分类结果\n",
    "from sklearn.svm import LinearSVC\n",
    "from sklearn.metrics import classification_report\n",
    "svm = LinearSVC()\n",
    "svm.fit(train_features, train_y)\n",
    "y_prediction = svm.predict(test_features)\n",
    "\n",
    "print(classification_report(y_true=test_y, y_pred=y_prediction))"
   ]
  },
  {
   "cell_type": "markdown",
   "metadata": {},
   "source": [
    "# 加载之前的公司/title/人名，补充jieba分词的结果"
   ]
  },
  {
   "cell_type": "code",
   "execution_count": 123,
   "metadata": {},
   "outputs": [],
   "source": [
    "# 获取之前的公司简称，全称，转化成可以加载用户自定义词典的格式，词 词频 词性，\n",
    "# 只保留 词 词性两列，词性全部设置成nt\n",
    "with open(\"./raw_data_company_title_person/per_gbk.txt\", \"r\", encoding=\"gbk\") as person:\n",
    "    with open(\"./raw_data_company_title_person/new_title_gbk.txt\", \"r\", encoding=\"gbk\") as title:\n",
    "        with open(\"./raw_data_company_title_person/org_gbk.txt\", \"r\", encoding=\"gbk\") as org_1:\n",
    "            with open(\"./raw_data_company_title_person/org_new_gbk.txt\", \"r\", encoding=\"gbk\") as org_2:\n",
    "                with open(\"./user_dict.utf8\", \"w\", encoding=\"utf-8\") as user_dict:\n",
    "                    # 加载人名\n",
    "                    data_person = person.readlines()\n",
    "                    for line in data_person:\n",
    "                        user_dict.write(line.strip() + \" \" +\"nr\" + \"\\n\")\n",
    "                    # 加载title\n",
    "                    data_title = title.readlines()\n",
    "                    for line in data_title:\n",
    "                        user_dict.write(line.strip() + \" \" +\"n\" + \"\\n\")\n",
    "                    # 加载org_1\n",
    "                    data_org1 = org_1.readlines()\n",
    "                    for line in data_org1:\n",
    "                        if len(line.strip().split(\"\\t\")) == 2:\n",
    "                            user_dict.write(line.strip().split(\"\\t\")[0] + \" \" + \"nt\" + \"\\n\")\n",
    "                            user_dict.write(line.strip().split(\"\\t\")[1] + \" \" + \"nt\" + \"\\n\")\n",
    "                        else:\n",
    "                            user_dict.write(line.strip() + \" \" + \"nt\" + \"\\n\")\n",
    "                    # 加载org_2\n",
    "                    data_org2 = org_2.readlines()\n",
    "                    for line in data_org2:\n",
    "                        if len(line.strip().split(\"\\t\")) == 2:\n",
    "                            user_dict.write(line.strip().split(\"\\t\")[0] + \" \" + \"nt\" + \"\\n\")\n",
    "                            user_dict.write(line.strip().split(\"\\t\")[1] + \" \" + \"nt\" + \"\\n\")\n",
    "                        else:\n",
    "                            user_dict.write(line.strip() + \" \" + \"nt\" + \"\\n\")"
   ]
  },
  {
   "cell_type": "code",
   "execution_count": 125,
   "metadata": {},
   "outputs": [],
   "source": [
    "# 剔除中英混合，且以空格分隔的\n",
    "with open(\"./user_dict.utf8\", \"r\", encoding=\"utf-8\") as outf, open(\"./user_dict.txt\", \"w\", encoding=\"utf-8\") as inf:\n",
    "    data = outf.readlines()\n",
    "    for line in data:\n",
    "        if len(line.strip().split(' ')) == 2:\n",
    "            inf.write(line)"
   ]
  },
  {
   "cell_type": "code",
   "execution_count": 127,
   "metadata": {},
   "outputs": [],
   "source": [
    "# 分词，去掉词性是非n开头的词，返回分词结果\n",
    "\n",
    "import jieba\n",
    "import jieba.posseg as psg\n",
    "\n",
    "jieba.load_userdict(\"./user_dict.txt\")\n",
    "\n",
    "token_texts_user = []\n",
    "for line in X:\n",
    "    word = [word for word, flag in psg.cut(line) if flag.startswith('n')]\n",
    "    token_texts_user.append(\" \".join(word))"
   ]
  },
  {
   "cell_type": "code",
   "execution_count": 133,
   "metadata": {},
   "outputs": [
    {
     "data": {
      "text/plain": [
       "49262"
      ]
     },
     "execution_count": 133,
     "metadata": {},
     "output_type": "execute_result"
    }
   ],
   "source": [
    "len(token_texts_user)"
   ]
  },
  {
   "cell_type": "code",
   "execution_count": 135,
   "metadata": {},
   "outputs": [
    {
     "data": {
      "text/plain": [
       "'比特 币 代表 区块 链 时代 点对点 价值 信任 问题 比特 币 投资品 属性 区块 链 时代 以太 坊 智能 合约 场景 共用 主链 网络 底层 比特 币 以太 坊 增量 区块 两者 过度 共识 无法 社会 规模 比特 币 以太 坊 科技 生态 角度 面 科技 新加坡 中国区 技术 合作伙伴 区块 链 项目 工具 平台 价值 债务 网络 集体 共识 机制 链 系统 场景 网络 流动性 总量 货币 弹性 价值 恒定 技术 方面 分层 结构 过度 共识 问题 链 主链 共识 时 外界 跨链 跨链 时间 需链 解决问题 以太 坊 智能 合约 思想 比特币区块链 安全性 算力 通用性 向下兼容 链 开发者 跨链 协议 成本 技术 架构图 物理 世界 系统 链 跨链 协议 市场 主链 债务 网络 实体 经济 产生 关联 债务 网络 传统 经济学 模型 供需 关系 债务 企业 资金 流动性 生产力 例子 资金 公司 上 官方 资金 流动性 商业 承兑汇票 交易 总量 系统 经济 价值 动态 生态 机制 中心 价值 恒定 弹性 投机者 无法 炒币 牟利 债务 双方 利益 市面上 区块 链 底层 EOS 智能 合约 区块 链 容量 链 大量 用户 门槛 场景 特点 科技 重塑 底层 据介绍 主链 开发周期 工具 社群 生态 团队 人 网络 经验 区块 链 技术 币圈 链圈 中国 过程 区块 链 技术 行业 落地 创始人 李茗 乐视 集团 核心 团队 成员 乐视云 高级总监 太一云 VP 数字 货币 开发者 技术 CEO 郭 原 太一云 VP 元宝网 产品负责人 郝 方舟 区块 链 优质 项目 微信 公司 姓名 事由'"
      ]
     },
     "execution_count": 135,
     "metadata": {},
     "output_type": "execute_result"
    }
   ],
   "source": [
    "token_texts_user[0]"
   ]
  },
  {
   "cell_type": "code",
   "execution_count": 131,
   "metadata": {},
   "outputs": [],
   "source": [
    "# 去除停用词,中英文特殊符号\n",
    "\n",
    "# 加载中文特殊符号\n",
    "import zhon.hanzi\n",
    "chi_char = zhon.hanzi.punctuation\n",
    "# 加载英文特殊符号\n",
    "import string\n",
    "eng_char = string.punctuation\n",
    "# 加载停用词\n",
    "with open(\"./stop_words.utf8\", \"r\", encoding=\"utf-8\") as stop_word:\n",
    "    stop_words = stop_word.readlines()\n",
    "    filtered_token_texts_user = []\n",
    "    for token_text in token_texts_user:\n",
    "        filtered_token_text = [token for token in token_text \n",
    "                               if token not in stop_words and token not in chi_char and token not in eng_char]\n",
    "        filtered_token_texts_user.append(\"\".join(filtered_token_text))"
   ]
  },
  {
   "cell_type": "code",
   "execution_count": 132,
   "metadata": {},
   "outputs": [
    {
     "data": {
      "text/plain": [
       "49262"
      ]
     },
     "execution_count": 132,
     "metadata": {},
     "output_type": "execute_result"
    }
   ],
   "source": [
    "len(filtered_token_texts_user)"
   ]
  },
  {
   "cell_type": "code",
   "execution_count": 134,
   "metadata": {},
   "outputs": [
    {
     "data": {
      "text/plain": [
       "'比特 币 代表 区块 链 时代 点对点 价值 信任 问题 比特 币 投资品 属性 区块 链 时代 以太 坊 智能 合约 场景 共用 主链 网络 底层 比特 币 以太 坊 增量 区块 两者 过度 共识 无法 社会 规模 比特 币 以太 坊 科技 生态 角度 面 科技 新加坡 中国区 技术 合作伙伴 区块 链 项目 工具 平台 价值 债务 网络 集体 共识 机制 链 系统 场景 网络 流动性 总量 货币 弹性 价值 恒定 技术 方面 分层 结构 过度 共识 问题 链 主链 共识 时 外界 跨链 跨链 时间 需链 解决问题 以太 坊 智能 合约 思想 比特币区块链 安全性 算力 通用性 向下兼容 链 开发者 跨链 协议 成本 技术 架构图 物理 世界 系统 链 跨链 协议 市场 主链 债务 网络 实体 经济 产生 关联 债务 网络 传统 经济学 模型 供需 关系 债务 企业 资金 流动性 生产力 例子 资金 公司 上 官方 资金 流动性 商业 承兑汇票 交易 总量 系统 经济 价值 动态 生态 机制 中心 价值 恒定 弹性 投机者 无法 炒币 牟利 债务 双方 利益 市面上 区块 链 底层 EOS 智能 合约 区块 链 容量 链 大量 用户 门槛 场景 特点 科技 重塑 底层 据介绍 主链 开发周期 工具 社群 生态 团队 人 网络 经验 区块 链 技术 币圈 链圈 中国 过程 区块 链 技术 行业 落地 创始人 李茗 乐视 集团 核心 团队 成员 乐视云 高级总监 太一云 VP 数字 货币 开发者 技术 CEO 郭 原 太一云 VP 元宝网 产品负责人 郝 方舟 区块 链 优质 项目 微信 公司 姓名 事由'"
      ]
     },
     "execution_count": 134,
     "metadata": {},
     "output_type": "execute_result"
    }
   ],
   "source": [
    "filtered_token_texts_user[0]"
   ]
  },
  {
   "cell_type": "code",
   "execution_count": 222,
   "metadata": {},
   "outputs": [],
   "source": [
    "# 处理过的文本划分训练集/测试集\n",
    "from sklearn.model_selection import train_test_split\n",
    "train_x, test_x, train_y, test_y = train_test_split(filtered_token_texts_user, Y, test_size=0.1, random_state=21)"
   ]
  },
  {
   "cell_type": "code",
   "execution_count": 223,
   "metadata": {},
   "outputs": [
    {
     "data": {
      "text/plain": [
       "44335"
      ]
     },
     "execution_count": 223,
     "metadata": {},
     "output_type": "execute_result"
    }
   ],
   "source": [
    "len(train_x)"
   ]
  },
  {
   "cell_type": "code",
   "execution_count": 224,
   "metadata": {},
   "outputs": [
    {
     "data": {
      "text/plain": [
       "4927"
      ]
     },
     "execution_count": 224,
     "metadata": {},
     "output_type": "execute_result"
    }
   ],
   "source": [
    "len(test_x)"
   ]
  },
  {
   "cell_type": "markdown",
   "metadata": {},
   "source": [
    "#### 保留全部默认的1749601个特征"
   ]
  },
  {
   "cell_type": "code",
   "execution_count": 140,
   "metadata": {},
   "outputs": [],
   "source": [
    "from sklearn.feature_extraction.text import TfidfVectorizer\n",
    "vectorizer = TfidfVectorizer(min_df=2, max_df=1.0, ngram_range=(1,2))\n",
    "train_features = vectorizer.fit_transform(train_x)\n",
    "test_features = vectorizer.transform(test_x)"
   ]
  },
  {
   "cell_type": "code",
   "execution_count": 141,
   "metadata": {},
   "outputs": [
    {
     "data": {
      "text/plain": [
       "(44335, 1749601)"
      ]
     },
     "execution_count": 141,
     "metadata": {},
     "output_type": "execute_result"
    }
   ],
   "source": [
    "train_features.shape"
   ]
  },
  {
   "cell_type": "code",
   "execution_count": 142,
   "metadata": {},
   "outputs": [
    {
     "data": {
      "text/plain": [
       "(4927, 1749601)"
      ]
     },
     "execution_count": 142,
     "metadata": {},
     "output_type": "execute_result"
    }
   ],
   "source": [
    "test_features.shape"
   ]
  },
  {
   "cell_type": "code",
   "execution_count": 143,
   "metadata": {},
   "outputs": [
    {
     "name": "stdout",
     "output_type": "stream",
     "text": [
      "             precision    recall  f1-score   support\n",
      "\n",
      "          0       0.80      0.74      0.77      1296\n",
      "          1       0.91      0.93      0.92      3631\n",
      "\n",
      "avg / total       0.88      0.88      0.88      4927\n",
      "\n"
     ]
    }
   ],
   "source": [
    "# SVM预测分类结果\n",
    "from sklearn.svm import LinearSVC\n",
    "from sklearn.metrics import classification_report\n",
    "svm = LinearSVC()\n",
    "svm.fit(train_features, train_y)\n",
    "y_prediction = svm.predict(test_features)\n",
    "\n",
    "print(classification_report(y_true=test_y, y_pred=y_prediction))"
   ]
  },
  {
   "cell_type": "markdown",
   "metadata": {},
   "source": [
    "#### 特征数减少到100000"
   ]
  },
  {
   "cell_type": "code",
   "execution_count": 144,
   "metadata": {},
   "outputs": [],
   "source": [
    "from sklearn.feature_extraction.text import TfidfVectorizer\n",
    "vectorizer = TfidfVectorizer(min_df=2, max_df=1.0, ngram_range=(1,2),max_features=100000)\n",
    "train_features = vectorizer.fit_transform(train_x)\n",
    "test_features = vectorizer.transform(test_x)"
   ]
  },
  {
   "cell_type": "code",
   "execution_count": 145,
   "metadata": {},
   "outputs": [
    {
     "data": {
      "text/plain": [
       "(44335, 100000)"
      ]
     },
     "execution_count": 145,
     "metadata": {},
     "output_type": "execute_result"
    }
   ],
   "source": [
    "train_features.shape"
   ]
  },
  {
   "cell_type": "code",
   "execution_count": 146,
   "metadata": {},
   "outputs": [
    {
     "data": {
      "text/plain": [
       "(4927, 100000)"
      ]
     },
     "execution_count": 146,
     "metadata": {},
     "output_type": "execute_result"
    }
   ],
   "source": [
    "test_features.shape"
   ]
  },
  {
   "cell_type": "code",
   "execution_count": 147,
   "metadata": {},
   "outputs": [
    {
     "name": "stdout",
     "output_type": "stream",
     "text": [
      "             precision    recall  f1-score   support\n",
      "\n",
      "          0       0.78      0.73      0.75      1296\n",
      "          1       0.90      0.93      0.92      3631\n",
      "\n",
      "avg / total       0.87      0.87      0.87      4927\n",
      "\n"
     ]
    }
   ],
   "source": [
    "# SVM预测分类结果\n",
    "from sklearn.svm import LinearSVC\n",
    "from sklearn.metrics import classification_report\n",
    "svm = LinearSVC()\n",
    "svm.fit(train_features, train_y)\n",
    "y_prediction = svm.predict(test_features)\n",
    "\n",
    "print(classification_report(y_true=test_y, y_pred=y_prediction))"
   ]
  },
  {
   "cell_type": "markdown",
   "metadata": {},
   "source": [
    "#### 特征数减少到5000"
   ]
  },
  {
   "cell_type": "code",
   "execution_count": 225,
   "metadata": {},
   "outputs": [],
   "source": [
    "from sklearn.feature_extraction.text import TfidfVectorizer\n",
    "vectorizer = TfidfVectorizer(min_df=2, max_df=1.0, ngram_range=(1,2), max_features=5000)\n",
    "train_features = vectorizer.fit_transform(train_x)\n",
    "test_features = vectorizer.transform(test_x)"
   ]
  },
  {
   "cell_type": "code",
   "execution_count": 226,
   "metadata": {},
   "outputs": [
    {
     "data": {
      "text/plain": [
       "(44335, 5000)"
      ]
     },
     "execution_count": 226,
     "metadata": {},
     "output_type": "execute_result"
    }
   ],
   "source": [
    "train_features.shape"
   ]
  },
  {
   "cell_type": "code",
   "execution_count": 227,
   "metadata": {},
   "outputs": [
    {
     "data": {
      "text/plain": [
       "(4927, 5000)"
      ]
     },
     "execution_count": 227,
     "metadata": {},
     "output_type": "execute_result"
    }
   ],
   "source": [
    "test_features.shape"
   ]
  },
  {
   "cell_type": "code",
   "execution_count": 228,
   "metadata": {},
   "outputs": [
    {
     "name": "stdout",
     "output_type": "stream",
     "text": [
      "             precision    recall  f1-score   support\n",
      "\n",
      "          0       0.79      0.65      0.71      1296\n",
      "          1       0.88      0.94      0.91      3631\n",
      "\n",
      "avg / total       0.86      0.86      0.86      4927\n",
      "\n"
     ]
    }
   ],
   "source": [
    "# SVM预测分类结果\n",
    "from sklearn.svm import LinearSVC\n",
    "from sklearn.metrics import classification_report\n",
    "svm = LinearSVC()\n",
    "svm.fit(train_features, train_y)\n",
    "y_prediction = svm.predict(test_features)\n",
    "\n",
    "print(classification_report(y_true=test_y, y_pred=y_prediction))"
   ]
  },
  {
   "cell_type": "code",
   "execution_count": null,
   "metadata": {},
   "outputs": [],
   "source": []
  },
  {
   "cell_type": "markdown",
   "metadata": {},
   "source": [
    "### 查看测试集中true_labe跟pred_label不一致的样本"
   ]
  },
  {
   "cell_type": "code",
   "execution_count": 229,
   "metadata": {},
   "outputs": [],
   "source": [
    "num_list = []\n",
    "for num, pair in enumerate(zip(test_y, y_prediction)):\n",
    "    if pair[0] == \"0\" and pair[1] == \"0\":\n",
    "        num_list.append(num)"
   ]
  },
  {
   "cell_type": "code",
   "execution_count": 221,
   "metadata": {},
   "outputs": [
    {
     "data": {
      "text/plain": [
       "4927"
      ]
     },
     "execution_count": 221,
     "metadata": {},
     "output_type": "execute_result"
    }
   ],
   "source": [
    "len(test_x)"
   ]
  },
  {
   "cell_type": "code",
   "execution_count": 230,
   "metadata": {},
   "outputs": [],
   "source": [
    "content_list = []\n",
    "for i in num_list:\n",
    "    content_list.append(test_x[i])"
   ]
  },
  {
   "cell_type": "code",
   "execution_count": 231,
   "metadata": {},
   "outputs": [
    {
     "name": "stdout",
     "output_type": "stream",
     "text": [
      "844\n"
     ]
    },
    {
     "data": {
      "text/plain": [
       "['事情 亚马逊 创始人 贝索斯 朋友 聊天记录 秦松龄 贝壳 亮相 链家 体系 内 航母 广告 链家 体系 大量 骨干 人员 城市 副总 方式 贝壳 动作 链家 历史 朋友 媒体 贝壳 挖空 链家 上市 论调 事物 世间 事 人人 秦松龄 媒体 人 眼球 现象 人 问题 利益 维度 我的 媒体 前辈 教导 公司 钱 思维 左晖 链家 局限性 前段时间 左晖 混沌大学 时 创业 事儿 二手房 差价 套房 事儿 买卖双方 见面 见面 穿帮 客户 体验 左晖 差价 佣金 链家 经纪人 佣金 条幅 客户 左晖 图片 来源 混沌大学 差价 左晖 事儿 小事 左晖 利益 人 贝壳 概念 上市 人 格局 朋友 思维 模式 亚马逊 创始人 贝索斯 共识 思维 秦松龄 共识 思维 朋友 贝索斯 被人 共识 观点 市场 人 共识 人 一起走 分母 硅谷 投资人 彼得 蒂尔 话 每当 应聘者 时候 问题 问题 观点 事情 人 事实 对立面 秦松龄 例子 朋友 亚马逊 会员 商品 内 亚马逊 CFO 巨亏 贝索斯 亚马逊 史 会员 亚马逊 会员 亚马逊 eBay 京东 巨亏 物流 秦松龄 左晖 共识 朋友 客户 价值 秦松龄 贝壳 CEO 彭永东 媒体 交流会 问题 二手房 行业 经纪人 客户 贝壳 CEO 彭永东 经纪人 客户 信息 经纪人 房源 客 经纪人 房源 客户 信息 效率 流失率 链家 问题 房源 经纪人 网络 朋友 时候 词 格式化 二手房 格式化 行业 贝壳 平台 格式化 二手房 行业 情怀 情怀 词 大街 企业家 使命感 链家 经验 行业 贝壳 平台 维度 线 风口 数据 链家网 图片 来源 混沌大学 秦松龄 彭永东 问题 时候 贝壳 名字 域名 商标 持有人 联系 对方 数据 线 流量 广告费 二手房 市场 总收入 链家 网站 链家网 交易额 彭 链家 时机 彭 江苏 徐州 线 城市 线 阶段 域名 商标 持有人 贝壳 事儿 朋友 定律 热力学 定律 简单 无序 程度 世界 事物 无序 链家 人 官僚化 创业 状态 亚马逊 链家 东西 能干 人 机会 贝壳 贝壳 负责人 链家 城市 总经理 副总经理 省 城市 总经理 链家 城市 副总经理 运营总监 链家 体系 干部 大家 空间 干劲儿 活力 贝壳 挖空 链家 链家 秦松龄 任正非 定律 彭永东 链家网 人 两居室 贝壳 CEO 链家 创业 朋友 这里 贝壳 逻辑 人 秦松龄 人 阻力 原理 左晖 事儿 干 福布斯 朋友 世界 事儿 价值',\n",
       " '来源 官网 新华社 总体 中性 货币政策 银行 体系 流动性 货币 信贷 社会 规模 市场 利率 基本 社会 成本 金融 实体 经济 力度 实体 经济 金融风险 金融市场 流动性 经济 金融 人民银行 负责人 金融时报 记者 人民银行 党中央 国务院 决策 部署 中性 货币政策 宏观 政策 微调 灵活运用 借贷 常备 借贷 工具 期限 流动性 部分 金融机构 存款 准备金率 借贷 银行 体系 资金 稳定性 小微 企业 普惠金融 定向 资金 信贷政策 贷款 贷款 工具 金融机构 小微 企业 三农 棚 水利 国民经济 重点 领域 力度 范围 金融机构 贷款 时 合格 问题 国际 金融风险 国际 经济 金融 形势 市场 总体 中性 货币政策 银行 体系 流动性 货币 信贷 社会 规模 市场 利率 基本 社会 成本 金融 实体 经济 力度 实体 经济 金融风险 货币 信贷 社会 规模 和信贷 百分点 实体 流动性 整体 月份 人民币 贷款 小微 领域 贷款 社会 规模 月份 增量 杠杆 政策 效应 委托 贷款 信托 贷款 银行 承兑汇票 有所 债券市场 有所 季节 资产 证券化 因素 社会 总体 节奏 力度 资金 有序 杠杆 金融市场 利率 企稳 国债 收益率 利率 利率 百分点 百分点 债券市场 风险 总体 债券 市场 利率 水平 整体 趋势 实质性 事件 总体 点状 风险 趋势 市场 纪律 有序 刚性 债券 总体水平 公司 信用 债券 金额 余额 比重 中国 经济 基本面 经济 韧性 面 指标 动力 月份 工业 增加值 去年同期 百分点 月份 制造业 月份 百分点 月份 动能 高技术 制造业 装备 制造业 月份 百分点 月份 计价 金额 去年同期 百分点 经济 基础性 中国 经济运行 区间 中国 经济 潜力 韧性 趋势 人民银行 党中央 国务院 部署 国际 经济 金融 走势 中性 货币政策 形势 微调 政策 政策 力度 节奏 小微 企业 实体 经济 力度 货币政策 宏观 政策 双 支柱 框架 效应 市场 金融市场 有序 金融 改革开放 经济 金融 新华社 中国 经济 资本 市场 基础 中国 经济 月份 成绩单 国民经济 总体 态势 新旧 动能 资本 市场 宏观 资本 市场 改革开放 措施 密集 落地 市场机制 市场 生态 基础 宏观经济 动能 资本 市场 底气 基本 物价 涨势 结构 企业 效益 月份 国民经济 态势 国家统计局 新闻 毛盛勇 中国 经济 成绩单 工业生产 服务业 月份 全国 规模 工业 增加值 实际 百分点 百分点 全国 服务业 百分点 月份 社会 消费品 零售总额 百分点 月份 全国 月份 总额 百分点 南开大学 金融 研究院 院长 田利辉 宏观经济 形势 资本 市场 经济 活力 新旧 动能 月份 高技术 制造业 增加值 装备 制造业 增长势头 服务业 服务业 增长势头 亮眼 月份 战略性 服务业 营业 田利辉 动能 业态 上市公司 质量 资本 市场 投资者 中国 经济 红利 资本 市场 改革开放 基础 资本 市场 改革开放 措施 密集 落地 重塑 市场 逻辑 资本 市场 基础 规范 再融资 上市公司 重塑 制度 IP 常态 化 企业 上市 资本 市场 令人 投资者 老套路 过度 投机 行得通 中国 资本 市场 步伐 深港 交易所 一带 国家 交易所 A股 指数 外资 券商 时代 证券 首席经济学家 潘 向东 改革开放 措施 资本 市场 基础 上市 制度 制度 风险 管理制度 资本 市场 个人 投资者 比重 措施 能力 机构 投资者 投资者 市场 主体 资本 市场 资本 市场 制度 投资者 素质 高质量 企业 上市公司 质量 资源配置 新一轮 资本 市场 改革开放 中国 资本 市场 公平性 公正 力 田利辉 中国 资本 市场 潘 向东 资本 市场 基础 资金 投资者 比例 两者 价值 理性 A股 A股 价格 功能 中国 经济 高质量 阶段 资本 市场 角色 经济 结构 高端 制造业 服务业 比重 中国 中国 资本 市场 参与者 受益者 建设者 中国 金融 行业 改革开放 中国 业务 机遇 美国 信安 环球 股票 有限公司 董事总经理 李晓西 中国 市场监管 水平 中国 资本 市场 法律 环境 上市公司 信息 标准 市场 中国 市场 中国 比例 中国 水平 制度 中国 资本 市场 公司 董事局主席 首席执行官 亨利 费尔南德 中国 金融市场 全球 金融体系 世纪 金融 事件 全球 股票市场 全球 债券市场 全球 资本 市场 赢家 改革开放 风 金 风险 金子 地带 人 主编 微信 私号 兴趣 朋友 沟通交流 编辑 买房 股市 行情 大盘 筹码 价格 美 错 优质 个股 低价 筹码 楼市 时代 排头兵 线 子悠 财记 楼市 股市 买房 子悠 财记',\n",
       " '内容 来源 老板 内参 36氪 商业 生态 主题 峰会 北京 经 转载自 公众 老板 内参 联系 原 公众 封图 泉 责编 清野 深度 文 字 笔记 商业 趋势 新鲜度 口感 怀石 笔记 君 巨头 企业 站队 阿里 腾讯 便利店 社区 风口 无人 赛道 游戏 老板 内参 36氪 商业 生态 主题 峰会 北京 大咖 名 界 同仁 行业 精英 齐聚 本质 传统 行业 转型 模式 主题 深度 对话 环节 作者 盛景网联 合伙人 基 控股公司 创始人 颜艳春 36氪 副总编 老板 内参 总裁 全昌 零售业 焦点 问题 高峰 对话 问 高峰 对话 全昌 颜 老师 来宾 大家 颜 老师 行业 专家 专著 颜 老师 资深 行业 实业家 基 控股公司 董事长 盛景 网 合伙人 荣幸 代表 老板 内参 颜 老师 交流 嘉宾 行业 精英 大家 高手 斗胆 问题 权当 行业 话题 颜 老师 高手 大咖 批评指正 风口 全昌 趋势 话题 概念 时间 概念 界 智慧 大家 定义 零售业 这里 时间 大家 词 形容 行业 风口 行业 感觉 火 资本 巨头 密集 无人 便利店 无人 货架 智能 创业项目 物种 时候 势头 时间 行业 颜 老师 风口 新旧 颜 老师 风口 概念 趋势 颜艳春 风口 时代 风口 时代 抖音 瑞幸咖啡 喜茶 熊猫精酿 抱抱堂 物种 雷军 小米 生态 链 体系 新 国货 中国 企业家 新 品牌 角度 时代 刚刚开始 时间尺度 新 时间尺度 样子 尺度 日马 云 先生 时间 分界线 时候 老马 阿里 研究院 白皮书 时 定义 道路 企业家 一天 全昌 趋势 方向 全昌 一下 话题 巨头 资本 创业者 赛道 大家 设想 互联网 科技 资本 定义 行业 例子 社交 巨头 腾讯 领域 京东 口号 便利店 目标 大家 短时间 赵 向阳 老师 文章 这里 资本 企业 指数 实体 线性 互联网 技术 普适性 实体 复杂性 颜 老师 虚火 颜艳春 大量 机会 盛景 母 基金 大量 新 项目 赛道 大量 资本 数据 阶段 大家 赛道 企业家 品牌 线 城市 产业 共同体 赛道 机会 千禧 新 品牌 大量 机会 小米 上市 母 基金 资本 手环 扫地 机器人 电饭煲 家生态 链 产品 公司 营收 国货 羊群 效应 细分 消费品 消费主义 浪潮 千禧 步入 中产阶级 线 城市 小镇 无人区 线 城市 大量 机会 拼多多 快手 趣头条 线 城市 快手 用户 经济体 拼多多 电商 人口 京东 阿里 态势 海澜之家 大搜车 线 城市 小镇 产业 共同体 互联网 下半场 互联网 产业 互联网 中国 市场 特征 碎片 化 碎片 市场 边缘 市场 产业 互联网 碎片 市场 武力 资本 产业 共同体 产业 磁铁 产业 路由器 平台 产业 力量 一家 公司 汇通达 幅员 高度 碎片 农村 市场 大家 电 电商 平台 新 农村 产业 共同体 农村 乡镇 夫妻 老婆 店 创始人 汪建国 先生 五星 电器 大家 末梢 农村 市场 品牌 Blockchain 区块 链 云 数据 技术 基本上 品类 零售业 态 过程 基础设施 产品 品牌 大量 机会 巨头 企业 站队 阿里 腾讯 全昌 零售业 现象 阿里 腾讯 巨头 密集 京东 巨头 阵营 这里 大 半壁江山 三江购物 百联 大润发 步步高 商超 唯品会 永辉 家乐福 中国 饿了么 居然之家 势头 颜 老师 现象 市场 格局 巨头 企业 站队 阿里 腾讯 巨头 颜艳春 中国 市场 格局 二战 世界 格局 苏联 美国 世界 大 格局 国家 站队 问题 腾讯 阵营 阿里 阵营 阵营 二战 法国 总统 戴高乐 将军 欧洲 过程 欧洲 欧洲 产业 共同体 煤钢 共同体 欧洲 时候 欧洲 小国 意识 道路 煤钢 共同体 欧洲共同体 欧元区 经济体 阵营 安营扎寨 状态 人们 想象 平台 滋润 状态 企业 空间 阵营 头部 效应 流量 商家 流量 商业模式 头部 效应 两极 程度 产业 新 产业 可能性 中国 农村 市场 汇通达 模式 大量 农村 夫妻店 新 农村 产业 共同体 汽车产业 大搜车 模式 二手车 店老板 时间 中国 汽车产业 共同体 标的 家装 市场 艾佳生活 家装 市场 产业链 力量 中国 时间 中国 经济 规模 大量 增量 市场 机会 全昌 案例 河南 甘肃 安徽 省 区域 企业 蚂蚁 商业 安徽 乐城 集团 王卫 河南 集团 吴金宏 发起人 大家 抱团 结盟 维度 机会 想象 空间 降级 全昌 一下 话题 日本 作家 三浦 乡村 时代 火 中国 人 中国 日本 时代 时代 中国 人口 阶层 复杂性 时代 交织 拼多多 短时间 降级 概念 概念 颜 老师 概念 背景 企业 机遇 颜艳春 数据 中国 时代 地区 时代 人群 节奏 时区 中国 城市 线 城市 中产阶级 小镇 消费者 客群 目标 市场 机会 世界 地球 圆 太阳 时候 小时 时 区 中国 市场 时空 穿梭机 现象 城市 商业模式 线 城市 中国 消费市场 业态 时区 阶段 科恩 先生 万物 裂缝 光照 地方 拼多多 现象 降级 线 城市 有闲 小镇 心理学 人性 天生 社交 媒体 阳光 照 线 城市 互联网 人口 结构性 新 红利 线 城市 老百姓 高性价 东西 拼多多 游戏 趣味 拼团 模式 拼多多 现象 代表 线 互联网 人口 红利 降级 全面 阶段 战狼 前任 票房 电影 小镇 票房 主力 票 仓 空调 格力 工厂 小镇 店里 农民 光 层层 物流 成本 世界 农民 汇通达 产业 路由器 层层 体制 农民 汇通达 小店 城里人 价格 东西 中国 市场 区性 创业家 独角兽 机会 机会 品牌 线 城市 小镇 经济 产业 共同体 市场 流量 机遇 全昌 一下 市场 流量 话题 拼多多 短时间 内 时间 IP 微信 程序 有赞 现象 话题 共用 特征 用户 流量 线 城市 线 县城 城镇 小镇 商机 颜 老师 流量 用户 现象 企业 大 机会 颜艳春 机会 互联网 红利 线 城市 线 城市 品牌 海澜之家 线 城市 店 服装行业 上市公司 利润 海澜之家 一家 利润 利润 城市 红海 时候 线 城市 蓝海 意义 线 真的 零售业 态 消费品 创业家 模式 线 品牌 品牌 市场 大量 地方 机会 前段时间 专门 文章 专门 小镇 经济 小镇 闲 习惯 年轻人 城市 城市 车 贷压 气 小镇 小镇 小镇 棋 传统 转型 数字化 全昌 话题 数据 信息化 数字化 数据 数字化 信息化 传统 环节 传统 转型 时候 大家 数据 数字化 信息化 门店 商品 供应链 库存 价格 动销 会员 维度 数据 化 数据 化 能力 企业 数据 化 能力 企业 传统 转型 数字化 信息化 真的 颜 老师 传统 企业 数字化 信息化 颜艳春 数字化 起点 电商 实体店 数字化 转型 数字化 数字化 条件 全昌 数字化 活 颜艳春 数字化 空气 氧气 实体 经济体 数字 经济体 中国 数字 经济体 经济 规模 中国 国民经济 全面 数字化 全面 数字化 转型 过程 事情 数字化 数字化 零售业 本质 本质 效率 成本 规模 顾客 商品 体验 零售业 数字化 全昌 数字化 结果 颜艳春 数字化 企业 转型 道具 道具 商品 盒马 人 盒马鲜生 马云 流量 盒马 肉 菜 光 大家 世界 方程式 爱因斯坦 公式 盈利 商品 顾客 颜值 温度 有故事 商品 顾客 共鸣 顾客 顾客 顾客 效才 东西 数字化 意义 便利店 社区 风口 全昌 趋势 话题 一下 业态 大家 现象 便利店 业态 热 风向 有所 社区 领域 热闹 市场 市场 特征 社区 企业 永辉 鲜生活 生鲜传奇 钱大妈 康品汇 谊 品 开业 三蛋 颜 老师 特征 社区 风口 颜艳春 人类 主线 基本 马斯洛 最底层 东西 亚马逊 全食 原因 电商 中国 渗透率 品类 数据 鲜品 传统 电商 逻辑 消费者 鲜度 大量 零售商 小时 保质期 太太 买菜 买菜 农贸市场 农贸市场 新鲜 过程 鲜度 公司 盒马 永辉 全家 社区 大量 东西 盒马鲜生 肉 菜 小时 订单 马 全国 店 时候 线 城市 阿里 中国 鲜品 分布式 网络 盒马 实体店 盒马鲜生 大家 实体店 能力 老百姓 钟 新鲜 东西 人人 吃货 入口 风口 咖啡 茶 火 全昌 业态 业态 概念 新式 茶 喜茶 雪 茶 答案茶 群体 瑞幸咖啡 连咖啡 咖啡 颜 老师 新式 茶饮 咖啡 趋势 关联 颜艳春 消费主义 年轻人 仪式 参与感 幸福感 消费主义 浪潮 消费群 浪潮 互联网 原住民 机器人 社会 风 传统 主义 物质 时代 精神 世界 互联网 世界 消费主义 旗手 中国 咖啡 行业 前景 报告 全球 咖啡 消费市场 规模 中国 市场 规模 中国 咖啡 年增长率 远高于 全球 市场 增长率 全球 咖啡 咖啡 消费量 速溶 咖啡 中国 数据 速溶 咖啡 市场份额 咖啡 咖啡 品类 中产阶层 小资 情怀 瑞幸咖啡 时间 席卷 中国 市场 空间 星巴克 品牌 太平洋咖啡 咖啡 市场 中国 无人区 无人区 星巴克 一家 公司 瑞幸咖啡 理念 喜茶 经济 现象 星巴克 空间 空间 咖啡 品牌 消费者 年轻人 年轻人 喜茶 真的 功能 感觉 情感 情感 过程 消费主义 浪潮 时候 消费者 精神 零售业 零售业 人们 精神家园 地方 精神家园 空间 物种 本质 全昌 新 物种 行业 物种 本质 盒马 模式 餐饮 物种 企业 餐饮 模式 盒马 永辉 超级物种 世纪 联华 鲸 新华都 海物 步步高 鲜食演义 京东 行业 物种 餐饮 餐饮 物种 表象 颜 老师 物种 本质 颜艳春 时间 物种 人 起点 货 时代 人 时代 货 时代 时候 活生生 人 时候 人 维度 时间 线 全天候 消费者 空间 线 渠道 线下 线 社交 视频 抖音 快手 大量 年轻人 时间 视频流 马斯洛 条线 体验 能力 大量 新 物种 全 场景 维度 定义 全天候 时间 线 渠道 空间 线 全 体验 马斯洛 线 品牌 品牌 产业 共同体 平台 核心 人群 然后 核心 人群 维度 全 场景 能力 过程 感觉 物种 超级物种 独角兽 无人 赛道 游戏 颜 老师 争议 物种 无人 步步高 董事长 王填 无人 便利店 命题 无人 前景 资本 创业者 无人 经历 赛道 无法 货损 成本 问题 无人 便利店 无人 货架 裁员 资本 赛道 猩便利 阿里 巨头 大腿 头部 公司 腰部 尾部 公司 局 游戏 颜艳春 机器人 社会 无人 机器人 社会 标准配置 联网 时代 时候 无人 零售业 风景线 全球 零售业 全昌 时间 关系 对话 环节 颜 老师 趋势 洞察 谢谢 大家 笔记侠 课 人人 崔 心理学 博士 李松蔚 人 专业 团队 管理学 心理学 历时 精心 程序 课程 笔记侠',\n",
       " '北京 租房 价格 蛋壳 相寓 长租 房屋中介 指 房源 亏本 房租 金 变相 房租 租户 北京市 部门 蛋壳公寓 住房 企业 负责人 长租 公寓 指 房源 房租 大学 毕业生 职场 租房 因素 城市 租房 市场 旺季 城市 房租 趋势 房租 租客 水木 论坛 用户 帖子 北京 天通 苑 平 出租房 蛋壳 房租 原地 高达 帖子 直指 蛋壳 公寓 房租 大量 房租 压力 网友 共鸣 城市 房租 原因 时 我爱我家 研究院 院长 胡景晖 季节 因素 资本 长租 公寓 价格 原因 长租 公寓 运营商 规模 市场 价格 房源 人为 房价格 业主 心态 业主 胃口 业主 高价 长租 公寓 房租 言论 胡景晖 我爱我家 监管部门 蛋壳公寓 负责人 资本 大量 市场 魔方公寓 蛋壳公寓 企业 金融市场 长租 公寓 领域 华平 红杉资本中国 基金 腾讯 机构 人民币 A轮 蛋壳公寓 轮 资本 大量 长租 公寓 公寓 大力 多少 城市 多少 房源 目标 市场 房租 市场 胡景晖 个人 发布会 资本 长租 市场 有点 资本 成本 资本 资本 社会 责任 资本 企业 媒体 个别 住房 企业 租金 房源 北京市 市 市 金融 局 市 税务局 部门 蛋壳公寓 住房 企业 负责人 住房 企业 利用 银行贷款 渠道 资金 房源 市场 水平 租金 租金 房源 租金 房东 方式 房源 住房 企业 资金 明确指出 住房 企业 专项 执法检查 用途 资金 租金 市场 备案 部门 长租 公寓 界 大佬 SOHO中国 董事长 联合创始人 潘石屹 对话 王传福 潘 潘石屹 北京 房租 事件 时 长租 公寓 租金 租房 价格 亏本 过程 指引 指引 事情 事情 创业者 荣 王思聪 胜率 网友 电 杨 58速运 狗 司机 机皇 厂商',\n",
       " '编辑 Vince 前线 百度 科技园 新品 发布会 百度 CEO 李彦宏 百度 度秘 事业部总经理 景 鲲 小鱼在家 创始人 CEO 宋晨枫 亮相 全球 首款 视频 智能 音箱 小度 渡鸦科技 百度 智能 音箱 产品 干货 内容 微信 公众 前线 百度 智能 音箱 亲情 牌 百度 世界 大会 高调 百度 智能 音箱 发布会 外观 友商 产品 产品 功能 时 百度 度秘 事业部总经理 景 鲲和 小鱼在家 创始人 CEO 宋晨枫 亲情 牌 中国式 家庭 情感 现象 小度 整场 发布会 温情 气氛 气氛 产品 百度 CEO 李彦宏 评价 用户 东西 文章 百度 外观 友商 李彦宏 同类产品 屏幕 屏幕 收音机 电视机 区别 评价 模样 官方 参数 小度 百度 对话 人工智能 DuerOS 百度 首款 智能 视频 音箱 小度 屏幕 顶级 视频 能力 图像 信号处理器 小度 环形 麦克风 音 语音 能力 团队 专业 音响 体验 优质 小度 体验 苹果公司 设计总监 小度 合伙人 国际 顶级 音响 品牌 Sonos 主 设计师 景 鲲在 小度 中国 家庭 情感 父母 孩子 子女 老人 温馨 陪伴 语音 老人 儿童 亲人 回家 宋晨枫 小度 情况 家人 一手 亲情 牌 记者 现场报导 过程 议论 观点 功能 平板 电脑 音箱 百度 专业人士 读者 评论 区 音箱 价格 李彦宏 宋晨枫 演技 智能 音箱 价格 消费者 心理学 一手 套路 景 鲲在 嘉宾 小度 全场欢呼 大佬 魄力 视频 智能 音箱 波 热点 亚马逊 Echo 科技 巨头 枪口 智能 音箱 领域 苹果 谷歌 入局 科技 巨头 阿里巴巴 天猫精灵 京东 小米 同学 局中人 亚马逊 视觉 化 智能 音箱 Echo 科技 巨头 兴趣 阿里 天猫精灵 发布会 阿里巴巴人工智能实验室 总经理 雪 天猫精灵 销量 系统 视觉 能力 模态 能力 前线 全球 智能 音箱 活 美国 人口 科技 巨头 布局 智能 音箱 人 系统 视觉 信息 信息 人 表达 信息 肢体 语言 信息 声音 信息 阿里 购物 场景 优势 天猫精灵 声纹 功能 网络 购物 典型 屏幕 场景 商品 评论 智能 音箱 图片 光 商品 下单 人 语音 上场 屏幕 消失 语音 视觉 肢体 动作 时代 Google 简单 Google And 信息 智能 音箱 智能 电视 深度 趋势 语音 助手 形象化 空气 圆柱体 视觉 表情 语音 助手 交流 天猫精灵 发布会 阿里巴巴 天猫精灵 精灵 火眼 百度 触屏 阿里巴巴 精力 视觉 物体 表情 天猫精灵 火眼 小度 屏幕 视觉 化 智能 音箱 趋势 科技 企业 入局 新一轮 智能 音箱 大战 智能 音箱 消费者 算数 智能 音箱 大战 智能 音箱 大众 体会 人工智能 魅力 产品 智能 音箱 用户 问题 音乐 天气情况 遇到 中英文 情况 简单 中文 词汇 音乐库 资料库 太小 东西 问题 得到 记得 亚马逊 笑声 视频 视频 来源 腾讯 视频 网友 视频 机器 智能 音箱 问题 无法 人们 用户 体验 科技 产品 智能 音箱 制造者 功夫 产品 用户 产品质量 关键 智能 音箱 消费者 算数 噱头 用户 高质量 产品 用户 内容 优质 记得 编辑 一下 文 图片 Google 工程师 你看 聊天 机器人 课程 区块 链 模块 手 区块 链 项目 福利 好友 现金 封顶 海报 极客 时间 我的 专属 海报 流程 极客 时间 公众 我的 现金 方式 微信 问题 助手 微信 前线 技术 社群 粉丝 朋友 习惯 大家 原创 信仰 态度',\n",
       " '世界 经济 波云 情况 问题 不确定性 经济 实体 经济 华尔街 魔术师 资本 市场 经济体 云山雾罩 经济 乱象 丛生 局面 全球性 金融风险 全球 经济 热点 中国 市场 经济 体量 增长速度 程度 市场 火车头 全球 中国 市场 全球 经济体 部分 市场 联系 深度 链接 区域 板块 资本 全球 布局 中国 市场 热度 时 金融 水平 金融 世界 金融 科技 步伐 斯坦福 美 经济学家 金融 科技 论坛 议程 中美 两国 经济 金融 学家 世界 经济 美 经济 实体 经济 经济 议题 理论 理论 双方 市场 实际 情况 双方 资源优势 深度 路径 方案 论坛 经济 金融 学家 金融 科技 金融 金融 区块 链 板块 主旨 智慧金融 绿色 金融体系 双方 市场 共赢 效率 行家 银行家 金融 专家 现场 诺贝尔奖 亲临现场 论坛 硅谷 趋势 机会 奇迹 硅谷 团队 深度 交流 硅谷 科技 热情 全球 金融 科技 经济 动能 嘉 宾 介 绍 张首晟 美籍 华裔 物理学家 斯坦福大学 讲座 教授 美籍 华裔 物理学家 美国 文理科 学院 院士 美国 国家 科学院 院士 中国科学院 外籍 院士 张首晟 领域 凝聚态 物理 重点 绝缘体 高温 量子 霍尔 效应 电子学 关联 方向 大量 国际 一流 成果 全球华人 物理学 杰出青年 科学家 奖 IBM 研究部 创新奖 绝缘体 领域 杰出贡献 古根海姆 基金 奖 洪堡 奖 欧洲 物理奖 古登堡 奖 科学家 奖 奥利弗 巴克利 凝聚态 物理奖 狄拉克 奖章 基础 物理学奖 物理学 奖 富兰克林 奖章 等奖项 物理学家 霍金 领奖 张首晟 教授 中美 两国 科技交流 丹华 资本 重点 斯坦福大学 硅谷 公司 方向 人工智能 数据 虚拟现实 基因 医疗 行业 黑石 私人 财富 集团 合伙人 私人 财富 集团 负责人 太平洋 西北地区 私人 基金 筹集资金 s先生 信托公司 私人 客户服务 部门 高级副总裁 基金 基金会 家庭 办公室 客户 业务 客户服务 副总裁 营销总监 纽约 财务顾问 身份 副总裁 卓志 西南财经大学 校长 党委书记 中国 保险 学会 副会长 德国 洪堡 基金会 研究员 全国 保险 专业学位 研究生 指导 委员会 委员 中国 精算师 协会 常务理事 四川 保险 学会 副会长 中国人寿 集团 中国 集团 公司 博士后 工作站 指导 导师 国家自然科学基金 国家 社会科学 基金 评议 专家 尹庆双 西南财经大学 委员会 西南财经大学 副校长 教育部 高校 学校 学科 教学 指导 委员会 副主任委员 四川省 科技 顾问团 顾问 全国 行政管理学 理事 四川省 外国 经济学说 研究会 副会长 四川省 高校 政治经济学 副会长 全国 高校 优秀青年 教师 霍英东 基金会 青年教师 奖 中国人民银行 优秀教师 获得者 科研成果 论文 新华 文摘 经济 报刊 资料 成果 四川省政府 奖 教育部 奖 学会 奖 硅谷 帕罗 阿尔托 市 首席信息官 技者 生涯 部 全球 首席信息官 影力 首席信息官 博士 公 城市 技在 全球 思想 袖 公 美政府 中 名 行者 想家 司 矽谷 CIO 全 政府 方面 新 得到 斯坦福大学 管理科学 工程学系 副教授 克 基金 斯坦福 管理科 工程系 教授 卓越 得者 於 任命 首 教授 家科 基金 考夫曼 政策 校友 教授 高科技 美院 智利 科技 全球 科技部 Aaron 科学顾问 委员会 首席科学家 华中科技大学 美国 马里兰大学 博士 师从 专家 国际 电气 电子工程师 协会 院士 教授 论文 区块 链 全球 峰会 区块 链 性 问题 世界 博士 世界 PO 共识 机制 纳什 理论 思想 权益 排序 动态 规划 科学 方法 安全性 效率 基本 属性 性 媒体 新华社 中新社 中国日报 侨报 人民网 世界日报 星岛日报 美国 中文 电视 指南 斯坦福 美 经济 论坛 时间 地点 斯坦福大学 Oak 学术 报告厅 原文',\n",
       " '字数 时 作者 第一财经 孙卓 美国 记者 问题 马蒂斯 美国 国防部长 詹姆斯 马蒂斯 马蒂斯 战争 军事 观点 时 美国国防部 记者会 马蒂斯 记者 时 字 全场 美国 记者 问题 马蒂斯 马蒂斯 外界 媒体 头条 月份 CBS 全国 节目 迪克森 John 马蒂斯 事 时 马蒂斯 马蒂斯 硬汉 性格 故事 国防部长 治军 理念 行事 美国 军事基地 美国 海军 服役 现任 美国 国防部长 马蒂斯 阿富汗 服役 美国 海军陆战队 马蒂斯 美国 中央 司令部 总司令 时 马蒂斯 讲话 马蒂斯 几米 距离 全身 散发出 硬汉 作风 马蒂斯 海军 陆战队 员向 美国 记者 随身带 硬币 硬币 纪念章 美国 军队 领导人 家属 贡献 纪念品 记者 硬币 问题 马蒂斯 时 马蒂斯 笑容 后用 字 问题 炸弹 军事 分析专家 美国 国防部长 马蒂斯 个人风格 方式 精准 军事 财政开支 态度 个人 行事 马蒂斯 特朗普 总统 军事 议题 计划 总统 军事 议程 哈德森 研究所 军事 问题 研究员 海恩瑞 赫 马蒂斯 特朗普 指导 原则 核心理念 马蒂斯 特朗普 美国 海恩瑞 赫 马蒂斯 阿富汗 美国 法律 历史 惯例 国防部长 职 军队 服役 经历 平民 美国 海军 服役 马蒂斯 阿富汗 伊拉克 战争 高层 攻击型 风格 美国 军队 影响力 美国 海军 马蒂斯 五角大楼 军装 这里 马蒂斯 西装 领带 亮相 身份 美国 国防部长 马蒂斯 政府 棘手 问题 国防部 部门 财务 国会 国防部 国防部 新闻 怀特 资产 规模 苹果公司 沃尔玛 加利福尼亚州 价值 总和 怀特 马蒂斯 财政 责任心 态度 美国 人民 证明 一块钱 宝贵 明察秋毫 马蒂斯 国防部 官员 查明 军事训练 效力 部门 官员 浪费 资金 精力 部门 效力 规定 国防部 高调 马蒂斯 个人 行事 风格 外界 媒体 美国国防部 马蒂斯 共事 官员 行事 军方 高层 领导人 经历 外界 特朗普 军事 建议 信息 同 特朗普 内阁 政治 争议 观点 媒体 美国 橄榄球 球员 奏国歌 时单 膝 地 抗议 事件 时 马蒂斯 国防部长 国家 媒体 观点 特朗普 分歧 时 马蒂斯 保留地 媒体 特朗普 媒体 总统 总统 意见 马蒂斯 同 媒体 方式 国防部 记者会 马蒂斯 国防部 记者会 焦点 个人 怀特 疯狗 思想家 特朗普 马蒂斯 国防部长 情绪化 马蒂斯 言辞 大胆 直言 个人 作风 故事 伊拉克 战争 时期 美国 中央 司令部 总司令 马蒂斯 伊拉克 领导人 见面 时 武器 眼泪 背地里 我会 军事 问题 分析专家 特朗普 疯狗 绰号 马蒂斯 博览群书 学者 心思 马蒂斯 观点 特朗普 分歧 时候 特朗普 马蒂斯 特朗普 水刑 方式 马蒂斯 观点 时候 啤酒 香烟 时 参议院 时候 马蒂斯 国会 总统 命令 命令 道德 人 哥伦比亚河 钓鱼 马蒂斯 特朗普 疯狗 马蒂斯 圈内 好友 绰号 特朗普 马蒂斯 国防部长 得到 国务卿 基辛格 马蒂斯 基辛格 斯坦福大学 共事 马蒂斯 华盛顿 政治 圈内 人 军事 背景 个人 行事 风格 马蒂斯 小手指头 华盛顿 政客 全部 奥巴马 时期 国防部 副部长 弗洛 诺伊 勇士 和尚 华盛顿大学 历史学 学士 毕业后 马蒂斯 越战 服役 哥哥 美国 海军 海军 服役 马蒂斯 爱丽丝 吉利 斯 女孩 吉利 斯 马蒂斯 军队 马蒂斯 程序 海军 战友 大家 事 马蒂斯 女友 条件 马蒂斯 好友 前途 光明 吉利 斯 马蒂斯 婚礼 婚礼 吉利 斯 婚礼 原因 马蒂斯 特朗普 关系 马蒂斯 原因 想象 婚姻 念头 马蒂斯 好友 慕尼黑 国际 会议 马蒂斯 记者 国防部长 公职 个人 家庭 代价 好人 公职 马蒂斯 马蒂斯 人 勇士 和尚 时候 啤酒 美女 修道院 事实 马蒂斯 饮酒 个人 信息 自律 人 日本 驻军 时同 马蒂斯 宿舍 美国 将军 恩 尼斯 危机感 特朗普 时期 国防部 难题 大量 政治 任命 职位 政治 任命 顾问 职位 平民 公职人员 行政 办公 人员 这里 人 国防部 官员 我的 打印机 国防部 样子 美国国防部 部长 帕内塔 Leo Pa 时候 国防部 大量 高层 情况 争端 时候 国防部 人员 危机 危机 时候 我的 高层 军事行动 时候 力量 目标 后果 人 智慧 马蒂斯 帕内塔 特朗普 马蒂斯 国防部 军事 数字 前任 奥巴马 国防部 数字 党 美国 军队 硬件 战争 经历 费用 问题 情况 空军 飞行员 岗位 时间 帕内塔 军队 船只 港口 情况 美国 媒体 马蒂斯 时间 国防部 政治 任命 职位 马蒂斯 人选 特朗普 白宫 熟人 熟人 共和党 国家 方面 专家 时期 邮件 声称 特朗普 总统 职位 人 马蒂斯 世界 变数 美国 军方 人员 能力 海军 潜艇 日子 日子 马蒂斯 顶头上司 装备 时候 马蒂斯 王石 人生 时刻 宝万之 事 股票 股 资本 市场 风生水 任正非 华为 罚款 高管 罚款',\n",
       " '虎嗅 阶级 年度 热词 话题 过程 受害者 阶层 身份 阶层 过程 角色 人 宝贵 马修 斯图尔特 大西洋 月刊 发文 美国 阶级 阶级 阶级 励志 中产阶级 现状 因素 原 标题 虎嗅 人生 贵族 小时候 礼拜 美国 贵族 那天 一家 祖父母 芝加哥 棕榈 滩 阿什 维尔 乡村 俱乐部 小住 早餐 饕餮 盛宴 祖父 乐意 好客 和蔼 主人 故事 指导 机会 时 雪茄 烟雾 周 曾祖父 罗伯特 斯图尔特 罗斯福 骑兵 莽 骑兵 美西 战争 骑兵队 别号 罗斯福 组织者 世纪 一天 印第安那 标准 石油 公司 董事长 争议 洛克菲勒 家族 明白 故事 石油 巨头 恩怨 纠葛 远非 事实 周 时 我家 现实情况 世界 美国 军事基地 社区 译者 作者 个人 网站 夏威夷 火奴鲁鲁 父亲 海军陆战队 军官 时 随 家人 加州 佛州 华盛顿 住所 年龄 午餐 排场 桥牌 礼仪 有点 人才 大家 成就 价值 功绩 分数 竞争力 棋类 能力 快餐店 奖学金 天生 优势 钱 贵族 祖上 大西洋 月刊 典型 读者 群体 处 待会儿 理由 群体 规范 事实 肤色 种族 人 阶层 记忆 常规 社会学 金融学 学科 标准 衡量 好事 投胎 家庭 人 脉 水平 金钱 碾压 下层 盲点 阶层 有多 知情者 精英 阶层 代价 财富 特权 老把戏 财富 日益 时代 无辜 旁观者 经济 政治 民主 过程 故作 韬隐 魅力 谈谈 钱 美国 故事 现象 日益加剧 化石 燃料 界 富豪 华尔街 肥猫 科技 兄弟 金字塔 人民 中产阶级 无辜者 故事 内容 简单 道理 角色 情节 想象 根本性 错误 财富 日益 过程 赢家 人 加州大学 伯克利分校 经济学家 伊曼纽尔 赛斯 加百 列祖 克曼 数据 群体 中约 家庭 全美 财富 政治 献金 人 尖儿 金主 蛋糕 下层 人 手 人 部分 人 情愿 手 世纪 巅峰 时期 群体 全美 财富 数字 百分点 对上 财富 占有率 增幅 中间层 财富 大饼 越积越 占有率 整体 实际 财富 人 阶层 财富 占有率 黄金 线 代表 阶层 不平 新 贵族 条 黄金 线 阶层 曲线 故事 人 全美 财富 角色 人 政治 操纵者 法兰绒 律师 医生 牙医 中层 银行家 头衔 MBA 专业人士 进晚餐 中产阶级 阶层 身份证明 资产 净值 身价 群体 中层 资产 群体 顶层 境界 群体 正确轨道 正确态度 人 口号 群体 最底层 家庭 干草 叉 白人 皮尤 中心 财富 占有量 家庭 裔 美国 家庭 西班牙 裔 家庭 族裔 家庭 名单 美国 总人口 比例 遭遇 脖子 卡住 敬畏 感情 凝视着 人 结果 时代 故事 人 尘土 路障 美国 财富 中间层 起步 金融 角度 衡量标准 简单 标准 趋势 时 财富 财富 团队 大胆 群体 中间层 财富 值 标准 美国 期 科技 经济 文化 高度 贫富差距 有色 族裔 中间层 起步 财务 美国 政策 研究院 家具 家庭 汽车 耐用品 中层 黑人 家庭 净资产 中层 拉美 裔 家庭 中层 白人 家庭 净资产 波士顿 报告 中层 白人 家庭 资产 中层 非裔 家庭 资产 印刷错误 卡布奇诺 钱 卡布奇诺 钱 阶层 现状 美国 人 机会 人们 变动性 结论 美国 神话 机遇 人们 经济 变动性 想象 一下 社会 经济 阶梯 橡筋 脚踝 父母 所处 社会 地位 橡筋 强度 父母 橡筋 低位 橡筋 经济学家 数值 概念 代际 弹性 术语 简单 子代 社会 平均收入 程度 父代 父代 程度 段时间 父母 关系 国家 人 命运 纽约市 大学 经济学 教授 迈尔 斯科拉 美国 值 美国 父母 游戏 一半 值 经济体 方式 衡量 国民 变动性 美国 智利 阿根廷 日本 德国 子代 命运 约束力 橡筋 社会 梯级 时 故事 美国 一半 加拿大 美国 社会 中层 步速 梯级 群体 命运 两国 答案 加拿大 美国 底层 人 顶层 人 距 起点 地方 机遇 土地 苹果 经济学家 奥巴马 政府 经济 顾问 委员会 主席 艾伦 克鲁格 全球 经济 流动性 数据 时 美国 暗流 进程 日益加剧 海滩 浮木 全球 国家 共性 程度 人类 社会 阶级 阶级 盖茨 曲线 横轴 基尼系数 纵轴 代际 弹性 经济学家 生物 图表 程度 两者 因果关系 高层人士 美国 精英 精神 基石 谎言 毫无瓜葛 人 富人 方式 阶级 进程 创造性 钱 堵墙 历史 社会 团体 墙 责任 团体 贵族 人 贵族 区别 学会 上位 克鲁格 图 图表 盖茨 曲线 名字 我的 共鸣 美国 梦 小说 作者 斯科特 菲茨杰拉德 背景 我的 曾祖父 秘密 标准 石油 公司 钱 加拿大 一家 空壳 公司 小说 时 法律顾问 证据 证明 标准 石油 债券 内政部长 小说 作者 巴黎 咖啡馆 小酌 我的 曾祖父 罗伯特 斯图尔特 法院 传票 实际行动 参议院 证明 茶壶 山 丑闻 案 美国 曾祖父 代人 顶峰 顶峰 人们 顶峰 越长越 物种 起源 祖母 钱 社会阶层 私人侦探 纸品 工厂 主 女儿 少女 时 祖母 肯塔基州 社交界 时尚 盖茨 黛西 布坎南 长子 西班牙 女人 时 通风 准新娘 家人 巴塞罗那 大街 报纸 祖母 二人 事态 导入正轨 祖母 小家庭 夏威夷 长子 人 纽约市 社会 名人录 社会学家 语言 祖母 家庭 社会 资本 热心 管理者 西班牙 顽童 计划 祖母 靠谱 金钱 衡量 财富 标准 远非 财富 形式 家庭 朋友 社交 网络 个人 文化 地理位置 途径 金钱 形式 财富 贵族 特权 角度 定义 家庭 学校 人 维度 人 物种 祖母 时代 物种 性 过程 礼貌 用语 选型 人们 互联网 时代 奇迹 网络 爆米花 遇到 黄油 洋基队 球迷 同道中人 选型 狂潮 真理 奥斯汀 小说 女主角 真理 日益加剧 有所 加码 人 过程 无法 校园 树荫下 公司 遇到 意识 时 财富 值 手段 祖母 明白 长春藤 人 素质 申请加入 约会 人 纽约 申请者 精英 选型 老鼠 老鼠 老鼠 老鼠 误导性 结果 总结 富鼠 穷鼠 人 伴侣 哈佛大学 政治学家 罗伯特 普特 父母 大学 家庭 单亲 比例 数字 父母 大学 家庭 单亲 比例 世纪 夫妇 离婚率 学历 夫妇 离婚率 斯坦福大学 经济学家 拉杰切迪 结果 单亲家庭 比例 衡量 社会 程度 指标 佳偶 造就 家庭 错误 人们 方式 精英 阶层 错觉 个人行为 群体 集体 有益 社会 法学院 莎士比亚 悲剧 可能性 事实 集体 社会 婚姻 奢侈品 家庭 精英 特权 家庭 进程 社会 方式 课吧 身体 记录 进程 世纪 英格兰 富人 钱 英国 侏儒 巨人 阶级 男孩 阶层 同胞们 英寸 身体素质 指数 家庭 年收入 人 糖尿病 心脏病 肾病 肝病 几率 家庭 年收入 世界 世纪 头 内 美国 白人 死亡率 份儿 趋势 普林斯顿大学 经济学家 安妮 凯斯 安格斯 迪顿 社会学 数据 日益 方方面面 人 社区 学校 时间 高质量 医疗保健 监狱 服刑 朋友 客户 子女 机会 朋友 形式 财富 优势 高 阶层 牛仔裤 T恤 有机 子女 成绩 社区 生态 正确性 地位 明白 素质 学会 优势 孩子 美国 人 永葆 婚姻 社区 社交 网络 父母 方面 人 负债 事实 美国 育儿 成本 高昂 孩子 生育权 规定 生育权 父母 有权 子女 时间 数量 间隔 家庭 法纪 政治 人 底层 人 产生 意识 形式 个人 家庭 广告 儿 巧得很 篇文章 时 网站 处 招聘启事 职业 夫妇 保姆 保姆 爱心 智慧 专业 书面上 交流 孩子 孩子 穿衣 综上 大学 学位 简言之 保姆 专业 父母 特质 夫妇 专业化 家庭 通晓 礼仪 环境 保姆 经验 条件 时间 读什么 法学 学位 契约 甲方 技能 经验 专业 精神 广告 世纪 商业 用语 女 家庭教师 维多利亚 时代 文学作品 人物 阶级 类人 晋级 办法 效法 庄园主 女主人 保姆 主人 小说 小说 角色 目光 角色 向远方 地平线 盖茨 曲线 社会 资本 资本 文化 资本 曲线 形式 财富 日益加剧 经济学 定律 世纪 资本论 作者 托马斯 皮 凯蒂 资本 历史 回报率 经济 历史 增长率 金钱 本质 不公 财富 形式 权力 形式 人 资本 金钱 财富 权利 形式 优势 英国 阶级 英寸 优势 下层 优势 贵族 特权 女儿 沙发 陌生人 梦想 朋友 咨询室 时髦 西装 职业 女士 目光 锐利地 然后 治疗师 根源 建议 父母 大学 咨询服务 女儿 体验 得到 法国 文化 旅 大学 服务业 经验 回家 经验 售价 Whisper 故事 加州 黄棕色 山谷 科技 公司 黄金 宅邸 遇到 高中同学 记得 孩提时代 神童 兄弟姐妹 电视节目 语言 音乐 天赋 客户 加州 飞 孩子 小时 价格 工作日 交通费 客户 包年 到这儿 日子 现金 心仪 精英 大学 名额 女儿 作者 仪式 当众 名牌大学 意义 俗气 奋斗者 车贴 这里 指 贴标签 证明 方式 银行家 企业 律师 火烧 屁股 我的 警报 美国 精英 学生 肤色 性别 财务 基础 全美 顶尖 大学 学生 家庭 毕业生 数字 全美 精英 大学 常春藤 大学 学生 学生 耶鲁大学 英语 教授 威廉 德雷谢 维奇 绵羊 书 书中 美国 形式 总结 种族 性别 制度 路 富 人们 量身 平权 计划 利用 丹尼尔 著作 代价 美国 精英 大学 政策 校友 投胎 富人 占上风 子女 长曲棍球 壁球 成本 精英 学校 富人 阶层 顶尖 爹 交 现金 儿 学位 老 做派 江湖 美国 民间 新闻 网站 发文 特朗普 女婿 贾 里德 库什 哈佛 学位 父亲 富人 平权 计划 资源优势 私立学校 美国 学生 毕业 教派 私立高中 哈佛 新生 普林斯顿大学 新生 平权 计划 学生 财富 保值 体系 富人 信念 精英 大学 基础 所有人 申请人 顶级 高校 录取率 直线 结果 机会 精英 大学 大学 管理人员 机器 大学 地位 普林斯顿大学 高校 信 香饽饽 集体 特权 普罗 大众 职责 大学 学费 全国 平均工资 水平 大学 学费 父母 费用 顾问 私校 小提琴 课 小学 子女 密克罗尼西亚 村庄 公平 美国 经济援助 家庭 差距 程度 大学 成本 问题 富 人们 花钱买 路 简单 钱 值 美国 回报率 时 大学 Wag 大学 毕业生 毕业生 比值 挪威 丹麦 大学 日本 法国 德国 品牌 体系 学校 学校 学校 社会 不太会 投胎 人 系统 系统 高校 大学 大学 实质 学生 学贷 系统 人 溢价 契约式 奴役 命运 人人 溢价 溢价 技能 溢价 天赋 赏赐 社会学家 口吻 才智 精英 精英 奠基性 神话 溢价 原因 经济 优质 人才 价值 话 潜台词 赏赐 功劳 事实 学历者 薪资 原因 高薪 一半 常春藤 毕业生 金融 医学 法律 简单点 职业 从业者 集体 影响力 薪酬 从业者 地面 职业 高校 毕业生 美国 医生 律师 群体 布局 成员 行当 精英 阶层 糖果 教父 金融 服务业 世纪 时 银行家 金融部门 游戏 玩法 其本质 金融危机 公众 风险 金融 专家 赌场 两面 字 硬币 金融体系 产物 银行家 利益 子孙后代 利益 游戏 汽车 工 护理 工 工 家具 工 食品 工 美国 制造业 服务业 工人 薪资 国际 排行榜 中位 大学 文凭 职业 美式 维基百科 员工 福利待遇 职工 作者 术语 美国 主义 事实 国家 起源 文教 背景 历史 政策 宗教 体制 美国 工人 薪资 美国 你看 人 协会 集体利益 时 服务质量 从业者 公平 职场 条件 优秀人才 所值 工人阶级 企图 工会 目的 时 自由市场 神圣 原则 手段 看吧 一家 企业 工人 顾问 薪酬 委员会 下场 CEO 工会 人数 溢价 时 工人 工会 成员 数字 学位 心灵 公民 有益 社会 体系 成 私人 利益 手段 溢价 国家 指数 社会 程度 女儿 大学 射门 角度 时 意识 成就 价值 功绩 错觉 潜意识 我的 意思 证明 系统 人为 能力 角度 沙狐 球 公允 项目 项目 玩儿 资格 富人 沙狐 球 奇才 关心 船 航向 人 冰山 孩子 方面 少费 劲 事实 公民 身份 小提琴 航行 政府 隐形 手 祖父 阶级 罗斯福 新政 祖父 政府 修正案 联邦政府 性 权力 祖父 大半生 生逢其 时 方式 惠及 信 性子 祖父 股票 经纪人 政治 共和党 人选 康涅狄格州 副州长 职 夫妻 二人 深信 政府 费心 巴力 美国 政治 思想 书中 祖父 政府 政府 政府 贵族 政府 行使 专属 特权 人 艺术 政府 政府 族群 税负 联邦 税 工人 米特 罗姆尼 投资者 税收 经济 政策 研究所 总 税款 理论 税收 价值 社会 事业 所得税 惠及 低收入 人群 人士 信 数数 福气 价值 计划 总额 利息 补贴 房子 股权 令人 陶醉 联邦 税收 总额 流向 人 人 别忘了 孩子 国家 灵魂 秘密 税法 美国 税法 国家 富人 子女 钟爱 额 一下 关键词 条 新税法 福利 资产 住宅 时 资产 产生 税负 子女 父债子 命运 税负 小数 富 人们 儿童 保险 计划 总 我的 曾祖父 遗产税 税率 兄弟姐妹 祖父 差点 宾利 俱乐部 会费 钱 政府 中产阶级 心怀 邮政编码 布鲁克林 家 步行 旅程 一路上 榆树 住宅 维多利亚 时代 荣耀 特大号 壁橱 实木 客厅 冰箱 荒野 园艺师 基本上 人影 对话 厨房 工程 钱袋 瓦工 深有体会 燃气 维修工 车 泰式 旅程 女士 压力 高速公路 小时 燃气 维修工 州 房子 租金 波士顿 房价 旧金山 纽约 洛杉矶 大城市 地方 圣路易斯 房子 曼哈顿 换 体面 公寓 房子 换 浴室 房价 大城市 过程 社会 阶层 黄金地段 地区 经济 波士顿 西南 成年人 研究生 学位 数字 地理 鸿沟 财富 鸿沟 文说 财富 形式 结果 地区 富人 财富 邮政编码 造金 机器 银行 科技 企业 钱 财富 手段 丛林 法则 镀金 地带 犯罪率 人 寿命 社会 网络 颈椎病 压力 时间 夫妻 几率 邮政编码 身份 定义 风格 价值观 造就 地位 财富 经济 陨 民主 盖茨 曲线 实体 版 经济 事儿 美国 故事 经济 惠及 人 人 造就 人 故事 然后 商用 级别 厨房设备 盲点 萨拉 姑姑 家族 荣耀 信徒 姓氏 传 苏格兰 国王 曾祖父 威廉 斯图尔特 陆军 乔治 华盛顿 右手边 萨拉 姑姑 波卡洪 塔斯 英雄 印第安 公主 妹妹 后裔 故事 意义 萨拉 家族 天生 特权 特权 看吧 蠢人 特权 时候 部分 人 作品 梦想 布鲁斯 金 学会 研究员 理查德 里夫斯 纽约时报 发文 读者 假装 结果 阶级 战争 文章 罪恶 满盈 作品 街道 社会学家 谢尔曼 人 记录 集体 症状 特权 时 人 反唇 大街 年薪 孩子 私立学校 家长 问题 耳病 美国 人 区分 社会 个人 区别 作家 社会 问题 读者 我的 人类 火眼金睛 在城镇 廉价 人类 话 笔杆 上马 人 人 因 地位 压力 压力 孩子 斯坦福 灾难 意识 特权 日益增长 原因 成型 精英 阶层 贵族 一代人 时间 阶级 速度 想象 意识 现实 结果 假想 错误 特权 意思 足球场 无法 地步 心声 多少 表象 信息 贵族 张三李四 盖茨 曲线 事实 特权 保险柜 人生 顺风 顺水 长大 祖父 故事 结果 父亲 体重 公分 前任 莽 骑兵 房间 地板 事儿 杰伊 盖茨 明白 西卵 小说 地名 实际 表面 普林斯顿大学 学子 王子 预科 学校 人生 人 先辈 虚构 人物 形象 西卵人 地位 住处 有多 离岛 居 想象 直觉 盖茨 曲线 人生 钱 不值钱 骨子里 阶级 阶级 个人 中总 人会 新鲜血液 特权 不安全感 特权阶层 下层 鸿沟 日益 引擎 驱策 时间 经历 砌墙 西卵 事实 盖茨 人 头 小约翰 洛克菲勒 时刻 划清界限 问题 根源 权利 特权 所有人 普世 权利 医疗保健 机会 特权 晋级 游戏 情况 杜撰 家族史 萨拉 阿姨 明白 太晚 财产 时 铜板 家族 神话 个人 大愿景 祖辈 商业 头脑 互联网 泡沫 结果 岁数 相间 佛州 杰克逊 维尔 温迪 快餐厅 汉堡 民怨 政治 理论 精英 制度 政治 神学 教导 时 眼睛 时钟 长岛 水域 机动船 人家 失败者 现实生活 人类 所想 明察秋毫 眼睛 身份 地位 贵族 特权 一事 贵族 标准 人 情绪 迹象 政治 高分 卓越 头条 总统大选 标志 美国 史 决定性 时刻 唐纳德 特朗普 白宫 人 成员 文 富豪 金字塔 帮子 底层 凡事 阶层 CNN 和皮尤 民调 白人 投票者 选票 特朗普 人 经济 赢家 理由 市场 数据 希拉里 县 生产总值 特朗普 县 瓜分 网站 Zillow 资深 经济学家 阿伦特 拉扎 斯 希拉里 县 房价 中位数 特朗普 县 房价 中位数 希拉里 县 特朗普 县 百分点 民众 指数 特朗普 县 输家 雪城 大学 社会学 副教授 香农 蒙纳特 铁锈 地带 特朗普 政府 保健 计划 候选人 遭遇 人为 全美 全美 特朗普 地盘 房屋 大海 国民 平均寿命 特朗普 词汇 公平 原因 心怀 怨愤 选民 词 特朗普 白人 选民 特征 皮尤 中心 白人 特朗普 希拉里 百分点 结果 特氏 白人 希拉里 百分点 结果 希拉里 奥巴马 数据 大神 内 特希尔 全美 程度 县 一度 希拉里 香饽饽 时 奥巴马 县 百分点 希拉里 百分点 程度 县 奥巴马 百分点 希拉里 百分点 历史学家 理查德 霍夫斯 塔特 美国 主义 人们 苏珊 雅 美国 无理性 时代 警告 汤姆 尼克尔 专业知识 特朗普 无理性 时代 英雄 白手起家 得志 偶像 美国 梦 神圣化 身 穷人 理想 富人 群体 书 伪君子 特朗普 政策 刀 实枪 读书人 政 群体 代表 理性 平民 敌人 平民 理性 敌人 这里 平民 白人 美式 民怨 大脚 然后 人 想象 利益 问题 那些人 钻营 救济 手段 白人 祖先 大旗 白人 祖先 宗教 政治学家 布莱恩 沙夫纳 调查报告 白人 肤色 占上风 选民 女性 图谋 男性 选民 特朗普 选票 投票者 种族主义 一下 心怀 人 种族 把票 种族主义者 和性 嫌疑犯 人生 心怀 大众 现象 种族主义 仇 主义 智 主义 心态 理性主义 形式 民主 政治 批量 成本 高昂 电视 精心 社媒 高价 信息 茧房 幕后 人性 人们 感官 现实 利用 政治 硕果 种族主义 美国 人 乐意 沿用至今 炮制 时宜 种族隔离 后果 手段 美国 政治 两极化 礼数 日益 社会 极具 野心 分子 结果 产生 财富 盖茨 曲线 造就 地理 藩篱 人们 心墙 资助 种族 机会 机器 操作工 乐意 战利品 分一杯羹 劳动成果 群体 心 刀俎 鱼肉 后果 真理 问题 计划 民粹主义 民主制度 民主制度 利用 民怨 民心 政治 工具 特氏 施政 造就 人 泥沼 新政 证明 内 新政 发挥作用 人 精英 制度 砧板 怨民 福乐 人 圈子 民怨 暴风 荣华 人 意识 机器 操作工 成 平民 范式 敌人 新税法 圈层 人 小鞋 民怨 政治 苦果 苦果 社会 证明 无理性 人 人 宪政 危机 词 内 盖茨 曲线 收益 保险柜 过程 化 系统 明白 过程 结局 贵族 罗伯特 斯图尔特 传票 律师 墨西哥 南美 业务 国家 利益 蒙大拿 参议员 托马斯 沃尔什 律师 证人席 哈瓦那 报纸 八卦 专栏 剪报 照片 段时间 内 马之 伯乐 赛马 俱乐部 常客 一连串 午宴 晚宴 哈瓦那 游艇 俱乐部 舞会 镜头 参议员 本土 臭虫 样 政治 空壳 公司 债券 时 架势 美国 法律 委员会 有权 讯问 方式 施恩 债券 话 英语 谎言 传说 斯图尔特 王朝 光彩 辩术 高超 律师 法庭 小 洛克菲勒 原谅 公关 股东 心 史诗 战 挂冠 楠 塔基 家族 庄园 余生 茶壶 山 丑闻 案所 现实 盖茨 曲线 压力 美国 民主 掌权者 掌钱 金融家 金融家 公仆 卡尔文 柯立芝 政府 法案 人人 多少 多少 富 人们 时 人 党 集会 嗓门 人 美国 问题 移民 移民 怪罪 移民 财富 恶浪 镀金 时代 顶峰 大 战争 浅滩 罗斯福 新政 时代 开花结果 社会福利 体系 时代 驱动力 事实 成果 原因 结果 动因 金融 富人 劳动者 女性 劳动者 战争 权力 镀金 破坏性 大浪 美国 史 首场 大 十九世纪 市场 资本 规模 美国 行业 奴隶 业 段时间 行业 程度 家庭 全国 家庭 总数 行业 家庭 全国 家庭 总数 瓜分 蓄奴 精英 白人 同辈 文化 餐桌 礼仪 奴役 人 国家 政府 媒体 文化 宗教 信徒 坛 新闻 网络 奴隶制 神圣 慈善 不蓄奴 白人 奴隶制 捐躯 光荣 浪潮 军人 大量 财产 炮灰 美国 公平 环境 过程 美国 人类 史 罪魁 北美 殖民者 输出地 欧洲各国 社会 美国 人 世纪 古罗马 近东 亚洲 南美 历史 故事 情节 著作 主义者 历史学家 沃尔特 沙伊 德尔 案例 战争 亡国 瘟疫 大灾 美国 大浪 顶峰 多少 沙伊 德尔 结果 世家 权力 意识 远非 罗伯特 斯图尔特 爱荷华州 农场 标准 石油 公司 历史学家 保罗 亨利 吉登斯 客气话 一家人 家境 邻居们 科伊 学院 奖学金 耶鲁 法学院 时 事事 哈瓦那 游艇 俱乐部 闪光灯 中西部 平原 划痕 镜子 盖茨 结局 面朝 摇橹 历史 证明 贵族 阶级 明智 雅典 人 盖茨 曲线 大潮 美国 革命者 大都 阶层 英国 国王 民治 政府 起步 底层 中上阶层 成果 日益 社会阶层 决定性 进程 美国 民主 社会 政治 理性 理性 问题 无法 世界性 历史性 难题 解决方案 程度 极少数人 人 镶金 嵌宝 教室 精英 方式 盖茨 曲线 政策 研究者 人 恶心 税法 保守派 人 传统 婚姻 信仰 家庭 经济 压力 咖啡馆 激进分子 明白 极端 暴力 极具 破坏性 手段 简单易行 理念 美国 指 路灯 政策 计划 现实 人类 权利 短语 古老 宣言 权利 明白 机会 美国 文化 智慧 体面 家庭 权利 系统 权利 先辈 权利 同根 同源 联邦政府 采取行动 金钱 政治 权力 劳方 资方 地方 社区 属性 人 有所 游戏 赢家 人们 目光 镜子 人 子女 机会 子女 命运 事实 文章 作者 观点 代表 虎嗅网 立场 虎 有品 瓜 群众 世界杯 热心 观众 品质 原味 瓜子 罐瓜 销量 品质 胖蛋 瓜子 嘴 保健操 虎 专属 职场 内心 戏 籽 不脏 手 人 瓜子 一下',\n",
       " '来源 腾讯 证券 财富 杂志 刊文 造就 企业 股东 华尔街 激进派 投资人 不合理 高管 薪酬 架构 企业 财季 互联网 纪元 黎明 人 时代 理念 硅谷 风险投资 资本家 理念 互联网 卖书 这里 花费 时间 科技 基础设施 仓库 消费者 体验 客户 中心 哲学 公司 名字 市场份额 卖书 钱 一天 现象 规模 商品 世界 商店 风 资本家 兴趣 数字 眼 地 对方 投资人 上市 一天 上市 季度 盈利 上市 损失 盈利 利润率 时间 刀锋 份儿 投资人 虚构 亚马逊 故事 创始人 贝佐斯 域名 主意 浏览器 域名 亚马逊 成就 企业 神话 故事 投资人 杜尔 John 贝佐斯 资金 杜尔 一家 初创 公司 后者 名字 谷歌 杜尔 贝佐斯 佩奇 Pa 和布林 企业 意志 眼光 杜尔 摩根士丹利 分析师 亚马逊 牛派 米克尔 亚马逊 基础设施 声浪 理性 战略 传奇 投资人 基金 大盘 奇迹 米勒 亚马逊 亚马逊 股价 时 力度 亚马逊 股价 分股 情况 IP 收盘价 后视镜 传奇 脉络 股市 历史数据 一代人 时间 赢家 输家 意义 历史 师 渠道 亚马逊 财富500 杂志 专文 企业管理者 记录 平板 构筑 一家 企业 商业 教科书 执行力 贝佐斯 财富 亚马逊 理念 思路 客户 时代 企业家 苹果 乔布斯 沃尔玛 沃尔顿 Walton 联邦快递 史密斯 西南航空 凯莱 赫 Herb Intuit 库克 Salesforce 贝尼奥夫 本能 原则 学院派 研究所 得到 投资者 掌声 传奇 巴菲特 股票 企业 指标 证据 企业 资金 企业 后者 季度 盈利 目标 股票 来推 股价 技术 人力 方面 标普 指数 企业 成份股 主义 企业 股票 股本 回报率 财季 企业 股票 财富 财富 名单 波士顿咨询公司 大 公司 名单 麦肯锡 研究所 报告 企业 财务 理想 企业 结果显示 企业 增长速度 企业 盈利 市值 金融危机 企业 股价 速度 宏观经济 角度 企业 内 就业机会 道理 企业 汲汲于 财季 答案 华尔街 麦肯锡 企业 高管 董事 压力 时间 强势 财务 业绩 激进派 对冲 基金 施加影响 价值 数据 激进派 投资人 场 资本 企业 业务部门 企业 股票 董事会 席位 激进派 董事 席位 加码 套利 交易 收购者 股票 收购方 报价 麦肯锡 全球 执行合伙人 巴顿 时候 激进派 投资人 真的 得到 评价 巴顿 时间 致力于 企业 投资人 管理层 战略 企业 临界点 激进派 投资人 地位 影响力 程度 人 公司 董事 巴顿 激进派 董事 一家 公司 遇到 变故 董事会 经历 上帝 事情 这里 世界大战 经历 事情 董事 财富 撰稿人 杜梅 原则 首席执行官 薪酬 架构 首席执行官 薪酬 程度 企业 股票 任期 架构 弊端 基金 巨头 先锋 董事长 麦克 人 主张 首席执行官 股票 薪酬 一半 埃克森 美孚 原理 杜梅 直言 一家 石油 公司 首席执行官 资本 情况 公司 盈利 继任者 遇到 主义 危害 美国 股东 一只 股票 企业 管理者 国 投资者 输家 原文 专属 理财师 内容 来源 腾讯 证券 图片 来源 视觉中国 编辑 财富 君',\n",
       " '唐纳德 特朗普 美国 总统 白宫 人 周游世界 外交 特使 女儿 伊万 卡 特朗普 同名 服饰 小猫 后空 单鞋 售价 星 裙 货架 时间 凯蒂 牌 拖鞋 拉皮 斯螺 耳 价 经典 纽约 邮报 华尔街日报 双双 伊万 卡 纽约 邮报 人士 伊万 卡 公司 劲儿 伊万 卡 真的 总统 唐纳德 特朗普 同名 企业 特朗普 集团 总统 儿子 唐纳德 埃里克 特朗普 集团 公司 父亲 商量 公司 财务 信息 父亲 星球 权势 人 特朗普 一家 公权 利益冲突 意愿 特朗普 家族 关系 时 伊万 卡 华盛顿 伊万 卡 雇人 照料 公司 公司财务 受益人 父亲 道德 特朗普 伊万 卡 哥伦比亚 广播公司 节目 公司 手镯 公司 节目 时尚 警讯 亮相 时 特写 照片 伊万 卡 都市 手镯 节目 人士 利用 父亲 公司 罪责 热心肠 雇员 事故 过程 伊万 卡 共和党 全国 大会 演讲时 裙子 裙装 公司 卖力 伊万 卡 企业家 精神 机会主义 伊万 卡 父亲 美国 工人 领域 商界 领袖 劳动力 大军 时 问题 伊万 卡 公司 小玩意儿 工人 美国 伊万 卡 时装 伊万 卡 问题 上周末 记者 特朗普 集团 美国 工人 主意 总统 棕榈 滩 海湖 庄园 美国劳工部 名 外国 工人 厨师 侍者 管家 短期内 特朗普 集团 美国 工人 特朗普 一家 经历 品牌 事件 经历 事 伊万 卡 原因 纽约 邮报 特朗普 Nordstrom Jetcom Hudson 零售商 伊万 卡 品牌 服饰 父亲 特朗普 白宫 公司 苏格兰 高尔夫球场 业务 阿伯丁 当地人 白眼 苏格兰 报纸 导报 人士 特朗普 国际 弃儿 品牌 毒害 阿伯丁 郡 声誉 华尔街日报 伊万 卡 品牌 销售额 消费者 伊万 卡曾 美国 现场 节目 特朗普 共谋 图 伊万 卡由 斯佳丽 约翰逊 节目 伊万 卡 人 华尔街日报 公司 利益冲突 公司 日本 原因 日本公司 日本政府 联系 父亲 政治 政府 关系 连 伊万 卡 关系 中国 菲律宾 国 商标 专利 利益冲突 生意人 伊万 卡 天赋 贡献 白宫 纽约 邮报 商界 我在 华盛顿 我的 团队 合作伙伴 公平 内容 代表 彭博 编辑 委员会 彭博 合伙 企业 商业 周刊 中文版 观点 撰文 Timo 编辑 王越 丁 吴 洪涛 感兴趣 关键词 信息 特斯拉 药 神 特普会 王健 世界 首富 HTC 裁员 特朗普 司机 姆巴 男性 中兴 帝 哈佛 比亚迪 广告 门 高盛 CEO 印度 药']"
      ]
     },
     "execution_count": 231,
     "metadata": {},
     "output_type": "execute_result"
    }
   ],
   "source": [
    "print(len(content_list))\n",
    "content_list[:10]"
   ]
  },
  {
   "cell_type": "markdown",
   "metadata": {},
   "source": [
    "### 从es中选几篇文本，测试模型准确度"
   ]
  },
  {
   "cell_type": "code",
   "execution_count": 204,
   "metadata": {},
   "outputs": [],
   "source": [
    "'''\n",
    "    连接es，helpers.scan输出的是全部的数据！不能批量输出！！\n",
    "'''\n",
    "from elasticsearch import Elasticsearch\n",
    "from elasticsearch import helpers\n",
    "\n",
    "es = Elasticsearch('http://123.206.13.101:59200')\n",
    "\n",
    "doc_index = '*_bl2'\n",
    "doc_type = 'news'\n",
    "\n",
    "query = {\n",
    "  \"from\":100, \"size\":10,\n",
    "  \"query\": {\n",
    "    \"match_all\": {}\n",
    "  }\n",
    "}\n",
    "\n",
    "data = es.search(index=\"*_bl2\", doc_type='news', body=query) # 解析结果需要data[\"hits\"][\"hits\"]\n",
    "# es_result = helpers.scan(es, query=query, scroll='5m', index=\"*_bl2\", doc_type='news', timeout=\"1m\")"
   ]
  },
  {
   "cell_type": "code",
   "execution_count": 205,
   "metadata": {},
   "outputs": [],
   "source": [
    "'''\n",
    "    从es里读取的content是html格式，需要解析成文本\n",
    "'''\n",
    "def sentencesMaker(html):\n",
    "    sentences = []\n",
    "    if not html or not html.strip():\n",
    "        return sentences\n",
    "    try:\n",
    "        from html.parser import unescape\n",
    "        html = unescape(html)\n",
    "\n",
    "        import justext\n",
    "        paragraphs = justext.justext(html, [])\n",
    "\n",
    "        cache_sentences = ''\n",
    "\n",
    "        for p in paragraphs:\n",
    "            sent = p.text.strip().replace('\\xa0', '').replace('\\u3000', '')\n",
    "            sent = sent.encode('gb2312', 'ignore').decode('gb2312').encode('gbk', 'ignore').decode('gbk')\n",
    "            if not sent:\n",
    "                continue\n",
    "\n",
    "            # 可能是含有名字，需要进一步处理\n",
    "            if len(cache_sentences) < 5:\n",
    "                cache_sentences += ' ' + sent\n",
    "            else:\n",
    "                sentences.append(cache_sentences.strip())\n",
    "                cache_sentences = sent\n",
    "\n",
    "        if not not cache_sentences:\n",
    "            sentences.append(cache_sentences.strip())\n",
    "    except Exception as e:\n",
    "        logger.error(e)\n",
    "\n",
    "    return sentences"
   ]
  },
  {
   "cell_type": "code",
   "execution_count": 213,
   "metadata": {},
   "outputs": [],
   "source": [
    "id_content_dit={}\n",
    "for item in data[\"hits\"][\"hits\"]: # \n",
    "    id_content_dit[item[\"_id\"]] = \"\".join(sentencesMaker(item[\"_source\"][\"content\"]))"
   ]
  },
  {
   "cell_type": "code",
   "execution_count": 214,
   "metadata": {},
   "outputs": [
    {
     "name": "stdout",
     "output_type": "stream",
     "text": [
      "5142412 编者按：本文来自阿尔法工厂，作者 美股宝贝 ，36氪经授权转载。最近几天，除了小米(HK:01810)港股正式挂牌，另一则重磅事件，就要属腾讯音乐拟分拆赴美上市了。截至目前，腾讯音乐尚未披露招股书。但已有为数不少的海内外机构频频“吹风”：腾讯音乐估值将会超过300亿美元。不同于小米这个“新物种”，腾讯音乐很容易在市场中寻找到对标的上市公司：全球第一大音乐平台、音乐流媒体公司Spotify（NYSE:SPOT）。据称，300亿美元估值的由来，正是参照Spotify 产生。亦有投资人认为，腾讯音乐之所以选择在美国市场上市，正是因为可以对标Spotify而容易定价；而且，有Spotify这个指标公司在前开路，美股投资者更容易理解并接纳腾讯音乐的商业模式。故而，在腾讯音乐的招股说明书亮相之前，我们不妨先来审视下Spotify这家公司，以对前者的IPO前景有相应的预判性认知。01 商业模式为免费增值+付费收听，迄今仍未盈利Spotify于2008年10月在瑞典首都斯德哥尔摩正式上线，并于创立后的第10年即2018年4月在纽交所完成IPO。截至7月9日，其市值达到315亿美元，是全球最大的流媒体音乐服务平台。值得一提的是，2017年12月，腾讯音乐与Spotify双方达成换股战略合作，Spotify持有腾讯音乐娱乐约9%的股权如同绝大多数的流媒体运营商，Spotify上的服务分为免费和付费版本两种。使用 Spotify免费版，用户即可享受到流媒体音乐的基本服务。如果每月支付9.99美元使用付费版本，用户即能够离线收听音乐，以及享受无广告体验。采用“免费增值”策略，Spotify的变现有两个途径：通过免费版本上的广告收入从而把免费用户群变现，同时通过订阅模式将他们逐渐渗透转化为付费用户。迄今为止，Spotify在用户群的变现上做得很好，涉及整个用户群，包括免费和高级用户。反映在收入上，其营收从2015年的19亿欧元增加到2017年的40多亿欧元，增长了一倍以上。而且，该两部分的营收，在2017年均有着40%左右的增长速度。但值得注意的是，在2008年创立以来的很长一个时期，该公司在广告业务上始终处于收不抵支状态。直到2017年，方发生了变化，最终实现了小幅盈利。这很重要，因为广告支持的细分市场将不再拖累利润，使得整体毛利率不断增长。而这也表明，Spotify的资源效率越来越高，无论是通过规模经济还是其他方式。话虽这么说，但需要明确指出的是，截至2018年一季度，Spotify迄今仍是一家整体亏损的公司。2018年一季度，公司总营收为11.39亿欧元。但由于汇率的负面影响，同比37％的增长，在调整完汇率后降了11个点至同比增长26％。由于Spotify公司总部位于瑞典斯德哥尔摩，并以欧元报告，因此美元的走势影响了其应收。 在2017年下半年，欧元兑美元大幅走强，因此与去年第一季度的比较有所偏差。公司有40％的订阅者来自欧洲，因此汇率的影响不能忽视。但是汇率并不是我们关注的重点对于Spotify这种商业模式，投资者最关注的是其订阅用户的增长，而非利润的增长。截至18年一季度，Spotify订阅用户达到了7500万。根据预期，这一数字将在二季度将增加到7900万至8300万。 公司预计，今年年底收获约9400万的订阅用户数量。Spotify最强劲的竞争对手是苹果音乐（NASDAQ：AAPL），但后者只拥有约Spotify一半的订阅用户数量。虽然仍处于亏损状态，但Spotify运营利润率一直在改善，2018年一季度为 -3.6%，高于去年同期的 -15.4%。如是改善运营利润率的能力，也为Spotify的投资者提供了乐观预期。Spotify运营费用主要来集中在销售和营销两项上，合计占比运营费用的 42.6%。随着Spotify继续扩展到其他国家，这个数字无疑会很高。庆幸的是，这种增长不会永远持续下去：实践证明，一旦公司在某个国家取得了稳固的立足点，就可以开始削减这一领域的支出。如是，再加上已经改善的运营利润率，似乎这些迹象都表明，Spotify最终将能够盈利。02 身为流媒体音乐领域头羊，却没有坚固的护城河可言虽然在流媒体音乐领域，Spotify是无可争议的领头羊；但迄今尚无具有说服力的证据可以证明，该公司拥有可以保护它免受严重的竞争的护城河。这样的事实，是那些预期可持续性高回报的股东们最大的烦恼所在。如我们所知，苹果(NASDAQ:AAPL)和亚马逊(NASDAQ:AMZN)的音乐流媒体业务，都正在努力扩大其用户群；而谷歌（NASDAQ：GOOG），亦已推出新的音乐订阅服务，并将通过YouTube的大规模广告进行宣传推广。谷歌这项名为“YouTube音乐”的服务模仿了Spotify模式：将有两个版本，带有广告并且功能有限的免费版本，以及每月10美元的订阅版本，没有广告且独家额外的功能。另外，值得注意的是，虽然Spotify的营收由广告和订阅两部分组成，但其中91％以上的收入来自订阅用户。尽管2018年一季度的月活增长了44%，但订阅用户30%的速度还是低于月活的增速的。这使得每位用户平均营收（ARPU）在一季度同比下降14%。营收方面的数据已经昭示的明白：如今的终端音乐消费者，仍然不愿意花大价钱购买音乐流这不仅是Spotify所面临的严酷现实，想必腾讯音乐更加心有戚戚焉。03 音乐授权成本难以压缩，毛利率不如沃尔玛在成本方面，Spotify也遇到了不少困难。Spotify最主要的成本，是特许权使用费的支出。当今的欧美音乐市场，呈现四家唱片公司的寡头垄断局面。四大公司分别是环球，索尼和华纳音乐，以及代表小品牌的代理商梅林。这四家唱片公司控制着Spotify可用歌曲的90％。音乐业务的寡头垄断性质，使得唱片公司在与Spotify的谈判中具有相当大的议价权。所有主要品牌在合同中都有“最惠国”条款，这意味着potify无法与其中单独一个品牌签署更优惠的条款。故而，从本质上讲，Spotify必须把主要唱片公司当成一个统一体来进行谈判。如此，Spotify在价值链中的地位使其受到多方挤压，包括供应商唱片公司、专业音乐人以及最终的消费者。这样的行业价值链，显然制约着Spotify毛利率的提升。2018年第一季，该公司的毛利率仅为25％，虽然远高于2016年的16％，但仍不足以产生盈利。而且如我们所知，对于一家明星科技公司来说，如此低的毛利率实在有些让人提不起胃口基本与传统零售实体的毛利率持平了，比如沃尔玛（NYSE：WMT）的毛利率为25％；而Facebook（NASDAQ：FB）的毛利率为79％，而谷歌母公司Alphabe的毛利率则为56％。对此，我们只能寄望于Spotify与它的同行们，可以在和唱片商的谈判中得到更好的条款，否则我们难以对其毛利率的提升抱有过高期望。你可能会说，这也并不是没有先例嘛：Spotify在2017年曾设法与唱片公司协商更好的分成条款，并使得其毛利率从14％提高到了21％。但要知道，那些主要唱片公司都在Spotify持有重要的股权，当时正处于Spotify上市的隘口，这些股东们有动力帮助公司更快地上市，以避免触发可转换债券的条款，从而稀释其股权。故而，在2019年重新谈判条款时，唱片公司基本不再会有相同的激励措施来授予Spotify更优惠的条款。04 拥有用户越多、使用内容越多，内容成本就越高一些投资者会把Spotify与奈飞Netflix（NASDAQ：NFLX）进行比较。Netflix多年来一直亏损，但已成为近期历史上最成功的股票之一，在过去3年中股价飙升7倍。 Netflix继续以惊人的速度增长用户，并在过去几年中实现运营和净收入，尽管利润仍然受到抑制。虽说两家公司有明显的相似之处，两家公司每月销售订阅费均约为10美元，而内容占其支出的大部分。但是，像Netflix这样的视频流媒体公司可以为一段内容只付一次费，然后可以根据需要多次播放；而Spotify这样的音乐流媒体公司，每次播放一首歌，都必须向唱片公司和其他音乐所有者支付一次版权费用。因此，Spotify拥有的用户越多，使用的内容越多，其内容成本就越高，也就减少了其形成规模经济的可能性。那么，如果Spotify无法让唱片公司与之合作，下一步要考虑的是提高其订阅价格。Netflix已经能够在不失去许多客户的情况下提高订阅价格，这是Spotify尚未尝试的策略。如果Spotify想复制Netflix的成功，它需要制作或拥有原创内容。这对于Spotify是一个挑战。不幸的是，Spotify并没有与Netflix相同的定价能力。如果它将其费率提高到15美元，那么苹果，谷歌和亚马逊的竞争就会立即使其处于不利地位，并且抑制Spotify订阅率的提升。事实上，这三家大公司可以降低价格以应对Spotify的增长，并对Spotify施加进一步的压力。还有一种应对方式是直接绕开唱片公司，直接从音乐制作人手中获得版权。Spotify也确实开始直接从拥有自己音乐许可权的专业音乐人那里获得音乐许可。直接许可交易是削减唱片公司中间人和增加利润的一种方式。这个过程仍处于起步阶段。如果要提高Spotify的毛利率，就需要对这种自我许可模式进行大规模扩张。但这一过程，可能会增加Spotify与四家寡头唱片公司之间的紧张关系，并且唱片公司可能会威胁撤出自己的音乐，从而削弱Spotify在对手面前的竞争力。05 Spotify最大的优势在于身处一个足够大的市场好在，Spotify倒也有着竞争对手不具备的优势。比如相比苹果音乐来说，Spotify没有附着于一个科技巨头，给人专业音乐人印象也让其获得了更多年轻人和大V的青睐。独立的缺点是Spotify不能获得母公司的大笔投资。二级市场上投资者对于Spotify的支持是有条件的，如果它不能产生可持续的盈利，这些投资者就会离开。这就使得Spotify不但做好流媒体音乐，同时也要在加强社交属性上下足力气。社交功能可以让用户访问他人的播放列表，并通过列表展现用户的音乐品味，同时还可以娱乐和加强与朋友的联系。现在，每次使用Spotify，将歌曲分组添加到播放列表中，这些音乐会在朋友的信息提示中弹出，互相交流彼此喜欢的音乐。这样的模式创新，为流媒体音乐公司未来提供的服务范围提供了想象空间以及扩展性。对于Spotify这家年轻的科技公司来说，最大的利好是，其所处的市场足够大并始终处于不断增长之中。美国唱片业协会的数据显示，在美国，录制音乐销售额去年增长17%至85亿美元，其中流媒体音乐销售额占据了近三分之二。这使得唱片业销售额创下了自23年前以来的最快增速。Spotify是否也有能力将其用户群增加一倍，扩大毛利率，并产生物质自由现金流呢？对于这样的问题，不同风险偏好的投资者自可见仁见智。回归到现实，Spotify当前面临最大的挑战，仍是如何改变其与供应商之间的关系，并让自己对供应商更有价值。如果能够做到这一点，也许会有机会成为“FAANG股”的新成员。从估值上来讲，Spotify的企业价值约为2019年预期收入的4倍，而Netflix则为7倍，这说明Spotify还未被过于低高估。另外，音乐行业的大背景正处于从交易模式向需求模式的转变，而Spotify恰好是这一转变中的中流砥柱。这样的行业大势亦表明，年轻的Spotify还有广阔的成长空间。以上，看完了对于Spotify的深度解析，你是否对腾讯音乐的IPO前景有了比较清楚的预期？如果你也有不讲不快的观点需要表达，欢迎文后留言探讨。\n",
      "*******************\n",
      "5143473 36氪获悉，社群电商平台好衣库完成数亿人民币B轮融资，腾讯领投，IDG、险峰长青、元等机构跟投。冲盈资本担任本轮融资的独家财务顾问。就在6月，好衣库刚刚宣布由IDG资本领投的1亿人民币A轮融资。拿到腾讯的投资对于微信生态下生长的公司意义重大。目前，除了投资过社交电商拼多多（截止IPO之前，腾讯在拼多多中占股18.5%，为其第二大股东）、小程序电商服务工具SEE小电铺，腾信在社群电商（即供应链中心化，前端借助个体小B卖货的模式）赛道上还很少出手，此前只有好物满仓获得腾讯作为领投方之一的5000万A轮融资。另据接近腾讯投资的人士称，他们还在持续挖掘小程序电商的投资机会。好衣库创始人兼CEO邬强强（花名鬼谷）曾在阿里巴巴任职9年，曾任聚划算事业部总经理、淘宝开放平台创始人。这段经历一方面为好衣库积累了品牌资源，也令他认识到，微信电商的发展极大可能复制中心化电商此前的路径，即从尾货、水货等非主流商品向主流品牌商品升级，从非主流人群到主流人群拓展。换句话说，微信生态下的电商公司中，如果拼多多相当于早期的淘宝，那么也会逐渐诞生天猫、京东等模式的公司，品牌化是这一趋势的核心。据了解，目前好衣库合作的品牌达到几百家，以低线城市的主流消费品牌为主，如森马、太平鸟、李宁、安踏等，客单价在百元上下。品牌化之外，好衣库的品类战略也十分清晰：从利润较高的服装（早期以品牌库存为主）入手，适应这个品类SKU多、库存浅的特点，发挥组货、供应链管控的优势，逐渐建立渠道对于品牌的议价权。而此前无论是拼多多还是云集，都主要是精选SKU，走单品爆款模式，因此适合销售基本款服饰、美妆个护等SKU不多的品类。此间差别在于，一款纸巾可以一天卖出几万件，拼多多可以深入上游，和工厂谈判备货并低价走量，但某个服饰品牌一件T恤的备货量通常只有几百上千件，但是款式多达上百种，这对于选品、组合和精细运营提出了更大挑战。利用代购、店主等小B作为社群分发的节点卖货，是社群电商在流量端的创新，好衣库的做法并无明显差异。而相比体系成熟的微商团队，社群运营可能是电商基因的好衣库团队需要快速补课的一环。据36氪了解，好衣库目前的小B数量达几万人，他们的回报即低买高卖（“虚拟”的货权转移）形成的差价，也就是“代购费”，以及达到一定的周销售额（目前分5000元和20000元两档）之后的“工资”奖励。在政策合规前提下如何有效激励小B销售，将考验制度设计和管理能力。鬼谷称，同款品牌商品，通过好衣库的代购购买，价格可比天猫、品牌线下渠道低30%，这源于渠道成本的大幅降低，“过去的店铺运营管理、买流量，无理由退货，都是成本。”鬼谷说。事实上，这也是社群电商模式得以成立和普及的关键。另一方面，拼多多的年GMV超过1400亿元，与好衣库模式相似的社群电商公司云集年GMV也已过百亿，且都在推进货品升级。头部玩家既有的流量和交易规模会让它们跟品牌议价时更有主动权，好衣库的竞争会越来越激烈。此前，鬼谷接受了36氪在内的几家媒体采访，对于微商升级该卖什么货的问题，给出了自己的思考。以下内容经36氪整理编辑Q：能否把好衣库视为微商市场的消费升级？A：是的。我们经历过上一代电商，2003年、2004年左右淘宝上就两个东西好卖，一是服装市场的衣服，二是水货，都是非主流商品，今天的阿里巴巴从那个时代开始积累，之后会经历非主流商品到主流商品，非主流人群到主流人群的变化。品类上，从最早的3C数码，比较low的女装、市场货，到品牌商品，然后这些人生宝宝了，母婴、家居、日用品起来，再到建材、买房子、买车，整个一代人的消费升级。Q：如今的微信电商会更针对低线城市人群？A：我们从2012年开始做聚划算，特卖模式的品牌团，花三年时间做到一千个亿，那个十年瞄准的是一二线城市的人，从对品牌有认知开始，到买快时尚，买轻奢，买设计师品牌，买大牌，我们是这样一路走下来，今天三四五六线人群就是十年前我们，他们也面临这样一个升级过程。Q：微信电商可能不会完全重复这个过程，差别在哪？A：这一代90后、00后全都是互联网原住民，他们接受这个事情速度会比以前快很多，所以拼多多两年做到一千亿，当年淘宝花了五年才做到。Q：跟已经存在的社群电商比，好衣库的差异化何在？A：对于整个社群电商，品牌是大量缺失的，包括今天你看云集商品结构里面，美妆有一些品牌，在大量的服装、家居、母婴上面其实是非常缺的，典型的末端品牌在里面大部分都是没有的，究其原因是这些品类不太适合用这种爆款方式去做。Q：为什么？A：这些品牌商品，比如童装、母婴、家居SKU特别多，涵盖你生活方方面面，每个商品的库存没法像美妆一样，或者像9块9包邮一样每次出去几万件，无论是像云集做法还是拼多多做法不适合做品牌商品浅库存的东西，这个时候需要一个新的销售方式出现。Q：这会更考验供应链能力？A：这就是为什么我们觉得我们做的更有优势的地方。之前大家都没有做这个品类，因为的确不好做，对供应链管控能力、品牌管控能力、组货能力有更高要求，但是过去我们做过这个事情。Q：好衣库的运营跟聚划算时期相比，有哪些承袭，有哪些不同？A：其实在供应链、在货品端很多做法是类似的，比如如何挑选商品、如何控制价格和毛利率、如何做一些商品组合、设计一些可能引流的商品，一些毛利率商品，如何跟他谈夏季的一期盘货，五月上哪个，七月上哪个，一般品牌不会只卖一个品类，会有T、会有短裙，该怎么组合，比例多少，所有涉及到商品因素的事情，本质上是一样的。不一样是前端流量的组织方式，是一个从人找货到货找人的巨大转变。Q：这个不一样反过来对于运营的影响是什么？A：非常多方面，比如说原来运营其实大部分是坐在那把整个货准备好，等人上来就可以了，今天在我们运营体系有一些同学是去做互动的，因为今天用户可被触达，可以在朋友圈触达，可以在抖音上面触达。另外我们会做内容，过去商品预热做得很简单，就是放图片、放价格，我们今天会做投票，你喜欢什么牌子，我们就上什么牌子，你喜欢什么款式我们就卖什么款式，我甚至可以跟消费者互动猜价。Q：品牌何以对好衣库这样的新渠道感兴趣？A：目前对渠道建设不足以让它们充分地触达用户。为什么要搞天猫小店、京东便利店，就是因为触达不了，很多人不会来这些APP。之前我们做电商APP，一个用户约访问四到五次算很好了，好衣库的平均水平是单个用户一天访问四到五次。Q: 我们的售价呢？和原来线下零售或者天猫上比较？A：同样商品比他们都要便宜，大概30%以下。Q：为什么能做到？A：因为过去渠道成本非常高，你开个店，要上架，要做店铺运营和管理，要去搞流量吧，这都是成本。特别服装这个品类，你只能靠店铺品牌背书，你必须接受七天无理由退货，有很多人会买三件退两件，在这个社群里面是靠人卖东西，人是销售结点，很多时候是朋友或者半熟人，退货率会低很多，只有1％。Q：您怎么看微信生态的电商红利？创业公司有多大的机会？A：pc时代到移动时代，大公司可以顺利地转型，因为用户可以导过来，怎么分发流量、怎么做搜索、做货架，逻辑是相通的，但是社交平台上，流量去中心化了，大小公司站在同一个起跑线上。微信电商第一波pk已经结束，去年起码几百家在做，今天只剩一二十家，这个市场进化速度会比上一代APP更快，两三年内格局会定下来。\n",
      "*******************\n",
      "5146916 编者按：本文来自“第一财经”，作者 段倩倩，来莎莎。36氪经授权转载。图片来源：视觉中国在国内公有云市场份额排第二的腾讯云，面临着前所未有的危机。“前沿数控技术新媒体”8月5日晚间发微博称，在使用腾讯云8个月后，公司存储在腾讯云上的数据无可挽回地全部丢失。腾讯云8月6日通过微信公众号回应称，腾讯云提出了返还前沿数控技术3569元实际消耗、提供13.29万元现金或云资源额外补偿的方案，而前沿数控技术提出了1101.60万元的赔偿额。丢失的数据前沿数控技术背后是一家名为“北京清博数控科技有限公司”的创业公司。2014年这家公司注册微信公众号“前沿数控技术”，定位于数控、模具、机械行业。前沿数控技术在微博中表示，在业务量的需求下，公司使用了腾讯云，可“灾难”发生在2018年7月20日。接下来的两天，腾讯云组织了技术专家来对此次故障进行补救，但前沿数控技术公司数据还是丢失了。根据腾讯云公告，“腾讯云监控到异常后，第一时间向用户告知故障状态，并立即组织文件系统专家并联合厂商技术专家尝试修复数据。遗憾的是，虽经多方努力，最终仍有部分数据完整性校验失败。”为什么会发生数据丢失？腾讯云在8月6日的公告中表示，腾讯云用户北京清博数控科技有限公司所属“前沿数控”平台一块操作系统云盘，因受所在物理硬盘固件版本bug导致的静默错误（写入数据和读取出来的不一致）影响，文件系统元数据损坏。“简单类比，就是电脑的c盘（装操作系统的盘）因为底层错误而导致数据读写异常，最终挂掉了，然后客户的系统和数据都丢了。”一位云服务行业从业人士对第一财经表示。有无备份？前沿数控创始人伍先生对第一财经表示，公司采购的是腾讯CVM服务。按照腾讯云官网的产品介绍，CVM提供达99.95%的服务可用性和99.9999999%的数据可靠性，CVM搭载的云硬盘提供三副本存储策略，保证了数据在任一副本出现故障时快速进行迁移和恢复。伍先生称，“总之按腾讯云宣称的就是十亿分之一的概率， 你想一个道理，人家的安全概率是这么高了，还有三备份，那还有什么风险？三备份都出问题了，那再来几个备份又（怎么）能保证安全？”前述云服务行业从业人士对第一财经表示，“目前的费用信息看，这个客户可能既没有用负载均衡，也没有用云存储，而是直接开了台虚拟机（单台主机）把应用和数据都部署在上面了。腾讯云在官网介绍中说的三副本是云硬盘提供三副本，没有明确包括云操作系统盘。”第一财经获悉，前沿数控技术从腾讯采购的服务为单台CVM，并且只有系统盘没有数据盘。用个人电脑来类比，即前沿数控技术将所有信息录入了电脑C盘（可能），系统崩溃时数据全部丢失。而如果数据信息被存放在了D盘、E盘（应用和数据分离）等，即便系统崩溃，服务器仍能留有公司数据信息。抛除腾讯云硬盘自身故障的原因，不少从业人士称，前沿数控技术运维没有将数据同步至本地电脑上，是导致数据永久丢失的另一个原因。一位使用了云服务的创业公司创始人称，“重要数据一般都会备份至本地电脑上。”那么，在此次硬盘故障中，前沿数控技术是唯一一家吗？记者联系腾讯云，但未能收到回复。“客户可以选择负载均衡方案来实现应用冗余，可以选择应用和数据分离（应用部署在应用服务器，数据部署在数据库服务和存储服务上）来隔离问题带来的损害，可以通过备份机制来确保较新的数据得以存留。没有100%可靠的系统，备份和冗余是在任何环境都需要考虑的。”一位业内人士说。腾讯云在公告中表示，“经过分析，该硬盘静默错误是在极小概率下被触发。我们随即对固件版本有bug的硬盘全部进行下线处理，确保相关隐患全部排除。”赔偿方案现分歧在明确数据丢失后，前沿数控技术和腾讯云就赔偿方案产生了分歧。腾讯云在公告中表示，第一时间制定了补偿措施，腾讯提出的方案为“赔偿+补偿”。赔偿部分为“前沿数控”在腾讯云平台上（自2017年12月份开户至今）产生的实际消耗共计3569元，依据腾讯云相关服务协议、规则和行业惯例，腾讯云将按照赔偿条款中的上限以现金形式全额返还这笔费用。补偿部分为，本着帮助用户迅速恢复业务的目的，腾讯云承诺为前沿数控技术提供13.29万元现金或云资源的额外补偿，这是后者在腾讯云平台用云金额的37倍。面对前沿数控技术提出了1101.60万元的索赔要求。腾讯称，这远远高于腾讯云所能提供的方案。腾讯云同时表示，在双方的沟通中，前沿数控技术还提出希望以“获得腾讯投资”、“腾讯官方引流”等方式得到补偿。在当前情况下，腾讯云的确很难满足这样的要求。在前沿数控技术看来，腾讯云拖延到事故发生后的第14天“才给出一个让人根本不能接受的方案”。其次，前沿数控技术并非执意索赔一千万，腾讯云给出的13万元与前沿数控技术提出的赔偿金额差距太大。至于腾讯投资、腾讯官方引流等，前沿数控技术表示，公司的诉求是希望能恢复平台数据。在腾讯云工作人员表达恢复数据无望时，前沿数控技术主动提出希望利用腾讯可利用的资源来帮助公司恢复平台运营和流量。\n",
      "*******************\n",
      "5129941 今日下午，腾讯发布了其办公场景下的战略产品腾讯文档。官方介绍，这是一款支持随时随地创建、编辑的多人协作式免费文档工具。目前支持Word和Excel，入口包括微信小程序、QQ、TIM、Web官网、App，用户可以创建文档并分享给微信或QQ好友，授权对方共同编辑，修改动作将实时同步到全部平台。在PC端，腾讯选择了在线编辑，想让用户有更轻的使用体验；而在移动端，小程序与app同步上线，还支持本地的微软文档转化为腾讯在线文档。智能化也是腾讯的发力点，目前接入了一键中英翻译和实时股票函数。图为腾讯文档小程序使用界面未来，腾讯文档想要加入更多文件格式，延伸更多语种，上线扫描转化功能，持续增加智能化函数工具，支持导入互联网动态信息等。腾讯一直力求在办公领域的社交有所突破，TIM去年3月上线，在腾讯产品体系中它被定位为办公场景的团队协作软件。TIM原本拥有自己的在线文档功能，现在已经被腾讯文档取代；目前看来，功能上并无很大改变，而打通腾讯旗下多款产品，实现多个场景下的应用，或许是腾讯文档最想实现的。与腾讯文档形成对标的，是近日获得今日头条近亿元B轮融资的石墨文档，36氪昨日发文简述了与石墨创始人吴洁的对话。腾讯与石墨有着相似的简洁界面，上手简单，同样都只支持Word和Excel制作。石墨尚无小程序，用户可以在微信公众号、app端、钉钉等进行编辑，支持添加微信好友作为文档协作者，已经开放了个人收费版和企业版，目前拥有千万个人用户和12 万企业用户。早前，石墨与钉钉达成了合作，补足了钉钉文档办公上的缺失；而近日投资它的今日头条，又正在着力研发自己的企业级IM产品“Lark”，办公领域的鏖战愈发激烈。\n",
      "*******************\n",
      "5135180 很多重症、急病患者急需专家的诊断，却总发现专家号已约满，错失就医时机；而对专家来说，自己每天接诊的患者，大部分是一些常见病，或与自己专长不匹配的病种或是检查报告不齐的患者。一边是患者无医可看，另一边是专家们总是在做重复性基础工作。医疗资源的错位严重影响了看病效率。这种情况下，如何让有限的医疗资源发挥最大效用和价值？借助AI实现精准预约或许是个好办法。近日，腾讯正式向医院管理者发布其最新医疗AI引擎腾讯睿知，这是一款疾病预判的AI引擎，目前主要的应用场景是智能导诊，即通过人机对话，患者能找到最合适的医生，医生也能筛选出与其专业方向匹配的患者，让导诊服务从传统的“依图找科室”升级为“精准找医生”。（此前，腾讯曾发布首款医疗AI产品腾讯觅影）。腾讯睿知的开发者腾讯医疗大数据实验室负责人陈志刚表示，这款引擎的初衷，是帮助医疗机构将精确的导诊服务前置于到院挂号、就诊前，以提高医疗服务效率和患者就医体验。据介绍，腾讯睿知主要基于大数据打造的知识图谱，结合AI算法模型，实现了对疾病及病程的预判。数据上，该引擎基于构建了权威、完整、动态的医学知识图谱；技术上，它以NLP技术（自然语言处理）为核心，结合医学图像OCR能力（Optical Character Recognition，图像文字识别）、深度学习等AI算法模型构建引擎。具体的呈现形式是，患者登陆接入睿知的医院公众号，直接口述病症就可获取有关具体疾病、对应科室、合适医生的信息，最终实现“精准挂号”。目前，这种智能导诊主要应用于三种情况：第一，“知症不知病”，例如“孩子腋下有硬包是什么病，该挂哪科”；第二，“知病不知科”，例如“宝宝甲沟炎该挂哪科”；第三，“直接找医生”，输入医生姓名即可直达该医生挂号，实现快速找到医生，同时识别初诊和复诊患者，为复诊患者推荐同一医生。相较于目前市面上存在的导诊机器人，腾讯睿知直接将导诊环节前置到医院外，实现医患院外场景下的交互。腾讯睿知产品总监认为，这种交互的延伸不仅优化了患者的就医体验，也解决了很多安全隐患。“当你到医院时，医院里人多嘈杂的环境使你不会去关注内部的导诊体系，但在家或其它轻松安静的环境里，你就愿意去了解一个医生怎么样；而且还存在很多发病现象不稳定的病例，这些更需要院外导诊。”“导诊熊”的服务界面现阶段，这款医疗AI引擎已在全国20余家医院落地。它首次亮相的形象是在广州妇女儿童医疗中心运营3个多月的“导诊熊”（如上图）。反馈数据显示，它在疾病判断准确率94%，医生推荐准确率96%以上。在病种覆盖上，腾讯睿知的疾病预判能力现扩大至23个学科，3000多种疾病，主要在全科领域。日前，腾讯睿知在落地复旦大学附属肿瘤医院，正式向专科领域疾病预判迈进，并在之前推出的电子就诊卡基础上赋予医院AI能力，即通过腾讯睿知帮助该医院在其官方微信公众号上线“精准预约”服务，实现“专症找专家，专家看专病”。复旦大学附属肿瘤医院“精准预约”流程需要特别指出的是，上述“精准预约”服务可视作疑难杂症、重症、急病患者开通的专属预约通道，它以病情优先为原则，让患者与擅长对应疾病的专家精准匹配，减少资源错配，让患者能得到及时有效的治疗；而对于检查不全或病种不符的患者，降低患者的时间成本和经济成本。未来，随着接入医院的不断增加，腾讯睿知也会继续优化AI引擎和完善知识图谱，并将其拓展应用到更丰富多样的场景，譬如诊中的精准预约、诊后的精准复诊、智能随访等。\n",
      "*******************\n",
      "5146406 36氪获悉，“印度版头条” NewsDog 今日完成了来自元资本的C+轮融资。今年5月，NewsDog 刚刚完成了腾讯领投的5000 万美金C 轮融资，丹华资本、君联资本、DotC United Group 跟投，为印度新闻类 app 最大的一笔融资。NewsDog 创立于2016年，利用算法向用户分发个性化的新闻和娱乐内容。创始人兼 CEO 陈介绍，NewsDog 目前在印度拥有六千万用户，支持十种印度方言。对产品未来的形态，陈告诉36氪：“头条是我们的灵感来源，但 NewsDog 不会简单地复制粘贴，而是会根据印度各地的内容需求不断本土化，未来可能会是一个或者多个产品形态。”用户增长方面，NewsDog 在印度推出了直播答题和分享赚钱等玩法，并在今年5月上线了区块链 token 体系，用户可以通过签到、分享、转发等获得官方 CNN token奖励。NewsDog 还推出了自媒体平台 WeMedia，允许用户产生内容并获得收益。创始人介绍，目前已有超过三万名自媒体在 WeMedia 上定期生产内容。NewsDog 创始人兼 CEO 陈毕业于清华大学，联合创始人兼 COO 马拥有普林斯顿大学博士学位。公司计划在2018年在印度主要城市增设办公室，同时扩充团队，吸引国内和印度的运营、技术人才加入。关联阅读：腾讯布局，印度版今日头条NewsDog完成腾讯领投5000万美金C轮融资“出海频道”已经在36氪app上开出来了！将为大家集中地提供出海的好内容（今年会特别聚焦东南亚）。来，跟着小动画，三步置顶出海频道，一键直达关键动态。36氪国际站KrASIA出品。\n",
      "*******************\n",
      "5137839 本文来自 略大参考腾讯和头条的战火还在继续。这场战争的一个实质是，腾讯只能通过发展外围公司来避开反垄断的压力，通过贩卖流量实现变现，也就是说，尽管二者都在布局，腾讯被迫只能向下发展，头条本可向上发展。但从目前战争胶着状态来看，头条对于公关策略的选择，主动选择了向下，这个不是腾讯体量的“下”，而是策略的“向下”。1 在视频和二次元文化领域，腾讯最近取得了一个间接的胜利快手收购了A站。这桩交易的影响在于，阻断了头条对于A站的觊觎。至于阿里，也自动退出了交易。图：快手和A站的官博互动头条是考虑过收购A站的，根据三声报道，就在快手启动收购A站的谈判仅仅半个月后，今日头条加入到谈判中，3月中，具体流程就展开了，但三声的报道称，一向果断的张一鸣对待A站的态度相对犹豫。据略大参考了解，头条的投资部门有专门负责二次元内容的投资人，而且在当时，头条明显在二次元内容方面加快了进度2月收购二次元社区平台“半次元”、3月入股动画公司“声影动漫”，三声的报道还指，头条和奥飞围绕有妖气进行了一定接触。照理说，A站作为国内二次元文化的发源地之一，应当是一个很好的投资标的，张一鸣的犹豫只可能有一个理由：A站不够好。阿里肯定是这样认为的，所以自动放弃了A站。在此次收购之前，A站股权架构为A站最大股东蔡东青个人占股54.77%，蔡东青作为天使投资人投资过的中文在线占股13.51%，同时，阿里占股13.23%，阿里的股东软银中国占股12.98%。众所周知的是，在2018年2月，A站关停了一次，因为缺钱。这似乎并不该发生2016年11月，中文在线同意以2.5亿元的价格认购A站13.51%的股权。不过，当6月5日快手宣布全资收购A站时，作为股东之一的中文在线发公告称，截止至公告发布日，中文在线已经向A站支付投资预付款1.39亿元，由于A站未能满足中文在线投资A站的先决条件，中文在线未完全支付预订全部的投资款。也就是说，中文在线有1.11亿元没有支付给A站。A站缺钱，所以2017年年底在寻求新一轮融资，从各种消息来看，当时阿里是A站最直接的买家。36kr在2017年12月报道称，当时阿里以及阿里系的云峰基金将在A站当时的融资中实现控盘，预计增发2.5亿新股，投后股权结构为云峰+阿里占31%；而A站原来的实际控制人奥飞动漫董事长蔡东青会出让28%的股权，老股东中文在线投后占比16%。最后这篇报道落空了，阿里对于A站的控股也落空了。1月31日，A站即将停服的消息已经传遍了大大小小的圈子。2月2日上午10点半，A站主页显示无法访问，阿里云终究停止了对A站的服务。谈不拢的原因大多是因为价格，三声报道称，阿里甚至提出只愿意以5亿元以下的估值来收购蔡东青持有的股份，这和上一轮中文在线入股时的18.5亿元人民币估值相比，缩水了超过70%。阿里放弃了A站，而当时没有人愿意接手。A站的问题非常明显，众所周知的问题包括一手好牌打烂、多次易主、财务危机以及监管危机等等。阿里压价，也算是正常的财务投资逻辑。没想到快手接了A站，快手被腾讯投资，也学会了腾讯溢价收购的做法6月5日中午，中文在线发布公告，宣布以1.4亿元人民币的价格转让中文在线持有的13.51%A站股份，按照此价格计算，A站的估值为10.4亿人民币。如果按照36kr报道推测，快手给出的价格确实比阿里高出了不少。2 被腾讯收购后的快手，太需要业务的裂变因为被腾讯抛弃了。2017年3月，腾讯拿下快手D轮领投之后，曾经和快手有过一段蜜月期腾讯向快手开放了QQ关系链。在快手的某几个版本中，快手用户可以查询添加自己的QQ好友。此外，快手的内容还一度直接接入了腾讯OMG内容体系，进入了天天快报的小视频tab栏。但是，随着抖音在今年春节的快速爆发，腾讯显然对短视频赛道进行了重新评估。于是，借着打击头条，腾讯把快手一起打击了朋友圈、QQ空间封掉了快手、抖音、西瓜。同时，把流量导给了自己产品，比如天天快报的视频接口给了腾讯视频，腾讯新闻的小视频接口则导给了微视。快手可是把半条命给了腾讯。据说，快手则向腾讯承诺，不做熟人社交关系。从这个角度来说，被腾讯撇下的快手，必须要裂变出更多业务，而拥有大量二次元文化拥趸的A站正好与快手本身的业务群是错开的。这对于腾讯来说并不是什么大不了的行径，腾讯的另一个合作伙伴京东最近应该和快手有同样的烦恼腾讯在扶持拼多多，据说拼多多DAU已经超过京东，而腾讯也是京东的大股东。阿里曾经嘲笑过腾讯这种做法，在2017年12月19日的电商营销“金麦奖”论坛环节，阿里高管王帅说：“我听到过有同行说，把自己的半条命交给合作伙伴，但很大的一个前提是，你的半条命交没交给合作伙伴先不谈，但合作伙伴的整条命是都交给了你和你的入口。”图：阿里高管王帅很明确的是，腾讯是不会把半条命交给合作伙伴的。对于它来说，投资其它公司只是它的一个战略需要。潘乱在《腾讯没有梦想》里指出了腾讯战略的变化把投资作为最重要的一个战略，把创新重要性放在投资后面。也就是说，腾讯追求财务回报，而忽视创新。追求财务回报这一点是事实，但很多人看不到的是，腾讯投行化的背后，是这家公司避开反垄断压力的一个路径。腾讯估值的一个重要命门在于反垄断法及相应的拆分，一旦如此，现在估值恐怕需要砍下一半。从这个角度，投行化是他们不得不为之，用流量来发展周边行业也是他们变现的唯一途径。但腾讯又不会允许周边公司发展过于壮大，一旦如此，他们会扶持下一家公司，比如拼多多于京东，又比如腾讯自己的微视于快手。腾讯的反垄断压力从2010年的3Q大战开始就非常明显，360当时扣给腾讯的帽子就是垄断，从那之后，腾讯策略上做了重大改变，做开放平台。少有人看得清楚腾讯面临的这种监管压力。王帅在那次演讲中说，“很多推杯交盏满面红光的联合起来反垄断，这何尝不是战略上的懒惰和不思进取以及战术上的路径依赖和焦灼冲动。”王帅暗讽的是当时乌镇饭局之事，刘强东、王兴等人坐在马化腾身边，也暗讽了流量上的现实当腾讯不得不把外围公司作为它流量的变现路径时，这些外围公司错把腾讯当作依赖。图：乌镇饭局的合影3 腾讯不得不投行化的另一层含义是，腾讯流量直接变现的能力正在减弱，因而只能向下导流，把流量贩卖给其它人。在QQ时代，腾讯几乎没有贩卖过流量，因为它自己能够把流量直接变现。但是在微信这个超级产品上，腾讯找不到太多直接变现的道路，于是，做流量分发，为外围公司导流，再向他们贩卖流量，就成了新路径。腾讯最近对头条系产品的封杀，也从某种程度上暴露了这个社交巨头的恐惧抖音和快手迅速成长，成长速度超过微信当年，而它还没有摸清楚其中门道。封杀是否有用呢？可以用腾讯死敌360的一个例子来做说明。2012年，360在其PC网址导航的默认搜索中，强行把默认选项从百度切成自有搜索，这场大突袭让百度内部一时恐慌，采取了不少联盟渠道来补量。但是360很快发现，相当比例的用户还是会手动把默认搜索改成百度，再开始搜索。这场改变实际造成的影响，比原先预计的要小很多。而时至今日，在中文搜索领域，百度的地位依然无人能撼。这个事情放到今日的腾讯和头条之争也是如此。腾讯对头条的封杀，自然也会激起头条的战略调整降低对腾讯流量的依赖，以及发展新的流量渠道。封杀也不是说没有用对于羸弱的对手而言，封杀会有用，证明用户对于产品的粘性是脆弱的。但张一鸣显然不是这样的对手。从这个角度而言，无论是面临反垄断压力而不得不变现、布局，或者是因为能力受限而不得不扶持外围公司，继而向他们贩卖流量，腾讯的方向是确定的向下向外发展。而头条，此时趋势上还是向上的。和腾讯比起来，头条体量还小，但绝不孱弱。这也决定了，腾讯和头条的战争还会继续胶着。但让人失望的是，头条在公关人选和公关策略的选择上了，从了向下。很多人把这场“头腾”大战和早几年的“3Q大战”相提并论。3Q大战是PC互联网时代格局确立的最后一战，是新来者和流量寡头之间爆发的流量争夺战。那场战争后，BAT成为中国互联网的三极。今天的“头腾大战”则是移动互联时代“3Q大战”的翻版，同样也是新来者和流量寡头之的流量争夺战。这场战争一旦结束，移动互联网的版图或许也就基本确立了。令人唏嘘的是，PC互联网“流量寡头”时代的到来用了30年。而移动互联网“流量寡头”时代的到来，只用了十年不到。\n",
      "*******************\n",
      "5145813 大公司 灿星再获3.6亿融资，阿里、腾讯音乐入股36氪讯，根据证监会上海监管局的官方消息，正在IPO途中的灿星完成新一轮融资，投资方为杭州阿里巴巴创业投资管理有限公司和西藏齐鸣音乐有限公司，两者分别投入资金2亿元、1.6亿元，获得灿星1.17%和0.94%的股权。特斯拉探索在欧洲建造大型工厂据《华尔街日报》报道，特斯拉公司正在加快海外扩张的步伐，计划在欧洲建造第一家大型工厂，目前正与德国和荷兰政府相关部门展开谈判。据参与谈判的官员称， 谈判仍处于早期阶段，不能保证将来会达成协议。（华尔街见闻）法拉第未来宣布完成FF 91白车身，12月向客户交付整车据CNET北京时间7月31日报道，最近有关法拉第未来的消息不多，原因可能是该公司一直在忙于生产首款量产车型FF 91。法拉第未来今天宣布，它已经完成首辆FF 91白车身目前位于它在加利福尼亚州汉福德的新组装工厂。白车身指完成焊接但尚未涂装的车身，尚未安装车门和动力系统等。（凤凰科技）ST长生：公司及全部子公司名下34个银行账户全部被冻结36氪讯，ST长生今日晚间发布三份公告称，截至本公告披露日，公司及全部子公司名下34个银行账户全部被冻结；暂停实施募集资金投资项目及子公司产业园项目；董事长及部分高管因被逮捕无法正常履职。B站：APP下架整顿时间从7月26日持续到8月25日36氪讯，7月30日，B站发布公告称，APP下架整顿时间从7月26日持续到8月25日，临时下架不会对现有用户造成影响。Uber放弃自动驾驶卡车计划据英国《金融时报》报道，网约车巨头Uber宣布关闭无人驾驶卡车计划，这是该公司2年前斥资数亿美元收购无人驾驶卡车初创企业奥托(Otto)后成立的新部门，但因商业窃密案而饱受争议。Uber表示，该公司旗下高级技术集团将停止开发无人驾驶卡车，而是将重点放在无人驾驶汽车上。（腾讯）诺基亚赢得T-Mobile 35亿美元合同，成全球最大5G合约T-Mobile US和诺基亚近日达成了一项价值35亿美元的5G设备供应协议，成为到目前为止全球最大规模的5G交易。根据协议，诺基亚将向T-Mobile US供应价值35亿美元的5G网络设备。T-Mobile US表示，这笔多年供货协议将允许该公司推出第一个全国性5G服务。（新浪）苹果向印度政府提出替代方案，避免iPhone被退网印度媒体《Business Standard》今日援引印度政府官员的消息称，苹果公司与印度电信监管部门之间的对峙局面即将结束。报道称，苹果与印度电信监管局之间的对峙僵局可能很快被打破，因为苹果在手机安装防骚扰软件问题上将给出一个替代方案。该政府人士称，苹果已经通知印度电信监管局，iOS 12将允许开发者开发符合印度电信监管局规定的防骚扰软件。（新浪）苏宁易购：上半年净利接近60亿元36氪讯，苏宁易购发布公告显示，2018 年 1-6 月公司实现营业收入 1,107.86 亿元，同比增长 32.29%；实现净利润59.97亿元，同比增长1957.38%。基本每股收益0.65元。若不考虑出售阿里巴巴股份出售带来的利润影响，公司净利约为3.96亿元，同比增长35.85%。分众传媒：上半年净利33.47亿元 同比增32.14%36氪讯，分众传媒30日晚公告，2018 年上半年，公司实现营业收入 71.10 亿元，同比增长 26.04%；实现营 业利润 40.64 亿元，同比增长 31.61%；归属于上市公司股东的净利润 33.47 亿元， 同比增长 32.14%。公司基本每股收益为 0.23 元，同比增长 35.29%。乐天百货回应“撤出中国内地”：有商讨对策，尚无具体方案7月30日，韩国《朝 鲜日报》消息称，继今年5月出售其在华超市业务后，乐天集团旗下高端百货连锁乐天百货计划出售其在中国内地的门店。对此，乐天中国公关负责人回应称，“在中国的零售市场因为网购等新业态的冲击，市场竞争激烈，我们有商讨相应的对策。但目前还没有确认任何具体的方案。”（澎湃）传棠宝机器人陷倒闭风波，创始人王明高负债出逃据自媒体“智东西”报道，近日，从棠宝离职员工、友商、以及其他产业人士处获悉，服务机器人企业上海棠宝机器人有限公司，由于资金链断裂被迫倒闭，员工的工资也无力支付一度拖欠。其操盘手王明高也已自证于6月出逃美国，不再回国。据悉，棠宝机器人是第一个得到“中国机器人认证(CR)”标志的机器人产品，证书编号为“001”。（智东西）投融资 完成1.675亿元A轮融资，「Pico」将推新一代VR一体机Pico小怪兽236氪获悉，近日，VR头显厂商Pico（北京小鸟看看科技）完成1.675亿元人民币A轮融资，本轮融资由广发乾和与广发信德领投，青岛巨峰科创等跟投共同完成。据悉，这也是Pico在2015年成立以来的首次公开融资。睿智科技获投Pre-A轮1亿人民币融资睿智科技获投Pre-A轮1亿人民币融资。本轮融资资本方分别为华盖资本，品友互动，三泰控股，未名博雅投资。（亿邦动力网）方体语文获投天使轮1000万人民币融资方体语文获投天使轮1000万人民币融资。本轮融资资本方为国金投资。据公开信息显示，该投资方在教育领域也投资了神奇科学堂等。（亿邦动力网）酷产品 麦当劳发行MacCoin代币，或与“巨无霸指数”挂钩美国快餐巨头麦当劳已经宣布从本周四（8月2日）开始，将在全球50多个国家36,000多家餐厅内发行620万MacCoin代币，其中就包括全美各地的14,000多家麦当劳餐厅，顾客只要购买巨无霸汉堡就可以获得一个代币MacCoin。消费者拿到这个代币可以免费兑换另一个巨无霸汉堡。（星球日报Odaily）日本风险企业将在泰国生产浮于水中的电动汽车共同社报道，以独家技术研发能浮于水中的小型电动汽车的日本风险企业“FOMM”（川崎市）力争从12月前后开始在泰国实施生产。鉴于已有许多日本汽车厂商进驻，且在日本研发的电动汽车较易实现本地化生产，所以决定进军泰国市场。公司希望在2011年遭遇重大洪灾的泰国挖掘市场需求。（新浪财经）区块链 高盛：预计加密货币价格将进一步下跌比特币连续几周赢得上涨，有望巩固近期的势头。不过，周一晚间，比特币一度跌破8000美元关口，其他主要加密货币也受到冲击。高盛的一名分析师指出，比特币和其他数字货币近期的好转将是短暂的。鉴于我们认为这些加密货币不具备一种货币的三个传统角色，即它们既不是一种交换媒介，也不是一种计量单位，且不是一种价值存储手段，我们预计未来会出现进一步下跌。(新浪财经)IBM面向金融机构推出区块链平台，巴克莱与花旗银行参与测试据国外媒体报道，IBM已经与外汇市场基础设施公司CLS合作，创建了一个名叫Ledger Connect的平台，这是为金融服务机构专门设计的概念平台，它的目标是将区块链技术应用于多种金融领域。目前为止，包括巴克莱银行和花旗银行在内的9家金融服务机构都参与了这一概念平台的验证和测试。（腾讯）美国特拉华州确定区块链记录法律地位本周早些时候，美国特拉华州州长约翰卡尼签署了三项法案，这些法案对该州的公司法和信托法进行了修改，以更好地适用于区块链领域。 简单来说，这三部法律都明确规定区块链可作为法律依据。这项技术在此之前并不是非法的，不能保证法庭会视区块链上创建和/或存储的记录具有法律约束力。而这次，这些法律的修改消除了这种不确定性。（cnBeta）\n",
      "*******************\n",
      "5129776 编者按：本文来自微信公众号“游戏葡萄”（ID：youxiputao），作者依光流。36氪经授权转载。每年，各大公司的新动作牵动着行业的方方面面，而其中，腾讯互娱的年度发布会则是产生重要行业影响的一个。与以往不同，今年腾讯将整个发布会升级为“新文创生态大会”，会议的长度也增加到了两天。看起来，腾讯又在酝酿一出大招了。游戏一直是腾讯泛娱乐矩阵最重要的内容板块之一，在连续经历多个高增速的季度后，整个游戏市场的增速正在放缓，这背后也代表着游戏厂商的运作思路、市场资源、人才团队，正在不断的求变趋势，然而在快速的竞争之下，可以被国内商业游戏借鉴的套路、模型、玩法，已经越来越少。从主流到细分的品类，几乎都步入了红海竞争阶段，玩法固化之后，又到了拼全套资源的时代，所有从业者都要面对一个严峻的问题，这个市场还有多少牌可以打？对于这一点，腾讯游戏更需要考虑。腾讯不可避免地牵动着行业走势回顾游戏市场过去十多年发展史，腾讯可以说是当中最特殊的一大玩家，在它每一次拿出新的战略之后，基于背后庞大的用户群体，整个业态都为之产生不小的变化。2007年腾讯开始走自研的方向，前后拿出《QQ飞车》《QQ炫舞》等产品，从当时的代理端游热潮中杀出一条路。几款产品之后，端游市场的竞争格局尘埃落定，从百家争鸣的大厂对峙之势，变为市场逐渐向腾讯倾斜的格局。腾讯也走上了自研系游戏的辉煌时代，至今这些产品仍然在手游时代给腾讯带来丰厚的回报。在这之后的第三年，腾讯又提出了精细化运营的思路，将端游市场竞争从产品迭代的竞争，引导向大DAU运营的资源比拼时代。《英雄联盟》《穿越火线》《地下城与勇士》这几款代表产品，几乎贯穿了一代年轻用户的游戏历程，相关配套的市场投入，也让这些产品的生命周期越拉越长，即便在端游市场整体下滑的如今，依然占据市场头部。到了2013年，并不算最早入局手游市场的腾讯，却拿出了任何厂商无法比拟的渗透速度，开始掌握这一领域的机遇。最早期有微信小游戏《飞机大战》，休闲手游时代有《天天爱消除》《天天酷跑》，中重度手游时代又拿出《热血传奇手机版》《拳皇98OL》《火影忍者》手游，RPG年则连续推出多款端游IP改编的产品。手游几番迭代后，腾讯又在多条业务线之上，将大DAU竞技类重头产品《王者荣耀》《穿越火线手游》《QQ飞车手游》，以及两款《绝地求生》正版手游，在不同阶段打入市场，一步步稳稳拿下头部市场。每每腾讯推出产品冲击榜单，业内必定掀起一波讨论的热潮。因为这背后牵动的市场变化太多，比如吃鸡手游早期疯狂的市场态势，仅在一个月内就几乎被《绝地求生：刺激战场》和《绝地求生：全军出击》尽收囊中；这也有可能是衍生出来的行业机遇，比如谁都没有想到《王者荣耀》火热，还能衍生出迅速蹿红的实体卡等线下投机商品。如今，腾讯的体量已经到了牵一发动全身的地步，再考虑到今年的“新文创”生态大会明显与以往有很大的不同，它的下一步可能将给行业带来更大的变革。下一个大招会出现在什么领域？简单回顾一下腾讯游戏以往的几大战略，从泛娱乐出发，至今已走过了精品产业链、精品2.0、精品3.0几条路。这些策略让腾讯游戏的市场基础越来越稳固，实现了广泛布局、整合市场投入、深入运作产品、提前预判市场走势等几大作用。这其中最关键的三个部分是：方法论的沉淀、市场的前瞻性判断，以及多领域的探索。腾讯的方法论已不用葡萄君多说，基于大用户量和真正深入的用户研究，凭借这个理论腾讯已经调优了诸多重量级产品，包括如今的国民级手游《王者荣耀》。自精品2.0战略提出以后，这套方法论已经越来越坚实，并且运用到了后来的所有核心产品中，比如现在随处可见的符文天赋、成就奖励系统。在判断市场走势的方面，腾讯的嗅觉也非常敏锐。国内游戏市场用户的成长，很大程度依赖于基础的社交平台，微信和QQ在这个过程中扮演的角色至关重要。从《飞机大战》开始，手游历经一代休闲、二代休闲、中度卡牌、重度RPG、MMO移植、竞技等多个时代，腾讯总是能在最合适的时机切入市场，最后占据该领域的头部市场。一来他们敢于压一些甚至是红海的领域，二来他们有足够的资源和执行力去将整个领域推起来。最后是腾讯在多个领域的探索。过去一年，除了主流产品的冲击，腾讯还在很多有潜力的领域下足了功夫。首先是H5游戏和小游戏，前者与手Q玩一玩紧密关联，后者与微信小程序绑定，诞生了《跳一跳》等现象级爆款。其次是专注细分创新品类的极光计划，去年引进了《纪念碑谷2》等海外名作，最近也给国内《蜡烛人》等优秀佳作提供了更好的宣发途径。最后是专注PC精品的WeGame平台，从上线以来WeGame正在慢慢积累其中的产品内容，耐住性子等待质变的节点。从上述这几个方面来看，葡萄君大胆预测下腾讯游戏下一步要走的路。一方面是原有战略的迭代。从手游精品战略来看，IP改编热潮依然会持续，这些产品的质量也会继续往上提，之前还憋在手里的产品在今年也有可能陆续上线，比如前几次大会上就提到的《泡泡堂》《魔力宝贝》等产品。结合腾讯互娱泛娱乐大战略来说，IP价值的多元化运作也会更加深入，或许今年会看到腾讯拿出一些原创题材的产品。再结合大会官网的宣传内容，或许近期传言的代理产品《堡垒之夜》端游等竞技类产品，会有新的动作，而且来势不小。另一方面是对新兴领域的继续挖掘。比如此前腾讯未能涉足的细分领域，二次元、女性向，很可能在今年会有新的动作。而大厂优势是资源整合式运作，以及更有针对性的用户运作，此前小众领域惯用的一些营销手法、产品运作思路，有可能会被结合到其中。此外更重要的是小游戏、功能游戏等近一段时间才提上日程的热点方向。其中，小游戏市场因为腾讯的推动，在短时间内已经迎来了巨大的变革。刚开始是《跳一跳》引起了整个微信用户圈层的深入，并引起了外界的强烈关注，这款产品的DAU迅速突破1亿，近期还开始举办起了线下电竞赛事。然后，在H5领域蓄势多年的从业者大批量入局，开发基层对小游戏的重视程度已经非常高了。接下来，腾讯连续对小游戏导量、变现、分成等多次政策的公布，都牵动着微信庞大用户群潜在的市场机会。在近期，腾讯第一批小游戏也上线了，首批21款小游戏大多为腾讯第一方产品，而后每天都有新的第三方产品上线，充实整个市场。4个月以来，小游戏领域从第一个爆款到商业模型落地的过程中，能看出腾讯对这一市场的重视。而且除了微信，QQ也上线了小游戏相关功能“玩一玩”，而其近期推出的双人PK模式，同时在线人数高达2000万，潜力同样巨大。或许在这次发布会中，腾讯会进一步规划小游戏接下来的市场方向。不论如何，腾讯每一次战略都会给自己提升一个台阶，这个台阶的高度要求这家公司必须走在市场前列，自然而然，背后必定会牵扯出一大批的资源运作，掀动整个行业。比商业化更高的竞争壁垒，或许才是腾讯的杀手锏其实除了产品层面的大动作，葡萄君还很在意一点：在过去几年，腾讯以“泛娱乐”这个概念贯穿数年的公司战略，积累了诸多市场成果，为什么在这个节点，要将这次会议冠以“新文创生态大会”的概念？要知道，国内所有文创产业所面临的鸡生蛋蛋生鸡问题，可不是简简单单几句话能够捋清楚的。说到底，“泛娱乐”的出发点是以发挥IP价值为最终的目的，而游戏业的文创，是需要借助游戏强互动、强代入感、强趣味性的特点，来构建具备文化特性的作品。要塑造出具备文化特性的作品并不是一件容易的事，需要投入更多的耐心，更细致的用心。好在过去一年，腾讯已经有一部分产品在尝试这个方向，比如《王者荣耀》历史课这一衍生内容，以及此前公布出来的功能游戏《榫卯》等。值得一提的是，这些功能游戏在今年就会陆续上线，从它们的身影中，可以看出腾讯正在提高对功能游戏在文化性、技术性、教育性等多方面可扩展空间的思考。腾讯还宣布与乐高进行合作，将把功能游戏应用于亲子互动游戏中，让寓教于乐这个概念落地。同时也宣布将功能游戏运用到“前沿探索的研发合作中”，并透露在半年前腾讯云就与美国华盛顿大学游戏科学中心展开了合作。如果将这些内容都算作文创的一个环节，那么功能游戏这一领域也很有可能成为腾讯的下一步重点布局对象。回过头来看国内文创类产业，在创意缺乏、商业导向为主流的市场大环境中，走文创这条路是颇为艰难的，对于腾讯这样体量的大厂而言，要做这样的尝试也不是一件更容易的事情。不过就今年腾讯已经公布的大会信息而言，不难看出他对这条路的重视：与以往最大的不同，是专门设置一个整天，针对文学、动漫、影视、游戏几大领域，邀请国际上知名的文创人士来进行现场干货分享。简言之，UP2018从一场品牌发布会，变成了引领行业趋势的峰会。腾讯此前的“泛娱乐”战略强调IP的粉丝经济，而“新文创”则把IP的文化价值作为主题，这是一次理念上的升级。就像马化腾在谈及腾讯游戏收入占比降至50%以下时透露出的信号，在关注腾讯游戏的产业能力以外，更强调其带来的文化价值、社会价值。这一转变对腾讯而言可能是自然而然的一步。泛娱乐战略已经落地，腾讯也成为世界第一大市场规模的游戏厂商，从去年提出“科技+文化”的方向后，他们已经开始把精力投向收入之外的领域。而对于还在追赶腾讯的厂商而言，无可避免还需要奔着“第一”而去，两者本质目的上的区别，就足以带来市场表现上的巨大落差。关于腾讯“新文创”落地会花上多少年，做出多大的成果，葡萄君不敢妄下论断。只不过可以作为参考的是，在提出泛娱乐以后，腾讯的变化整个行业都历历在目，至少他们在每年战略的执行力度上，整个公司上上下下都没有含糊过。\n",
      "*******************\n",
      "5118895 编者按：本文来自公众号犀利财经（ID：xili-caijing），36氪经授权转载。若给广东的生意人贴标签，无外乎四个字“低调务实”。无论是腾讯、华为、唯品会、碧桂园、OPPO、vivo都是这样的风格。不过，近期，腾讯一反“低调”常态，开启了高速运转的“买买买”模式，不断“扫货”，甩出数百亿元，却像蜻蜓点水一般，从唯品会、每日优鲜、家乐福中国、万达商业，到永辉超市、步步高、海澜之家……腾讯拿起画笔，正在勾勒它的商业“浮世绘”版图。浮世绘样本“头部效应聚集很明显，无人货架的发展速度可能会比ofo和摩拜刚起来时要更快。”2017年12月中旬，每日优鲜创始人兼CEO徐正重新修正了2018年的目标：每日优鲜便利购原计划2018年铺设20万个点位，但现在要提高到30万个，覆盖全国50个城市，拿下30%的市场份额是底线。这也是每日优鲜便利购CEO李漾的新KPI指标。腾讯的这个浮世绘样本正在快速勾勒。如何更快？回想2017年共享单车领域摩拜和ofo的发展，两件事加速了头部效应的聚集，一是融资、不断的融资，二是借助巨头的平台体系快速裂变。比如，摩拜全面入驻微信小程序之后，月活跃用户环比增长了200%，每日注册用户超过50%来自小程序，这已经是一个浮世绘式的样本。李漾很清楚每日优鲜便利购的“生穴”和“死穴”。死穴是拓展速度，如果在点位拓展上被对手拉开几倍距离没有办法追上，这会让你死，所以我们在组建地推铁军。生穴是让你活得更好，说明你能够在市场上留多长时间。我们会花很多时间做好用户体验、品类建设、冷链交付、多分区的设备，提供更细致的客户服务。这一系列是组合拳，相当于一部分人在打江山，另一部分人是在守江山，守江山如果守得好也会以客带客。“新一轮融资已经启动了，需要快速拓展市场，也需要更多人给我们支持。”李漾说。而每日优鲜便利购的上一轮融资，刚刚发生在2017年12月29日，那一波A+B轮融资，每日优鲜便利购获得2亿美金，腾讯、鼎晖分别领投A、B轮，元生资本、时代资本、KTB、北极光创投、启明创投、君联资本、微光创投、Mindworks Ventures、光源资本等纷纷参与。当时，腾讯投资部董事总经理李朝晖说：“随着零售终端颗粒度的变小，近场零售成为当下整个零售行业的新趋势，而办公室无人货架又是近场零售的最佳切入点。无人货架竞争的核心在于供应链，每日优鲜便利购是当下这个赛道中具备成熟自有供应链系统，能够提供丰富品类、稳定品质商品的实力玩家。”每日优鲜便利购成为腾讯把触角伸到线下的神经之一。紧接着，刚刚，每日优鲜便利购宣布与微信支付签订合作协议，成为腾讯在智慧无人零售领域的首个合作企业，这不禁让人想起摩拜接入微信小程序的那个场景。从每日优鲜的“1个小时送货上门”，到每日优鲜便利购的“货架就在你身边”，徐正构建了一种类似“滴滴＋摩拜”式的线下商业网络，一个关于时间和空间的网络。近日，徐正在腾讯做过一次内部分享，他说：零售长期发展的一个必然趋势是近场化。最早从集市、超市，再到便利店、再到无人货架，其实离用户越来越近、越来越方便。……无人零售可以做出一个完全不一样的零售业态，所有的建筑物都应该把零售作为一个底层设施嵌入进去。随着2018年构建的时空网络越来越密集，获得腾讯多轮投资的每日优鲜＋每日优鲜便利购，正成为腾讯布局线下的一个新样本。流量“颜料”对腾讯而言，每日优鲜是一幅浮世绘，未来永辉超市、步步高、海澜之家也将是。在腾讯的笔下，他们会被绘成怎样的画面？现在可能没人知道，或许腾讯自己也并不清楚，灵感总会不经意间闪现。不过，对于突然的“高调”、应接不暇的大手笔投入，外界都在猜测，腾讯为何买？买来何用？还会买吗？一个确定的事情是，微信坐拥9亿用户，这数亿的流量，让腾讯能为世界提供最丰富的颜料，如何利用好它，需要一个个浮世绘样本来实现。“如果仅仅把腾讯看作一个流量机器未免太狭隘。”微信支付联合产品部总经理耿志军说，流量至少分为三种：最优质的自有流量因朋友圈传播产生的社交流量购买流量 耿志军说，腾讯要在流量场景支持、数据分析、消息传递和门店改造等方面为零售企业赋能，而且要把这些能力有针对性地提供给超市、便利店、百货等不同业态。对腾讯而言，当下丰富的颜料还只是一时的样子，最有趣的是 ，当它画出来，和超市、便利店、百货不同业态结合时，可能会发生意想不到的化学反应，而且每幅画都会不同，就像每个小孩生来就不同那样。比如每日优鲜便利购，从每日优鲜分拆出来，半年多以来，在全国30个城市铺设3万多点位，覆盖水果、零食、冷饮、热饮、餐食等多个品类商品，日均单点销售额200元，是普通货架的2-3倍。接下来，如何通过利用好微信的颜料，让自己发生更多裂变，让色彩变得更加丰富，这是每日优鲜便利购要思考的问题，同时也是腾讯要考虑的问题。“互联网下半场，全链条深度的数字化能力，是一家公司建造长远壁垒的关键。”腾讯投资管理合伙人林海峰说。而这个，正是每日优鲜便利购等企业要构建的发展路径和护城河。当整个世界的颗粒度都在不断变小，腾讯必须把颜料调得更加细腻、更有创意，画就的浮世绘，有的浓妆重墨，有的风轻云淡，有的清奇秀丽……这些都需要绣花般的精细功夫，这是最大的挑战，但也是最有趣的地方。两个画风 近日谈及投资逻辑，腾讯总裁刘炽平说，腾讯投资的灵魂就在于人和创意。人和创意的精妙，在于它的独一无二，就像一幅幅的浮世绘艺术创作，每个成功都是不可复制的。当年星巴克CEO舒尔茨，能在最初三个文艺青年创始人散伙之后，顺利接管星巴克，并把星巴克发展成一个帝国，一个很重要的原因是，在星巴克最艰难的时刻，在美国股市低迷、经济不景气、其他公司都在裁员的时候，舒尔茨给员工加薪、给兼职员工上社保，之后还提出了全员期权，“把人的价值发掘到无与伦比的地步”，星冰乐是员工的创意、音乐CD创新也是员工的创意。在布局线下的这场“画图”竞赛中，巨头呈现出不同的画风。阿里巴巴的画风更重，它主导了一幅画的模样；腾讯的画风相对清淡，怎么画，画成什么样子，需要每日优鲜便利购、永辉超市、海澜之家等等小伙伴的主动创造。腾讯总裁刘炽平谈及未来时说，线下有很多宝藏，“微信小程序是很好的载体，可以将场景力量通过微信发挥出来。”中国商业正在经历一个转型期，但也是互联网企业的新一波机遇，就像十五年前的电商、十年前的移动社交。“零售业态的变迁是一个漫长的变迁。可能是等了几十年，等到一代人变化出现了，才有现在这样的机会。”徐正说。这个变迁一旦来了，就更快、更猛，而且中国互联网也正经历最好的时光，手握大把钞票、用户、数据，这些都让商业有了脱胎换骨的可能。没有人知道，哪种画风更好，也许多年以后，我们会感谢因为有了不同的画风，这个世界变得更加精彩。（浮世绘图片多来自日本画魂 葛饰北斋）\n",
      "*******************\n"
     ]
    }
   ],
   "source": [
    "for key,value in id_content_dit.items():\n",
    "    print(key, value)\n",
    "    print(\"*******************\")"
   ]
  },
  {
   "cell_type": "code",
   "execution_count": 208,
   "metadata": {},
   "outputs": [
    {
     "name": "stdout",
     "output_type": "stream",
     "text": [
      "0\n",
      "编者按：本文来自阿尔法工厂，作者 美股宝贝 ，36氪经授权转载。最近几天，除了小米(HK:01810)港股正式挂牌，另一则重磅事件，就要属腾讯音乐拟分拆赴美上市了。截至目前，腾讯音乐尚未披露招股书。但已有为数不少的海内外机构频频“吹风”：腾讯音乐估值将会超过300亿美元。不同于小米这个“新物种”，腾讯音乐很容易在市场中寻找到对标的上市公司：全球第一大音乐平台、音乐流媒体公司Spotify（NYSE:SPOT）。据称，300亿美元估值的由来，正是参照Spotify 产生。亦有投资人认为，腾讯音乐之所以选择在美国市场上市，正是因为可以对标Spotify而容易定价；而且，有Spotify这个指标公司在前开路，美股投资者更容易理解并接纳腾讯音乐的商业模式。故而，在腾讯音乐的招股说明书亮相之前，我们不妨先来审视下Spotify这家公司，以对前者的IPO前景有相应的预判性认知。01 商业模式为免费增值+付费收听，迄今仍未盈利Spotify于2008年10月在瑞典首都斯德哥尔摩正式上线，并于创立后的第10年即2018年4月在纽交所完成IPO。截至7月9日，其市值达到315亿美元，是全球最大的流媒体音乐服务平台。值得一提的是，2017年12月，腾讯音乐与Spotify双方达成换股战略合作，Spotify持有腾讯音乐娱乐约9%的股权如同绝大多数的流媒体运营商，Spotify上的服务分为免费和付费版本两种。使用 Spotify免费版，用户即可享受到流媒体音乐的基本服务。如果每月支付9.99美元使用付费版本，用户即能够离线收听音乐，以及享受无广告体验。采用“免费增值”策略，Spotify的变现有两个途径：通过免费版本上的广告收入从而把免费用户群变现，同时通过订阅模式将他们逐渐渗透转化为付费用户。迄今为止，Spotify在用户群的变现上做得很好，涉及整个用户群，包括免费和高级用户。反映在收入上，其营收从2015年的19亿欧元增加到2017年的40多亿欧元，增长了一倍以上。而且，该两部分的营收，在2017年均有着40%左右的增长速度。但值得注意的是，在2008年创立以来的很长一个时期，该公司在广告业务上始终处于收不抵支状态。直到2017年，方发生了变化，最终实现了小幅盈利。这很重要，因为广告支持的细分市场将不再拖累利润，使得整体毛利率不断增长。而这也表明，Spotify的资源效率越来越高，无论是通过规模经济还是其他方式。话虽这么说，但需要明确指出的是，截至2018年一季度，Spotify迄今仍是一家整体亏损的公司。2018年一季度，公司总营收为11.39亿欧元。但由于汇率的负面影响，同比37％的增长，在调整完汇率后降了11个点至同比增长26％。由于Spotify公司总部位于瑞典斯德哥尔摩，并以欧元报告，因此美元的走势影响了其应收。 在2017年下半年，欧元兑美元大幅走强，因此与去年第一季度的比较有所偏差。公司有40％的订阅者来自欧洲，因此汇率的影响不能忽视。但是汇率并不是我们关注的重点对于Spotify这种商业模式，投资者最关注的是其订阅用户的增长，而非利润的增长。截至18年一季度，Spotify订阅用户达到了7500万。根据预期，这一数字将在二季度将增加到7900万至8300万。 公司预计，今年年底收获约9400万的订阅用户数量。Spotify最强劲的竞争对手是苹果音乐（NASDAQ：AAPL），但后者只拥有约Spotify一半的订阅用户数量。虽然仍处于亏损状态，但Spotify运营利润率一直在改善，2018年一季度为 -3.6%，高于去年同期的 -15.4%。如是改善运营利润率的能力，也为Spotify的投资者提供了乐观预期。Spotify运营费用主要来集中在销售和营销两项上，合计占比运营费用的 42.6%。随着Spotify继续扩展到其他国家，这个数字无疑会很高。庆幸的是，这种增长不会永远持续下去：实践证明，一旦公司在某个国家取得了稳固的立足点，就可以开始削减这一领域的支出。如是，再加上已经改善的运营利润率，似乎这些迹象都表明，Spotify最终将能够盈利。02 身为流媒体音乐领域头羊，却没有坚固的护城河可言虽然在流媒体音乐领域，Spotify是无可争议的领头羊；但迄今尚无具有说服力的证据可以证明，该公司拥有可以保护它免受严重的竞争的护城河。这样的事实，是那些预期可持续性高回报的股东们最大的烦恼所在。如我们所知，苹果(NASDAQ:AAPL)和亚马逊(NASDAQ:AMZN)的音乐流媒体业务，都正在努力扩大其用户群；而谷歌（NASDAQ：GOOG），亦已推出新的音乐订阅服务，并将通过YouTube的大规模广告进行宣传推广。谷歌这项名为“YouTube音乐”的服务模仿了Spotify模式：将有两个版本，带有广告并且功能有限的免费版本，以及每月10美元的订阅版本，没有广告且独家额外的功能。另外，值得注意的是，虽然Spotify的营收由广告和订阅两部分组成，但其中91％以上的收入来自订阅用户。尽管2018年一季度的月活增长了44%，但订阅用户30%的速度还是低于月活的增速的。这使得每位用户平均营收（ARPU）在一季度同比下降14%。营收方面的数据已经昭示的明白：如今的终端音乐消费者，仍然不愿意花大价钱购买音乐流这不仅是Spotify所面临的严酷现实，想必腾讯音乐更加心有戚戚焉。03 音乐授权成本难以压缩，毛利率不如沃尔玛在成本方面，Spotify也遇到了不少困难。Spotify最主要的成本，是特许权使用费的支出。当今的欧美音乐市场，呈现四家唱片公司的寡头垄断局面。四大公司分别是环球，索尼和华纳音乐，以及代表小品牌的代理商梅林。这四家唱片公司控制着Spotify可用歌曲的90％。音乐业务的寡头垄断性质，使得唱片公司在与Spotify的谈判中具有相当大的议价权。所有主要品牌在合同中都有“最惠国”条款，这意味着potify无法与其中单独一个品牌签署更优惠的条款。故而，从本质上讲，Spotify必须把主要唱片公司当成一个统一体来进行谈判。如此，Spotify在价值链中的地位使其受到多方挤压，包括供应商唱片公司、专业音乐人以及最终的消费者。这样的行业价值链，显然制约着Spotify毛利率的提升。2018年第一季，该公司的毛利率仅为25％，虽然远高于2016年的16％，但仍不足以产生盈利。而且如我们所知，对于一家明星科技公司来说，如此低的毛利率实在有些让人提不起胃口基本与传统零售实体的毛利率持平了，比如沃尔玛（NYSE：WMT）的毛利率为25％；而Facebook（NASDAQ：FB）的毛利率为79％，而谷歌母公司Alphabe的毛利率则为56％。对此，我们只能寄望于Spotify与它的同行们，可以在和唱片商的谈判中得到更好的条款，否则我们难以对其毛利率的提升抱有过高期望。你可能会说，这也并不是没有先例嘛：Spotify在2017年曾设法与唱片公司协商更好的分成条款，并使得其毛利率从14％提高到了21％。但要知道，那些主要唱片公司都在Spotify持有重要的股权，当时正处于Spotify上市的隘口，这些股东们有动力帮助公司更快地上市，以避免触发可转换债券的条款，从而稀释其股权。故而，在2019年重新谈判条款时，唱片公司基本不再会有相同的激励措施来授予Spotify更优惠的条款。04 拥有用户越多、使用内容越多，内容成本就越高一些投资者会把Spotify与奈飞Netflix（NASDAQ：NFLX）进行比较。Netflix多年来一直亏损，但已成为近期历史上最成功的股票之一，在过去3年中股价飙升7倍。 Netflix继续以惊人的速度增长用户，并在过去几年中实现运营和净收入，尽管利润仍然受到抑制。虽说两家公司有明显的相似之处，两家公司每月销售订阅费均约为10美元，而内容占其支出的大部分。但是，像Netflix这样的视频流媒体公司可以为一段内容只付一次费，然后可以根据需要多次播放；而Spotify这样的音乐流媒体公司，每次播放一首歌，都必须向唱片公司和其他音乐所有者支付一次版权费用。因此，Spotify拥有的用户越多，使用的内容越多，其内容成本就越高，也就减少了其形成规模经济的可能性。那么，如果Spotify无法让唱片公司与之合作，下一步要考虑的是提高其订阅价格。Netflix已经能够在不失去许多客户的情况下提高订阅价格，这是Spotify尚未尝试的策略。如果Spotify想复制Netflix的成功，它需要制作或拥有原创内容。这对于Spotify是一个挑战。不幸的是，Spotify并没有与Netflix相同的定价能力。如果它将其费率提高到15美元，那么苹果，谷歌和亚马逊的竞争就会立即使其处于不利地位，并且抑制Spotify订阅率的提升。事实上，这三家大公司可以降低价格以应对Spotify的增长，并对Spotify施加进一步的压力。还有一种应对方式是直接绕开唱片公司，直接从音乐制作人手中获得版权。Spotify也确实开始直接从拥有自己音乐许可权的专业音乐人那里获得音乐许可。直接许可交易是削减唱片公司中间人和增加利润的一种方式。这个过程仍处于起步阶段。如果要提高Spotify的毛利率，就需要对这种自我许可模式进行大规模扩张。但这一过程，可能会增加Spotify与四家寡头唱片公司之间的紧张关系，并且唱片公司可能会威胁撤出自己的音乐，从而削弱Spotify在对手面前的竞争力。05 Spotify最大的优势在于身处一个足够大的市场好在，Spotify倒也有着竞争对手不具备的优势。比如相比苹果音乐来说，Spotify没有附着于一个科技巨头，给人专业音乐人印象也让其获得了更多年轻人和大V的青睐。独立的缺点是Spotify不能获得母公司的大笔投资。二级市场上投资者对于Spotify的支持是有条件的，如果它不能产生可持续的盈利，这些投资者就会离开。这就使得Spotify不但做好流媒体音乐，同时也要在加强社交属性上下足力气。社交功能可以让用户访问他人的播放列表，并通过列表展现用户的音乐品味，同时还可以娱乐和加强与朋友的联系。现在，每次使用Spotify，将歌曲分组添加到播放列表中，这些音乐会在朋友的信息提示中弹出，互相交流彼此喜欢的音乐。这样的模式创新，为流媒体音乐公司未来提供的服务范围提供了想象空间以及扩展性。对于Spotify这家年轻的科技公司来说，最大的利好是，其所处的市场足够大并始终处于不断增长之中。美国唱片业协会的数据显示，在美国，录制音乐销售额去年增长17%至85亿美元，其中流媒体音乐销售额占据了近三分之二。这使得唱片业销售额创下了自23年前以来的最快增速。Spotify是否也有能力将其用户群增加一倍，扩大毛利率，并产生物质自由现金流呢？对于这样的问题，不同风险偏好的投资者自可见仁见智。回归到现实，Spotify当前面临最大的挑战，仍是如何改变其与供应商之间的关系，并让自己对供应商更有价值。如果能够做到这一点，也许会有机会成为“FAANG股”的新成员。从估值上来讲，Spotify的企业价值约为2019年预期收入的4倍，而Netflix则为7倍，这说明Spotify还未被过于低高估。另外，音乐行业的大背景正处于从交易模式向需求模式的转变，而Spotify恰好是这一转变中的中流砥柱。这样的行业大势亦表明，年轻的Spotify还有广阔的成长空间。以上，看完了对于Spotify的深度解析，你是否对腾讯音乐的IPO前景有了比较清楚的预期？如果你也有不讲不快的观点需要表达，欢迎文后留言探讨。\n",
      "**********************************************\n",
      "1\n",
      "36氪获悉，社群电商平台好衣库完成数亿人民币B轮融资，腾讯领投，IDG、险峰长青、元等机构跟投。冲盈资本担任本轮融资的独家财务顾问。就在6月，好衣库刚刚宣布由IDG资本领投的1亿人民币A轮融资。拿到腾讯的投资对于微信生态下生长的公司意义重大。目前，除了投资过社交电商拼多多（截止IPO之前，腾讯在拼多多中占股18.5%，为其第二大股东）、小程序电商服务工具SEE小电铺，腾信在社群电商（即供应链中心化，前端借助个体小B卖货的模式）赛道上还很少出手，此前只有好物满仓获得腾讯作为领投方之一的5000万A轮融资。另据接近腾讯投资的人士称，他们还在持续挖掘小程序电商的投资机会。好衣库创始人兼CEO邬强强（花名鬼谷）曾在阿里巴巴任职9年，曾任聚划算事业部总经理、淘宝开放平台创始人。这段经历一方面为好衣库积累了品牌资源，也令他认识到，微信电商的发展极大可能复制中心化电商此前的路径，即从尾货、水货等非主流商品向主流品牌商品升级，从非主流人群到主流人群拓展。换句话说，微信生态下的电商公司中，如果拼多多相当于早期的淘宝，那么也会逐渐诞生天猫、京东等模式的公司，品牌化是这一趋势的核心。据了解，目前好衣库合作的品牌达到几百家，以低线城市的主流消费品牌为主，如森马、太平鸟、李宁、安踏等，客单价在百元上下。品牌化之外，好衣库的品类战略也十分清晰：从利润较高的服装（早期以品牌库存为主）入手，适应这个品类SKU多、库存浅的特点，发挥组货、供应链管控的优势，逐渐建立渠道对于品牌的议价权。而此前无论是拼多多还是云集，都主要是精选SKU，走单品爆款模式，因此适合销售基本款服饰、美妆个护等SKU不多的品类。此间差别在于，一款纸巾可以一天卖出几万件，拼多多可以深入上游，和工厂谈判备货并低价走量，但某个服饰品牌一件T恤的备货量通常只有几百上千件，但是款式多达上百种，这对于选品、组合和精细运营提出了更大挑战。利用代购、店主等小B作为社群分发的节点卖货，是社群电商在流量端的创新，好衣库的做法并无明显差异。而相比体系成熟的微商团队，社群运营可能是电商基因的好衣库团队需要快速补课的一环。据36氪了解，好衣库目前的小B数量达几万人，他们的回报即低买高卖（“虚拟”的货权转移）形成的差价，也就是“代购费”，以及达到一定的周销售额（目前分5000元和20000元两档）之后的“工资”奖励。在政策合规前提下如何有效激励小B销售，将考验制度设计和管理能力。鬼谷称，同款品牌商品，通过好衣库的代购购买，价格可比天猫、品牌线下渠道低30%，这源于渠道成本的大幅降低，“过去的店铺运营管理、买流量，无理由退货，都是成本。”鬼谷说。事实上，这也是社群电商模式得以成立和普及的关键。另一方面，拼多多的年GMV超过1400亿元，与好衣库模式相似的社群电商公司云集年GMV也已过百亿，且都在推进货品升级。头部玩家既有的流量和交易规模会让它们跟品牌议价时更有主动权，好衣库的竞争会越来越激烈。此前，鬼谷接受了36氪在内的几家媒体采访，对于微商升级该卖什么货的问题，给出了自己的思考。以下内容经36氪整理编辑Q：能否把好衣库视为微商市场的消费升级？A：是的。我们经历过上一代电商，2003年、2004年左右淘宝上就两个东西好卖，一是服装市场的衣服，二是水货，都是非主流商品，今天的阿里巴巴从那个时代开始积累，之后会经历非主流商品到主流商品，非主流人群到主流人群的变化。品类上，从最早的3C数码，比较low的女装、市场货，到品牌商品，然后这些人生宝宝了，母婴、家居、日用品起来，再到建材、买房子、买车，整个一代人的消费升级。Q：如今的微信电商会更针对低线城市人群？A：我们从2012年开始做聚划算，特卖模式的品牌团，花三年时间做到一千个亿，那个十年瞄准的是一二线城市的人，从对品牌有认知开始，到买快时尚，买轻奢，买设计师品牌，买大牌，我们是这样一路走下来，今天三四五六线人群就是十年前我们，他们也面临这样一个升级过程。Q：微信电商可能不会完全重复这个过程，差别在哪？A：这一代90后、00后全都是互联网原住民，他们接受这个事情速度会比以前快很多，所以拼多多两年做到一千亿，当年淘宝花了五年才做到。Q：跟已经存在的社群电商比，好衣库的差异化何在？A：对于整个社群电商，品牌是大量缺失的，包括今天你看云集商品结构里面，美妆有一些品牌，在大量的服装、家居、母婴上面其实是非常缺的，典型的末端品牌在里面大部分都是没有的，究其原因是这些品类不太适合用这种爆款方式去做。Q：为什么？A：这些品牌商品，比如童装、母婴、家居SKU特别多，涵盖你生活方方面面，每个商品的库存没法像美妆一样，或者像9块9包邮一样每次出去几万件，无论是像云集做法还是拼多多做法不适合做品牌商品浅库存的东西，这个时候需要一个新的销售方式出现。Q：这会更考验供应链能力？A：这就是为什么我们觉得我们做的更有优势的地方。之前大家都没有做这个品类，因为的确不好做，对供应链管控能力、品牌管控能力、组货能力有更高要求，但是过去我们做过这个事情。Q：好衣库的运营跟聚划算时期相比，有哪些承袭，有哪些不同？A：其实在供应链、在货品端很多做法是类似的，比如如何挑选商品、如何控制价格和毛利率、如何做一些商品组合、设计一些可能引流的商品，一些毛利率商品，如何跟他谈夏季的一期盘货，五月上哪个，七月上哪个，一般品牌不会只卖一个品类，会有T、会有短裙，该怎么组合，比例多少，所有涉及到商品因素的事情，本质上是一样的。不一样是前端流量的组织方式，是一个从人找货到货找人的巨大转变。Q：这个不一样反过来对于运营的影响是什么？A：非常多方面，比如说原来运营其实大部分是坐在那把整个货准备好，等人上来就可以了，今天在我们运营体系有一些同学是去做互动的，因为今天用户可被触达，可以在朋友圈触达，可以在抖音上面触达。另外我们会做内容，过去商品预热做得很简单，就是放图片、放价格，我们今天会做投票，你喜欢什么牌子，我们就上什么牌子，你喜欢什么款式我们就卖什么款式，我甚至可以跟消费者互动猜价。Q：品牌何以对好衣库这样的新渠道感兴趣？A：目前对渠道建设不足以让它们充分地触达用户。为什么要搞天猫小店、京东便利店，就是因为触达不了，很多人不会来这些APP。之前我们做电商APP，一个用户约访问四到五次算很好了，好衣库的平均水平是单个用户一天访问四到五次。Q: 我们的售价呢？和原来线下零售或者天猫上比较？A：同样商品比他们都要便宜，大概30%以下。Q：为什么能做到？A：因为过去渠道成本非常高，你开个店，要上架，要做店铺运营和管理，要去搞流量吧，这都是成本。特别服装这个品类，你只能靠店铺品牌背书，你必须接受七天无理由退货，有很多人会买三件退两件，在这个社群里面是靠人卖东西，人是销售结点，很多时候是朋友或者半熟人，退货率会低很多，只有1％。Q：您怎么看微信生态的电商红利？创业公司有多大的机会？A：pc时代到移动时代，大公司可以顺利地转型，因为用户可以导过来，怎么分发流量、怎么做搜索、做货架，逻辑是相通的，但是社交平台上，流量去中心化了，大小公司站在同一个起跑线上。微信电商第一波pk已经结束，去年起码几百家在做，今天只剩一二十家，这个市场进化速度会比上一代APP更快，两三年内格局会定下来。\n",
      "**********************************************\n",
      "2\n",
      "编者按：本文来自“第一财经”，作者 段倩倩，来莎莎。36氪经授权转载。图片来源：视觉中国在国内公有云市场份额排第二的腾讯云，面临着前所未有的危机。“前沿数控技术新媒体”8月5日晚间发微博称，在使用腾讯云8个月后，公司存储在腾讯云上的数据无可挽回地全部丢失。腾讯云8月6日通过微信公众号回应称，腾讯云提出了返还前沿数控技术3569元实际消耗、提供13.29万元现金或云资源额外补偿的方案，而前沿数控技术提出了1101.60万元的赔偿额。丢失的数据前沿数控技术背后是一家名为“北京清博数控科技有限公司”的创业公司。2014年这家公司注册微信公众号“前沿数控技术”，定位于数控、模具、机械行业。前沿数控技术在微博中表示，在业务量的需求下，公司使用了腾讯云，可“灾难”发生在2018年7月20日。接下来的两天，腾讯云组织了技术专家来对此次故障进行补救，但前沿数控技术公司数据还是丢失了。根据腾讯云公告，“腾讯云监控到异常后，第一时间向用户告知故障状态，并立即组织文件系统专家并联合厂商技术专家尝试修复数据。遗憾的是，虽经多方努力，最终仍有部分数据完整性校验失败。”为什么会发生数据丢失？腾讯云在8月6日的公告中表示，腾讯云用户北京清博数控科技有限公司所属“前沿数控”平台一块操作系统云盘，因受所在物理硬盘固件版本bug导致的静默错误（写入数据和读取出来的不一致）影响，文件系统元数据损坏。“简单类比，就是电脑的c盘（装操作系统的盘）因为底层错误而导致数据读写异常，最终挂掉了，然后客户的系统和数据都丢了。”一位云服务行业从业人士对第一财经表示。有无备份？前沿数控创始人伍先生对第一财经表示，公司采购的是腾讯CVM服务。按照腾讯云官网的产品介绍，CVM提供达99.95%的服务可用性和99.9999999%的数据可靠性，CVM搭载的云硬盘提供三副本存储策略，保证了数据在任一副本出现故障时快速进行迁移和恢复。伍先生称，“总之按腾讯云宣称的就是十亿分之一的概率， 你想一个道理，人家的安全概率是这么高了，还有三备份，那还有什么风险？三备份都出问题了，那再来几个备份又（怎么）能保证安全？”前述云服务行业从业人士对第一财经表示，“目前的费用信息看，这个客户可能既没有用负载均衡，也没有用云存储，而是直接开了台虚拟机（单台主机）把应用和数据都部署在上面了。腾讯云在官网介绍中说的三副本是云硬盘提供三副本，没有明确包括云操作系统盘。”第一财经获悉，前沿数控技术从腾讯采购的服务为单台CVM，并且只有系统盘没有数据盘。用个人电脑来类比，即前沿数控技术将所有信息录入了电脑C盘（可能），系统崩溃时数据全部丢失。而如果数据信息被存放在了D盘、E盘（应用和数据分离）等，即便系统崩溃，服务器仍能留有公司数据信息。抛除腾讯云硬盘自身故障的原因，不少从业人士称，前沿数控技术运维没有将数据同步至本地电脑上，是导致数据永久丢失的另一个原因。一位使用了云服务的创业公司创始人称，“重要数据一般都会备份至本地电脑上。”那么，在此次硬盘故障中，前沿数控技术是唯一一家吗？记者联系腾讯云，但未能收到回复。“客户可以选择负载均衡方案来实现应用冗余，可以选择应用和数据分离（应用部署在应用服务器，数据部署在数据库服务和存储服务上）来隔离问题带来的损害，可以通过备份机制来确保较新的数据得以存留。没有100%可靠的系统，备份和冗余是在任何环境都需要考虑的。”一位业内人士说。腾讯云在公告中表示，“经过分析，该硬盘静默错误是在极小概率下被触发。我们随即对固件版本有bug的硬盘全部进行下线处理，确保相关隐患全部排除。”赔偿方案现分歧在明确数据丢失后，前沿数控技术和腾讯云就赔偿方案产生了分歧。腾讯云在公告中表示，第一时间制定了补偿措施，腾讯提出的方案为“赔偿+补偿”。赔偿部分为“前沿数控”在腾讯云平台上（自2017年12月份开户至今）产生的实际消耗共计3569元，依据腾讯云相关服务协议、规则和行业惯例，腾讯云将按照赔偿条款中的上限以现金形式全额返还这笔费用。补偿部分为，本着帮助用户迅速恢复业务的目的，腾讯云承诺为前沿数控技术提供13.29万元现金或云资源的额外补偿，这是后者在腾讯云平台用云金额的37倍。面对前沿数控技术提出了1101.60万元的索赔要求。腾讯称，这远远高于腾讯云所能提供的方案。腾讯云同时表示，在双方的沟通中，前沿数控技术还提出希望以“获得腾讯投资”、“腾讯官方引流”等方式得到补偿。在当前情况下，腾讯云的确很难满足这样的要求。在前沿数控技术看来，腾讯云拖延到事故发生后的第14天“才给出一个让人根本不能接受的方案”。其次，前沿数控技术并非执意索赔一千万，腾讯云给出的13万元与前沿数控技术提出的赔偿金额差距太大。至于腾讯投资、腾讯官方引流等，前沿数控技术表示，公司的诉求是希望能恢复平台数据。在腾讯云工作人员表达恢复数据无望时，前沿数控技术主动提出希望利用腾讯可利用的资源来帮助公司恢复平台运营和流量。\n",
      "**********************************************\n",
      "3\n",
      "今日下午，腾讯发布了其办公场景下的战略产品腾讯文档。官方介绍，这是一款支持随时随地创建、编辑的多人协作式免费文档工具。目前支持Word和Excel，入口包括微信小程序、QQ、TIM、Web官网、App，用户可以创建文档并分享给微信或QQ好友，授权对方共同编辑，修改动作将实时同步到全部平台。在PC端，腾讯选择了在线编辑，想让用户有更轻的使用体验；而在移动端，小程序与app同步上线，还支持本地的微软文档转化为腾讯在线文档。智能化也是腾讯的发力点，目前接入了一键中英翻译和实时股票函数。图为腾讯文档小程序使用界面未来，腾讯文档想要加入更多文件格式，延伸更多语种，上线扫描转化功能，持续增加智能化函数工具，支持导入互联网动态信息等。腾讯一直力求在办公领域的社交有所突破，TIM去年3月上线，在腾讯产品体系中它被定位为办公场景的团队协作软件。TIM原本拥有自己的在线文档功能，现在已经被腾讯文档取代；目前看来，功能上并无很大改变，而打通腾讯旗下多款产品，实现多个场景下的应用，或许是腾讯文档最想实现的。与腾讯文档形成对标的，是近日获得今日头条近亿元B轮融资的石墨文档，36氪昨日发文简述了与石墨创始人吴洁的对话。腾讯与石墨有着相似的简洁界面，上手简单，同样都只支持Word和Excel制作。石墨尚无小程序，用户可以在微信公众号、app端、钉钉等进行编辑，支持添加微信好友作为文档协作者，已经开放了个人收费版和企业版，目前拥有千万个人用户和12 万企业用户。早前，石墨与钉钉达成了合作，补足了钉钉文档办公上的缺失；而近日投资它的今日头条，又正在着力研发自己的企业级IM产品“Lark”，办公领域的鏖战愈发激烈。\n",
      "**********************************************\n",
      "4\n",
      "很多重症、急病患者急需专家的诊断，却总发现专家号已约满，错失就医时机；而对专家来说，自己每天接诊的患者，大部分是一些常见病，或与自己专长不匹配的病种或是检查报告不齐的患者。一边是患者无医可看，另一边是专家们总是在做重复性基础工作。医疗资源的错位严重影响了看病效率。这种情况下，如何让有限的医疗资源发挥最大效用和价值？借助AI实现精准预约或许是个好办法。近日，腾讯正式向医院管理者发布其最新医疗AI引擎腾讯睿知，这是一款疾病预判的AI引擎，目前主要的应用场景是智能导诊，即通过人机对话，患者能找到最合适的医生，医生也能筛选出与其专业方向匹配的患者，让导诊服务从传统的“依图找科室”升级为“精准找医生”。（此前，腾讯曾发布首款医疗AI产品腾讯觅影）。腾讯睿知的开发者腾讯医疗大数据实验室负责人陈志刚表示，这款引擎的初衷，是帮助医疗机构将精确的导诊服务前置于到院挂号、就诊前，以提高医疗服务效率和患者就医体验。据介绍，腾讯睿知主要基于大数据打造的知识图谱，结合AI算法模型，实现了对疾病及病程的预判。数据上，该引擎基于构建了权威、完整、动态的医学知识图谱；技术上，它以NLP技术（自然语言处理）为核心，结合医学图像OCR能力（Optical Character Recognition，图像文字识别）、深度学习等AI算法模型构建引擎。具体的呈现形式是，患者登陆接入睿知的医院公众号，直接口述病症就可获取有关具体疾病、对应科室、合适医生的信息，最终实现“精准挂号”。目前，这种智能导诊主要应用于三种情况：第一，“知症不知病”，例如“孩子腋下有硬包是什么病，该挂哪科”；第二，“知病不知科”，例如“宝宝甲沟炎该挂哪科”；第三，“直接找医生”，输入医生姓名即可直达该医生挂号，实现快速找到医生，同时识别初诊和复诊患者，为复诊患者推荐同一医生。相较于目前市面上存在的导诊机器人，腾讯睿知直接将导诊环节前置到医院外，实现医患院外场景下的交互。腾讯睿知产品总监认为，这种交互的延伸不仅优化了患者的就医体验，也解决了很多安全隐患。“当你到医院时，医院里人多嘈杂的环境使你不会去关注内部的导诊体系，但在家或其它轻松安静的环境里，你就愿意去了解一个医生怎么样；而且还存在很多发病现象不稳定的病例，这些更需要院外导诊。”“导诊熊”的服务界面现阶段，这款医疗AI引擎已在全国20余家医院落地。它首次亮相的形象是在广州妇女儿童医疗中心运营3个多月的“导诊熊”（如上图）。反馈数据显示，它在疾病判断准确率94%，医生推荐准确率96%以上。在病种覆盖上，腾讯睿知的疾病预判能力现扩大至23个学科，3000多种疾病，主要在全科领域。日前，腾讯睿知在落地复旦大学附属肿瘤医院，正式向专科领域疾病预判迈进，并在之前推出的电子就诊卡基础上赋予医院AI能力，即通过腾讯睿知帮助该医院在其官方微信公众号上线“精准预约”服务，实现“专症找专家，专家看专病”。复旦大学附属肿瘤医院“精准预约”流程需要特别指出的是，上述“精准预约”服务可视作疑难杂症、重症、急病患者开通的专属预约通道，它以病情优先为原则，让患者与擅长对应疾病的专家精准匹配，减少资源错配，让患者能得到及时有效的治疗；而对于检查不全或病种不符的患者，降低患者的时间成本和经济成本。未来，随着接入医院的不断增加，腾讯睿知也会继续优化AI引擎和完善知识图谱，并将其拓展应用到更丰富多样的场景，譬如诊中的精准预约、诊后的精准复诊、智能随访等。\n",
      "**********************************************\n",
      "5\n",
      "36氪获悉，“印度版头条” NewsDog 今日完成了来自元资本的C+轮融资。今年5月，NewsDog 刚刚完成了腾讯领投的5000 万美金C 轮融资，丹华资本、君联资本、DotC United Group 跟投，为印度新闻类 app 最大的一笔融资。NewsDog 创立于2016年，利用算法向用户分发个性化的新闻和娱乐内容。创始人兼 CEO 陈介绍，NewsDog 目前在印度拥有六千万用户，支持十种印度方言。对产品未来的形态，陈告诉36氪：“头条是我们的灵感来源，但 NewsDog 不会简单地复制粘贴，而是会根据印度各地的内容需求不断本土化，未来可能会是一个或者多个产品形态。”用户增长方面，NewsDog 在印度推出了直播答题和分享赚钱等玩法，并在今年5月上线了区块链 token 体系，用户可以通过签到、分享、转发等获得官方 CNN token奖励。NewsDog 还推出了自媒体平台 WeMedia，允许用户产生内容并获得收益。创始人介绍，目前已有超过三万名自媒体在 WeMedia 上定期生产内容。NewsDog 创始人兼 CEO 陈毕业于清华大学，联合创始人兼 COO 马拥有普林斯顿大学博士学位。公司计划在2018年在印度主要城市增设办公室，同时扩充团队，吸引国内和印度的运营、技术人才加入。关联阅读：腾讯布局，印度版今日头条NewsDog完成腾讯领投5000万美金C轮融资“出海频道”已经在36氪app上开出来了！将为大家集中地提供出海的好内容（今年会特别聚焦东南亚）。来，跟着小动画，三步置顶出海频道，一键直达关键动态。36氪国际站KrASIA出品。\n",
      "**********************************************\n",
      "6\n",
      "本文来自 略大参考腾讯和头条的战火还在继续。这场战争的一个实质是，腾讯只能通过发展外围公司来避开反垄断的压力，通过贩卖流量实现变现，也就是说，尽管二者都在布局，腾讯被迫只能向下发展，头条本可向上发展。但从目前战争胶着状态来看，头条对于公关策略的选择，主动选择了向下，这个不是腾讯体量的“下”，而是策略的“向下”。1 在视频和二次元文化领域，腾讯最近取得了一个间接的胜利快手收购了A站。这桩交易的影响在于，阻断了头条对于A站的觊觎。至于阿里，也自动退出了交易。图：快手和A站的官博互动头条是考虑过收购A站的，根据三声报道，就在快手启动收购A站的谈判仅仅半个月后，今日头条加入到谈判中，3月中，具体流程就展开了，但三声的报道称，一向果断的张一鸣对待A站的态度相对犹豫。据略大参考了解，头条的投资部门有专门负责二次元内容的投资人，而且在当时，头条明显在二次元内容方面加快了进度2月收购二次元社区平台“半次元”、3月入股动画公司“声影动漫”，三声的报道还指，头条和奥飞围绕有妖气进行了一定接触。照理说，A站作为国内二次元文化的发源地之一，应当是一个很好的投资标的，张一鸣的犹豫只可能有一个理由：A站不够好。阿里肯定是这样认为的，所以自动放弃了A站。在此次收购之前，A站股权架构为A站最大股东蔡东青个人占股54.77%，蔡东青作为天使投资人投资过的中文在线占股13.51%，同时，阿里占股13.23%，阿里的股东软银中国占股12.98%。众所周知的是，在2018年2月，A站关停了一次，因为缺钱。这似乎并不该发生2016年11月，中文在线同意以2.5亿元的价格认购A站13.51%的股权。不过，当6月5日快手宣布全资收购A站时，作为股东之一的中文在线发公告称，截止至公告发布日，中文在线已经向A站支付投资预付款1.39亿元，由于A站未能满足中文在线投资A站的先决条件，中文在线未完全支付预订全部的投资款。也就是说，中文在线有1.11亿元没有支付给A站。A站缺钱，所以2017年年底在寻求新一轮融资，从各种消息来看，当时阿里是A站最直接的买家。36kr在2017年12月报道称，当时阿里以及阿里系的云峰基金将在A站当时的融资中实现控盘，预计增发2.5亿新股，投后股权结构为云峰+阿里占31%；而A站原来的实际控制人奥飞动漫董事长蔡东青会出让28%的股权，老股东中文在线投后占比16%。最后这篇报道落空了，阿里对于A站的控股也落空了。1月31日，A站即将停服的消息已经传遍了大大小小的圈子。2月2日上午10点半，A站主页显示无法访问，阿里云终究停止了对A站的服务。谈不拢的原因大多是因为价格，三声报道称，阿里甚至提出只愿意以5亿元以下的估值来收购蔡东青持有的股份，这和上一轮中文在线入股时的18.5亿元人民币估值相比，缩水了超过70%。阿里放弃了A站，而当时没有人愿意接手。A站的问题非常明显，众所周知的问题包括一手好牌打烂、多次易主、财务危机以及监管危机等等。阿里压价，也算是正常的财务投资逻辑。没想到快手接了A站，快手被腾讯投资，也学会了腾讯溢价收购的做法6月5日中午，中文在线发布公告，宣布以1.4亿元人民币的价格转让中文在线持有的13.51%A站股份，按照此价格计算，A站的估值为10.4亿人民币。如果按照36kr报道推测，快手给出的价格确实比阿里高出了不少。2 被腾讯收购后的快手，太需要业务的裂变因为被腾讯抛弃了。2017年3月，腾讯拿下快手D轮领投之后，曾经和快手有过一段蜜月期腾讯向快手开放了QQ关系链。在快手的某几个版本中，快手用户可以查询添加自己的QQ好友。此外，快手的内容还一度直接接入了腾讯OMG内容体系，进入了天天快报的小视频tab栏。但是，随着抖音在今年春节的快速爆发，腾讯显然对短视频赛道进行了重新评估。于是，借着打击头条，腾讯把快手一起打击了朋友圈、QQ空间封掉了快手、抖音、西瓜。同时，把流量导给了自己产品，比如天天快报的视频接口给了腾讯视频，腾讯新闻的小视频接口则导给了微视。快手可是把半条命给了腾讯。据说，快手则向腾讯承诺，不做熟人社交关系。从这个角度来说，被腾讯撇下的快手，必须要裂变出更多业务，而拥有大量二次元文化拥趸的A站正好与快手本身的业务群是错开的。这对于腾讯来说并不是什么大不了的行径，腾讯的另一个合作伙伴京东最近应该和快手有同样的烦恼腾讯在扶持拼多多，据说拼多多DAU已经超过京东，而腾讯也是京东的大股东。阿里曾经嘲笑过腾讯这种做法，在2017年12月19日的电商营销“金麦奖”论坛环节，阿里高管王帅说：“我听到过有同行说，把自己的半条命交给合作伙伴，但很大的一个前提是，你的半条命交没交给合作伙伴先不谈，但合作伙伴的整条命是都交给了你和你的入口。”图：阿里高管王帅很明确的是，腾讯是不会把半条命交给合作伙伴的。对于它来说，投资其它公司只是它的一个战略需要。潘乱在《腾讯没有梦想》里指出了腾讯战略的变化把投资作为最重要的一个战略，把创新重要性放在投资后面。也就是说，腾讯追求财务回报，而忽视创新。追求财务回报这一点是事实，但很多人看不到的是，腾讯投行化的背后，是这家公司避开反垄断压力的一个路径。腾讯估值的一个重要命门在于反垄断法及相应的拆分，一旦如此，现在估值恐怕需要砍下一半。从这个角度，投行化是他们不得不为之，用流量来发展周边行业也是他们变现的唯一途径。但腾讯又不会允许周边公司发展过于壮大，一旦如此，他们会扶持下一家公司，比如拼多多于京东，又比如腾讯自己的微视于快手。腾讯的反垄断压力从2010年的3Q大战开始就非常明显，360当时扣给腾讯的帽子就是垄断，从那之后，腾讯策略上做了重大改变，做开放平台。少有人看得清楚腾讯面临的这种监管压力。王帅在那次演讲中说，“很多推杯交盏满面红光的联合起来反垄断，这何尝不是战略上的懒惰和不思进取以及战术上的路径依赖和焦灼冲动。”王帅暗讽的是当时乌镇饭局之事，刘强东、王兴等人坐在马化腾身边，也暗讽了流量上的现实当腾讯不得不把外围公司作为它流量的变现路径时，这些外围公司错把腾讯当作依赖。图：乌镇饭局的合影3 腾讯不得不投行化的另一层含义是，腾讯流量直接变现的能力正在减弱，因而只能向下导流，把流量贩卖给其它人。在QQ时代，腾讯几乎没有贩卖过流量，因为它自己能够把流量直接变现。但是在微信这个超级产品上，腾讯找不到太多直接变现的道路，于是，做流量分发，为外围公司导流，再向他们贩卖流量，就成了新路径。腾讯最近对头条系产品的封杀，也从某种程度上暴露了这个社交巨头的恐惧抖音和快手迅速成长，成长速度超过微信当年，而它还没有摸清楚其中门道。封杀是否有用呢？可以用腾讯死敌360的一个例子来做说明。2012年，360在其PC网址导航的默认搜索中，强行把默认选项从百度切成自有搜索，这场大突袭让百度内部一时恐慌，采取了不少联盟渠道来补量。但是360很快发现，相当比例的用户还是会手动把默认搜索改成百度，再开始搜索。这场改变实际造成的影响，比原先预计的要小很多。而时至今日，在中文搜索领域，百度的地位依然无人能撼。这个事情放到今日的腾讯和头条之争也是如此。腾讯对头条的封杀，自然也会激起头条的战略调整降低对腾讯流量的依赖，以及发展新的流量渠道。封杀也不是说没有用对于羸弱的对手而言，封杀会有用，证明用户对于产品的粘性是脆弱的。但张一鸣显然不是这样的对手。从这个角度而言，无论是面临反垄断压力而不得不变现、布局，或者是因为能力受限而不得不扶持外围公司，继而向他们贩卖流量，腾讯的方向是确定的向下向外发展。而头条，此时趋势上还是向上的。和腾讯比起来，头条体量还小，但绝不孱弱。这也决定了，腾讯和头条的战争还会继续胶着。但让人失望的是，头条在公关人选和公关策略的选择上了，从了向下。很多人把这场“头腾”大战和早几年的“3Q大战”相提并论。3Q大战是PC互联网时代格局确立的最后一战，是新来者和流量寡头之间爆发的流量争夺战。那场战争后，BAT成为中国互联网的三极。今天的“头腾大战”则是移动互联时代“3Q大战”的翻版，同样也是新来者和流量寡头之的流量争夺战。这场战争一旦结束，移动互联网的版图或许也就基本确立了。令人唏嘘的是，PC互联网“流量寡头”时代的到来用了30年。而移动互联网“流量寡头”时代的到来，只用了十年不到。\n",
      "**********************************************\n",
      "7\n",
      "大公司 灿星再获3.6亿融资，阿里、腾讯音乐入股36氪讯，根据证监会上海监管局的官方消息，正在IPO途中的灿星完成新一轮融资，投资方为杭州阿里巴巴创业投资管理有限公司和西藏齐鸣音乐有限公司，两者分别投入资金2亿元、1.6亿元，获得灿星1.17%和0.94%的股权。特斯拉探索在欧洲建造大型工厂据《华尔街日报》报道，特斯拉公司正在加快海外扩张的步伐，计划在欧洲建造第一家大型工厂，目前正与德国和荷兰政府相关部门展开谈判。据参与谈判的官员称， 谈判仍处于早期阶段，不能保证将来会达成协议。（华尔街见闻）法拉第未来宣布完成FF 91白车身，12月向客户交付整车据CNET北京时间7月31日报道，最近有关法拉第未来的消息不多，原因可能是该公司一直在忙于生产首款量产车型FF 91。法拉第未来今天宣布，它已经完成首辆FF 91白车身目前位于它在加利福尼亚州汉福德的新组装工厂。白车身指完成焊接但尚未涂装的车身，尚未安装车门和动力系统等。（凤凰科技）ST长生：公司及全部子公司名下34个银行账户全部被冻结36氪讯，ST长生今日晚间发布三份公告称，截至本公告披露日，公司及全部子公司名下34个银行账户全部被冻结；暂停实施募集资金投资项目及子公司产业园项目；董事长及部分高管因被逮捕无法正常履职。B站：APP下架整顿时间从7月26日持续到8月25日36氪讯，7月30日，B站发布公告称，APP下架整顿时间从7月26日持续到8月25日，临时下架不会对现有用户造成影响。Uber放弃自动驾驶卡车计划据英国《金融时报》报道，网约车巨头Uber宣布关闭无人驾驶卡车计划，这是该公司2年前斥资数亿美元收购无人驾驶卡车初创企业奥托(Otto)后成立的新部门，但因商业窃密案而饱受争议。Uber表示，该公司旗下高级技术集团将停止开发无人驾驶卡车，而是将重点放在无人驾驶汽车上。（腾讯）诺基亚赢得T-Mobile 35亿美元合同，成全球最大5G合约T-Mobile US和诺基亚近日达成了一项价值35亿美元的5G设备供应协议，成为到目前为止全球最大规模的5G交易。根据协议，诺基亚将向T-Mobile US供应价值35亿美元的5G网络设备。T-Mobile US表示，这笔多年供货协议将允许该公司推出第一个全国性5G服务。（新浪）苹果向印度政府提出替代方案，避免iPhone被退网印度媒体《Business Standard》今日援引印度政府官员的消息称，苹果公司与印度电信监管部门之间的对峙局面即将结束。报道称，苹果与印度电信监管局之间的对峙僵局可能很快被打破，因为苹果在手机安装防骚扰软件问题上将给出一个替代方案。该政府人士称，苹果已经通知印度电信监管局，iOS 12将允许开发者开发符合印度电信监管局规定的防骚扰软件。（新浪）苏宁易购：上半年净利接近60亿元36氪讯，苏宁易购发布公告显示，2018 年 1-6 月公司实现营业收入 1,107.86 亿元，同比增长 32.29%；实现净利润59.97亿元，同比增长1957.38%。基本每股收益0.65元。若不考虑出售阿里巴巴股份出售带来的利润影响，公司净利约为3.96亿元，同比增长35.85%。分众传媒：上半年净利33.47亿元 同比增32.14%36氪讯，分众传媒30日晚公告，2018 年上半年，公司实现营业收入 71.10 亿元，同比增长 26.04%；实现营 业利润 40.64 亿元，同比增长 31.61%；归属于上市公司股东的净利润 33.47 亿元， 同比增长 32.14%。公司基本每股收益为 0.23 元，同比增长 35.29%。乐天百货回应“撤出中国内地”：有商讨对策，尚无具体方案7月30日，韩国《朝 鲜日报》消息称，继今年5月出售其在华超市业务后，乐天集团旗下高端百货连锁乐天百货计划出售其在中国内地的门店。对此，乐天中国公关负责人回应称，“在中国的零售市场因为网购等新业态的冲击，市场竞争激烈，我们有商讨相应的对策。但目前还没有确认任何具体的方案。”（澎湃）传棠宝机器人陷倒闭风波，创始人王明高负债出逃据自媒体“智东西”报道，近日，从棠宝离职员工、友商、以及其他产业人士处获悉，服务机器人企业上海棠宝机器人有限公司，由于资金链断裂被迫倒闭，员工的工资也无力支付一度拖欠。其操盘手王明高也已自证于6月出逃美国，不再回国。据悉，棠宝机器人是第一个得到“中国机器人认证(CR)”标志的机器人产品，证书编号为“001”。（智东西）投融资 完成1.675亿元A轮融资，「Pico」将推新一代VR一体机Pico小怪兽236氪获悉，近日，VR头显厂商Pico（北京小鸟看看科技）完成1.675亿元人民币A轮融资，本轮融资由广发乾和与广发信德领投，青岛巨峰科创等跟投共同完成。据悉，这也是Pico在2015年成立以来的首次公开融资。睿智科技获投Pre-A轮1亿人民币融资睿智科技获投Pre-A轮1亿人民币融资。本轮融资资本方分别为华盖资本，品友互动，三泰控股，未名博雅投资。（亿邦动力网）方体语文获投天使轮1000万人民币融资方体语文获投天使轮1000万人民币融资。本轮融资资本方为国金投资。据公开信息显示，该投资方在教育领域也投资了神奇科学堂等。（亿邦动力网）酷产品 麦当劳发行MacCoin代币，或与“巨无霸指数”挂钩美国快餐巨头麦当劳已经宣布从本周四（8月2日）开始，将在全球50多个国家36,000多家餐厅内发行620万MacCoin代币，其中就包括全美各地的14,000多家麦当劳餐厅，顾客只要购买巨无霸汉堡就可以获得一个代币MacCoin。消费者拿到这个代币可以免费兑换另一个巨无霸汉堡。（星球日报Odaily）日本风险企业将在泰国生产浮于水中的电动汽车共同社报道，以独家技术研发能浮于水中的小型电动汽车的日本风险企业“FOMM”（川崎市）力争从12月前后开始在泰国实施生产。鉴于已有许多日本汽车厂商进驻，且在日本研发的电动汽车较易实现本地化生产，所以决定进军泰国市场。公司希望在2011年遭遇重大洪灾的泰国挖掘市场需求。（新浪财经）区块链 高盛：预计加密货币价格将进一步下跌比特币连续几周赢得上涨，有望巩固近期的势头。不过，周一晚间，比特币一度跌破8000美元关口，其他主要加密货币也受到冲击。高盛的一名分析师指出，比特币和其他数字货币近期的好转将是短暂的。鉴于我们认为这些加密货币不具备一种货币的三个传统角色，即它们既不是一种交换媒介，也不是一种计量单位，且不是一种价值存储手段，我们预计未来会出现进一步下跌。(新浪财经)IBM面向金融机构推出区块链平台，巴克莱与花旗银行参与测试据国外媒体报道，IBM已经与外汇市场基础设施公司CLS合作，创建了一个名叫Ledger Connect的平台，这是为金融服务机构专门设计的概念平台，它的目标是将区块链技术应用于多种金融领域。目前为止，包括巴克莱银行和花旗银行在内的9家金融服务机构都参与了这一概念平台的验证和测试。（腾讯）美国特拉华州确定区块链记录法律地位本周早些时候，美国特拉华州州长约翰卡尼签署了三项法案，这些法案对该州的公司法和信托法进行了修改，以更好地适用于区块链领域。 简单来说，这三部法律都明确规定区块链可作为法律依据。这项技术在此之前并不是非法的，不能保证法庭会视区块链上创建和/或存储的记录具有法律约束力。而这次，这些法律的修改消除了这种不确定性。（cnBeta）\n",
      "**********************************************\n",
      "8\n",
      "编者按：本文来自微信公众号“游戏葡萄”（ID：youxiputao），作者依光流。36氪经授权转载。每年，各大公司的新动作牵动着行业的方方面面，而其中，腾讯互娱的年度发布会则是产生重要行业影响的一个。与以往不同，今年腾讯将整个发布会升级为“新文创生态大会”，会议的长度也增加到了两天。看起来，腾讯又在酝酿一出大招了。游戏一直是腾讯泛娱乐矩阵最重要的内容板块之一，在连续经历多个高增速的季度后，整个游戏市场的增速正在放缓，这背后也代表着游戏厂商的运作思路、市场资源、人才团队，正在不断的求变趋势，然而在快速的竞争之下，可以被国内商业游戏借鉴的套路、模型、玩法，已经越来越少。从主流到细分的品类，几乎都步入了红海竞争阶段，玩法固化之后，又到了拼全套资源的时代，所有从业者都要面对一个严峻的问题，这个市场还有多少牌可以打？对于这一点，腾讯游戏更需要考虑。腾讯不可避免地牵动着行业走势回顾游戏市场过去十多年发展史，腾讯可以说是当中最特殊的一大玩家，在它每一次拿出新的战略之后，基于背后庞大的用户群体，整个业态都为之产生不小的变化。2007年腾讯开始走自研的方向，前后拿出《QQ飞车》《QQ炫舞》等产品，从当时的代理端游热潮中杀出一条路。几款产品之后，端游市场的竞争格局尘埃落定，从百家争鸣的大厂对峙之势，变为市场逐渐向腾讯倾斜的格局。腾讯也走上了自研系游戏的辉煌时代，至今这些产品仍然在手游时代给腾讯带来丰厚的回报。在这之后的第三年，腾讯又提出了精细化运营的思路，将端游市场竞争从产品迭代的竞争，引导向大DAU运营的资源比拼时代。《英雄联盟》《穿越火线》《地下城与勇士》这几款代表产品，几乎贯穿了一代年轻用户的游戏历程，相关配套的市场投入，也让这些产品的生命周期越拉越长，即便在端游市场整体下滑的如今，依然占据市场头部。到了2013年，并不算最早入局手游市场的腾讯，却拿出了任何厂商无法比拟的渗透速度，开始掌握这一领域的机遇。最早期有微信小游戏《飞机大战》，休闲手游时代有《天天爱消除》《天天酷跑》，中重度手游时代又拿出《热血传奇手机版》《拳皇98OL》《火影忍者》手游，RPG年则连续推出多款端游IP改编的产品。手游几番迭代后，腾讯又在多条业务线之上，将大DAU竞技类重头产品《王者荣耀》《穿越火线手游》《QQ飞车手游》，以及两款《绝地求生》正版手游，在不同阶段打入市场，一步步稳稳拿下头部市场。每每腾讯推出产品冲击榜单，业内必定掀起一波讨论的热潮。因为这背后牵动的市场变化太多，比如吃鸡手游早期疯狂的市场态势，仅在一个月内就几乎被《绝地求生：刺激战场》和《绝地求生：全军出击》尽收囊中；这也有可能是衍生出来的行业机遇，比如谁都没有想到《王者荣耀》火热，还能衍生出迅速蹿红的实体卡等线下投机商品。如今，腾讯的体量已经到了牵一发动全身的地步，再考虑到今年的“新文创”生态大会明显与以往有很大的不同，它的下一步可能将给行业带来更大的变革。下一个大招会出现在什么领域？简单回顾一下腾讯游戏以往的几大战略，从泛娱乐出发，至今已走过了精品产业链、精品2.0、精品3.0几条路。这些策略让腾讯游戏的市场基础越来越稳固，实现了广泛布局、整合市场投入、深入运作产品、提前预判市场走势等几大作用。这其中最关键的三个部分是：方法论的沉淀、市场的前瞻性判断，以及多领域的探索。腾讯的方法论已不用葡萄君多说，基于大用户量和真正深入的用户研究，凭借这个理论腾讯已经调优了诸多重量级产品，包括如今的国民级手游《王者荣耀》。自精品2.0战略提出以后，这套方法论已经越来越坚实，并且运用到了后来的所有核心产品中，比如现在随处可见的符文天赋、成就奖励系统。在判断市场走势的方面，腾讯的嗅觉也非常敏锐。国内游戏市场用户的成长，很大程度依赖于基础的社交平台，微信和QQ在这个过程中扮演的角色至关重要。从《飞机大战》开始，手游历经一代休闲、二代休闲、中度卡牌、重度RPG、MMO移植、竞技等多个时代，腾讯总是能在最合适的时机切入市场，最后占据该领域的头部市场。一来他们敢于压一些甚至是红海的领域，二来他们有足够的资源和执行力去将整个领域推起来。最后是腾讯在多个领域的探索。过去一年，除了主流产品的冲击，腾讯还在很多有潜力的领域下足了功夫。首先是H5游戏和小游戏，前者与手Q玩一玩紧密关联，后者与微信小程序绑定，诞生了《跳一跳》等现象级爆款。其次是专注细分创新品类的极光计划，去年引进了《纪念碑谷2》等海外名作，最近也给国内《蜡烛人》等优秀佳作提供了更好的宣发途径。最后是专注PC精品的WeGame平台，从上线以来WeGame正在慢慢积累其中的产品内容，耐住性子等待质变的节点。从上述这几个方面来看，葡萄君大胆预测下腾讯游戏下一步要走的路。一方面是原有战略的迭代。从手游精品战略来看，IP改编热潮依然会持续，这些产品的质量也会继续往上提，之前还憋在手里的产品在今年也有可能陆续上线，比如前几次大会上就提到的《泡泡堂》《魔力宝贝》等产品。结合腾讯互娱泛娱乐大战略来说，IP价值的多元化运作也会更加深入，或许今年会看到腾讯拿出一些原创题材的产品。再结合大会官网的宣传内容，或许近期传言的代理产品《堡垒之夜》端游等竞技类产品，会有新的动作，而且来势不小。另一方面是对新兴领域的继续挖掘。比如此前腾讯未能涉足的细分领域，二次元、女性向，很可能在今年会有新的动作。而大厂优势是资源整合式运作，以及更有针对性的用户运作，此前小众领域惯用的一些营销手法、产品运作思路，有可能会被结合到其中。此外更重要的是小游戏、功能游戏等近一段时间才提上日程的热点方向。其中，小游戏市场因为腾讯的推动，在短时间内已经迎来了巨大的变革。刚开始是《跳一跳》引起了整个微信用户圈层的深入，并引起了外界的强烈关注，这款产品的DAU迅速突破1亿，近期还开始举办起了线下电竞赛事。然后，在H5领域蓄势多年的从业者大批量入局，开发基层对小游戏的重视程度已经非常高了。接下来，腾讯连续对小游戏导量、变现、分成等多次政策的公布，都牵动着微信庞大用户群潜在的市场机会。在近期，腾讯第一批小游戏也上线了，首批21款小游戏大多为腾讯第一方产品，而后每天都有新的第三方产品上线，充实整个市场。4个月以来，小游戏领域从第一个爆款到商业模型落地的过程中，能看出腾讯对这一市场的重视。而且除了微信，QQ也上线了小游戏相关功能“玩一玩”，而其近期推出的双人PK模式，同时在线人数高达2000万，潜力同样巨大。或许在这次发布会中，腾讯会进一步规划小游戏接下来的市场方向。不论如何，腾讯每一次战略都会给自己提升一个台阶，这个台阶的高度要求这家公司必须走在市场前列，自然而然，背后必定会牵扯出一大批的资源运作，掀动整个行业。比商业化更高的竞争壁垒，或许才是腾讯的杀手锏其实除了产品层面的大动作，葡萄君还很在意一点：在过去几年，腾讯以“泛娱乐”这个概念贯穿数年的公司战略，积累了诸多市场成果，为什么在这个节点，要将这次会议冠以“新文创生态大会”的概念？要知道，国内所有文创产业所面临的鸡生蛋蛋生鸡问题，可不是简简单单几句话能够捋清楚的。说到底，“泛娱乐”的出发点是以发挥IP价值为最终的目的，而游戏业的文创，是需要借助游戏强互动、强代入感、强趣味性的特点，来构建具备文化特性的作品。要塑造出具备文化特性的作品并不是一件容易的事，需要投入更多的耐心，更细致的用心。好在过去一年，腾讯已经有一部分产品在尝试这个方向，比如《王者荣耀》历史课这一衍生内容，以及此前公布出来的功能游戏《榫卯》等。值得一提的是，这些功能游戏在今年就会陆续上线，从它们的身影中，可以看出腾讯正在提高对功能游戏在文化性、技术性、教育性等多方面可扩展空间的思考。腾讯还宣布与乐高进行合作，将把功能游戏应用于亲子互动游戏中，让寓教于乐这个概念落地。同时也宣布将功能游戏运用到“前沿探索的研发合作中”，并透露在半年前腾讯云就与美国华盛顿大学游戏科学中心展开了合作。如果将这些内容都算作文创的一个环节，那么功能游戏这一领域也很有可能成为腾讯的下一步重点布局对象。回过头来看国内文创类产业，在创意缺乏、商业导向为主流的市场大环境中，走文创这条路是颇为艰难的，对于腾讯这样体量的大厂而言，要做这样的尝试也不是一件更容易的事情。不过就今年腾讯已经公布的大会信息而言，不难看出他对这条路的重视：与以往最大的不同，是专门设置一个整天，针对文学、动漫、影视、游戏几大领域，邀请国际上知名的文创人士来进行现场干货分享。简言之，UP2018从一场品牌发布会，变成了引领行业趋势的峰会。腾讯此前的“泛娱乐”战略强调IP的粉丝经济，而“新文创”则把IP的文化价值作为主题，这是一次理念上的升级。就像马化腾在谈及腾讯游戏收入占比降至50%以下时透露出的信号，在关注腾讯游戏的产业能力以外，更强调其带来的文化价值、社会价值。这一转变对腾讯而言可能是自然而然的一步。泛娱乐战略已经落地，腾讯也成为世界第一大市场规模的游戏厂商，从去年提出“科技+文化”的方向后，他们已经开始把精力投向收入之外的领域。而对于还在追赶腾讯的厂商而言，无可避免还需要奔着“第一”而去，两者本质目的上的区别，就足以带来市场表现上的巨大落差。关于腾讯“新文创”落地会花上多少年，做出多大的成果，葡萄君不敢妄下论断。只不过可以作为参考的是，在提出泛娱乐以后，腾讯的变化整个行业都历历在目，至少他们在每年战略的执行力度上，整个公司上上下下都没有含糊过。\n",
      "**********************************************\n",
      "9\n",
      "编者按：本文来自公众号犀利财经（ID：xili-caijing），36氪经授权转载。若给广东的生意人贴标签，无外乎四个字“低调务实”。无论是腾讯、华为、唯品会、碧桂园、OPPO、vivo都是这样的风格。不过，近期，腾讯一反“低调”常态，开启了高速运转的“买买买”模式，不断“扫货”，甩出数百亿元，却像蜻蜓点水一般，从唯品会、每日优鲜、家乐福中国、万达商业，到永辉超市、步步高、海澜之家……腾讯拿起画笔，正在勾勒它的商业“浮世绘”版图。浮世绘样本“头部效应聚集很明显，无人货架的发展速度可能会比ofo和摩拜刚起来时要更快。”2017年12月中旬，每日优鲜创始人兼CEO徐正重新修正了2018年的目标：每日优鲜便利购原计划2018年铺设20万个点位，但现在要提高到30万个，覆盖全国50个城市，拿下30%的市场份额是底线。这也是每日优鲜便利购CEO李漾的新KPI指标。腾讯的这个浮世绘样本正在快速勾勒。如何更快？回想2017年共享单车领域摩拜和ofo的发展，两件事加速了头部效应的聚集，一是融资、不断的融资，二是借助巨头的平台体系快速裂变。比如，摩拜全面入驻微信小程序之后，月活跃用户环比增长了200%，每日注册用户超过50%来自小程序，这已经是一个浮世绘式的样本。李漾很清楚每日优鲜便利购的“生穴”和“死穴”。死穴是拓展速度，如果在点位拓展上被对手拉开几倍距离没有办法追上，这会让你死，所以我们在组建地推铁军。生穴是让你活得更好，说明你能够在市场上留多长时间。我们会花很多时间做好用户体验、品类建设、冷链交付、多分区的设备，提供更细致的客户服务。这一系列是组合拳，相当于一部分人在打江山，另一部分人是在守江山，守江山如果守得好也会以客带客。“新一轮融资已经启动了，需要快速拓展市场，也需要更多人给我们支持。”李漾说。而每日优鲜便利购的上一轮融资，刚刚发生在2017年12月29日，那一波A+B轮融资，每日优鲜便利购获得2亿美金，腾讯、鼎晖分别领投A、B轮，元生资本、时代资本、KTB、北极光创投、启明创投、君联资本、微光创投、Mindworks Ventures、光源资本等纷纷参与。当时，腾讯投资部董事总经理李朝晖说：“随着零售终端颗粒度的变小，近场零售成为当下整个零售行业的新趋势，而办公室无人货架又是近场零售的最佳切入点。无人货架竞争的核心在于供应链，每日优鲜便利购是当下这个赛道中具备成熟自有供应链系统，能够提供丰富品类、稳定品质商品的实力玩家。”每日优鲜便利购成为腾讯把触角伸到线下的神经之一。紧接着，刚刚，每日优鲜便利购宣布与微信支付签订合作协议，成为腾讯在智慧无人零售领域的首个合作企业，这不禁让人想起摩拜接入微信小程序的那个场景。从每日优鲜的“1个小时送货上门”，到每日优鲜便利购的“货架就在你身边”，徐正构建了一种类似“滴滴＋摩拜”式的线下商业网络，一个关于时间和空间的网络。近日，徐正在腾讯做过一次内部分享，他说：零售长期发展的一个必然趋势是近场化。最早从集市、超市，再到便利店、再到无人货架，其实离用户越来越近、越来越方便。……无人零售可以做出一个完全不一样的零售业态，所有的建筑物都应该把零售作为一个底层设施嵌入进去。随着2018年构建的时空网络越来越密集，获得腾讯多轮投资的每日优鲜＋每日优鲜便利购，正成为腾讯布局线下的一个新样本。流量“颜料”对腾讯而言，每日优鲜是一幅浮世绘，未来永辉超市、步步高、海澜之家也将是。在腾讯的笔下，他们会被绘成怎样的画面？现在可能没人知道，或许腾讯自己也并不清楚，灵感总会不经意间闪现。不过，对于突然的“高调”、应接不暇的大手笔投入，外界都在猜测，腾讯为何买？买来何用？还会买吗？一个确定的事情是，微信坐拥9亿用户，这数亿的流量，让腾讯能为世界提供最丰富的颜料，如何利用好它，需要一个个浮世绘样本来实现。“如果仅仅把腾讯看作一个流量机器未免太狭隘。”微信支付联合产品部总经理耿志军说，流量至少分为三种：最优质的自有流量因朋友圈传播产生的社交流量购买流量 耿志军说，腾讯要在流量场景支持、数据分析、消息传递和门店改造等方面为零售企业赋能，而且要把这些能力有针对性地提供给超市、便利店、百货等不同业态。对腾讯而言，当下丰富的颜料还只是一时的样子，最有趣的是 ，当它画出来，和超市、便利店、百货不同业态结合时，可能会发生意想不到的化学反应，而且每幅画都会不同，就像每个小孩生来就不同那样。比如每日优鲜便利购，从每日优鲜分拆出来，半年多以来，在全国30个城市铺设3万多点位，覆盖水果、零食、冷饮、热饮、餐食等多个品类商品，日均单点销售额200元，是普通货架的2-3倍。接下来，如何通过利用好微信的颜料，让自己发生更多裂变，让色彩变得更加丰富，这是每日优鲜便利购要思考的问题，同时也是腾讯要考虑的问题。“互联网下半场，全链条深度的数字化能力，是一家公司建造长远壁垒的关键。”腾讯投资管理合伙人林海峰说。而这个，正是每日优鲜便利购等企业要构建的发展路径和护城河。当整个世界的颗粒度都在不断变小，腾讯必须把颜料调得更加细腻、更有创意，画就的浮世绘，有的浓妆重墨，有的风轻云淡，有的清奇秀丽……这些都需要绣花般的精细功夫，这是最大的挑战，但也是最有趣的地方。两个画风 近日谈及投资逻辑，腾讯总裁刘炽平说，腾讯投资的灵魂就在于人和创意。人和创意的精妙，在于它的独一无二，就像一幅幅的浮世绘艺术创作，每个成功都是不可复制的。当年星巴克CEO舒尔茨，能在最初三个文艺青年创始人散伙之后，顺利接管星巴克，并把星巴克发展成一个帝国，一个很重要的原因是，在星巴克最艰难的时刻，在美国股市低迷、经济不景气、其他公司都在裁员的时候，舒尔茨给员工加薪、给兼职员工上社保，之后还提出了全员期权，“把人的价值发掘到无与伦比的地步”，星冰乐是员工的创意、音乐CD创新也是员工的创意。在布局线下的这场“画图”竞赛中，巨头呈现出不同的画风。阿里巴巴的画风更重，它主导了一幅画的模样；腾讯的画风相对清淡，怎么画，画成什么样子，需要每日优鲜便利购、永辉超市、海澜之家等等小伙伴的主动创造。腾讯总裁刘炽平谈及未来时说，线下有很多宝藏，“微信小程序是很好的载体，可以将场景力量通过微信发挥出来。”中国商业正在经历一个转型期，但也是互联网企业的新一波机遇，就像十五年前的电商、十年前的移动社交。“零售业态的变迁是一个漫长的变迁。可能是等了几十年，等到一代人变化出现了，才有现在这样的机会。”徐正说。这个变迁一旦来了，就更快、更猛，而且中国互联网也正经历最好的时光，手握大把钞票、用户、数据，这些都让商业有了脱胎换骨的可能。没有人知道，哪种画风更好，也许多年以后，我们会感谢因为有了不同的画风，这个世界变得更加精彩。（浮世绘图片多来自日本画魂 葛饰北斋）\n",
      "**********************************************\n"
     ]
    }
   ],
   "source": [
    "count = 0\n",
    "for i in result:\n",
    "    print(count)\n",
    "    print(i)\n",
    "    print(\"**********************************************\")\n",
    "    count += 1"
   ]
  },
  {
   "cell_type": "markdown",
   "metadata": {},
   "source": [
    "#### 数据处理，模型预测"
   ]
  },
  {
   "cell_type": "code",
   "execution_count": 209,
   "metadata": {},
   "outputs": [],
   "source": [
    "# 分词，去掉词性是非n开头的词，去除停用词,中英文特殊符号\n",
    "token_texts_test = []\n",
    "import jieba.posseg as psg\n",
    "for line in result:\n",
    "    word = [word for word, flag in psg.cut(line) if flag.startswith('n')]\n",
    "    token_texts_test.append(\" \".join(word))\n",
    "\n",
    "\n",
    "# 加载中文特殊符号\n",
    "import zhon.hanzi\n",
    "chi_char = zhon.hanzi.punctuation\n",
    "# 加载英文特殊符号\n",
    "import string\n",
    "eng_char = string.punctuation\n",
    "# 加载停用词\n",
    "with open(\"./stop_words.utf8\", \"r\", encoding=\"utf-8\") as stop_word:\n",
    "    stop_words = stop_word.readlines()\n",
    "    filtered_token_texts_test = []\n",
    "    for token_text in token_texts_test:\n",
    "        filtered_token_text = [token for token in token_text \n",
    "                               if token not in stop_words and token not in chi_char and token not in eng_char]\n",
    "        filtered_token_texts_test.append(\"\".join(filtered_token_text))"
   ]
  },
  {
   "cell_type": "code",
   "execution_count": 210,
   "metadata": {},
   "outputs": [
    {
     "data": {
      "text/plain": [
       "'编者按 阿尔法 工厂 作者 宝贝 36氪 经 小米 港股 重磅 事件 腾讯音乐 上市 腾讯音乐 招股书 机构 腾讯音乐 估值 小米 物种 腾讯音乐 市场 标的 上市公司 全球 音乐 平台 音乐 流媒体 公司 Spotify SP 估值 Spotify 产生 投资人 腾讯音乐 美国市场 上市 标 Spotify 定价 Spotify 指标 公司 开路 投资者 腾讯音乐 商业模式 腾讯音乐 说明书 亮相 Spotify 公司 前者 IP 前景 性 商业模式 盈利 Spotify 瑞典 斯德哥尔摩 上线 纽交所 IP 市值 全球 流媒体 音乐 服务平台 腾讯音乐 Spotify 双方 换股 战略 Spotify 腾讯音乐 股权 流媒体 运营商 Spotify 版本 Spotify 免费版 用户 流媒体 音乐 基本 版本 用户 离线 音乐 体验 策略 Spotify 途径 版本 广告 用户群 模式 用户 Spotify 用户群 用户群 用户 欧元 欧元 部分 营收 增长速度 时期 公司 广告业务 状态 方 小幅 盈利 广告 细分 市场 利润 整体 毛利率 Spotify 资源 效率 规模 经济 方式 话 明确指出 Spotify 一家 整体 公司 公司 总营 欧元 汇率 负面影响 汇率 Spotify 公司总部 瑞典 斯德哥尔摩 欧元 报告 走势 欧元 有所 偏差 公司 欧洲 汇率 汇率 重点 Spotify 商业模式 投资者 用户 利润 Spotify 用户 数字 公司 用户数量 Spotify 竞争对手 苹果 音乐 后者 Spotify 一半 用户数量 状态 Spotify 利润率 去年同期 利润率 能力 Spotify 投资者 Spotify 费用 费用 Spotify 国家 数字 实践证明 公司 国家 立足点 领域 利润率 迹象 Spotify 盈利 流媒体 音乐 领域 头羊 护城河 流媒体 音乐 领域 Spotify 领头羊 证据 证明 公司 护城河 事实 可持续性 高回报 股东 苹果 亚马逊 音乐 流媒体 业务 用户群 谷歌 音乐 YouTube 广告 谷歌 YouTube 音乐 Spotify 模式 版本 广告 功能 版本 版本 广告 独家 功能 Spotify 广告 部分 用户 活 用户 速度 活 用户 营收 营收 方面 数据 明白 终端 音乐 消费者 花大 价钱 音乐 Spotify 现实 腾讯音乐 心 戚戚焉 音乐 成本 毛利率 沃尔玛 成本 方面 Spotify 遇到 Spotify 成本 特许权 使用费 欧美音乐 市场 唱片 公司 寡头 局面 公司 环球 索尼 华纳 音乐 代表 品牌 代理商 梅林 唱片 公司 Spotify 歌曲 音乐 业务 寡头 性质 唱片 公司 Spotify 议价 权 品牌 最惠国 条款 无法 品牌 条款 本质 Spotify 唱片 公司 进行谈判 Spotify 价值链 地位 供应商 唱片 公司 专业 音乐 人 消费者 行业 价值链 制约 Spotify 毛利率 公司 毛利率 远高于 产生 盈利 一家 明星 科技 公司 毛利率 人 胃口 基本 传统 实体 毛利率 持平 沃尔玛 毛利率 Facebook 毛利率 谷歌 母公司 毛利率 Spotify 唱片 商 得到 条款 毛利率 先例 Spotify 设法 唱片 公司 协商 条款 毛利率 唱片 公司 Spotify 股权 Spotify 上市 隘口 股东 动力 公司 上市 债券 条款 股权 条款 时 唱片 公司 基本 措施 Spotify 条款 用户 内容 内容 成本 投资者 Spotify Netflix Netflix 历史 股票 股价 Netflix 速度 用户 净收入 利润 公司 公司 订阅费 内容 Netflix 视频流 媒体 公司 内容 然后 Spotify 音乐 流媒体 公司 唱片 公司 音乐 版权 费用 Spotify 用户 内容 内容 成本 规模 经济 可能性 Spotify 无法 唱片 公司 价格 Netflix 客户 情况 价格 Spotify 策略 Spotify Netflix 原创 内容 Spotify Spotify Netflix 定价 能力 费率 苹果 谷歌 亚马逊 地位 Spotify 公司 价格 Spotify Spotify 压力 方式 唱片 公司 音乐 人 版权 Spotify 音乐 许可权 专业 音乐 人 音乐 许可 许可 交易 唱片 公司 中间人 增加利润 方式 过程 起步 阶段 Spotify 毛利率 许可 模式 过程 Spotify 寡头 唱片 公司 关系 唱片 公司 音乐 Spotify 竞争力 Spotify 优势 市场 Spotify 竞争对手 优势 苹果 音乐 Spotify 科技 巨头 人 专业 音乐 人 印象 年轻人 大 缺点 Spotify 母公司 市场 投资者 Spotify 条件 产生 盈利 投资者 Spotify 流媒体 音乐 社交 属性 力气 社交 功能 用户 播放列表 列表 用户 音乐 品味 朋友 联系 Spotify 歌曲 播放列表 音乐会 朋友 信息 中弹 交流 音乐 模式 流媒体 音乐 公司 范围 想象 空间 扩展性 Spotify 科技 公司 处 市场 美国 唱片业 协会 数据 美国 音乐 销售额 流媒体 音乐 销售额 唱片业 销售额 Spotify 能力 用户群 毛利率 产生 物质 现金流 问题 风险 投资者 现实 Spotify 供应商 关系 供应商 价值 机会 股 新 成员 估值 Spotify 企业 价值 Netflix Spotify 音乐 行业 大 背景 交易 模式 模式 Spotify 行业 大势 Spotify 空间 Spotify 深度 腾讯音乐 IP 前景 观点 表达 文后'"
      ]
     },
     "execution_count": 210,
     "metadata": {},
     "output_type": "execute_result"
    }
   ],
   "source": [
    "filtered_token_texts_test[0]"
   ]
  },
  {
   "cell_type": "code",
   "execution_count": 211,
   "metadata": {},
   "outputs": [],
   "source": [
    "test_features = vectorizer.transform(filtered_token_texts_test)"
   ]
  },
  {
   "cell_type": "code",
   "execution_count": 212,
   "metadata": {},
   "outputs": [
    {
     "name": "stdout",
     "output_type": "stream",
     "text": [
      "['1' '1' '1' '1' '1' '1' '1' '1' '1' '0']\n"
     ]
    }
   ],
   "source": [
    "from sklearn.svm import LinearSVC\n",
    "from sklearn.metrics import classification_report\n",
    "svm = LinearSVC()\n",
    "svm.fit(train_features, train_y)\n",
    "y_prediction = svm.predict(test_features)\n",
    "print(y_prediction)"
   ]
  },
  {
   "cell_type": "code",
   "execution_count": null,
   "metadata": {},
   "outputs": [],
   "source": []
  }
 ],
 "metadata": {
  "kernelspec": {
   "display_name": "Python 3",
   "language": "python",
   "name": "python3"
  },
  "language_info": {
   "codemirror_mode": {
    "name": "ipython",
    "version": 3
   },
   "file_extension": ".py",
   "mimetype": "text/x-python",
   "name": "python",
   "nbconvert_exporter": "python",
   "pygments_lexer": "ipython3",
   "version": "3.6.5"
  }
 },
 "nbformat": 4,
 "nbformat_minor": 2
}
