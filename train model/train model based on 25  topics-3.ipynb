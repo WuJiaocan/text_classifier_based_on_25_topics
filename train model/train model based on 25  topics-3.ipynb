{
 "cells": [
  {
   "cell_type": "code",
   "execution_count": null,
   "metadata": {},
   "outputs": [],
   "source": [
    "'''\n",
    "    模型数据来自forth_data\n",
    "'''"
   ]
  },
  {
   "cell_type": "markdown",
   "metadata": {},
   "source": [
    "### 加载所有数据，（正负样本）"
   ]
  },
  {
   "cell_type": "code",
   "execution_count": 2,
   "metadata": {},
   "outputs": [
    {
     "name": "stdout",
     "output_type": "stream",
     "text": [
      "36524\n"
     ]
    }
   ],
   "source": [
    "'''\n",
    "    读取second_data负样本\n",
    "'''\n",
    "with open(\"../from_es_download_samples/second_data/total_negative_samples.txt\", \"r\", encoding=\"utf-8\") as negative_samples:\n",
    "    negative_data = negative_samples.readlines()\n",
    "    print(len(negative_data))"
   ]
  },
  {
   "cell_type": "code",
   "execution_count": 4,
   "metadata": {},
   "outputs": [
    {
     "name": "stdout",
     "output_type": "stream",
     "text": [
      "3653\n"
     ]
    }
   ],
   "source": [
    "number = []\n",
    "for i in range(0, 36524, 10):\n",
    "    number.append(i)\n",
    "print(len(number))"
   ]
  },
  {
   "cell_type": "code",
   "execution_count": 6,
   "metadata": {},
   "outputs": [],
   "source": [
    "'''\n",
    "    从第二次获取的负样本中抽取3653条样本\n",
    "'''\n",
    "with open(\"../from_es_download_samples/second_data/total_negative_samples.txt\", \"r\", encoding=\"utf-8\") as outf:\n",
    "    with open(\"./forth_negative_samples.txt\", \"w\", encoding=\"utf-8\") as inf:\n",
    "        negative_data = outf.readlines()\n",
    "        for i in number:\n",
    "            inf.write(negative_data[i])"
   ]
  },
  {
   "cell_type": "code",
   "execution_count": 7,
   "metadata": {},
   "outputs": [
    {
     "name": "stdout",
     "output_type": "stream",
     "text": [
      "3653\n"
     ]
    }
   ],
   "source": [
    "with open(\"./forth_negative_samples.txt\", \"r\", encoding=\"utf-8\") as inf:\n",
    "    data = inf.readlines()\n",
    "    print(len(data))"
   ]
  },
  {
   "cell_type": "code",
   "execution_count": 9,
   "metadata": {},
   "outputs": [
    {
     "name": "stdout",
     "output_type": "stream",
     "text": [
      "3622\n",
      "3653\n"
     ]
    }
   ],
   "source": [
    "'''\n",
    "    正样本3622条\n",
    "    负样本3653条\n",
    "    总样本7275条\n",
    "'''\n",
    "with open(\"./forth_total_samples.txt\", \"w\", encoding=\"utf-8\") as inf: # 将正负样本写进一个新的文件中\n",
    "    with open(\"../from_es_download_samples/forth_data/filtered_positive_samples.txt\", \"r\", encoding=\"utf-8\") as pf: # 读取第三次获取的正样本\n",
    "        with open(\"./forth_negative_samples.txt\", \"r\", encoding=\"utf-8\") as nf: # 读取负样本\n",
    "            # 写正样本\n",
    "            positive_data = pf.readlines()\n",
    "            print(len(positive_data))\n",
    "            for pline in positive_data:\n",
    "                if len(pline.strip().split(\"\\t\")) == 3:\n",
    "                    inf.write(pline.strip().split(\"\\t\")[0] + \"\\t\" + pline.strip().split(\"\\t\")[2] + \"\\n\")\n",
    "            # 写负样本\n",
    "            negative_data = nf.readlines()\n",
    "            print(len(negative_data))\n",
    "            for nline in negative_data:\n",
    "                inf.write(nline)"
   ]
  },
  {
   "cell_type": "code",
   "execution_count": 10,
   "metadata": {},
   "outputs": [
    {
     "name": "stdout",
     "output_type": "stream",
     "text": [
      "7275\n"
     ]
    }
   ],
   "source": [
    "with open(\"./forth_total_samples.txt\", \"r\", encoding=\"utf-8\") as inf: \n",
    "    data = inf.readlines()\n",
    "    print(len(data))"
   ]
  },
  {
   "cell_type": "markdown",
   "metadata": {},
   "source": [
    "### 文本处理，分词，去词性非n开头的词，去停用词，去特殊符号，"
   ]
  },
  {
   "cell_type": "code",
   "execution_count": 11,
   "metadata": {},
   "outputs": [],
   "source": [
    "# 将文本和标签分离\n",
    "X = []\n",
    "Y = []\n",
    "with open(\"./forth_total_samples.txt\", \"r\", encoding=\"utf-8\") as total_data:\n",
    "    for line in total_data:\n",
    "        label = line.strip().split(\"\\t\")[0]\n",
    "        content = line.strip().split(\"\\t\")[1]\n",
    "        X.append(content)\n",
    "        Y.append(label)"
   ]
  },
  {
   "cell_type": "code",
   "execution_count": 13,
   "metadata": {},
   "outputs": [
    {
     "data": {
      "text/plain": [
       "'热控系统标准、规程与反事故措施 宣贯培训会在杭举办//由中国自动化学会发电自动化专业委员会、全国电站过程监控及信息标准化技术委员会、电力行业热工自动化与信息标准化委员会和浙江省电力学会联合举办，国网浙江省电力公司电力科学研究院承办的热控系统近年发布的标准、规程与反事故措施宣贯培训会，于2018年8月1在杭州召开，8月4日在顺利结束。近200名来自各集团所属电厂、省属和集团研究院、电校的专业人员参加。宣贯培训会议开幕式,由中国自动化学会发电自动化专业委员会秘书长孙长生主持。潘光华副理事长代表举办单位之一的浙江省电力学会致开幕辞，对标准、规程与反事故措施宣贯培训班在杭举办表示欢迎。他介绍了浙江省电力学会近几年的工作和取得的成绩，希望参会人员能学以致用，切实提高发电厂热控系统检修运行维护的规范与可靠性，并预祝培训班圆满成功。周自强副院长代表会议承办单位国网浙江省电力有限公司电力科学研究院致欢迎辞。杨新民教授级高工（中国自动化学会发电自动化专业委员会副主任委员、全国电站过程监控及信息标准化技术委员会秘书长、电力行业热工自动化与信息标准化委员会主任委员）在开幕式上讲话。他希望参会人员在学习、理解标准内容的同时，对标准的贯彻、今后的修订完善积极提出建议，为推进热控专业规范化的深入协同工作。孙长生高工（中国自动化学会发电自动化专业委员会秘书长），在会上汇报了中国自动学会发电自动化专业委员会成立以来开展的工作。培训班聘请11位具有丰富的规程编制经验的专家，围绕着新颁布的热控专业国家标准、行业标准、团体标准和反事故措施的起草背景、电厂热控系统故障案例、专业存在问题与可靠性预控措施等，分别讲解了精心准备的课程内容，解答了参会人员提出的工作中的疑难问题。杨新民教授级高工作了《电站热工自动化标准体系》报告，就电站热工自动化标准体系进行了详细的阐述，为标准的理解和编写进行了全面的解读。同时就已颁布的、正在制定与修订的、新编立项批复刚下达的热工自动化专业的国家、行业和团体标准分别作了介绍。朱北恒教授级高工(原浙江省电力试验研究院副总工程师、中国自动化学会发电专委会副主任委员),对国家标准GB/T35731-2017《火力发电厂分散控制系统运行维护与试验技术规程》进行了宣贯。单文俊高工（华能南京金陵发电有限公司），对国家标准GB/T35731-2017《火力发电厂热工仪表及执行装置运行维护与试验技术规程》进行了宣贯。杨明花高工（浙江浙能温州发电有限公司）介绍了团体标准《电子皮带秤在线期间核查技术规范》。张宝高工（国网浙江省电力有限公司电力科学研究院）介绍了电力行业电厂DEH相关几个标准之间的关系，重点对国标《火力发电厂汽轮机数字电液控制系统运行维护与试验技术规程》各条款进行解读。张秋生教授级高工（全国电站过程监控及信息标准化技术委员会、电力行业热工自动化与信息标准化委员会，国华电力研究院电控部主任）介绍了《DL／T 1492.1-2016火力发电厂优化控制系统技术导则》的立项背景，对该标准的第1、2部分内容进行了宣讲。陈海文工程师（华电浙江龙游热电有限公司)，交流了待发布的电力行业标准《燃气蒸汽联合循环机组热工自动化系统检修运行规程》的编制背景，介绍了规程框架，重点解读了控制系统检修、运行维护的内容、步骤、性能指标、技术管理基本原则和方法。岳建华教授级高工（国华电力研究院、发电自动化专业委员会委员）授课内容为《火电厂热控系统电源可靠性配置与预控》，他从电源系统故障案例分析及处理、电源系统可靠性配置与预控和电源系统日常巡检与维护工作重点三个方面对热控系统的电源问题进行讲解。潘凤萍教授级高工（广东电科院能源技术有限责任公司），就待发布的电力行业标准《火力发电厂自启停控制系统实施导则》进行了宣贯培训。郭为民教授级高工（润电能源科学技术有限公司），介绍了《火力发电厂智能化技术导则》的编制过程、标准内容和标准体系建设情况。尹峰博士、教授级高工（国网浙江省电力有限公司电力科学研究院、中国自动化学会发电自动化专业委员会副秘书长），对T/CEC180-2018《发电厂监控系统信息安全评估导则》标准进行了宣贯。本次标准与反事故措施宣贯培训，内容丰富，除杨新民主任委员所作的热控标准化工作体系外，涉及控制系统的有：DCS、DEH、燃机热控系统；涉及仪表的有：仪表与测量装置、电子皮带科；涉及电厂智能化和优化的有：控制系统优化、机组自启停、智能电厂建设;涉及安全的有：工控信息安全、电源系统可靠性。宣贯培训会场讨论期间，参会人员与培训老师间，就工作中的疑难问题进行了积极的交流和讨论，参会人员提出问题，宣贯专家都一一给予了回答并进行了讨论。'"
      ]
     },
     "execution_count": 13,
     "metadata": {},
     "output_type": "execute_result"
    }
   ],
   "source": [
    "X[0]"
   ]
  },
  {
   "cell_type": "code",
   "execution_count": 14,
   "metadata": {},
   "outputs": [
    {
     "data": {
      "text/plain": [
       "'0'"
      ]
     },
     "execution_count": 14,
     "metadata": {},
     "output_type": "execute_result"
    }
   ],
   "source": [
    "Y[0]"
   ]
  },
  {
   "cell_type": "markdown",
   "metadata": {},
   "source": [
    "# 直接按照jieba分词的结果"
   ]
  },
  {
   "cell_type": "markdown",
   "metadata": {},
   "source": [
    "### 分开调试"
   ]
  },
  {
   "cell_type": "code",
   "execution_count": 15,
   "metadata": {},
   "outputs": [
    {
     "name": "stderr",
     "output_type": "stream",
     "text": [
      "Building prefix dict from the default dictionary ...\n",
      "Loading model from cache /tmp/jieba.cache\n",
      "Loading model cost 0.788 seconds.\n",
      "Prefix dict has been built succesfully.\n"
     ]
    }
   ],
   "source": [
    "# 分词，去掉词性是非n开头的词，返回分词结果\n",
    "token_texts = []\n",
    "import jieba.posseg as psg\n",
    "for line in X:\n",
    "    word = [word for word, flag in psg.cut(line) if flag.startswith('n')]\n",
    "    token_texts.append(\" \".join(word))"
   ]
  },
  {
   "cell_type": "code",
   "execution_count": 16,
   "metadata": {},
   "outputs": [
    {
     "data": {
      "text/plain": [
       "7275"
      ]
     },
     "execution_count": 16,
     "metadata": {},
     "output_type": "execute_result"
    }
   ],
   "source": [
    "len(token_texts)"
   ]
  },
  {
   "cell_type": "code",
   "execution_count": 116,
   "metadata": {},
   "outputs": [
    {
     "data": {
      "text/plain": [
       "'绿盟 科技 万物 论坛 在京举行 中国 机械 工业 联合会 机经网 仪器仪表 行业 频道 北京 神州 绿盟 信息安全 科技股份 有限公司 中国 电子 国际展览 广告 公司 时代 网络安全 论坛 万物 时代 北京展览馆 论坛 信息 核心技术 网络安全 万物 时代 技术 趋势 策 现场 群英 智慧 共话 时代 网络安全 论坛 行业 风向 价值 时代 网络安全 论坛 现场 北京市委 网信 办 网络 技术 张越金 现场 北京市公安局 网安 总队 总队长 兰和敬 中国 信息安全 中心 研究员 李斌 论坛 北京市公安局 网安 总队 总队长 兰和敬 中国 信息安全 中心 研究员 李斌 网络安全 信息化 领域 核心技术 地位 中国工程院 院士 倪光南 体系 问题 国产 替代 计划 信息技术 体系 中国工程院 院士 倪光南 联网 渗透到 产业 方方面面 物理 世界 网络空间 全面 中科院 网信办 中科院 办公厅 网信 陈明奇 问题 万物 时代 技术 趋势 主题 中科院 网信办 中科院 办公厅 网信 陈明奇 论坛 绿盟 科技 智联 万物 慧见 智慧 全国 仪式 智能 网络空间 转型 要素 全面 服务平台 技术 体系 用户 关键 信息 基础设施 能力 智慧 仪式 绿盟 科技 副总裁 叶晓虎 日益 网络安全 问题 绿盟 科技 智慧 战略 数据 能力 能力 绿盟 科技 副总裁 慧星 例子 态势 云端 线 线下 关键 特点 绿盟 科技 副总裁 慧星 腾讯 企业 首席 架构师 谢斌 互联网 医疗 问题 生态 思路 勒索 病毒 态势 网站 解决方案 腾讯 能力 腾讯 企业 首席 架构师 谢斌 亮相 行业 落地 绿盟 科技 云 解决方案 联网 解决方案 解决方案 解决方案 赛通 数据安全 解决方案 解决方案 情报中心 态势 平台 平台 亮相 嘉宾 绿盟 科技 政府 金融 运营商 企业 医疗 行业 信息安全 解决方案 落地 用户 盛宴 绿盟 科技 资深 专家 面向 企业 用户 现场 绿盟 科技 态势 平台 防病毒 漏洞 流量 重点 业务 场景 精彩 讲堂 原创 漫画 群众 普及 信息安全 大众 网络安全 意识 万物 万物 智联 数据 云 联网 铺就 万物 智联 路 技术 绿盟 科技 行业 专家 学者 万物 时代 论坛 关键 信息 基础设施 方面 能力 服务平台 网络空间 转型 智慧 绿盟'"
      ]
     },
     "execution_count": 116,
     "metadata": {},
     "output_type": "execute_result"
    }
   ],
   "source": [
    "token_texts[4]"
   ]
  },
  {
   "cell_type": "code",
   "execution_count": 18,
   "metadata": {},
   "outputs": [],
   "source": [
    "# 去除停用词,中英文特殊符号\n",
    "\n",
    "# 加载中文特殊符号\n",
    "import zhon.hanzi\n",
    "chi_char = zhon.hanzi.punctuation\n",
    "# 加载英文特殊符号\n",
    "import string\n",
    "eng_char = string.punctuation\n",
    "# 加载停用词\n",
    "with open(\"./stop_words.utf8\", \"r\", encoding=\"utf-8\") as stop_word:\n",
    "    stop_words = stop_word.readlines()\n",
    "    filtered_token_texts = []\n",
    "    for token_text in token_texts:\n",
    "        filtered_token_text = [token for token in token_text \n",
    "                               if token not in stop_words and token not in chi_char and token not in eng_char]\n",
    "        filtered_token_texts.append(\"\".join(filtered_token_text))"
   ]
  },
  {
   "cell_type": "code",
   "execution_count": 19,
   "metadata": {},
   "outputs": [
    {
     "data": {
      "text/plain": [
       "'热 控系统 标准 规程 事故 措施 宣贯 杭 中国 学会 专业 委员会 全国 电站 过程 信息 技术 委员会 电力行业 热工 信息 委员会 浙江省 电力 学会 国网 浙江省 电力公司 电力 科学 研究院 热 控系统 标准 规程 事故 措施 宣贯 杭州 名 集团 电厂 省属 集团 研究院 电校 专业 人员 宣贯 会议 开幕式 中国 学会 专业 委员会 秘书长 长生 潘 光华 副理事长 代表 单位 浙江省 电力 学会 开幕辞 标准 规程 事故 措施 宣贯 培训班 杭 浙江省 电力 学会 成绩 人员 发电厂 热 控系统 规范 可靠性 培训班 周 院长 代表 会议 单位 国网 浙江省 电力 有限公司 电力 科学 研究院 杨新民 教授级 高工 中国 学会 专业 委员会 主任委员 全国 电站 过程 信息 技术 委员会 秘书长 电力行业 热工 信息 委员会 主任委员 开幕式 讲话 人员 标准 内容 标准 建议 专业 规范化 协同工作 长生 高工 中国 学会 专业 委员会 秘书长 汇报 中国 学会 专业 委员会 培训班 规程 经验 专家 专业 国家标准 行业标准 团体 标准 事故 措施 背景 电厂 系统故障 案例 专业 问题 可靠性 措施 精心 课程内容 人员 杨新民 教授级 电站 热工 标准 体系 报告 电站 热工 标准 体系 标准 全面 新编 热工 专业 国家 行业 团体 标准 朱北恒 教授级 高工 原 浙江省 电力 研究院 总工程师 中国 学会 专委会 主任委员 国家标准 火力发电厂 技术规程 宣贯 单文俊 高工 华能 南京 金陵 有限公司 国家标准 火力发电厂 热工 仪表 装置 技术规程 宣贯 杨明花 高工 浙江 温州 有限公司 团体 标准 电子 皮带秤 技术规范 张宝 高工 国网 浙江省 电力 有限公司 电力 科学 研究院 电力行业 电厂 标准 关系 重点 国标 火力发电厂 汽轮机 数字 电液 技术规程 条款 张秋生 教授级 高工 全国 电站 过程 信息 技术 委员会 电力行业 热工 信息 委员会 国华 电力 研究院 部 火力发电厂 技术 导则 背景 标准 部分 内容 陈 海文 工程师 华电 浙江 龙游 热电 有限公司 交流 待发布 电力行业 标准 燃气 蒸汽 机组 热工 系统 规程 背景 规程 框架 重点 内容 步骤 性能指标 技术 基本 原则 方法 岳 建华 教授级 高工 国华 电力 研究院 专业 委员会 委员 内容 火电厂 热 控系统 电源 可靠性 电源 系统故障 案例 电源 系统可靠性 电源 系统 重点 方面 热 控系统 电源 问题 潘凤萍 教授级 高工 广东 电科院 能源技术 公司 待发布 电力行业 标准 火力发电厂 导则 宣贯 郭 教授级 高工 润电 能源 科学技术 有限公司 火力发电厂 智能化 技术 导则 过程 标准 内容 标准 体系 情况 尹峰 博士 教授级 高工 国网 浙江省 电力 有限公司 电力 科学 研究院 中国 学会 专业 委员会 秘书长 发电厂 系统 信息安全 导则 标准 宣贯 标准 事故 措施 宣贯 内容 杨新民 主任委员 所作 体系 燃机 热 控系统 仪表 仪表 装置 电子 皮带 科 电厂 智能化 机组 智能 电厂 信息安全 电源 系统可靠性 宣贯 会场 人员 老师 交流 人员 问题 宣贯 专家'"
      ]
     },
     "execution_count": 19,
     "metadata": {},
     "output_type": "execute_result"
    }
   ],
   "source": [
    "filtered_token_texts[0]"
   ]
  },
  {
   "cell_type": "code",
   "execution_count": 20,
   "metadata": {},
   "outputs": [],
   "source": [
    "# 处理过的文本划分训练集/测试集\n",
    "from sklearn.model_selection import train_test_split\n",
    "train_x, test_x, train_y, test_y = train_test_split(filtered_token_texts, Y, test_size=0.1, random_state=21)"
   ]
  },
  {
   "cell_type": "code",
   "execution_count": 21,
   "metadata": {},
   "outputs": [
    {
     "data": {
      "text/plain": [
       "6547"
      ]
     },
     "execution_count": 21,
     "metadata": {},
     "output_type": "execute_result"
    }
   ],
   "source": [
    "len(train_x)"
   ]
  },
  {
   "cell_type": "code",
   "execution_count": 22,
   "metadata": {},
   "outputs": [
    {
     "data": {
      "text/plain": [
       "728"
      ]
     },
     "execution_count": 22,
     "metadata": {},
     "output_type": "execute_result"
    }
   ],
   "source": [
    "len(test_x)"
   ]
  },
  {
   "cell_type": "markdown",
   "metadata": {},
   "source": [
    "#### 保留全部默认的280165个特征"
   ]
  },
  {
   "cell_type": "code",
   "execution_count": 23,
   "metadata": {},
   "outputs": [],
   "source": [
    "from sklearn.feature_extraction.text import TfidfVectorizer\n",
    "vectorizer = TfidfVectorizer(min_df=2, max_df=1.0, ngram_range=(1,2))\n",
    "train_features = vectorizer.fit_transform(train_x)\n",
    "test_features = vectorizer.transform(test_x)"
   ]
  },
  {
   "cell_type": "code",
   "execution_count": 24,
   "metadata": {},
   "outputs": [
    {
     "data": {
      "text/plain": [
       "(6547, 280165)"
      ]
     },
     "execution_count": 24,
     "metadata": {},
     "output_type": "execute_result"
    }
   ],
   "source": [
    "train_features.shape"
   ]
  },
  {
   "cell_type": "code",
   "execution_count": 25,
   "metadata": {},
   "outputs": [
    {
     "data": {
      "text/plain": [
       "(728, 280165)"
      ]
     },
     "execution_count": 25,
     "metadata": {},
     "output_type": "execute_result"
    }
   ],
   "source": [
    "test_features.shape"
   ]
  },
  {
   "cell_type": "code",
   "execution_count": 26,
   "metadata": {},
   "outputs": [
    {
     "name": "stdout",
     "output_type": "stream",
     "text": [
      "             precision    recall  f1-score   support\n",
      "\n",
      "          0       0.90      0.90      0.90       374\n",
      "          1       0.90      0.90      0.90       354\n",
      "\n",
      "avg / total       0.90      0.90      0.90       728\n",
      "\n"
     ]
    }
   ],
   "source": [
    "# SVM预测分类结果\n",
    "from sklearn.svm import LinearSVC\n",
    "from sklearn.metrics import classification_report\n",
    "svm = LinearSVC()\n",
    "svm.fit(train_features, train_y)\n",
    "y_prediction = svm.predict(test_features)\n",
    "\n",
    "print(classification_report(y_true=test_y, y_pred=y_prediction))"
   ]
  },
  {
   "cell_type": "markdown",
   "metadata": {},
   "source": [
    "#### 特征数减少到100000"
   ]
  },
  {
   "cell_type": "code",
   "execution_count": 27,
   "metadata": {},
   "outputs": [],
   "source": [
    "from sklearn.feature_extraction.text import TfidfVectorizer\n",
    "vectorizer = TfidfVectorizer(min_df=2, max_df=1.0, ngram_range=(1,2), max_features=100000)\n",
    "train_features = vectorizer.fit_transform(train_x)\n",
    "test_features = vectorizer.transform(test_x)"
   ]
  },
  {
   "cell_type": "code",
   "execution_count": 28,
   "metadata": {},
   "outputs": [
    {
     "data": {
      "text/plain": [
       "(6547, 100000)"
      ]
     },
     "execution_count": 28,
     "metadata": {},
     "output_type": "execute_result"
    }
   ],
   "source": [
    "train_features.shape"
   ]
  },
  {
   "cell_type": "code",
   "execution_count": 29,
   "metadata": {},
   "outputs": [
    {
     "data": {
      "text/plain": [
       "(728, 100000)"
      ]
     },
     "execution_count": 29,
     "metadata": {},
     "output_type": "execute_result"
    }
   ],
   "source": [
    "test_features.shape"
   ]
  },
  {
   "cell_type": "code",
   "execution_count": 30,
   "metadata": {},
   "outputs": [
    {
     "name": "stdout",
     "output_type": "stream",
     "text": [
      "             precision    recall  f1-score   support\n",
      "\n",
      "          0       0.90      0.90      0.90       374\n",
      "          1       0.90      0.89      0.89       354\n",
      "\n",
      "avg / total       0.90      0.90      0.90       728\n",
      "\n"
     ]
    }
   ],
   "source": [
    "# SVM预测分类结果\n",
    "from sklearn.svm import LinearSVC\n",
    "from sklearn.metrics import classification_report\n",
    "svm = LinearSVC()\n",
    "svm.fit(train_features, train_y)\n",
    "y_prediction = svm.predict(test_features)\n",
    "\n",
    "print(classification_report(y_true=test_y, y_pred=y_prediction))"
   ]
  },
  {
   "cell_type": "markdown",
   "metadata": {},
   "source": [
    "#### 特征数减少到5000"
   ]
  },
  {
   "cell_type": "code",
   "execution_count": 31,
   "metadata": {},
   "outputs": [],
   "source": [
    "from sklearn.feature_extraction.text import TfidfVectorizer\n",
    "vectorizer = TfidfVectorizer(min_df=2, max_df=1.0, ngram_range=(1,2), max_features=5000)\n",
    "train_features = vectorizer.fit_transform(train_x)\n",
    "test_features = vectorizer.transform(test_x)"
   ]
  },
  {
   "cell_type": "code",
   "execution_count": 32,
   "metadata": {},
   "outputs": [
    {
     "data": {
      "text/plain": [
       "(6547, 5000)"
      ]
     },
     "execution_count": 32,
     "metadata": {},
     "output_type": "execute_result"
    }
   ],
   "source": [
    "train_features.shape"
   ]
  },
  {
   "cell_type": "code",
   "execution_count": 33,
   "metadata": {},
   "outputs": [
    {
     "data": {
      "text/plain": [
       "(728, 5000)"
      ]
     },
     "execution_count": 33,
     "metadata": {},
     "output_type": "execute_result"
    }
   ],
   "source": [
    "test_features.shape"
   ]
  },
  {
   "cell_type": "code",
   "execution_count": 34,
   "metadata": {},
   "outputs": [
    {
     "name": "stdout",
     "output_type": "stream",
     "text": [
      "             precision    recall  f1-score   support\n",
      "\n",
      "          0       0.89      0.87      0.88       374\n",
      "          1       0.87      0.88      0.88       354\n",
      "\n",
      "avg / total       0.88      0.88      0.88       728\n",
      "\n"
     ]
    }
   ],
   "source": [
    "# SVM预测分类结果\n",
    "from sklearn.svm import LinearSVC\n",
    "from sklearn.metrics import classification_report\n",
    "svm = LinearSVC()\n",
    "svm.fit(train_features, train_y)\n",
    "y_prediction = svm.predict(test_features)\n",
    "\n",
    "print(classification_report(y_true=test_y, y_pred=y_prediction))"
   ]
  },
  {
   "cell_type": "markdown",
   "metadata": {},
   "source": [
    "# 加载之前的公司/title/人名，补充jieba分词的结果"
   ]
  },
  {
   "cell_type": "code",
   "execution_count": 35,
   "metadata": {},
   "outputs": [],
   "source": [
    "# 分词，去掉词性是非n开头的词，返回分词结果\n",
    "\n",
    "import jieba\n",
    "import jieba.posseg as psg\n",
    "\n",
    "jieba.load_userdict(\"./user_dict.txt\")\n",
    "\n",
    "token_texts_user = []\n",
    "for line in X:\n",
    "    word = [word for word, flag in psg.cut(line) if flag.startswith('n')]\n",
    "    token_texts_user.append(\" \".join(word))"
   ]
  },
  {
   "cell_type": "code",
   "execution_count": 36,
   "metadata": {},
   "outputs": [
    {
     "data": {
      "text/plain": [
       "7275"
      ]
     },
     "execution_count": 36,
     "metadata": {},
     "output_type": "execute_result"
    }
   ],
   "source": [
    "len(token_texts_user)"
   ]
  },
  {
   "cell_type": "code",
   "execution_count": 37,
   "metadata": {},
   "outputs": [
    {
     "data": {
      "text/plain": [
       "'热 控系统 标准 规程 事故 措施 宣贯 杭 中国 学会 专业 委员会 全国 电站 过程 信息 技术 委员会 电力行业 热工 信息 委员会 浙江省 电力 学会 国网 浙江省 电力公司 电力 科学 研究院 热 控系统 标准 规程 事故 措施 宣贯 杭州 名 集团 电厂 省属 集团 研究院 电校 专业 人员 宣贯 会议 开幕式 中国 学会 专业 委员会 秘书长 长生 潘 光华 副理事长 代表 单位 浙江省 电力 学会 开幕辞 标准 规程 事故 措施 宣贯 培训班 杭 浙江省 电力 学会 成绩 人员 发电厂 热 控系统 规范 可靠性 培训班 周 副院长 代表 会议 单位 国网 浙江省 电力 有限公司 电力 科学 研究院 杨新民 教授级高工 中国 学会 专业 委员会 副主任委员 全国 电站 过程 信息 技术 委员会 秘书长 电力行业 热工 信息 委员会 主任委员 开幕式 讲话 人员 标准 内容 标准 建议 专业 规范化 协同工作 长生 高工 中国 学会 专业 委员会 秘书长 汇报 中国 学会 专业 委员会 培训班 规程 经验 专家 专业 国家标准 行业标准 团体 标准 事故 措施 背景 电厂 系统故障 案例 专业 问题 可靠性 措施 精心 课程内容 人员 杨新民 教授级高工 电站 热工 标准 体系 报告 电站 热工 标准 体系 标准 全面 新编 热工 专业 国家 行业 团体 标准 朱北恒 教授级高工 原 浙江省 电力 研究院 副总工程师 中国 学会 专委会 副主任委员 国家标准 火力发电厂 技术规程 宣贯 单文俊 高工 华能 南京 金陵 有限公司 国家标准 火力发电厂 热工 仪表 装置 技术规程 宣贯 杨明 高工 浙江 温州 有限公司 团体 标准 电子 皮带秤 技术规范 张宝 高工 国网 浙江省 电力 有限公司 电力 科学 研究院 电力行业 电厂 标准 关系 重点 国标 火力发电厂 汽轮机 数字 电液 技术规程 条款 张秋生 教授级高工 全国 电站 过程 信息 技术 委员会 电力行业 热工 信息 委员会 国华 电力 研究院 部 主任 火力发电厂 技术 导则 背景 标准 部分 内容 陈 海文 工程师 华电 浙江 龙游 热电 有限公司 交流 待发布 电力行业 标准 燃气 蒸汽 机组 热工 系统 规程 背景 规程 框架 重点 内容 步骤 性能指标 技术 基本 原则 方法 岳 建华 教授级高工 国华 电力 研究院 专业 委员会 委员 内容 火电厂 热 控系统 电源 可靠性 电源 系统故障 案例 电源 系统可靠性 电源 系统 重点 方面 热 控系统 电源 问题 潘凤萍 教授级高工 广东 电科院 能源技术 公司 待发布 电力行业 标准 火力发电厂 导则 宣贯 郭 教授级高工 润电 能源 科学技术 有限公司 火力发电厂 智能化 技术 导则 过程 标准 内容 标准 体系 情况 尹峰 博士 教授级高工 国网 浙江省 电力 有限公司 电力 科学 研究院 中国 学会 专业 委员会 副秘书长 发电厂 系统 信息安全 导则 标准 宣贯 标准 事故 措施 宣贯 内容 杨新民 主任委员 所作 体系 燃机 热 控系统 仪表 仪表 装置 电子 皮带 科 电厂 智能化 机组 智能 电厂 信息安全 电源 系统可靠性 宣贯 会场 人员 老师 交流 人员 问题 宣贯 专家'"
      ]
     },
     "execution_count": 37,
     "metadata": {},
     "output_type": "execute_result"
    }
   ],
   "source": [
    "token_texts_user[0]"
   ]
  },
  {
   "cell_type": "code",
   "execution_count": 38,
   "metadata": {},
   "outputs": [],
   "source": [
    "# 去除停用词,中英文特殊符号\n",
    "\n",
    "# 加载中文特殊符号\n",
    "import zhon.hanzi\n",
    "chi_char = zhon.hanzi.punctuation\n",
    "# 加载英文特殊符号\n",
    "import string\n",
    "eng_char = string.punctuation\n",
    "# 加载停用词\n",
    "with open(\"./stop_words.utf8\", \"r\", encoding=\"utf-8\") as stop_word:\n",
    "    stop_words = stop_word.readlines()\n",
    "    filtered_token_texts_user = []\n",
    "    for token_text in token_texts_user:\n",
    "        filtered_token_text = [token for token in token_text \n",
    "                               if token not in stop_words and token not in chi_char and token not in eng_char]\n",
    "        filtered_token_texts_user.append(\"\".join(filtered_token_text))"
   ]
  },
  {
   "cell_type": "code",
   "execution_count": 39,
   "metadata": {},
   "outputs": [
    {
     "data": {
      "text/plain": [
       "7275"
      ]
     },
     "execution_count": 39,
     "metadata": {},
     "output_type": "execute_result"
    }
   ],
   "source": [
    "len(filtered_token_texts_user)"
   ]
  },
  {
   "cell_type": "code",
   "execution_count": 40,
   "metadata": {},
   "outputs": [
    {
     "data": {
      "text/plain": [
       "'热 控系统 标准 规程 事故 措施 宣贯 杭 中国 学会 专业 委员会 全国 电站 过程 信息 技术 委员会 电力行业 热工 信息 委员会 浙江省 电力 学会 国网 浙江省 电力公司 电力 科学 研究院 热 控系统 标准 规程 事故 措施 宣贯 杭州 名 集团 电厂 省属 集团 研究院 电校 专业 人员 宣贯 会议 开幕式 中国 学会 专业 委员会 秘书长 长生 潘 光华 副理事长 代表 单位 浙江省 电力 学会 开幕辞 标准 规程 事故 措施 宣贯 培训班 杭 浙江省 电力 学会 成绩 人员 发电厂 热 控系统 规范 可靠性 培训班 周 副院长 代表 会议 单位 国网 浙江省 电力 有限公司 电力 科学 研究院 杨新民 教授级高工 中国 学会 专业 委员会 副主任委员 全国 电站 过程 信息 技术 委员会 秘书长 电力行业 热工 信息 委员会 主任委员 开幕式 讲话 人员 标准 内容 标准 建议 专业 规范化 协同工作 长生 高工 中国 学会 专业 委员会 秘书长 汇报 中国 学会 专业 委员会 培训班 规程 经验 专家 专业 国家标准 行业标准 团体 标准 事故 措施 背景 电厂 系统故障 案例 专业 问题 可靠性 措施 精心 课程内容 人员 杨新民 教授级高工 电站 热工 标准 体系 报告 电站 热工 标准 体系 标准 全面 新编 热工 专业 国家 行业 团体 标准 朱北恒 教授级高工 原 浙江省 电力 研究院 副总工程师 中国 学会 专委会 副主任委员 国家标准 火力发电厂 技术规程 宣贯 单文俊 高工 华能 南京 金陵 有限公司 国家标准 火力发电厂 热工 仪表 装置 技术规程 宣贯 杨明 高工 浙江 温州 有限公司 团体 标准 电子 皮带秤 技术规范 张宝 高工 国网 浙江省 电力 有限公司 电力 科学 研究院 电力行业 电厂 标准 关系 重点 国标 火力发电厂 汽轮机 数字 电液 技术规程 条款 张秋生 教授级高工 全国 电站 过程 信息 技术 委员会 电力行业 热工 信息 委员会 国华 电力 研究院 部 主任 火力发电厂 技术 导则 背景 标准 部分 内容 陈 海文 工程师 华电 浙江 龙游 热电 有限公司 交流 待发布 电力行业 标准 燃气 蒸汽 机组 热工 系统 规程 背景 规程 框架 重点 内容 步骤 性能指标 技术 基本 原则 方法 岳 建华 教授级高工 国华 电力 研究院 专业 委员会 委员 内容 火电厂 热 控系统 电源 可靠性 电源 系统故障 案例 电源 系统可靠性 电源 系统 重点 方面 热 控系统 电源 问题 潘凤萍 教授级高工 广东 电科院 能源技术 公司 待发布 电力行业 标准 火力发电厂 导则 宣贯 郭 教授级高工 润电 能源 科学技术 有限公司 火力发电厂 智能化 技术 导则 过程 标准 内容 标准 体系 情况 尹峰 博士 教授级高工 国网 浙江省 电力 有限公司 电力 科学 研究院 中国 学会 专业 委员会 副秘书长 发电厂 系统 信息安全 导则 标准 宣贯 标准 事故 措施 宣贯 内容 杨新民 主任委员 所作 体系 燃机 热 控系统 仪表 仪表 装置 电子 皮带 科 电厂 智能化 机组 智能 电厂 信息安全 电源 系统可靠性 宣贯 会场 人员 老师 交流 人员 问题 宣贯 专家'"
      ]
     },
     "execution_count": 40,
     "metadata": {},
     "output_type": "execute_result"
    }
   ],
   "source": [
    "filtered_token_texts_user[0]"
   ]
  },
  {
   "cell_type": "code",
   "execution_count": 41,
   "metadata": {},
   "outputs": [],
   "source": [
    "# 处理过的文本划分训练集/测试集\n",
    "from sklearn.model_selection import train_test_split\n",
    "train_x, test_x, train_y, test_y = train_test_split(filtered_token_texts_user, Y, test_size=0.1, random_state=21)"
   ]
  },
  {
   "cell_type": "code",
   "execution_count": 42,
   "metadata": {},
   "outputs": [
    {
     "data": {
      "text/plain": [
       "6547"
      ]
     },
     "execution_count": 42,
     "metadata": {},
     "output_type": "execute_result"
    }
   ],
   "source": [
    "len(train_x)"
   ]
  },
  {
   "cell_type": "code",
   "execution_count": 43,
   "metadata": {},
   "outputs": [
    {
     "data": {
      "text/plain": [
       "728"
      ]
     },
     "execution_count": 43,
     "metadata": {},
     "output_type": "execute_result"
    }
   ],
   "source": [
    "len(test_x)"
   ]
  },
  {
   "cell_type": "markdown",
   "metadata": {},
   "source": [
    "#### 保留全部默认的290931个特征"
   ]
  },
  {
   "cell_type": "code",
   "execution_count": 156,
   "metadata": {},
   "outputs": [],
   "source": [
    "from sklearn.externals import joblib\n",
    "from sklearn.feature_extraction.text import TfidfVectorizer\n",
    "vectorizer = TfidfVectorizer(min_df=2, max_df=1.0, ngram_range=(1,2))\n",
    "vectorizer.fit(train_x)\n",
    "\n",
    "joblib.dump(vectorizer, 'tfidf_vect.pkl')\n",
    "\n",
    "train_features = vectorizer.transform(train_x)\n",
    "test_features = vectorizer.transform(test_x)"
   ]
  },
  {
   "cell_type": "code",
   "execution_count": 157,
   "metadata": {},
   "outputs": [
    {
     "data": {
      "text/plain": [
       "(6547, 290931)"
      ]
     },
     "execution_count": 157,
     "metadata": {},
     "output_type": "execute_result"
    }
   ],
   "source": [
    "train_features.shape"
   ]
  },
  {
   "cell_type": "code",
   "execution_count": 158,
   "metadata": {},
   "outputs": [
    {
     "data": {
      "text/plain": [
       "(728, 290931)"
      ]
     },
     "execution_count": 158,
     "metadata": {},
     "output_type": "execute_result"
    }
   ],
   "source": [
    "test_features.shape"
   ]
  },
  {
   "cell_type": "code",
   "execution_count": 159,
   "metadata": {},
   "outputs": [
    {
     "name": "stdout",
     "output_type": "stream",
     "text": [
      "             precision    recall  f1-score   support\n",
      "\n",
      "          0       0.90      0.90      0.90       374\n",
      "          1       0.90      0.89      0.90       354\n",
      "\n",
      "avg / total       0.90      0.90      0.90       728\n",
      "\n"
     ]
    }
   ],
   "source": [
    "# SVM预测分类结果\n",
    "from sklearn.svm import LinearSVC\n",
    "from sklearn.metrics import classification_report\n",
    "svm = LinearSVC()\n",
    "svm.fit(train_features, train_y)\n",
    "\n",
    "joblib.dump(svm, 'svm.pkl')\n",
    "\n",
    "y_prediction = svm.predict(test_features)\n",
    "\n",
    "print(classification_report(y_true=test_y, y_pred=y_prediction))"
   ]
  },
  {
   "cell_type": "markdown",
   "metadata": {},
   "source": [
    "#### 特征数减少到100000"
   ]
  },
  {
   "cell_type": "code",
   "execution_count": 48,
   "metadata": {},
   "outputs": [],
   "source": [
    "from sklearn.feature_extraction.text import TfidfVectorizer\n",
    "vectorizer = TfidfVectorizer(min_df=2, max_df=1.0, ngram_range=(1,2),max_features=100000)\n",
    "train_features = vectorizer.fit_transform(train_x)\n",
    "test_features = vectorizer.transform(test_x)"
   ]
  },
  {
   "cell_type": "code",
   "execution_count": 49,
   "metadata": {},
   "outputs": [
    {
     "data": {
      "text/plain": [
       "(6547, 100000)"
      ]
     },
     "execution_count": 49,
     "metadata": {},
     "output_type": "execute_result"
    }
   ],
   "source": [
    "train_features.shape"
   ]
  },
  {
   "cell_type": "code",
   "execution_count": 50,
   "metadata": {},
   "outputs": [
    {
     "data": {
      "text/plain": [
       "(728, 100000)"
      ]
     },
     "execution_count": 50,
     "metadata": {},
     "output_type": "execute_result"
    }
   ],
   "source": [
    "test_features.shape"
   ]
  },
  {
   "cell_type": "code",
   "execution_count": 51,
   "metadata": {},
   "outputs": [
    {
     "name": "stdout",
     "output_type": "stream",
     "text": [
      "             precision    recall  f1-score   support\n",
      "\n",
      "          0       0.89      0.90      0.90       374\n",
      "          1       0.90      0.88      0.89       354\n",
      "\n",
      "avg / total       0.89      0.89      0.89       728\n",
      "\n"
     ]
    }
   ],
   "source": [
    "# SVM预测分类结果\n",
    "from sklearn.svm import LinearSVC\n",
    "from sklearn.metrics import classification_report\n",
    "svm = LinearSVC()\n",
    "svm.fit(train_features, train_y)\n",
    "y_prediction = svm.predict(test_features)\n",
    "\n",
    "print(classification_report(y_true=test_y, y_pred=y_prediction))"
   ]
  },
  {
   "cell_type": "markdown",
   "metadata": {},
   "source": [
    "#### 特征数减少到5000"
   ]
  },
  {
   "cell_type": "code",
   "execution_count": 52,
   "metadata": {},
   "outputs": [],
   "source": [
    "from sklearn.feature_extraction.text import TfidfVectorizer\n",
    "vectorizer = TfidfVectorizer(min_df=2, max_df=1.0, ngram_range=(1,2), max_features=5000)\n",
    "train_features = vectorizer.fit_transform(train_x)\n",
    "test_features = vectorizer.transform(test_x)"
   ]
  },
  {
   "cell_type": "code",
   "execution_count": 53,
   "metadata": {},
   "outputs": [
    {
     "data": {
      "text/plain": [
       "(6547, 5000)"
      ]
     },
     "execution_count": 53,
     "metadata": {},
     "output_type": "execute_result"
    }
   ],
   "source": [
    "train_features.shape"
   ]
  },
  {
   "cell_type": "code",
   "execution_count": 54,
   "metadata": {},
   "outputs": [
    {
     "data": {
      "text/plain": [
       "(728, 5000)"
      ]
     },
     "execution_count": 54,
     "metadata": {},
     "output_type": "execute_result"
    }
   ],
   "source": [
    "test_features.shape"
   ]
  },
  {
   "cell_type": "code",
   "execution_count": 55,
   "metadata": {},
   "outputs": [
    {
     "name": "stdout",
     "output_type": "stream",
     "text": [
      "             precision    recall  f1-score   support\n",
      "\n",
      "          0       0.90      0.87      0.89       374\n",
      "          1       0.87      0.90      0.88       354\n",
      "\n",
      "avg / total       0.89      0.89      0.89       728\n",
      "\n"
     ]
    }
   ],
   "source": [
    "# SVM预测分类结果\n",
    "from sklearn.svm import LinearSVC\n",
    "from sklearn.metrics import classification_report\n",
    "svm = LinearSVC()\n",
    "svm.fit(train_features, train_y)\n",
    "y_prediction = svm.predict(test_features)\n",
    "\n",
    "print(classification_report(y_true=test_y, y_pred=y_prediction))"
   ]
  },
  {
   "cell_type": "code",
   "execution_count": null,
   "metadata": {},
   "outputs": [],
   "source": []
  },
  {
   "cell_type": "markdown",
   "metadata": {},
   "source": [
    "### 查看测试集中true_labe跟pred_label不一致的样本"
   ]
  },
  {
   "cell_type": "code",
   "execution_count": 56,
   "metadata": {},
   "outputs": [],
   "source": [
    "num_list = []\n",
    "for num, pair in enumerate(zip(test_y, y_prediction)):\n",
    "    if pair[0] == \"0\" and pair[1] == \"1\":\n",
    "        num_list.append(num)"
   ]
  },
  {
   "cell_type": "code",
   "execution_count": 57,
   "metadata": {},
   "outputs": [
    {
     "data": {
      "text/plain": [
       "48"
      ]
     },
     "execution_count": 57,
     "metadata": {},
     "output_type": "execute_result"
    }
   ],
   "source": [
    "len(num_list)"
   ]
  },
  {
   "cell_type": "code",
   "execution_count": 58,
   "metadata": {},
   "outputs": [],
   "source": [
    "content_list = []\n",
    "for i in num_list:\n",
    "    content_list.append(test_x[i])"
   ]
  },
  {
   "cell_type": "code",
   "execution_count": 59,
   "metadata": {},
   "outputs": [
    {
     "name": "stdout",
     "output_type": "stream",
     "text": [
      "48\n"
     ]
    },
    {
     "data": {
      "text/plain": [
       "['芯 实习生 科大讯飞 创始人 网 悟性 深度 新闻网 时间 来源 围观 云适配 官网 陈本峰 形容 页面 缔造者 省 价值 荣誉 专家 VP 产品 贡献奖 新京报 记者 微信 联系 陈本峰 项目 开发人员 身份 陈本峰 新京报 记者 项目 负责人 人 人士 陈本峰 缔造者 项目 项目 内 开发人员 VP 陈本峰 微信 新京报 记者 VP VP 负责人 证实 人士 新京报 记者 奖项 社区 有所 贡献 工程师 基本 在职员工 新京报 记者 VP 系统 陈本峰 信息 工程师 新京报 记者 陈本峰 经历 人 核心 职业 经历 项目 制 项目经理 岗位 科技 公司 工程师 回国 团队 人 项目 功劳 项目 科大讯飞 团队 实习生 陈本峰 科大讯飞 萌芽 硕士 毕业后 总部 官 自带 光环 光环 陈本峰 人民网 全市 理科 成绩 科技 英才 中国科技大学 电子 工程 专业 硬件 专业 陈本峰 软件 自学 编程 软件 编程 能力 出众 陈本峰 导师 科大讯飞 董事长 中文 语音 技术 宗师 王仁华 教授 麾下 团队 讯 中文 分词 系统 准确率 陈本峰 科大讯飞 董事长 刘庆峰 科大讯飞 创始人 王仁华 教授 学生 刘庆峰 陈本峰 科大讯飞 联合创始人 科大讯飞 实验室 实习生 知情 人士 新京报 记者 科技 公司 初创 阶段 在校学生 基本 陈本峰 科大讯飞 初创 团队 创始人 团队 实习生 新京报 记者 任娇 马婧 女王 范 合伙人 高婧 化妆 芯 官网 芯 联合创始人 COO 高婧 毕业 美国哈佛大学 香港科技大学 芯 浏览器 事件 高婧 毕业 香港科技大学 哈佛大学 小字 交流 学生 新京报 记者 领英 高婧 页面 记录 香港科技大学 商学院 本科生 哈佛大学 交流 记录 协调员 英语 家教 侨报 网 时 大学 身份 哈佛 创业 领导 计划 创业者 导师 机会 陈本峰 联系 哈佛 中国 论坛 组织者 经 协调员 经历 福布斯 创业者 亚洲 品牌 女性 中国移动 互联网 行业 品牌 女性 北京 海英 人才 荣誉 高婧 人 形容 女王 范 侨报 网 经验 市场 重点 词语 茧 重生 力量 新京报 记者 任娇',\n",
       " '社会 资管 理性 建设性 资管 社融 原因 兴业银行 首席经济学家 鲁 政委 杠杆 结果 交银 国际 研究部 主管 洪灏 经济 网 中国 网站 社会 规模 增量 社会 余额 最低水平 数据 市场 招商银行 资产 管理部 分析师 刘东亮 个人 社融 增量 去年同期 数据 股票 全部 委托 贷款 信托 贷款 资管 资管 社融 原因 兴业银行 首席经济学家 鲁 政委 数据 信托 贷款 委托 贷款 银行汇票 信托 贷款 存量 百分点 委托 贷款 存量 降幅 百分点 负增长 银行汇票 存量 百分点 市场 结果 联想 组合拳 市场 流动性 组合拳 数据 数据 市场 杠杆 宏观经济 警钟 刘东亮 企业债券 信用 债 环境 经济 网 政策 过渡期 过渡期 经济 信贷 增量 主 债券 独角兽 股票 因素 社融 数据 因素 诸如 债券 委托 贷款 信托 贷款 股票 因素 洪灏 社融 数据 意义 信贷 广义 货币 人士 股票 因素 社融 规模 局限性 信贷 数据 鲁 政委 信贷 偏差 百分点 信贷 中国 经济 定海神针 华泰 金融 信贷 增量 票据 人民币 贷款 贷款 存量 态势 居民 企业 贷款 结构 差异 居民 部门 贷款 居民 短期贷款 非金融 企业 机关团体 货款 企业 短期贷款 企业 贷款 票据 银行 贷款额度 意愿 边际 资管 细则 银行 业务 华泰 金融 因素 信用 债 债券 缩量 股票 二者 加总 实体 本外币 贷款 剪刀差 企业 存款 华泰 金融 资管 细则 社融 增量 细则 金融机构 杠杆 日程 缺口 银行 表 资产 对冲 资产 信货 成本 板块 盈利 保持稳定 资产 潜力 大行 银行 刘东亮 总体 社融 数据 宏观经济 警钟 政策 社融 中国 经济 韧性 信用 环境 企业 信用 金融机构 条件 风险 风险 政策 货币政策 银行 信贷 负债 银行 资本金 问题 解决办法 信用风险 信贷 意愿 政策 经济 债券市场 流动性 刘东亮 佐证 流动性 组合拳 关键在于 鲁 政委 经济 网 规则 标的 资管 细则 市场 非标 情况 资产 表 表 信贷 边际 企业 资被 企业 企业 杠杆 鲁 政委 经济 网 杠杆 过程 总会 规模 范围 市场 范围 企业 再融资 非标 华安 基金 首席经济学家 林采宜 资管 新规 委托 贷款 政策 非标 业务 规模 委托 贷款 信托 贷款 规模 林采宜 地方 平台 非标 领域 非标 债务 侠 情况 地产 债 新债 方式 资质 区位 优势 商业地产 企业 资金 链断裂 风险 鲁 政委 非标 人 想象 资管 国际 资管 市场 名字 另类 资管 规模 概率 结果 资管 非标 急需 资管 细则 落地 资管 产品 银行 资管 债券 非标 资产 估值 分类 细则 落地 企业 再融资 功能 鲁 政委 建议 洞察 商业 世界 城中村 租金 富士康 员工 矛头 指向 万科 村 计划 四平 钢铁 路 份 重磅 文件 小米 幕后 经 报 理性 建设性 二维码',\n",
       " '脑 脑 结构 脑 原理 图解 来源 深度 进阶 社 帖子 美丽 大脑 一起工作 大脑 红色 血管 Google 图像 地狱 点儿 看吧 生物学 人 俄罗斯 套娃 头发 然后 头皮 头骨 头骨 样 东西 头骨 东西 大脑 头骨 大脑 膜 大脑 脑膜 坚固耐用 脑膜 颅骨 齐平 大脑 疼痛 感觉 区 脑膜 感觉 疼痛 肌肤 硬膜 压力 人们 头痛 然后 蛛网膜 皮肤 然后 弹性 纤维 空间 我的 大脑 地漂 大脑 液体 脑外 颅骨 内壁 空间差距 蛛网膜 纤维 大脑 动作 减震器 头 东西 区域 脊髓 液 脑膜 脑 皮肤 大脑 恶心 血管 大脑 表面 样子 样品 猪 大脑 皮肤 粉红色 然后 头 皮层 然后 头骨 然后 脑膜 蛛网膜 软 脑膜 大脑 部分 孩子 东西 宇宙 物体 重约 神经 工程师 蒂姆 汉森 信息 密度 结构化 组织化 物质 瓦 功率 计算机 功率 瓦特 麻省理工学院 教授 勺子 舀出 软 布丁 大脑 外科医生 科学 布丁 果冻 形态 大脑 桌子 重力 形状 水母 镜子 身体 脸 机器 果冻 教授 大脑 世界地图 教授 课程 学生 大脑 学生 英里 英里 英里 答案 答案 英寸 教授 神经 科学家 大脑 有点 条 军规 感觉 人类 大脑 简单 简单 大脑 时候 大脑 头脑 水母 大脑 半球 大脑 部分 脑袋 大脑 样子 大脑 左半球 Pa 简单 示意图 爬行动物 大脑 然后 哺乳动物 兴盛 阶段 古生 哺乳动物 脑 哺乳动物 脑 部分 脑干 小脑 大脑 古老 部分 大脑 青蛙 大脑 青蛙 大脑 大脑 低水平 部分 部分 功能 古老 事 部分 事情 青蛙 蜥蜴 部分 延髓 延髓 真的 事情 心脏 速率 血压 中毒 脑桥 脑桥 膀胱 表情 唾液 眼泪 中脑 中脑 视觉 动作 警觉性 体温 事情 大脑 前脑 中脑 后脑 脑桥 中脑 事 眼球 眼球 脑桥 中脑 事情 小脑 大脑 阴囊 东西 小脑 人 保持平衡 边缘系统 大脑 边缘系统 脑干 人类 边缘系统 系统 狗 事情 大脑 边缘系统 事情 模式 边缘系统 情感 情绪 情感 机制 社会 结构 动物 必须的 每当 时 边缘系统 事情 大脑 边缘系统 人性 边缘系统 边缘系统 人类 一半 情绪 得到 边缘系统 活 社会 文明 边缘系统 部分 杏仁核 ygd 杏仁核 大脑 结构 情感 遗骸 杏仁核 证明 产生 感觉 心情 海马 体 海马 体 记忆 板子 老鼠 记忆 迷宫 方向 记忆 海马 编码 大鼠 海马 体 部分 迷宫 部分 迷宫 部分 海马 体 部分 迷宫 大鼠 任务 迷宫 海马 体记忆 板 记忆 记忆 丘脑 大脑 中心 丘脑 中间人 感官 信息 皮质 感官 睡觉时 丘脑 感官 中间人 声音 轻轻 深度 侵略性 丘脑 嗅觉 丘脑 感觉 嗅盐 人 感官 嗅觉 边缘系统 气味 记忆 情感 联系 皮层 Cortex 皮层 皮层 基本上 事情 触觉 语言 动作 思维 规划 个性 事情 额叶 个性 规划 能力 额叶 前额 叶 皮质 额叶 身体 额叶 皮质 功能 顶叶 触觉 躯体 感觉 皮层 躯体 感觉 皮层 对方 神经 科学家 部分 身体 部分 令人 图 侏儒 先锋 神经外科 医生 怀尔德 彭 菲尔德 侏儒 视觉 躯体 皮层 皮层 大脑 得到 餐巾纸 餐巾 大脑 动作 地方 感觉 记 语言 餐巾纸 记得 果冻 皮层 餐巾纸 大脑 皮层 皮层 效果 大脑 大脑 智慧 宝座 科学 大脑 科学家 身体 细胞 世纪 意大利 医生 染色 方法 脑细胞 结果 令人 细胞 样子 神经元 科学家 神经元 大脑 动物 核心 单元 类型 神经元 简单 人 神经元 锥体细胞 皮层 家伙 然后 腿 头发 胳膊 得到 神经元 神经元 家伙 躯干 神经元 轴突 静息 电位 状态 电荷 负 时候 人 脚 家伙 头发 神经元 树突 脚 化学物质 神经递质 头发 神经网络 大脑 材料 灰质 白质 灰质 颜色 体细胞 轴突 树突 白质 白色 轴突 髓鞘 脂肪 白质 大块 皮层 神经元 轴突 中心 概念 灰质 皮质 外层 白质 结构 差异 皮层 轴突 信息 大脑 皮层 脊髓 经 高速公路 躯体 部分 系统 脑 脊髓 脊髓 外 身体 部分 神经元 类型 神经元 神经元 种类 神经元 感觉 神经元 运动神经元 脊髓 神经元 类型 典型 结构 神经 可塑性 事情 神经元 电压 多达 立方体 内 消失 大脑 神经 胶质 细胞 细胞 品种 功能 化学物质 髓鞘 轴突 大脑 免疫系统 神经 胶质 细胞 多少 神经 胶质 细胞 神经元 数量 血管 皮质 毛细血管 空间 内 血管 样子 智能 实验室 人工智能 学家 科学院 机构 人工智能 互联网 脑科学 交叉 机构 智能 实验室 智能 系统 智商 体系 世界 人工智能 智商 互联网 城市 云脑 计划 互联网 城市 云脑 技术 企业 图谱 企业 行业 城市 智能 水平 实验室 感兴趣 智能 实验室 线 平台 二维码 原文',\n",
       " '共话 美业 掌贝 曾良 中国 美业 峰会 背景 美容 化妆品 行业 互联网 科技 美业 美业 主题 中国 美容 化妆品 产业 高峰论坛 北京 国家 会议 中心 掌贝 董事 首席战略顾问 百度 副总裁 大中华区副总裁 曾良 美业 专题 代表 企业 掌贝 大会 高峰论坛 全国工商联 美容 化妆品 业 商会 部委 领导 优秀企业 代表 论坛 交流 平台 美业 方向 国 党组副书记 副主席 樊友山 全国政协 委员 全国工商联 美容 化妆品 业 商会会长 陈海佳 国家 市场 监督管理 总局 消费者 权益 保护局 副局长 刘敏 国家 工业 信息化 部 消费品 工业 司 副处长 李强 国务院参事 经济学家 陈全生 大会 掌贝 董事 首席战略顾问 百度 副总裁 大中华区副总裁 曾良 猪八戒 集团副总裁 八戒 研究院 院长 周勇 人 美业 互联网 优秀企业 代表 美业 美业 用户 体验 话题 主题 掌贝 客流 助力 美业新 互联网 数据 人工智能 技术 普及 背景 美容 化妆品 行业 时代 转型 掌贝 曾良 美业 专题 曾良 美容 化妆品 行业 代表 消费者 主力 高端 化妆品 消费者 品牌意识 互联网 渠道 关键 渠道 美容 化妆品 行业 趋势 指向 线 上线 新 转型 掌贝 店铺 客流 专家 实体 店铺 线下 流量 中国 商户 客 智慧 店铺 产品 掌贝 商家 流程 客流 数字化 千人 线下 门店 经营者 老客 回头率 客 增长率 营业 美业 机遇 渠道 门店 客流 掌贝 美业 商家 客 成本 顾客 顾客 价值 深度 顾客 体验 门店 竞争力 掌贝 流量 运营商 千城 盟主 招商 计划 全 行业 合作伙伴 线下 客流 商机',\n",
       " '竞品 突围 医院 汇医慧影 行业 笔 初创 公司 创业邦 汇医慧影 创始人兼CEO 柴象飞 医学影像 领域 创业 柴象飞 本科毕业 柴象飞 欧洲 比利时 鲁汶 大学 医学影像 中心 荷兰 阿姆斯特丹 大学 癌症 中心 硕士 博士学位 博士 柴象飞 行业 顶尖 杂志 论文 因子 数 柴象飞 理论 级别 人 博士 毕业后 柴象飞 斯坦福大学 癌症 中心 博士后 师从 斯坦福大学 终身教授 斯坦福大学 医学 物理 中心 主任 邢磊 教授 科研 方面 云 数据 深度 技术 契机 柴象飞 创业 念头 令人 回国 创业 医学影像 公司 汇医慧影 柴象飞 CEO 柴象飞 医学影像 人工智能 图像处理 领域 跨学科 科研 工程 经验 医学影像 深度 核心技术 全部 创业 中国 医疗 领域 科技 公司 医疗 风口 医疗 公司 市场 热度 雅森科技 推想科技 数据 医疗 市场 规模 级别 汇医慧影 汇医慧影 A轮 人民币 B轮 公司 突围 汇医慧影 逻辑 汇医慧影 B轮 投资人 叶卫刚 汇医慧影 达泰 资本 合伙人 人 叶卫刚 柴象飞 印象 柴象飞 气 技术 背景 人 小时 聊天 叶卫刚 柴象飞 中国 创业者 柴象飞 见面 叶卫刚 柴象飞 斯坦福大学 导师 邢磊 博士 交流 邢磊 博士 斯坦福大学 医学 物理 中心 图像 放射治疗 医学 物理 肿瘤 癌症 图像处理 癌症 解码 剂量 优 算法 方面 国际 成绩 叶卫刚 倍感 邢磊 博士 实验室 科学家 人工智能 医学 领域 时 公司 技术 产业化 中肯 评价 大牛 汇医慧影 叶卫刚 创业邦 汇医慧影 整体 区别 汇医慧影 远程 医学影像 面向 医院 电子 胶片 云 平台 这两块 业务 医疗 工程化 经验 医院 云 经验 汇医慧影 人工智能 基础 汇医慧影 智能 大 数据 智能 云 平台 汇医慧影 利用 人工智能 领域 汇医慧影 深度 医院 品牌 型号 图像 层距 方面 差异 保证数据 有效性 汇医慧影 胸部 X光 气胸 肺 结节 肺结核 肿块 准确率 脑 核磁 肿瘤 胸部 肺 结节 自动识别 准确率 乳腺 钼 中 斑点 肿块 准确率 产品 成型 医院 医院 数据 模型 精准 柴象飞 领域 汇医慧影 组学 大 数据 智能 云 平台 数据 数据 病例 数据 基因 数据 数据 数据 组学 方法 结果 智能 平台 程度 医生 肿瘤 恶性 分型 指标 病人 精准 精准 医疗 计划 汇医慧影 平台 疾病 乳腺癌 结肠癌 肝癌 卵巢癌 前列腺癌 癌症 柴象飞 产品 器械 医院 关系 医院 大 医院 汇医慧影 优质 数据 汇医慧影 算法 模型 基础 数据 平台 科研项目 病种 计算速度 病种 模型 同类 公司 柴象飞 创业邦 领域 邢磊 博士 计划 肝癌 肺癌 产生 副作用 计划 图像 方面 大量 领域 汇医慧影 肿瘤医院 中山 肿瘤医院 天津 肿瘤医院 北京肿瘤医院 医院 汇医慧影 医学影像 人工智能 高科技 商业化 汇医慧影 产生 营收 柴象飞 数据 想象 空间 企业 汇医慧影 人 技术 团队 成员 哈佛大学 UC 伯克利大学 斯坦福大学 墨尔本大学 清华大学 北京大学 高校 汇医慧影 省 团队 系统 飞利浦 医疗器械 厂家 交叉学科 人才 汇医慧影 B轮 金额 省份 模式 病种 公司 技术 人才 汇医慧影 首席顾问 科学家 邢磊 博士 百宝箱 科研 产业 前瞻性 B轮 邢磊 博士 全球 人工智能 优才 计划 硅谷 中心 医学 硕士 博士 工科 计划 范围 优质 毕业生 柴象飞 医工 专业人才 人选 公司 汇医慧影 联合创始人 郭娜 医学影像 人工智能 领域 人才 领域 理论 人才 应用型 人才 大量 医工 人才 郭娜 举例 类型 人才 飞利浦 科技 科学部 高级总监 周振宇 国家 医工 人才 市场 需求量 远大于 供应量 医学影像 领域 大量 跨学科 优秀人才 优才 计划 汇医慧影 想象 空间 于微软 系统 车 联网 云 平台 技术 汽车 生产商 平台 汽车品牌 车 联网 技术 利用 客户 案例 平台 汇医慧影 人才 人才库 人才 模型 行业 人才 计划 汇医慧影 行业 竞争力 产品 有多 郭娜 汇医慧影 团队 阵容 证实 柴象飞 人才 哈佛大学 UC 伯克利大学 斯坦福大学 墨尔本大学 清华大学 北京大学 高校 数据处理 医学 科研 实践经验 柴象飞 医学 交叉 团队 行业 专家 事情 作者 科技领域 商业价值 公司 产品 人和事 邮箱',\n",
       " '东方金钰 独立董事 公司 董事会 会议 事项 意见 平台 事件 互金 网贷之家 作者 哥 网贷之家 编 舆情 频道 数据 精心 整理 东方金钰 独立董事 公司 董事会 会议 事项 意见 文章 东方金钰 独立董事 公司 董事会 会议 事项 意见 东方金钰 股份 有限公司 独立董事 公司 董事会 会议 事项 意见 中华人民共和国 公司法 中华人民共和国 证券法 上市公司 独立董事 制度 指导 意见 上海证券交易所 东方金钰 独立董事 公司 董事会 会议 事项 意见 东方金钰 股份 有限公司 独立董事 公司 董事会 会议 事项 意见 中华人民共和国 公司法 中华人民共和国 证券法 上市公司 独立董事 制度 指导 意见 上海证券交易所 股票 上市 规则 上市公司 员工 计划 试点 指导 意见 指导 意见 法律法规 公司章程 规定 东方金钰 股份 有限公司 公司 独立董事 个人 立场 公司 董事会 会议 事项 意见 公司 东方金钰 小贷 资产 公司 事宜 东方金钰 小贷 资产 资金 东方金钰 小贷 业务 东方金钰 小贷 业务 规模 公司 公司 整体利益 东方金钰 小贷 标的 资产 能力 公司 物 能力 义务 风险 整体 议案 决策程序 法律法规 规定 公司 公司 股东 股东 利益 情形 无正文 东方金钰 股份 有限公司 独立董事 董事会 会议 事项 意见 独立董事 张兆国 万安 娃 交通银行股份有限公司 交通银行 公司 董事会 全体 董事 公告 内容 误导性 陈述 遗漏 内容 真实性 准确性 完整性 个别 董事会 会议 情况 公司 董事会 会议 会议 上海 现场 香港 视频 广州 视频 北京 视频 公司 全体 董事 监事 会议 文件 彭纯 董事长 主持会议 董事 名 董事 名 委托 董事 名 寒星 执行董事 书面 委托 王太银 执行董事 行使 陈志武 独立董事 书面 委托 永顺 独立董事 行使 部分 监事 高管 列席会议 人数 中华人民共和国 公司法 交通银行股份有限公司 章程 规定 董事会 会议 情况 交通银行股份有限公司 资本 规划 决议 会议 交通银行股份有限公司 资本 规划 议案 公司 股东大会 情况 票 票 弃权 票 蔡浩仪 先生 交通银行股份有限公司 执行董事 决议 会议 蔡浩仪 先生 交通银行股份有限公司 执行董事 议案 股东大会 蔡浩仪 先生 公司 执行董事 股东大会 委任 蔡浩仪 先生 董事会 人事 薪酬 委员会 主任委员 董事会 风险管理 关联 交易 委员会 委员 蔡浩仪 先生 中国 银监会 核准 执行董事 资格 蔡浩仪 先生 资格 核准 陈志武 先生 公司 执行董事 董事会 风险管理 关联 交易 委员会 委员 董事会 人事 薪酬 委员会 委员 刘力 先生 董事会 人事 薪酬 委员会 主任委员 名 独立董事 意见 情况 票 票 弃权 票 蔡浩仪 先生 附件 独立董事 人 声明 附件 独立董事 候选人 声明 附件 顾生 先生 交通银行股份有限公司 董事会秘书 决议 会议 顾生 先生 交通银行股份有限公司 董事会秘书 议案 顾生 先生 公司 董事会秘书 公司 秘书 授权代表 顾生 先生 上海证券交易所 董事会秘书 资格证书 中国 银监会 核准 董事会秘书 资格 生效 顾生 先生 附件 名 独立董事 意见 情况 票 票 弃权 票本 公司 香港 交易所 有限公司 联交所 委任 顾生 先生 公司 秘书 公司 严格遵守 联交所 证券 上市 规则 规定 顾生 先生 香港 秘书 公会 会员 伍炳光 先生 公司 秘书 职能 联交所 长顺 先生 公司 候任 董事会秘书 公司 秘书 授权代表 长顺 先生 公司 董事会 意见分歧 公司 股东 债权人 事项 公告 附件 蔡浩仪 先生 独立董事 人 声明 独立董事 候选人 声明 顾生 先生 交通银行股份有限公司 董事会 附件 蔡浩仪 先生 蔡浩仪 男 生 中国 国籍 研究员 蔡先生 中国人民银行 历任 金融 研究所 研究生部 主任科员 处 副处长 办公室主任 副主任 金融 研究所 副所长 研究局 副局长 货币政策委员 秘书长 中国银行 执行董事 中国光大银行 监事长 蔡先生 清华大学 五道口 金融 学院 硕士生导师 对外经济贸易大学 博士生导师 中国人民银行 金融 研究所 博士后 指导老师 蔡先生 中国人民银行 金融 研究所 博士学位 国务院 特殊津贴 附件 独立董事 人 声明 人 交通银行股份有限公司 董事会 蔡浩仪 交通银行股份有限公司 董事会 独立董事 候选人 人 职业 专长 背景 经历 职务 情况 人 书面 交通银行股份有限公司 董事会 独立董事 候选人 独立董事 候选人 声明 人 人 独立董事 资格 交通银行股份有限公司 独立性 关系 声明 人 上市公司 基本知识 法律 行政 法规 规章 规范性 文件 法律 经济 财务 独立董事 职责 经验 人 上市公司 管理人员 指引 规定 独立董事 资格证书 人 上海证券交易所 独立董事 资格 独立董事 资格证书 人 资格 法律 行政 法规 部门规章 公司法 董事 资格 规定 公务员法 公务员 职务 规定 中央纪委 中央组织部 规范 中管 干部 公职 上市公司 基金 公司 独立董事 监事 规定 中央纪委 教育部 监察部 意见 高校 领导班子 成员 职务 规定 中国保监会 保险公司 独立董事 暂行办法 规定 法律 行政 法规 部门规章 规定 情形 人 独立性 情形 上市公司 企业 人员 指 父母 子女 指 兄弟姐妹 岳父母 儿媳 女婿 兄弟姐妹 兄弟姐妹 上市公司 股份 上市公司 股东 股东 上市公司 股份 股东 单位 上市公司 股东 单位 人员 上市公司 实际 人 企业 人员 上市公司 控股股东 企业 财务 法律 人员 中介机构 项目组 全体人员 人员 报告 人员 合伙人 负责人 上市公司 控股股东 企业 业务 往来 单位 董事 监事 管理人员 业务 往来 单位 控股股东 单位 董事 监事 管理人员 内 情形 人员 上海证券交易所 独立性 情形 独立董事 候选人 纪录 中国证监会 行政处罚 证券 交易所 上市公司 董事 证券 交易所 独立董事 董事会 会议 董事会 会议 次数 董事会 会议 次数 独立董事 意见 事实 交通银行股份有限公司 人 独立董事 上市公司 数量 人 交通银行股份有限公司 人 上海证券交易所 上海证券交易所 上市公司 独立董事 备案 指引 独立董事 候选人 资格 核实 符合要求 人 声明 陈述 误导 成分 人 明白 声明 后果 声明 人 交通银行股份有限公司 董事会 附件 独立董事 候选人 声明 蔡浩仪 人 交通银行股份有限公司 董事会 交通银行股份有限公司 董事会 独立董事 候选人 声明 独立董事 资格 银行 股份 有限公司 独立董事 独立性 关系 声明 上市公司 基本知识 法律 行政 法规 规章 规范性 文件 法律 经济 财务 独立董事 职责 经验 上市公司 管理人员 指引 规定 独立董事 资格证书 上海证券交易所 独立董事 资格 独立董事 资格证书 资格 法律 行政 法规 部门规章 公司法 董事 资格 规定 公务员法 公务员 职务 规定 中央纪委 中央组织部 规范 中管 干部 公职 上市公司 基金 公司 独立董事 监事 规定 中央纪委 教育部 监察部 意见 高校 领导班子 成员 职务 规定 中国保监会 保险公司 独立董事 暂行办法 规定 法律 行政 法规 部门规章 规定 情形 独立性 情形 上市公司 企业 人员 指 父母 子女 指 兄弟姐妹 岳父母 儿媳 女婿 兄弟姐妹 兄弟姐妹 上市公司 股份 上市公司 股东 股东 上市公司 股份 股东 单位 上市公司 股东 单位 人员 上市公司 实际 人 企业 人员 上市公司 控股股东 企业 财务 法律 人员 中介机构 项目组 全体人员 人员 报告 人员 合伙人 负责人 上市公司 控股股东 企业 业务 往来 单位 董事 监事 管理人员 业务 往来 单位 控股股东 单位 董事 监事 管理人员 内 情形 人员 上海证券交易所 独立性 情形 纪录 中国证监会 行政处罚 证券 交易所 上市公司 董事 证券 交易所 独立董事 董事会 会议 董事会 会议 次数 董事会 会议 次数 独立董事 意见 事实 交通银行股份有限公司 独立董事 上市公司 数量 交通银行股份有限公司 上海证券交易所 上海证券交易所 上市公司 独立董事 备案 指引 独立董事 候选人 资格 核实 符合要求 独立董事 职责 声明 陈述 误导 成分 明白 声明 后果 上海证券交易所 声明 资格 独立性 交通银行股份有限公司 独立董事 法律法规 中国证监会 规章 规定 上海证券交易所 业务 规则 上海证券交易所 时间 精力 履行职责 公司 股东 实际 人 公司 利害关系 单位 个人 独立董事 资格 情形 情形 之日起 独立董事 职务 声明 声明 人 蔡浩仪 附件 顾生 先生 顾生 男 生 中国 国籍 高级经济师 顾先生 中国农业银行 江苏 兴化县 信贷 办事员 历任 交通银行 南京 人事 教育处 科员 科 副科长 人事 科科长 人事 教育处 副处长 副行长 行长 交通银行 人事 教育部 人事处 处长 历任 交通银行 海南 副行长 南京 副行长 苏州 行长 江苏省 行长 交通银行 人力资源部 总经理 顾先生 南京大学 管理人员 硕士学位 东方金钰 独立董事 公司 董事会 会议 事项 意见 东方金钰 股份 有限公司 独立董事 董事会 会议 事项 意见 东方金钰 股份 有限公司 公司 董事会 会议 立场 中华人民共和国 公司法 中华人民共和国 证券法 上海证券交易所 东方金钰 独立董事 公司 董事会 会议 事项 意见 证券 代码 证券 奥马电器 公告 编号 广东奥马电器股份有限公司 董事会 会议 决议 公告 公司 董事会 全体成员 信息 内容 误导性 陈述 遗漏 董事会 会议 情况 广东奥马电器股份有限公司 公司 董事会 会议 书面 电子邮件 方式 会议 现场 通讯 方式 会议 董事 名 实际 董事 名 会议 公司法 公司章程 规定 会议 合法 董事会 会议 情况 董事 议案 董事会 独立董事 议案 公司法 公司章程 规定 赵国栋 先生 李迎晨 先生 饶康达 先生 杨锐 志 先生 公司 董事会 独立董事 候选人 董事会 董事会 独立董事 董事会 产生 职责 公司 独立董事 公司 董事会 换届选举 意见 公告 于巨潮 资讯网 独立董事 董事会 会议 事项 意见 议案 尚需 东方金钰 独立董事 公司 董事会 会议 事项 意见 东方金钰 股份 有限公司 独立董事 董事会 会议 事项 意见 东方金钰 股份 有限公司 公司 董事会 会议 立场 中华人民共和国 公司法 中华人民共和国 证券法 上海证券交易所 股票 上市 规则 上市公司 独立董事 制度 指导 意见 法律法规 公司 子公司 深圳 东方金钰 债权 公司 事项 意见 公司 全体 股东 态度 公司 子公司 深圳 东方金钰 华澳 信托 债权 公司 深圳 东方金钰 事项 公司 公司 深圳 东方金钰 股权 公司 实际 人 公司 财务状况 资信 情况 子公司 深圳 东方金钰 公司 债权 华澳 国际 信托 有限公司 华澳 信托 债权 拓宽 渠道 公司 现金流 资金周转 效率 子公司 业务 公司 资金 公司 整体利益 公司 子公司 债权 事项 公司 股东大会 董事会 事项 决策 范围 程序 符合国家 法律 法规 公司章程 规定 股东 股东 利益 债权 事项 表示同意 公司 程序 情况 信息 义务 公司 子公司 深圳 东方金钰 债权 事项 财务 风险 公司 范围 内 公司 公司 股东 股东 利益 公司 余额 子公司 公司 子公司 余额 公司 经 净资产 比例 公司 公司 股东 实际 人 关联方 单位 个人 无正文 东方金钰 股份 有限公司 独立董事 董事会 会议 事项 意见 独立董事 张兆国 万安 娃 证券 代码 证券 奥马电器 公告 编号 广东奥马电器股份有限公司 董事会 会议 决议 公告 公司 董事会 全体成员 信息 内容 误导性 陈述 遗漏 董事会 会议 情况 广东奥马电器股份有限公司 公司 董事会 会议 书面 电子邮件 方式 会议 现场 通讯 方式 会议 董事 名 实际 董事 名 会议 公司法 公司章程 规定 会议 合法 董事会 会议 情况 董事 议案 董事会 独立董事 议案 公司法 公司章程 规定 赵国栋 先生 李迎晨 先生 饶康达 先生 杨锐 志 先生 公司 董事会 独立董事 候选人 董事会 董事会 独立董事 董事会 产生 职责 公司 独立董事 公司 董事会 换届选举 意见 公告 于巨潮 资讯网 独立董事 董事会 会议 事项 意见 议案 尚需 股东大会 候选人 附件 公司 董事会 公司 管理人员 职工代表 董事 人数 总计 公司 董事 总数 结果 票 票 弃权 票 董事会 独立董事 议案 公司法 公司章程 规定 朱玉杰 先生 王建新 先生 朱登凯 先生 公司 董事会 独立董事 候选人 公司 独立董事 公司 董事会 换届选举 意见 独立董事 董事会 会议 事项 意见 独立董事 人 声明 独立董事 候选人 声明 信息 媒体 巨潮 资讯网 朱登凯 先生 独立董事 资格证书 深圳证券交易所 独立董事 备案 规定 朱登凯 先生 书面 独立董事 深圳证券交易所 独立董事 资格证书 董事会 董事会 独立董事 董事会 产生 职责 独立董事 松柏 先生 才华 先生 公司 职务 公司 张 松柏 先生 才华 先生 任职期间 贡献 衷心感谢 独立董事 候选人 资格 尚需 深圳证券交易所 深圳证券交易所 将本 议案 公司 股东大会 议案 需提交 股东大会 候选人 附件 结果 票 票 弃权 票 融资券 议案 融资券 公告 巨潮 资讯网 结果 票 票 票 弃权 票据 议案 票据 公告 巨潮 资讯网 结果 票 票 票 弃权 银行间 债券市场 债务 工具 信息 管理制度 银行间 债券市场 债务 工具 信息 管理制度 巨潮 资讯网 结果 票 票 票 弃权 公司 股东大会 议案 公司 股东大会 巨潮 资讯网 结果 票 票 票 弃权 文件 广东奥马电器股份有限公司 董事会 会议 决议 公告 广东奥马电器股份有限公司 董事会 赵国栋 先生 中国 国籍 居留权 清华大学 五道口 金融 学院 MBA 现任 公司 董事长 总经理 中融金 北京 科技有限公司 董事长 钱包金服 北京 科技有限公司 执行董事 钱包金服 平潭 科技有限公司 董事长 钱包 平潭 科技有限公司 执行董事 职 京东 集团副总裁 网银在线 公司 CEO 中国 协会 常务理事 公安部 工程师 职 赵国栋 先生 奥马电器 股份 公司 控股股东 实际 人 奥马电器 股份 西藏 众 金 有限公司 人 关系 公司 股份 股东 公司 董事 监事 管理人员 关联 关系 中国证监会 部门 证券 交易所 中华人民共和国 公司法 公司章程 规定 公司 董事 情形 李迎晨 先生 中国 国籍 居留权 高级经济师 资格 现任 公司 副总经理 中国建设银行 浦发银行 民生银行 总行 金融机构 职务 商用 数据 系统 个人消费 和小微 企业 资产 产品 数据 风 系统 资本运作 方面 实践经验 李迎晨 奥马电器 股 股份 公司 控股股东 实际 人 公司 股份 股东 董事 监事 管理人员 关联 关系 中国证监会 部门 证券 交易所 中华人民共和国 公司法 公司章程 规定 公司 董事 情形 饶康达 先生 中国 国籍 居留权 硕士 研究生 学历 现任 公司 董事 沣 石 上海 有限公司 董事长 创始合伙人 职务 国泰君安证券股份有限公司 企业 总部 投资银行 总部 部 高级经理 董事 执行董事 董事总经理 饶康达 先生 奥马电器 股份 公司 控股股东 实际 人 公司 股份 股东 董事 监事 管理人员 关联 关系 中国证监会 部门 证券 交易所 中华人民共和国 公司法 公司章程 规定 公司 董事 情形 杨锐 志 先生 中国 国籍 居留权 本科学历 中国 注册会计师 美国注册管理会计师 国际 审计师 国际 信息系统 审计师 现任 中融金 北京 科技有限公司 财务总监 德勤华 永 会计师 事务所 北京 审计师 传媒 集团 财务经理 上海 有限公司 项目经理 艺龙 旅行网 总监 财务总监 首席财务官 CFO 职务 杨锐 志 奥马电器 股份 公司 控股股东 实际 人 公司 股份 股东 董事 监事 管理人员 关联 关系 中国证监会 部门 证券 交易所 中华人民共和国 公司法 公司章程 规定 公司 董事 情形 朱玉杰 先生 中国 国籍 居留权 清华大学 经管 学院 博士 现任 清华大学 经管 学院 教授 清华大学 经管 学院 副教授 讲师 助教 朱玉杰 先生 奥马电器 股份 公司 控股股东 实际 人 公司 股份 股东 董事 监事 管理人员 关联 关系 中国证监会 部门 证券 交易所 中华人民共和国 公司法 公司章程 规定 公司 董事 情形 王建新 先生 中国 国籍 居留权 上海 财经 学 会计学院 博士 现任 中国 财政 科学 研究院 教授 中国 财政 科学 研究院 副教授 讲师 王建新 先生 奥马电器 股份 公司 控股股东 实际 人 公司 股份 股东 董事 监事 管理人员 关联 关系 中国证监会 部门 证券 交易所 中华人民共和国 公司法 公司章程 规定 公司 董事 情形 朱登凯 先生 中国 国籍 居留权 中国人民大学 法学硕士 现任 北京市 中伦文德 律师 事务所 合伙人 朱登凯 先生 奥马电器 股份 公司 控股股东 实际 人 公司 股份 股东 董事 监事 管理人员 关联 关系 中国证监会 部门 证券 交易所 中华人民共和国 公司法 公司章程 规定 公司 董事 情形 证券 代码 证券 广弘 公告 编号 广东 广弘 股份 有限公司 董事会 换届选举 提示性 公告 公司 董事会 全体成员 信息 内容 误导性 陈述 遗漏 广东 广弘 股份 有限公司 公司 董事会 任期 董事会 换届选举 换届选举 公司法 公司章程 规定 换届选举 事项 公告 董事会 情况 公司 董事会 名 董事 独立董事 名 董事 任期 股东大会 之日起 任期 董事 任期 董事 候选人 独立董事 候选人 公司 董事会 有权 董事会 独立董事 候选人 公告 之日起 公司 股份 总数 股东 有权 董事会 董事 候选人 独立董事 候选人 公司 董事会 监事会 有权 董事会 独立董事 候选人 公告 之日起 公司 股份 股东 有权 董事会 独立董事 候选人 换届选举 程序 人 公司 书面 董事 候选人 名单 资料 时间 公司 董事会 委员会 董事 候选人 资格 资格 董事 候选人 公司 董事会 股东大会 董事 候选人 股东大会 书面 资料 董事 职责 独立董事 声明 公司 公告 独立董事 股东大会 时 独立董事 候选人 资料 独立董事 人 声明 独立董事 候选人 声明 独立董事 履历表 深圳证券交易所 备案 董事会 董事会 董事 法律法规 规定 履行职责 换届选举 方式 公司章程 规定 换届选举 投票制 股东大会 独立董事 独立董事 时 股份 独立董事 独立董事 人数 股东 董事 资格 独立董事 资格 公司法 公司章程 法律法规 规定 公司 独立董事 职务 必须的 技能 素质 时间 精力 职责 情形 公司 董事 民事行为 能力 民事行为 能力 财产 财产 社会主义 市场经济 秩序 权利 公司 企业 董事 厂长 总经理 公司 企业 个人 责任 公司 企业破产 之日起 营业执照 责令 公司 企业 法定代表人 个人 责任 公司 企业 营业执照 之日起 个人 数额较大 债务 中国证监会 证券市场 期限 证券 交易所 上市公司 董事 监事 管理人员 法律 行政 法规 部门规章 规定 内容 独立董事 资格 公司 独立董事 候选人 董事 资格 条件 独立董事 候选人 上市公司 基本知识 法律 行政 法规 部门规章 规范性 文件 深圳证券交易所 业务 规则 法律 经济 会计 财务 独立董事 职责 经验 独立董事 候选人 上市公司 管理人员 指引 规定 独立董事 资格证书 独立董事 候选人 公司 独立董事 股东大会 公告 时 独立董事 资格证书 书面 独立董事 独立董事 资格证书 独立董事 候选人 法律 行政 法规 部门规章 规范性 文件 深圳证券交易所 业务 规则 独立董事 资格 条件 规定 公司法 董事 资格 规定 中华人民共和国 公务员法 规定 指导 意见 规定 中共中央纪委 规范 中管 干部 公职 上市公司 基金 公司 独立董事 监事 规定 中共中央组织部 规范 党政领导 干部 企业 问题 意见 规定 中共中央纪委 教育部 监察部 意见 规定 法律 行政 法规 部门规章 规范性 文件 独立董事 资格 条件 规定 独立董事 候选人 独立性 人员 独立董事 上市公司 企业 人员 上市公司 股份 上市公司 股东 股东 上市公司 股份 股东 单位 上市公司 股东 单位 人员 上市公司 控股股东 实际 人 企业 人员 上市公司 控股股东 实际 人 企业 财务 法律 人员 中介机构 项目组 全体人员 人员 报告 人员 合伙人 负责人 上市公司 控股股东 实际 人 企业 业务 往来 单位 人员 业务 往来 单位 控股股东 单位 人员 情形 人员 独立董事 候选人 单位 独立性 情形 人员 深圳证券交易所 独立性 人员 独立董事 候选人 记录 中国证监会 证券市场 措施 期限 证券 交易所 上市公司 董事 监事 管理人员 期限 内因 证券期货 中国证监会 行政处罚 司法机关 因涉嫌 证券期货 中国证监会 立案 司法机关 立案侦查 结论 意见 证券 交易所 对象 国家 部委 上市公司 董事 职务 独立董事 董事会 会议 委托 董事 董事会 会议 董事会 股东大会 深圳证券交易所 情形 上市公司 独立董事 事实 之日起 上市公司 独立董事 候选人 上市公司 独立董事 上市公司 独立董事 候选人 会计专业 人士 身份 独立董事 候选人 会计专业 经验 条件 注册会计师 资格 会计 财务管理 专业 高级职称 副教授 职称 博士学位 人 文件 人 书面 方式 董事 候选人 公司 董事会 文件 董事 候选人 函 基本 情况表 原件 格式 附件 附件 董事 候选人 身份证明 复印件 原件 独立董事 候选人 独立董事 资格证书 复印件 原件 时 独立董事 资格证书 书面 独立董事 资格 独立董事 资格证书 证明 公告 规定 条件 文件 人为 公司 股东 文件 个人 股东 身份证明 复印件 法人 股东 公章 营业执照 复印件 证券 账户卡 复印件 公告 凭证 人向 公司 董事会 董事 候选人 方式 方式 方式 人 文件 公司 联系人 处方 人 人 义务 公司 文件 资料 真实性 公司 文件 材料 联系地址 广东省 广州市 东风 中路 越秀 城市 广场 南塔 楼 联系人 苏东 电话 邮编 附件 董事 候选人 函 基本 信息 上市公司 独立董事 候选人 履历表 公告 广东 广弘 股份 有限公司 董事会 附件 广东 广弘 股份 有限公司 董事会 董事 候选人 函 附件 上市公司 独立董事 候选人 履历表 上市公司 名称 广东 广弘 股份 有限公司 独立董事 姓名 楷体 郑重声明 履历表 内容 遗漏 误导性 陈述 明白 声明 后果 深圳证券交易所 履历表 资料 上市公司 独立董事 上市公司 独立董事 履历表 上市公司 独立董事 人才库 上市公司 独立董事 董事会 决议 独立董事 候选人 上市公司 独立董事 履历表 上市公司 独立董事 履历表 部分 信息 信息 上市公司 独立董事 资料 部门 备案 独立董事 个人 简况 国家 居留权 国家 居留权 国家 居留权 会计专业 人士 会计专业 人士 会计学 副教授 教授 高级会计师 注册会计师 项 行政处罚 证券 交易所 纪律处分 独立董事 上市公司 项 独立董事 上市公司 证券 父母 子女 兄弟姐妹 兄弟姐妹 董事 公司股票 背景 中学 大专 硕士 博士 博士后 学校 机构 专业 学历 学位 博士后 经历 格式 单位 单位 岗位 单位 大学毕业 单位 单位 法律 会计 税务 技术 顾问 专 单位 课题 技术 单位 国家有关 规定 保密 语言 董事 经历 格式 董事 类别 指 董事 独立董事 董事长 公司 董事 类别 公司 单指 上市公司 毕业后 精神 专业 资格 专业 资格证书 方式 指是 评议 内容 方式 著作 成就 著作 作者 主编 论文 著作 成就 指 成果 著作 成就 前 情 上市公司 独立董事 总收入 比例 董事 公司股票 品种 数量 上市公司 公司 独立董事 薪酬 利益 大额 清偿债务 债务 数量 罚款 营业执照 公司 企业 法定代表人 公司 企业 董事 监事 厂长 经理 途径 上市公司 独立董事 独立董事 意向 行业 地区 上市公司 独立董事 津贴 数量 证券 代码 证券 广弘 公告 编号 广东 广弘 股份 有限公司 监事会 换届选举 提示性 公告 公司 监事会 全体成员 信息 内容 误导性 陈述 遗漏 广东 广弘 股份 有限公司 公司 监事会 任期 监事会 换届选举 换届选举 公司法 公司章程 规定 换届选举 事项 公告 监事会 情况 公司 监事会 名 监事 股东 代表 监事 名 职工代表 监事 名 监事会 监事 任期 股东大会 职工 代表大会 之日起 监事 任期 监事 候选人 公司 监事会 有权 监事会 监事 候选人 公告 之日起 公司 股份 总数 股东 有权 监事会 监事 候选人 换届选举 程序 人 公司 书面 监事 候选人 名单 资料 时间 公司 监事 候选人 资格 资格 监事 候选人 公司 监事会 股东大会 监事 候选人 股东大会 书面 资料 监事 职责 监事会 监事会 监事 法律法规 规定 履行职责 换届选举 方式 公司章程 规定 换届选举 投票制 股东大会 监事 时 股份 监事 人数 股东 监事 资格 公司法 公司章程 法律法规 规定 监事 法律 会计 方面 专业知识 经验 监事 候选人 法律法规 监事 资格 公司 监事 情形 公司 监事 民事行为 能力 民事行为 能力 财产 财产 社会主义 市场经济 秩序 权利 公司 企业 董事 厂长 经理 公司 企业 个人 责任 公司 企业破产 之日起 营业执照 责令 公司 企业 法定代表人 个人 责任 公司 企业 营业执照 之日起 个人 数额较大 债务 中国证监会 证券市场 措施 期限 证券 交易所 上市公司 董事 监事 管理人员 公司 董事 总经理 管理人员 监事 法律 行政 法规 部门规章 规定 内容 人 文件 人 书面 方式 监事 候选人 公司 监事会 文件 监事 候选人 函 基本 情况表 原件 格式 附件 监事 候选人 身份证明 复印件 原件 证明 公告 规定 条件 文件 人为 公司 股东 文件 个人 股东 身份证明 复印件 法人 股东 公章 营业执照 复印件 证券 账户卡 复印件 公告 凭证 人向 公司 监事会 监事 候选人 方式 方式 方式 人 文件 公司 联系人 处方 人 人 义务 公司 文件 资料 真实性 公司 文件 材料 联系地址 广东省 广州市 东风 中路 越秀 城市 广场 南塔 楼 联系人 苏东 电话 邮编 附件 监事 候选人 函 基本 信息 公告 广东 广弘 股份 有限公司 监事会 附件 广东 广弘 股份 有限公司 监事会 监事 候选人 函 东方金钰 独立董事 公司 董事会 会议 事项 意见 证券 代码 证券 中顺 公告 编号 中顺 纸业 股份 有限公司 董事会 独立董事 候选人 公告 公司 董事会 全体成员 信息 内容 误导性 陈述 遗漏 中顺 纸业 股份 有限公司 公司 董事会 任期 公司 董事会 会议 董事会 独立董事 议案 公司 董事会 黄洪燕 先生 公司 董事会 独立董事 候选人 任期 股东大会 之日起 黄洪燕 先生 公司 董事 监事 管理人员 深圳证券交易所 独立董事 备案 办法 规定 黄洪燕 先生 公司 董事会 独立董事 候选人 情况 公司 董事会 独立董事 候选人 黄洪燕 先生 个人 公司 公司 董事会 独立董事 广东乐心医疗电子股份有限公司 A股 上市公司 独立董事 碧桂园 有限公司 香港 上市公司 独立董事 广东 便捷神 科技股份 有限公司 三板 董事 广东顺德三合工业自动化设备股份有限公司 三板 董事 广东 煦 智 科技有限公司 法定代表人 佛山市 尚捷 服务中心 普通 合伙 事务 合伙人 佛山市 思达 有限公司 总经理 有限公司 副董事长 广东 佳洋 有限公司 董事 广东日丰电缆股份有限公司 董事 广东 天泓新 材料 科技有限公司 董事 广东 煦 环 科技有限公司 董事 珠海聚碳复合材料有限公司 董事 黄洪燕 先生 会计专业 经验 中国 注册会计师 国际 审计师 资产 评估师 税务师 会计师 公司 董事会 独立董事 缺席 公司 董事会 公司 专业 利用自身 经验 公司 规范 财务 内审 规范 方面 上市公司 独立董事 职责 黄洪燕 先生 公司 公司 规范 产生 股东 协商 公司 董事会 委员会 资格 公司 董事会 黄洪燕 先生 公司 董事会 独立董事 候选人 公告 中顺 纸业 股份 有限公司 董事会 证券 代码 证券 中顺 公告 编号 中顺 纸业 股份 有限公司 全资 子公司 高新技术 企业 证书 公告 公司 董事会 全体成员 信息 内容 误导性 陈述 遗漏 中顺 纸业 股份 有限公司 公司 全资 子公司 中顺 四川 纸业 有限公司 四川 中顺 四川省 科学技术 厅 四川省 财政厅 四川省 国家税务局 四川省 地方税务局 高新技术 企业 证书 证书编号 R2 1001 时间 有效期 中华人民共和国 企业 所得税法 规定 四川 中顺自 高新技术 企业 内 国家 高新技术 企业 优惠政策 税率 企业 所得税 证书 四川 中顺 技术 方面 税负 公司 业绩 产生 公司 公告 中顺 纸业 股份 有限公司 董事会 东方金钰 独立董事 公司 董事会 会议 事项 意见 证券 代码 证券 连云港 公告 编号 临 江苏 连云港 港口 股份 有限公司 董事会 换届选举 提示性 公告 公司 董事会 全体 董事 公告 内容 误导性 陈述 遗漏 内容 真实性 准确性 完整性 个别 江苏 连云港 港口 股份 有限公司 公司 董事会 董事会 换届选举 公司法 公司章程 东 大会 议事规则 董事会 议事规则 独立董事 制度 规定 董事会 方式 董事 候选人 换届选举 程序 董事 候选人 资格 事项 公告 董事会 方式 现行 公司章程 规定 董事会 名 董事 董事 名 董事 任期 股东大会 之日起 任期 公司章程 投票制 实施细则 规定 董事会 投票制 独立董事 独立董事 原则 董事 候选人 独立董事 候选人 公司 董事会 有权 董事会 独立董事 候选人 公司 股份 总数 股东 有权 董事会 独立董事 候选人 独立董事 候选人 公司 董事会 监事会 有权 董事会 独立董事 候选人 公司 股份 总数 股东 有权 董事会 独立董事 候选人 换届选举 程序 人 公司 董事会 秘书处 董事 选人 名单 资料 公司 董事会 委员会 公司 参 企 业 人才 市场 董事 人选 公司 董事会秘书 名单 资料 报 董事会 委员会 委员 董事 人选 董事 人选 资格 资格 董事 人选 董事会 公司 董事会 委员会 人选 董事会 会议 董事 候选人 名单 股东大会 董事 候选人 股东大会 书面 诺 资料 董事 职责 公司 董事 股东大会 时 独立董事 候选人 材料 人 声明 候选人 声明 独立董事 履历表 上海 证券 交易所 董事会 经 股东大会 产生 公司 董事 保密 协议 董事 资格 独立董事 资格 公司法 公司章程 规定 公司 董事 候选人 职务 必须的 技能 素质 时间 精力 职责 条款 事实 公司 独立董事 民事行为 能力 民事行为 能力 财产 财产 社会主义 市场经济 秩序 权利 公司 企业 董事 厂长 经理 公司 企业 产 个人 责任 公司 企业破产 之日起 营业执照 责令 公司 企业 法定代表人 个人 责任 公司 企业 营业执照 之日起 个人 数额较大 债务 中国证监会 证券市场 期限 上海证券交易所 上市公司 董事 监事 人员 法律 行政 法规 部门规章 规定 内容 独立董事 资格 公司 独立董事 候选人 董事 资格 条件 上市公司 基本知识 法律 行政 法规 规章 规 法律 经济 财务 独立董事 职责 经验 独立董事 资格证书 时 独立董事 资格证书 书面 独立董事 资格 独立董事 资格证书 独立董事 候选人 资格 法律 行政 法规 部门规章 中华人民共和国 公司法 董事 资格 规定 中华人民共和国 公务员法 公务员 职务 规定 中央纪委 中央组织部 规范 中管 干部 公职 上市公司 基金 公司 独立董事 监事 规定 中央纪委 教育部 监察部 意见 高校 领导班子 成员 职务 规定 法律 行政 法规 部门规章 规定 情形 独立董事 候选人 独立性 情形 公司 公司 企业 人员 公司 股份 公司 股东 人 股东 公司 股份 股东 单位 公司 股东 单位 人员 公司 实际 人 企业 人员 公司 控股股东 企业 财务 法律 人员 中介机构 项目组 全体人员 人员 报 人员 合伙人 负责人 公司 控股股东 企业 业务 往来 单 董事 监事 管理人员 业务 往来 单位 控股股东 单位 董事 监事 管理人员 内 情形 人员 上海证券交易所 独立性 情形 人 文件 人 董事 候选人 公司 董事会 文件 董事 候选人 书 格式 附件 董事 候选人 身份证明 复印件 原件 董事 候选人 学历 学位证书 复印件 原件 独立董事 候选人 独立董事 资格证书 复印件 证明 公告 规定 条件 文件 人为 公司 股东 人 文件 个人 股东 身份证明 复印件 原件 法人 股东 营业执照 复印件 原件 股票 帐户卡 复印件 原件 人 董事 候选人 方式 方式 方式 文件 公 司 董事会秘书 处方 方式 文件 原件 公司 董事会秘书 处方 公司 董事 候选人 联系 部门 公司 董事会 秘书处 联系地址 连云港市 连云区 中华 西路 港口 大厦 室 邮编 联系人 刘坤 高雅 电话 公告 江苏 连云港 港口 股份 有限公司 董事会 附件 董事会 董事 候选人 书 江苏 连云港 港口 股份 有限公司 董事会 董事 候选人 书 人 联系人 董事 候选人 类别 独立董事 独立董事 董事 候选人 基本 信息 姓名 出生日期 性别 电话 电子邮箱 资格 符合规定 条件 董事 候选人 学历 职称 情况 纸张 公司 控股股东 实际 人 关联 关系 公司 股份 数量 中国证监会 部门 证券 交所 人 盖章 东方金钰 独立董事 公司 董事会 会议 事项 意见 证券 代码 证券 福建 金森 公告 编号 福建 金 森林 业 股份 有限公司 董事会 会议 决议 公告 公司 董事会 全体成员 公告 内容 误导性 陈述 遗漏 董事会 会议 情况 福建 金 森林 业 股份 有限公司 公司 董事会 会议 电话 电子邮件 方式 将乐县 华南 路 金森 大厦 会议室 现场 通讯 方式 会议 董事 名 董事 名 会议 杨杰 先生 公事 原因 委托 潘隆 先生 通讯 方式 人数 人 强桂英 郑钟芳 公司 全体 监事 列席 会议 会议 副董事长 张锦文 先生 会议 程序 公司法 公司章程 规定 董事会 会议 情况 经 董事 会议 决议 会议 票 票 票 弃权 结果 公司 董事会 独立董事 议案 公司 董事会 任期 公司法 公司章程 公司 董事会 委员会 工作细则 规定 公司 董事会 法律 程序 董事会 换届选举 经 委员会 董事 候选人 资格 公司 董事会 张锦文 先生 蔡清楼 先生 周文刚 先生 潘隆 先生 李芳 先生 郑丽华 女士 董事会 独立董事 候选人 独立董事 候选人 公司 董事会 换届选举 公告 公司 董事会 候选人 公司 管理人员 职工代表 董事 人数 总计 公司 董事 总数 蔡清楼 先生 李芳 先生 管理人员 内 董事 情况 具体内容 管理人员 内 董事 公告 议案 董事会 公司 股东大会 投票 方式 投票选举 公司 独立董事 议案 意见 公司 董事会 换届选举 公告 管理人员 内 董事 公告 独立董事 董事会 会议 事项 意见 巨潮 资讯网 会议 票 票 票 弃权 结果 公司 董事会 独立董事 议案 公司 董事会 任期 公司法 公司章程 公司 董事会 委员会 工作细则 规定 公司 董事会 法律 程序 董事会 换届选举 经 委员会 董事 候选人 资格 公司 董事会 王吓忠 先生 郑溪欣 先生 张火根 先生 董事会 独立董事 候选人 独立董事 候选人 公司 董事会 换届选举 公告 公司 董事会 候选人 公司 管理人员 职工代表 董事 人数 总计 公司 董事 总数 议案 董事会 经 深圳证券交易所 股东大会 投票 方式 投票选举 公司 独立董事 议案 意见 公司 董事会 换届选举 公告 独立董事 董事会 会议 事项 意见 巨潮 资讯网 会议 票 票 票 弃权 结果 股东大会 议案 董事会 公司 时 将乐县 华南 路 金森 大厦 会议室 股东大会 会议 股东大会 巨潮 资讯网 文件 福建 金 森林 业 股份 有限公司 董事会 会议 决议 独立董事 董事会 会议 事项 意见 公告 福建 金 森林 业 股份 有限公司 董事会 证券 代码 证券 福建 金森 公告 编号 福建 金 森林 业 股份 有限公司 监事会 会议 决议 公告 公司 全体 监事会 成员 信息 内容 误导性 陈述 遗漏 监事会 会议 情况 福建 金 森林 业 股份 有限公司 公司 监事会 会议 电话 电子邮件 方式 现场会议 方式 福建省 将乐县 华南 路 金森 大厦 会议室 会议 公司 监事会 庄子 先生 公司 监事 庄子 林协清 宋德荣 王培卿 廖 陈辉 会议 公司 董事会秘书 列席会议 会议 程序 公司法 公司章程 规定 监事 会议 情况 会议 方式 决议 会议 票 票 票 弃权 结果 公司 监事会 职工代表 监事 议案 公司 监事会 监事会 换届选举 公司 监事会 公司法 公司章程 规定 经 公司 庄子 先生 林协清 先生 宋德荣 先生 监事会 职工代表 监事 候选人 议案 需提交 公司 股东大会 监事 候选人 经 股东大会 公司 职工代表 产生 名 职工代表 监事 公司 监事会 监事 候选人 于巨潮 资讯网 公司 监事会 换届选举 公告 公告 福建 金 森林 业 股份 有限公司 监事会 证券 代码 证券 福建 金森 公告 编号 福建 金 森林 业 股份 有限公司 公司 董事会 换届选举 公告 公司 董事会 全体成员 公告 内容 误导性 陈述 遗漏 福建 金 森林 业 股份 有限公司 公司 董事会 任期 公司法 公司章程 规定 公司 董事会 换届选举 公司 董事会 会议 公司 董事会 独立董事 议案 公司 董事会 独立董事 议案 公司 董事会 人 独立董事 人 独立董事 人 经 董事会 委员会 董事 候选人 资格 公司 董事会 张锦文 蔡清楼 周文刚 潘隆 李芳 郑丽 华为公司 董事会 独立董事 候选人 王吓忠 郑溪欣 张火根 公司 董事会 独立董事 候选人 蔡清楼 先生 李芳 先生 管理人员 内 董事 情况 管理人员 内 董事 公告 巨潮 资讯网 规定 名 独立董事 候选人 资格 独立性 深圳证券交易所 方可 独立董事 候选人 公司 股东大会 投票制 董事 候选人 董事会 公司 管理人员 职工代表 董事 人数 总计 公司 董事 总数 董事会 任期 股东大会 之日起 生效 董事 候选人 附件 公告 福建 金 森林 业 股份 有限公司 董事会 附件 董事会 董事 候选人 独立董事 候选人 张锦文 先生 张锦文 先生 中国 国籍 居留权 研究生 学历 工程师 职称 现任 公司 副董事长 福建 金森 集团 有限公司 董事长 总经理 法人代表 张锦文 先生 公司 股份 公司 控股股东 福建 金森 集团 有限公司 董事长 总经理 法人代表 职务 实际 人 关联 关系 福建 金森 集团 有限公司 公司 股份 股东 实际 人 董事 监事 管理人员 关联 关系 中国证监会 部门 证券 交易所 公司法 深圳证券交易所 板 上市公司 规范 指引 公司章程 规定 公司 董事 情形 最高人民法院 网站 被执行人 目录 被执行人 公司法 法律 法规 规定 条件 蔡清楼 先生 蔡清楼 先生 中国 国籍 居留权 大学 本科学历 高级经济师 现任 福建 金森 集团 有限公司 董事 战略部 总监 蔡清楼 先生 公司 股份 公司 控股股东 福建 金森 集团 有限公司 董事 战略部 总监 实际 人 关联 关系 福建 金森 集团 有限公司 公司 股份 股东 实际 人 董事 监事 管理人员 关联 关系 中国证监会 部门 证券 交易所 公司法 深圳证券交易所 板 上市公司 规范 指引 公司章程 规定 公司 董事 情形 最高人民法院 网站 被执行人 目录 被执行人 公司法 法律 法规 规定 条件 周文刚 先生 周文刚 先生 中国 国籍 居留权 本科学历 林业 工程师 现任 公司 副总经理 周文刚 先生 公司 股份 公司 控股股东 实际 人 关联 关系 公司 股份 股东 实际 人 董事 监事 管理人员 关联 关系 中国证监会 部门 证券 交易所 公司法 深圳证券交易所 板 上市公司 规范 指引 公司章程 规定 公司 董事 情形 最高人民法院 网站 被执行人 目录 被执行人 公司法 法律 法规 规定 条件 潘隆 先生 潘隆 先生 中国 国籍 居留权 大学 本科学历 林业 工程师 现任 公司 董事会 董事 福建 金森 集团 有限公司 副总经理 潘隆 先生 公司 股份 公司 控股股东 福建 金森 集团 有限公司 副总经理 实际 人 关联 关系 福建 金森 集团 有限公司 公司 股份 股东 实际 人 董事 监事 管理人员 关联 关系 中国证监会 部门 证券 交易所 公司法 深圳证券交易所 板 上市公司 规范 指引 公司章程 规定 公司 董事 情形 最高人民法院 网站 被执行人 目录 被执行人 公司法 法律 法规 规定 条件 李芳 先生 李芳 先生 中国 国籍 居留权 大学 本科学历 高级工程师 现任 福建 金森 集团 有限公司 副总经理 福建 北斗 森林 有限公司 董事长 法人代表 李芳 先生 公司 股份 公司 控股股东 福建 金森 集团 有限公司 副总经理 福建 北斗 森林 有限公司 董事长 法人代表 实际 人 关联 关系 福建 金森 集团 有限公司 公司 股份 股东 实际 人 董事 监事 管理人员 关联 关系 中国证监会 部门 证券 交易所 公司法 深圳证券交易所 板 上市公司 规范 指引 公司章程 规定 公司 董事 情形 最高人民法院 网站 被执行人 目录 被执行人 公司法 法律 法规 规定 条件 郑丽华 女士 郑丽华 女士 中国 国籍 居留权 北京林业大学 硕士学位 高级工程师 职称 现任 将乐县 林业局 党 主任 将乐县 林业 科技推广 中心 干部 郑丽华 女士 公司 股份 公司 控股股东 实际 人 关联 关系 公司 股份 股东 实际 人 董事 监事 管理人员 关联 关系 中国证监会 部门 证券 交易所 公司法 深圳证券交易所 板 上市公司 规范 指引 公司章程 规定 公司 董事 情形 最高人民法院 网站 被执行人 目录 被执行人 公司法 法律 法规 规定 条件 独立董事 候选人 王吓忠 先生 王吓忠 先生 居留权 中国 国籍 博士生 学历 毕业 厦门大学 现任 福州大学 研究所 负责人 王吓忠 先生 方向 经济 技术 经济 资产 反垄断 讲授 课程 反垄断 估价 理论 实务 项目 工程 技术 企业 战略 课程 省 社科 课题 中国 城市 住宅 价格 市场 经济性 省 教育厅 课题 福州市 福房 指数 项目 创始人 国家 社科 项目 项目 项 中国 住宅 市场 价格 规制 字 市场 理论 字 技术 书 动态 杂志 海都 文章 王吓忠 先生 公司 公司 股份 股东 实际 人 公司 董事 监事 管理人员 关联 关系 公司 股份 中国证监会 部门 证券 交易所 公司法 公司章程 规定 证券 交易所 公司 董事 情形 被执行人 独立董事 资格证书 深圳证券交易所 独立董事 备案 规定 王吓忠 先生 书面 独立董事 深圳证券交易所 独立董事 资格证书 承诺书 王吓忠 内容 巨潮 资讯网 郑溪欣 先生 郑溪欣 先生 中国 国籍 居留权 法律硕士 学历 毕业 厦门大学 律师资格 现任 北京 厦门 律师 事务所 合伙人 副主任 郑溪欣 先生 执业律师 建筑施工 企业 公司 高管 公司 经验 郑溪欣 先生 公司 公司 股份 股东 实际 人 公司 董事 监事 管理人员 关联 关系 公司 股份 中国证监会 部门 证券 交易所 公司法 公司章程 规定 证券 交易所 公司 董事 情形 被执行人 独立董事 资格证书 深圳证券交易所 独立董事 备案 规定 郑溪欣 先生 书面 独立董事 深圳证券交易所 独立董事 资格证书 承诺书 郑溪欣 内容 巨潮 资讯网 张火根 先生 张火根 先生 中国 国籍 居留权 大学 本科学历 毕业 福建 农林 大学 注册会计师 税务师 估价师 土地 评估师 现任 福建 中正 恒瑞 会计师 事务所 主任 会计师 张火根 会计师 专业 资格 张火根 先生 公司 公司 股份 股东 实际 人 公司 董事 监事 管理人员 关联 关系 公司 股份 中国证监会 部门 证券 交易所 公司法 公司章程 规定 证券 交易所 公司 董事 情形 被执行人 独立董事 资格证书 深圳证券交易所 独立董事 备案 规定 张火根 先生 书面 独立董事 深圳证券交易所 独立董事 资格证书 承诺书 张火根 内容 巨潮 资讯网 证券 代码 证券 福建 金森 公告 编号 福建 金 森林 业 股份 有限公司 公司 监事会 换届选举 公告 公司 监事会 全体成员 公告 内容 误导性 陈述 遗漏 福建 金 森林 业 股份 有限公司 公司 监事会 任期 公司法 公司章程 规定 公司 监事会 换届选举 公司 监事会 会议 公司 监事会 职工代表 监事 议案 经 公司 庄子 林协清 宋德荣 监事会 职工代表 监事 候选人 人员 公司 董事 管理人员 公司 董事 管理人员 任职期间 公司 监事 情况 公司 董事 管理人员 监事 人数 公司 监事 总数 情况 公司 监事会 人 职工代表 监事 人 职工代表 监事 人 公司 职工 代表大会 民主选举 产生 职工代表 监事 候选人 投票制 方式 股东大会 产生 公司 监事会 任期 公司 股东大会 产生 之日起 监事 候选人 附件 公告 福建 金 森林 业 股份 有限公司 监事会 附件 监事会 监事 候选人 庄子 先生 中国 国籍 居留权 学历 林业 工程师 现任 公司 监事会 福建 金森 集团 有限公司 董事 庄子 先生 公司 股份 福建 金森 集团 有限公司 董事 公司 股份 股东 实际 人 关联 关系 公司 董事 监事 管理人员 关联 关系 公司法 条 规定 情形 中国证监会 部门 证券 交易所 深圳证券交易所 公司 监事 情形 涉嫌犯罪 司法机关 立案侦查 中国证监会 立案 结论 被执行人 公司法 法律 法规 规定 条件 林协清 先生 中国 国籍 居留权 大专 学历 林业 工程师 现任 公司 监事 福建 金森 集团 有限公司 监事 林协清 先生 公司 股份 公司 股份 股东 实际 人 关联 关系 公司 董事 监事 管理人员 关联 关系 公司法 条 规定 情形 中国证监会 部门 证券 交易所 深圳证券交易所 公司 监事 情形 涉嫌犯罪 司法机关 立案侦查 中国证监会 立案 结论 被执行人 公司法 法律 法规 规定 条件 宋德荣 先生 中国 国籍 居留权 本科学历 林业 工程师 现任 公司 监事 宋德荣 先生 公司 股份 公司 股份 股东 实际 人 关联 关系 公司 董事 监事 管理人员 关联 关系 公司法 条 规定 情形 中国证监会 部门 证券 交易所 深圳证券交易所 公司 监事 情形 涉嫌犯罪 司法机关 立案侦查 中国证监会 立案 结论 被执行人 公司法 法律 法规 规定 条件 证券 代码 证券 福建 金森 公告 编号 福建 金 森林 业 股份 有限公司 股东大会 公告 公司 董事会 全体成员 公告 内容 误导性 陈述 遗漏 福建 金 森林 业 股份 有限公司 公司 公司 董事会 会议 决议 现场 网络 投票 方式 股东大会 事项 会议 基本 情况 股东大会 股东大会 股东大会 召集人 公司 董事会 会议 合法 股东大会 董事会 会议 决议 股东大会 程序 法律法规 深交所 业务 规则 公司章程 规定 时间 现场会议 时间 网络 投票 时间 深圳证券交易所 交易系统 网络 投票 时间 深圳证券交易所 互联网 投票系统 投票 时间 时间 方式 股东大会 现场 网络 投票 方式 公司 股东 现场 投票 网络 投票 方式 结果 股权 登记日 对象 收市 中国 证券 公司 深圳 分公司 公司 全体 股东 有权 股东大会 书面形式 委托 代理人 股东 代理人 公司 股东 现场会议 股东 网络 投票 时间 内 网络 投票 公司 董事 监事 管理人员 公司 律师 会议 地点 福建省 将乐县 华南 路 金森 大厦 会议室 会议 事项 公司 董事会 独立董事 议案 张锦文 先生 公司 董事会 独立董事 蔡清楼 先生 公司 董事会 独立董事 周文刚 先生 公司 董事会 独立董事 潘隆 先生 公司 董事会 独立董事 李芳 先生 公司 董事会 独立董事 郑丽华 女士 公司 董事会 独立董事 公司 董事会 独立董事 议案 王吓忠 先生 公司 董事会 独立董事 郑溪欣 先生 公司 董事会 独立董事 张火根 先生 公司 董事会 独立董事 公司 监事会 职工代表 监事 议案 庄子 先生 公司 监事会 职工代表 监事 林协清 先生 公司 监事会 职工代表 监事 宋德荣 先生 公司 监事会 职工代表 监事 议案 公司 董事会 会议 监事会 会议 具体内容 公司 证券时报 上海 证券报 证券日报 巨潮 资讯网 材料 上市公司 股东大会 规则 版 上市公司 规范 指引 规定 股东大会 议案 时 投资者 计票 计票 结果 股东大会 议案 投票制 事项 独立董事 候选人 资格 独立性 尚需 报 深交所 备案 经 深交所 公司 股东大会 方可 编码 股东大会 编码 会议 方法 时间 地点 福建省 将乐县 华南 路 金森 大厦 福建 金 森林 业 股份 有限公司 证券 事务部 股东大会 会议 股东 股东 代理人 文件 办理 法人 股东 法定代表人 股东大会 会议 身份证 法定代表人 身份 证明书 委托书 附件 法人 单位 营业执照 复印件 公章 证券 账户卡 办理 法人 股东 委托 代理人 股东大会 会议 代理人 身份证 委托书 法人 单位 营业执照 复印件 公章 证券 账户卡 办理 股东 股东大会 会议 身份证 证券 账户卡 办理 股东 委托 代理人 代理人 身份证 委托书 委托人 证券 账户卡 办理 异地 股东 信函 方式 书面材料 内容 股权 登记日 股份 数 地址 邮政编码 股东大会 字样 网络 投票 流程 股东大会 股东 深交所 交易系统 互联网 投票系统 地址 投票 网络 投票 时 内容 格式 附件 事项 股东大会 会议 股东 股东 代理人 交通 食宿 费用 网络 投票 投票系统 重大事件 会议 进程 会务 联系人 廖爱萍 传 邮政编码 地址 福建省 将乐县 华南 路 金森 大厦 福建 金 森林 业 股份 有限公司 证券 事务部 文件 福建 金 森林 业 股份 有限公司 董事会 会议 决议 福建 金 森林 业 股份 有限公司 监事会 会议 决议 附件 网络 投票 流程 附件 委托书 公告 福建 金 森林 业 股份 有限公司 董事会 附件 网络 投票 流程 网络 投票 程序 投票 代码 投票 金森 投票 意见 票数 投票 候选人 票数 上市公司 股东 票数 投票 股东 票数 票数 选举票 投票 候选人 候选人 票 表 投票制 候选人 票数 一览表 股东 票数 举例 独立董事 议案 等额选举 人数 股东 票数 股东 代表 股份 总数 股东 票数 独立董事 候选人 投票 总数 票数 独立董事 议案 等额选举 人数 股东 票数 股东 代表 股份 总数 股东 票数 独立董事 候选人 投票 总数 票数 监事 议案 等额选举 人数 股东 票数 股东 代表 股份 总数 股东 票数 监事 候选人 投票 总数 票数 股东大会 议案 深交所 交易系统 投票 程序 投票 时间 交易 时间 股东 证券公司 交易 客户端 交易系统 投票 深交所 互联网 投票系统 投票 程序 互联网 投票系统 投票 时间 时间 股东 互联网 投票系统 网络 投票 深圳证券交易所 投资者 网络服务 身份 业务 指引 规定 办理 身份 深交所 数字证书 深交所 投资者 密码 身份 流程 互联网 投票系统 规则 指引 栏目 股东 密码 数字证书 规定 时间 内 深交所 互联网 投票系统 投票 附件 委托书 单位 福建 金 森林 业 股份 有限公司 股东 全权 委托 先生 女士 代表 单位 公司 股东大会 会议 议案 行使 单位 会议 事项 受托人 有权 无权 意思 单位 会议 议案 意见 投票 议案 意见 项 股票数 股东大会 编码 委托人 姓名 名称 盖章 委托人 身份证 号码 营业执照 号码 委托人 性质 委托人 持股数 委托 委托 期限 受托人 姓名 受托人 盖章 受托人 身份证 号码 股东 选项 中打 事项 委托人 事项 股东 代理人 有权 意思 行使 后果 单位 委托书 复印件 格式 法人 股东 委托 须加盖 公章 法定代表人 证券 代码 证券 福建 金森 公告 编号 福建 金 森林 业 股份 有限公司 独立董事 董事会 会议 事项 意见 福建 金 森林 业 股份 有限公司 公司 独立董事 上市公司 独立董事 制度 指导 意见 深圳证券交易所 板 上市公司 规范 指引 公司章程 公司 独立董事 工作细则 规定 董事会 会议 事项 意见 公司 董事会 董事 候选人 程序 法律 行政 法规 部门规章 规范性 文件 公司章程 规定 程序 合法 董事会 董事 候选人 背景 经历 全面 公司 董事 候选人 董事 职责 条件 经验 资格 公司法 条 规定 情形 中国证监会 部门 深圳证券交易所 公司法 公司章程 规定 独立董事 候选人 王吓忠 先生 郑溪欣 先生 张火根 先生 独立董事 资格证书 深圳证券交易所 独立董事 备案 规定 公司 董事会 书面 独立董事 深圳证券交易所 独立董事 资格证书 经 蔡清楼 先生 李芳 先生 董事 情况 实际 情况 深圳证券交易所 股票 上市 规则 深圳证券交易所 板 规范 指引 规定 张锦文 先生 蔡清楼 先生 周文刚 先生 潘隆 先生 李芳 先生 郑丽华 女士 公司 董事会 独立董事 候选人 王吓忠 先生 郑溪欣 先生 张火根 先生 董事会 独立董事 候选人 事项 公司 股东大会 全体 独立董事 李国安  强桂英  郑钟芳  福建 金 森林 业 股份 有限公司 董事会 证券 代码 证券 福建 金森 公告 编号 承诺书 王吓忠 身份证号 独立董事 资格证书 独立董事 深圳证券交易所 独立董事 资格证书 上市公司 福建 金 森林 业 股份 有限公司 公告 人 王吓忠 证券 代码 证券 福建 金森 公告 编号 承诺书 郑溪欣 身份证号 独立董事 资格证书 独立董事 深圳证券交易所 独立董事 资格证书 上市公司 福建 金 森林 业 股份 有限公司 公告 人 郑溪欣 证券 代码 证券 福建 金森 公告 编号 承诺书 张火根 身份证号 独立董事 资格证书 独立董事 深圳证券交易所 独立董事 资格证书 上市公司 福建 金 森林 业 股份 有限公司 公告 人 张火根 证券 代码 证券 福建 金森 公告 编号 福建 金 森林 业 股份 有限公司 独立董事 候选人 声明 声明 人 王吓忠 福建 金 森林 业 股份 有限公司 董事会 独立董事 候选人 声明 公司 独立性 关系 法律 行政 法规 部门规章 规范性 文件 深圳证券交易所 业务 规则 独立董事 候选人 资格 独立性 声明 中国 人民共和国 公司法 规定 公司 董事 情形  中国证监会 上市公司 独立董事 制度 指导 意见 规定 独立董事 资格 条件  公司章程 规定 独立董事 条件  中国证监会 上市公司 管理人员 指引 规定 独立董事 资格证书 书面 独立董事 深圳证券交易所 独立董事 资格证书 独立董事 中华人民共和国 公务员法 规定  独立董事 中共中央纪委 规范 中管 干部 公职 上市公司 基金 公司 独立董事 监事 规定  独立董事 中共中央组织部 规范 党政领导 干部 企业 问题 意见 规定  独立董事 中共中央纪委 教育部 监察部 意见 规定  独立董事 中国人民银行 股份制 商业银行 独立董事 监事 制度 指引 规定  独立董事 中国证监会 证券公司 董事 监事 管理人员 资格 办法 规定  独立董事 中国 银监会 银行业 金融机构 董事 理事 管理人员 资格 办法 性 公司 董事 监事 管理人员 资格 暂行办法 规定  独立董事 中国保监会 保险公司 董事 监事 管理人员 资格 规定 保险公司 独立董事 暂行办法 规定  独立董事 法律 行政 法规 部门规章 规范性 文件 深圳证券交易所 业务 规则 独立董事 资格 规定  上市公司 基本知识 法律 行政 法规 部门规章 规范性 文件 深圳证券交易所 业务 规则 独立董事 职责 经验  公司 企业  公司 股份 股东 上市公司 股东 股东  公司 股份 股东 单位 上市公司 股东 单位  公司 控股股东 实际 人 企业  公司 控股股东 实际 人 企业 财务 法律 人员  公司 控股股东 实际 人 企业 业务 往来 单位 业务 往来 单位 控股股东 单位  任 情形  单位 独立性 情形  中国证监会 证券市场 措施 期限 人员  证券 交易所 上市公司 董事 监事 管理人员 期限 人员  内因 证券期货 司法机关 中国证监会 行政处罚 人员  证券 交易所  对象 国家 部委 上市公司 董事 职务  独立董事 董事会 会议 委托 董事 董事会 会议 董事会 股东大会 人员  公司 独立董事 上市公司 数量  公司 独立董事  深圳证券交易所 独立董事 备案 办法 委托 公司 董事会 职业 学历 专业 资格 经历 全部 情况 详细信息  独立董事 上市公司 董事会 会议 情形  独立董事 上市公司 董事会 会议 次数 董事会 会议 总数 情形  独立董事 独立董事 意见 意见 经 证实 事实 情形  中国证监会 部门 情形  公司 董事 监事 管理人员 情形  独立董事 任期 上市公司 情形  独立董事 诚信 情形  声明 人 郑重声明 独立董事 职责 声明 误导性 陈述 遗漏 法律责任 深圳证券交易所 自律 措施 纪律处分 公司 独立董事 严格遵守 中国证监会 深圳证券交易所 规定 时间 精力 履行职责 公司 股东 实际 人 公司 利害关系 单位 个人 公司 独立董事 独立董事 资格 情形 公司 董事会 报告 公司 独立董事 职务 公司 董事会秘书 将本 声明 内容 信息 深圳证券交易所 板 业务 专区 报 深圳证券交易所 公告 董事会秘书 视同 法律责任 声明 人 王吓忠 公告 文件 履历表 声明 深交所 文件 证券 代码 证券 福建 金森 公告 编号 福建 金 森林 业 股份 有限公司 独立董事 人 声明 人 福建 金 森林 业 股份 有限公司 王吓忠 福建 金 森林 业 股份 有限公司 董事会 独立董事 候选人 声明 人 书面 福建 金 森林 业 股份 有限公司 董事会 独立董事 候选人 人 职业 学历 专业 资格 经历 全部 情况 人 人 法律 行政 法规 部门规章 规范性 文件 深圳证券交易所 业务 规则 独立董事 候选人 资格 独立性 声明 人 中国 人民共和国 公司法 规定 公司 董事 情形  人 中国证监会 上市公司 独立董事 制度 指导 意见 规定 独立董事 资格 条件  人 公司章程 规定 独立董事 条件  人 中国证监会 上市公司 管理人员 指引 规定 独立董事 资格证书 人 书面 独立董事 深圳证券交易所 独立董事 资格证书 人 独立董事 中华人民共和国 公务员法 规定  人 独立董事 中共中央纪委 规范 中管 干部 公职 上市公司 基金 公司 独立董事 监事 规定  人 独立董事 中共中央组织部 规范 党政领导 干部 企业 问题 意见 规定  人 独立董事 中共中央纪委 教育部 监察部 意见 规定  人 独立董事 中国人民银行 股份制 商业银行 独立董事 监事 制度 指引 规定  人 独立董事 中国证监会 证券公司 董事 监事 管理人员 资格 办法 规定  人 独立董事 中国 银监会 银行业 金融机构 董事 理事 管理人员 资格 办法 性 公司 董事 监事 管理人员 资格 暂行办法 规定  人 独立董事 中国保监会 保险公司 董事 监事 管理人员 资格 规定 保险公司 独立董事 暂行办法 规定  人 独立董事 法律 行政 法规 部门规章 规范性 文件 深圳证券交易所 业务 规则 独立董事 资格 规定  人 上市公司 基本知识 法律 行政 法规 部门规章 规范性 文件 深圳证券交易所 业务 规则 独立董事 职责 经验  人 公司 企业  人 公司 股份 股东 上市公司 股东 股东  人 公司 股份 股东 单位 上市公司 股东 单位  人 公司 控股股东 实际 人 企业  人 公司 控股股东 实际 人 企业 财务 法律 人员  人 公司 控股股东 实际 人 企业 业务 往来 单位 业务 往来 单位 控股股东 单位  人 任 情形  人 单位 人 独立性 情形  人 中国证监会 证券市场 措施 期限 人员  人 证券 交易所 上市公司 董事 监事 管理人员 期限 人员  人 内因 证券期货 司法机关 中国证监会 行政处罚 人员  人 证券 交易所  人 对象 国家 部委 上市公司 董事 职务  人 独立董事 董事会 会议 委托 董事 董事会 会议 董事会 股东大会 人员  公司 人 独立董事 上市公司 数量  人 公司 独立董事  人 深圳证券交易所 独立董事 备案 办法 公司 董事会 人 职业 学历 专业 资格 经历 全部 情况 详细信息  人 独立董事 上市公司 董事会 会议 情形  人 独立董事 上市公司 董事会 会议 次数 董事会 会议 总数 情形  人 独立董事 独立董事 意见 意见 经 证实 事实 情形  人 中国证监会 部门 情形  人 公司 董事 监事 管理人员 情形  人 独立董事 任期 上市公司 情形  人 独立董事 诚信 情形  声明 人 郑重声明 人 声明 误导性 陈述 遗漏 人 法律责任 深圳证券交易所 自律 措施 纪律处分 人 公司 董事会秘书 将本 声明 内容 深圳证券交易所 板 业务 专区 报 深圳证券交易所 公告 董事会秘书 视同 人 人 法律责任 人 福建 金 森林 业 股份 有限公司 公告 文件 人 声明 人 身份证明 文件 独立董事 候选人 董事会 决议 深交所 文件 证券 代码 证券 福建 金森 公告 编号 福建 金 森林 业 股份 有限公司 独立董事 候选人 声明 声明 人 郑溪欣 福建 金 森林 业 股份 有限公司 董事会 独立董事 候选人 声明 公司 独立性 关系 法律 行政 法规 部门规章 规范性 文件 深圳证券交易所 业务 规则 独立董事 候选人 资格 独立性 声明 中国 人民共和国 公司法 规定 公司 董事 情形  中国证监会 上市公司 独立董事 制度 指导 意见 规定 独立董事 资格 条件  公司章程 规定 独立董事 条件  中国证监会 上市公司 管理人员 指引 规定 独立董事 资格证书 书面 独立董事 深圳证券交易所 独立董事 资格证书 独立董事 中华人民共和国 公务员法 规定  独立董事 中共中央纪委 规范 中管 干部 公职 上市公司 基金 公司 独立董事 监事 规定  独立董事 中共中央组织部 规范 党政领导 干部 企业 问题 意见 规定  独立董事 中共中央纪委 教育部 监察部 意见 规定  独立董事 中国人民银行 股份制 商业银行 独立董事 监事 制度 指引 规定  独立董事 中国证监会 证券公司 董事 监事 管理人员 资格 办法 规定  独立董事 中国 银监会 银行业 金融机构 董事 理事 管理人员 资格 办法 性 公司 董事 监事 管理人员 资格 暂行办法 规定  独立董事 中国保监会 保险公司 董事 监事 管理人员 资格 规定 保险公司 独立董事 暂行办法 规定  独立董事 法律 行政 法规 部门规章 规范性 文件 深圳证券交易所 业务 规则 独立董事 资格 规定  上市公司 基本知识 法律 行政 法规 部门规章 规范性 文件 深圳证券交易所 业务 规则 独立董事 职责 经验  公司 企业  公司 股份 股东 上市公司 股东 股东  公司 股份 股东 单位 上市公司 股东 单位  公司 控股股东 实际 人 企业  公司 控股股东 实际 人 企业 财务 法律 人员  公司 控股股东 实际 人 企业 业务 往来 单位 业务 往来 单位 控股股东 单位  任 情形 版 东方金钰 独立董事 公司 董事会 会议 事项 意见 版 前款 投票制 指 股东大会 董事 监事 时 股份 董事 监事 人数 股东 投票制 股东大会 会议 顺序 事项 时间 顺序 因 原因 股东大会 决议 股东大会 股东大会 股东 意见 弃权 字迹 无法 票 票 投票 人 权利 份数 结果 弃权 股东大会 股东 意见 弃权 证券 机构 内地 香港 股票市场 交易 机制 股票 名义 持有人 实际 持有人 意思 申报 字迹 无法 票 票 投票 人 权利 份数 结果 弃权 股东大会 股东 代表 计票 监票 事项 股东 利害关系 股东 代理人 计票 监票 股东大会 时 律师 股东 代表 监事 代表 计票 监票 结果 决议 结果 会议记录 网络 方式 投票 本 公司 股东 代理人 有权 投票系统 投票 结果 股东大会 股东 代表 计票 监票 事项 股东 利害关系 股东 代理人 计票 监票 股东大会 时 律师 股东 代表 监事 代表 计票 监票 网络 方式 投票 本 公司 股东 代理人 有权 投票系统 投票 结果 条 股东大会 会议记录 董事会秘书 会议记录 会议 时间 地点 议程 召集人 姓名 名称 会议 主持人 列席会议 董事 监事 经理 管理人员 姓名 股东 代理人 人数 股份 总数 公司 股份 总数 比例 要点 结果 股东 意见 建议 律师 计票 人 监票人 姓名 股东大会 公司章程 规定 会议记录 内容 召集人 会议记录 内容 董事 监事 董事会秘书 召集人 代表 会议 主持人 会议记录 会议记录 现场 股东 签名册 代理 委托书 网络 方式 情况 资料 董事会秘书 期限 股东大会 会议记录 董事会秘书 会议记录 会议 时间 地点 议程 召集人 姓名 名称 会议 主持人 列席会议 董事 监事 经理 管理人员 姓名 股东 代理人 人数 股份 总数 公司 股份 总数 比例 要点 结果 股东 意见 建议 律师 计票 人 监票人 姓名 股东大会 公司章程 规定 会议记录 内容 董事 监事 董事会秘书 召集人 代表 会议 主持人 会议记录 会议记录 内容 会议记录 现场 股东 签名册 代理 委托书 网络 方式 情况 资料 董事会秘书 期限 条 公司 股东 大会决议 内容 法律 行政 法规 股东大会 会议 程序 方式 法律 行政 法规 公司章程 决议 内容 公司章程 股东 决议 之日起 人民法院 条 公司 股东 大会决议 内容 法律 行政 法规 公司 控股股东 实际 人 投资者 依法 行使 投票权 公司 投资者 合法权益 股东大会 会议 程序 方式 法律 行政 法规 公司章程 决议 内容 公司章程 股东 决议 之日起 人民法院 公司 股东大会 议事规则 章节 条款 规则 全文 股东大会 议事规则 规则 需提交 股东大会 公告 深圳市 中金岭南 有色金属 股份 有限公司 董事局 证券 代码 证券 中金岭南 公告 编号 深圳市 中金岭南 有色金属 股份 有限公司 董事会 议事规则 公告 公司 董事局 全体成员 信息 内容 误导性 陈述 遗漏 公司 董事局 会议 董事会 议事规则 议案 中华人民共和国 公司法 公司法 中华人民共和国 证券法 证券法 深圳证券交易所 股票 上市 规则 深圳证券交易所 主板 上市公司 规范 指引 深圳市 中金岭南 有色金属 股份 有限公司 章程 公司章程 规定 董事会 议事规则 内容 总则 深圳证券交易所 主板 上市公司 规范 指引 规范 公司 董事会 议事 方式 决策程序 董事 董事会 职责 董事会 规范 科学决策 水平 中华人民共和国 公司法 公司法 中华人民共和国 证券法 证券法 深圳证券交易所 股票 上市 规则 深圳证券交易所 主板 上市公司 规范 指引 深圳市 中金岭南 有色金属 股份 有限公司 章程 公司章程 规定 规则 董事会 职权 公司 依法 董事会 董事会 法律法规 公司章程 规定 公平 股东 利益 相关者 合法权益 董事会 公司章程 规定 公司 股东大会 公司章程 董事会 行使 职权 股东大会 股东大会 报告 股东大会 决议 公司 计划 方案 公司 年度 财务预算 方案 方案 公司 利润分配 方案 方案 公司 注册资本 债券 证券 上市 方案 公司 公司股票 公司 形式 方案 股东大会 范围 内 公司 资产 资产 事项 委托 关联 交易 事项 公司 管理机构 公司 基本 管理制度 公司 经理 董事会秘书 经理 公司 副经理 财务负责人 管理人员 报酬 事项 奖惩 事项 公司章程 方案 公司 信息 事项 股东大会 公司 会计师 事务所 公司 经理 工作汇报 经理 计划 股权 计划 董事会 股东大会 股权 董事会 法律 行政 法规 部门规章 章程 职权 公司 董事会 注册会计师 公司 财务报告 非标准 意见 股东大会 董事会 资产 资产 事项 委托 关联 交易 权限 决策程序 项目 专家 专业 人员 报 股东大会 董事会 公司 内 资产 项目 股权 项目 风险投资 公司 经 总资产 事项 决策 法律法规 范围 内 公司 资产 事项 公司 借款 经 总资产 资产 公司 公司 子公司 总额 经 净资产 前提 公司 总额 经 总资产 资产负债率 对象 单笔 额 经 净资产 范围 项目 报 股东大会 范围 法律 法规 规定 须报 股东大会 事项 股东大会 公司 灾害 灾 社会 公益事业 方面 报 董事会 董事会 决议 权限 范围 内向 董事长 总经理 董事会 行使 董事会 权限 会议 董事会 会议 董事会 议事规则 董事 会议 材料 会议 议题 背景 材料 独立董事 情况 董事 议案 所需 信息 数据 资料 董事 会议 董事 会议 材料 董事会 股东 投票权 变相 方式 股东 投票权 部分 条款 书面 会议 会议 时间 地点 会议 方式 事项 会议 会议 召集人 主持人 会议 人 书面 董事 会议 材料 董事 委托 董事 联系人 口头 会议 项 内容 董事会 会议 书面 会议 会议 时间 地点 会议 期限 会议 方式 事项 会议 会议 召集人 主持人 会议 人 书面 董事 会议 材料 董事 委托 董事 联系人 口头 会议 项 内容 董事会 会议 董事会 会议 公司 利润分配 事宜 决议 董事会 预案 注册会计师 审计报告 草案 财务数据 董事会 决议 注册会计师 审计报告 董事会 注册会计师 审计报告 报告 事项 决议 董事 董事会 会议 因故 会议 材料 意见 书面 委托 董事 委托书 委托人 受托人 姓名 委托人 意见 委托人 范围 有效期限 意向 委托人 委托 董事 报告 书面 意见 委托书 专门 董事 会议 主持人 书面 委托书 会议 签到簿 情况 董事 董事会 会议 委托 代表 会议 投票权 项 主持人 董事 会议 人 书面 方式 董事 意向 弃权 董事 意向 意向 会议 主持人 董事 弃权 会场 弃权 项 主持人 董事 会议 人 书面 方式 董事会 会议 董事 前提 方式 决议 董事 董事 意向 弃权 董事 意向 意向 会议 主持人 董事 弃权 会场 弃权 董事会秘书 董事会 办公室 工作人员 董事会 会议 记录 会议记录 会议 时间 地点 方式 会议 情况 会议 召集人 主持人 董事 情况 会议 董事 事项 要点 意见 意向 项 方式 结果 弃权票 数 董事 事项 董事会秘书 董事会 秘书室 工作人员 董事会 会议 记录 会议记录 会议 时间 地点 方式 会议 情况 会议 召集人 主持人 会议议程 董事 情况 会议 董事 事项 要点 意见 意向 项 方式 结果 弃权票 数 董事 事项 董事会 办公室 董事会 秘书室 公司 董事会 议事规则 章节 条款 规则 全文 董事会 议事规则 规则 需提交 股东大会 公告 深圳市 中金岭南 有色金属 股份 有限公司 董事局 证券 代码 证券 中金岭南 公告 编号 深圳市 中金岭南 有色金属 股份 有限公司 独立董事 制度 公告 公司 董事局 全体成员 信息 内容 误导性 陈述 遗漏 公司 董事局 会议 独立董事 制度 议案 上市公司 独立董事 制度 指导 意见 上市公司 准则 深圳证券交易所 主板 上市公司 规范 指引 深圳证券交易所 独立董事 备案 办法 国家有关 法律 法规 深圳市 中金岭南 有色金属 股份 有限公司 章程 规定 独立董事 制度 内容 总则 深圳证券交易所 主板 上市公司 规范 指引 深圳证券交易所 独立董事 备案 办法 深圳市 中金岭南 有色金属 股份 有限公司 公司 法人 结构 董事会 结构 董事 经理层 监督机制 股东 债权人 利益 公司 规范 中国证券监督管理委员会 中国证监会 上市公司 独立董事 制度 指导 意见 指导 意见 上市公司 准则 深圳证券交易所 深交所 深圳证券交易所 主板 上市公司 规范 指引 深圳证券交易所 独立董事 备案 办法 国家有关 法律 法规 深圳市 中金岭南 有色金属 股份 有限公司 章程 公司章程 规定 制度 规定 独立董事 产生 独立董事 职责 独立董事 独立董事 人士 指导 意见 深交所 独立董事 资格证书 独立董事 候选人 公司 独立董事 股东大会 公告 时 独立董事 资格证书 书面 独立董事 深交所 独立董事 资格证书 公告 独立董事 候选人 记录 中国证监会 证券市场 措施 期限 证券 交易所 上市公司 董事 监事 管理人员 期限 内因 证券期货 中国证监会 行政处罚 司法机关 因涉嫌 证券期货 中国证监会 立案 司法机关 立案侦查 结论 意见 证券 交易所 对象 国家 部位 上市公司 董事 职务 独立董事 董事会 会议 委托 董事 董事会 会议 董事会 股东大会 深交所 情形 公司 独立董事 事实 之日起 公司 独立董事 候选人 独立董事 人 候选人 时 制度 规定 规定 重点 独立董事 候选人 情形 独立董事 董事会 会议 董事会 会议 次数 董事会 会议 总数 独立董事 独立董事 意见 意见 意见 经 证实 事实 公司 董事 监事 管理人员 独立董事 任期 上市公司 中国证监会 部门 独立董事 诚信 履行职责 情形 独立董事 候选人 情形 人 情形 候选人 理由 上市公司 规范 公司 产生 措施 公司 董事会 监事会 公司 股东 独立董事 候选人 资格 独立性 候选人 人 独立董事 候选人 公司 董事会 独立董事 股东大会 公告 时 独立董事 候选人 职业 学历 职称 经历 全部 情况 详细信息 深交所 交易日 独立董事 候选人 人 公司 信息 内容 错误 遗漏 公司 单位 个人 独立董事 候选人 资格 独立性 异议 深交所 网站 渠道 独立董事 候选人 资格 独立性 情况 深交所 意见 公司 董事会 决议 公告 独立董事 候选人 需经 深圳证券交易所 备案 股东大会 深交所 独立董事 备案 办法 独立董事 候选人 详细信息 意见反馈 渠道 独立董事 候选人 独立董事 资格 独立性 深交所 独立董事 候选人 资格 独立性 中国证监会 派出机构 证券 交易所 候选人 公司 股东大会 独立董事 深交所 异议 函 内容 深交所 独立董事 候选人 情况 公司 深交所 函 内容 独立董事 人 股东大会 交易日 函 事项 情形 候选人 理由 上市公司 规范 公司 产生 措施 公司 股东大会 独立董事 时 独立董事 候选人 情况 深交所 情形 独立董事 制度 规定 独立董事 资格 情形 情形 之日起 内 独立董事 职务 公司 董事会 期限 董事会 股东大会 独立董事 事项 独立董事 独立董事 原因 公司 独立董事 董事会 全体成员 比例 独立董事 会计专业 人士 独立董事 新任 独立董事 产生 公司 独立董事 之日起 独立董事 独立董事 事项 意见 内容 事项 基本 情况 程序 文件 现场 内容 事项 合法 公司 股东权益 风险 公司 措施 结论性 意见 事项 意见 无法 独立董事 理由 独立董事 意见 意见 报告 董事会 公司 公告 独立董事 公司 情形 积极主动 义务 证券 监管部门 报告 时 中介机构 专项 事项 董事会 信息 义务 信息 误导性 陈述 遗漏 股东 合法权益 情形 独立董事 时间 公司 状况 制度 情况 现场 董事会 决议 情况 现场 现场 情形 公司 董事会 深交所 报告 独立董事 公司 全体 股东 利益 公司 情况 充分发挥 投资者 关系 独立董事 通信地址 电子信箱 投资者 交流 接受投资者 公司 投资者 合法权益 情况 调查结果 投资者 情形 独立董事 中国证监会 交易所 公司 所在地 派出机构 报告 公司 理由 公司 独立董事 依法 行使职权 情形 独立董事 董事会 会议 材料 独立董事 书面 董事会 会议 事项 公司 董事 监事 管理人员 董事会 报告 董事会 采取有效 措施 独立董事 履行职责 情形 独立董事 情形 深交所 报告 经 深交所 中国证监会 信息 媒体 公告 独立董事 公司 年度 股东大会 报告 报告 内容 董事会 方式 次数 投票 情况 列席 股东大会 次数 意见 情况 现场 董事会 会计师 事务所 机构 咨询机构 现场 情况 股东 合法权益 方面 独立董事 履行职责 情况 书面 独立董事 任职期间 规定 交易所 独立董事 经 中国证监会 资格 独立性 持有异议 人 独立董事 候选人 股东大会 独立董事 时 公司 董事会 独立董事 候选人 中国证监会 情况 部分 条款 独立董事 履行职责 公司 股东 实际 人 公司 利害关系 单位 个人 独立董事 履行职责 公司 股东 实际 人 公司 利害关系 单位 个人 事项 独立性 情况 公司 任职期间 独立性 情形 公司 措施 独立董事 上市公司 独立董事 时间 精力 独立董事 职责 独立董事 上市公司 独立董事 时间 精力 独立董事 职责 公司 独立董事 人员 会计专业 人士 公司 独立董事 人员 会计专业 人士 会计专业 人士 指 高级职称 注册会计师 资格 人士 公司 董事会 成员 独立董事 独立董事 独立性 条件 独立董事 职责 情形 公司 独立董事 指导 意见 人数 时 公司 独立董事 人数 独立董事 独立性 条件 独立董事 职责 情形 公司 独立董事 董事 人数 时 公司 独立董事 人数 独立董事 独立性 情形 人员 公司 独立董事 公司 企业 人员 指 父母 子女 指 兄弟姐妹 岳父母 儿媳 女婿 兄弟姐妹 兄弟姐妹 公司 股份 公司 股东 股东 公司 股份 股东 单位 公司 股东 单位 人员 内 情形 人员 公司 企业 财务 法律 人员 公司章程 规定 人员 中国证监会 人员 独立董事 独立性 情形 人员 公司 独立董事 公司 企业 人员 指 父母 子女 指 兄弟姐妹 岳父母 儿媳 女婿 兄弟姐妹 兄弟姐妹 公司 股份 公司 股东 股东 公司 股份 股东 单位 公司 股东 单位 人员 公司 控股股东 实际 人 企业 人员 公司 控股股东 企业 财务 法律 人员 中介机构 项目组 全体人员 人员 报告 人员 合伙人 负责人 公司 控股股东 实际 人 企业 业务 往来 单位 业务 往来 单位 控股股东 单位 情形 人员 独立董事 候选人 单位 独立性 情形 人员 中国证监会 派出机构 深交所 公司章程 独立性 人员 公司 独立董事 基本 条件 法律 行政 法规 规定 上市公司 董事 资格 制度 独立性 公司 基本知识 法律 行政 法规 规章 规则 法律 经济 独立董事 职责 经验 公司章程 规定 条件 公司 独立董事 基本 条件 法律 行政 法规 规定 上市公司 董事 资格 制度 独立性 公司 基本知识 法律 行政 法规 规章 规则 法律 经济 独立董事 职责 经验 公司章程 规定 条件 公司 独立董事 基本 条件 法律 行政 法规 部门规章 规范性 文件 业务 规则 独立董事 资格 条件 规定 公司法 董事 资格 规定 中华人民共和国 公务员法 规定 上市公司 独立董事 制度 指导 意见 独立董事 资格 条件 规定 中共中央纪委 规范 中管 干部 公职 上市公司 基金 公司 独立董事 监事 规定 中共中央组织部 规范 党政领导 干部 企业 问题 意见 规定 中共中央纪委 教育部 监察部 意见 规定 深交所 业务 规则 细则 指引 办法 法律 行政 法规 部门规章 规范性 文件 董事 独立董事 资格 条件 规定 法律 行政 法规 规定 上市公司 董事 资格 制度 独立性 公司 基本知识 法律 行政 法规 规章 规则 法律 经济 财务 独立董事 职责 经验 会计专业 人士 身份 独立董事 候选人 会计专业 经验 注册会计师 资格 会计 财务管理 专业 高级职称 副教授 职称 博士学位 公司章程 规定 条件 独立董事 人 人 人 人 职业 学历 职称 经历 全部 情况 独立董事 资格 独立性 人 公司 客观 关系 声明 独立董事 股东大会 公司 董事会 规定 内容 独立董事 人 人 人 人 职业 学历 职称 经历 全部 情况 人 资格 独立性 情形 核实 核实 结果 声明 独立董事 候选人 法律 行政 法规 部门规章 规范性 文件 交易所 业务 规则 独立董事 资格 独立性 声明 独立董事 资格 独立性 人 公司 客观 关系 声明 独立董事 股东大会 公司 董事会 规定 内容 独立董事 股东大会 公司 人 材料 中国证监会 公司 所在地 中国证监会 派出机构 深圳证券交易所 公司 董事会 人 情况 异议 董事会 书面 意见 公司 独立董事 股东大会 时 独立董事 候选人 材料 独立董事 候选人 声明 独立董事 人 声明 独立董事 履历表 独立董事 资格证书 深交所 公告 独立董事 国家 法律 法规 董事 职权 职权 关联 交易 指 公司 关联 人 总额 人民币 公司 经 净资产值 关联 交易 独立董事 董事会 独立董事 中介机构 财务顾问 报告 董事会 会计师 事务所 董事会 股东大会 董事会 股东大会 股东 投票权 独立董事 行使 职权 全体 独立董事 职权 行使 公司 情况 经 全体 独立董事 独立董事 机构 咨询机构 公司 事项 费用 公司 独立董事 国家 法律 法规 董事 职权 职权 关联 交易 指 公司 关联 人 总额 人民币 公司 经 净资产值 关联 交易 独立董事 董事会 独立董事 中介机构 财务顾问 报告 董事会 会计师 事务所 董事会 股东大会 股东 意见 利润分配 董事会 董事会 机构 咨询机构 股东大会 股东 投票权 变相 方式 独立董事 行使 职权 全体 独立董事 职权 行使 公司 情况 经 全体 独立董事 独立董事 机构 咨询机构 公司 事项 费用 公司 独立董事 职责 事项 董事会 股东大会 意见 董事 管理人员 公司 董事 管理人员 薪酬 公司 股东 实际 人 关联 企业 公司 总额 公司 经 净资产值 借款 资金 往来 公司 采取有效 措施 欠款 独立董事 股东权益 事项 公司章程 规定 事项 独立董事 事项 书面 方式 意见 理由 意见 理由 无法 理由 事项 事项 公司 独立董事 意见 公告 独立董事 意见分歧 无法 时 董事会 独立董事 意见 独立董事 职责 事项 董事会 股东大会 意见 董事 管理人员 公司 董事 管理人员 薪酬 公司 现金 政策 决策程序 情况 信息 利润分配 政策 投资者 合法权益 关联 交易 报表 范围 内 子公司 委托 财务 资助 资金 用途 股票 品种 事项 公司 股东 实际 人 关联 企业 公司 总额 公司 经 净资产值 借款 资金 往来 公司 采取有效 措施 欠款 资产重组 方案 股权 计划 公司 股票 深交所 交易 交易 场所 交易 独立董事 股东权益 事项 法律 行政 法规 部门规章 规范性 文件 交易所 业务 规则 公司章程 规定 事项 独立董事 意见 类型 理由 意见 理由 无法 障碍 意见 事项 事项 公司 独立董事 意见 公告 独立董事 意见分歧 无法 时 董事会 独立董事 意见 公司 独立董事 制度 章节 条款 规则 全文 独立董事 制度 规则 需提交 股东大会 公告 深圳市 中金岭南 有色金属 股份 有限公司 董事局 证券 代码 证券 中金岭南 公告 编号 深圳市 中金岭南 有色金属 股份 有限公司 信息 管理制度 公告 公司 董事局 全体成员 信息 内容 误导性 陈述 遗漏 公司 董事局 会议 信息 管理制度 议案 中华人民共和国 公司法 中华人民共和国 证券法 上市公司 信息 办法 深圳证券交易所 股票 上市 规则 深圳证券交易所 主板 上市公司 规范 指引 法律法规 信息 管理制度 内容 总则 深圳证券交易所 主板 上市公司 规范 指引 深圳市 中金岭南 有色金属 股份 有限公司 公司 信息 规范 公司 信息 公司 投资者 利益 相关者 合法权益 中华人民共和国 公司法 中华人民共和国 证券法 上市公司 信息 办法 深圳证券交易所 股票 上市 规则 深圳证券交易所 主板 上市公司 规范 指引 法律 法规 规范性 文件 公司章程 规定 制度 总则 信息 内容 标准 信息 制度 所指 信息 公司 股票价格 品种 交易价格 产生 信息 机构 深圳证券交易所 深交所 信息 信息 公司业绩 利润分配 事项 信息 财务 业绩 盈利 利润分配 资本 公积金 股本 公司 资产重组 事项 信息 公司股票 股权 计划 事项 信息 公司 事项 信息 开发新 产品 新发明 计划 专利 部门 公司 事项 信息 交易 关联 交易 事项 信息 法律 行政 法规 部门规章 规范性 文件 股票 上市 规则 指引 规定 规定 事项 信息 制度 所指 信息 义务人 公司 董事 监事 管理人员 部门 子公司 负责人 公司 事项 控股股东 实际 人 公司 股份 股东 公司 关联 人 关联 法人 关联 关联 人 收购人 人员 信息 义务 公司 董事会 公司 报告 因故 无法 报告 董事会 决议 董事会 公告 方式 事项 无法 董事会 决议 原因 风险 公司 董事会 报告 公司 董事会 中国证监会 深交所 报告 规定 人员 报告 公司 经理 财务负责人 董事会秘书 管理人员 报告 董事会 公司 董事 管理人员 依法 报告 书面 意见 监事会 依法 董事会 公司 报告 书面 意见 董事会 程序 法律 行政 法规 中国证监会 规定 报告 内容 公司 实际 情况 董事 监事 管理人员 报告 内容 真实性 准确性 完整性 无法 异议 陈述 理由 公司 年度报告 财务会计 报告 经 证券 期货 业务 资格 会计师 事务所 公司 报告 财务会计 报告 经 情形 公司 利润分配 现金 公积金 股本 中国证监会 情形 公司 季度 报告 财务 资料 中国证监会 规定 公司债券 上市公司 规定 年度报告 报告 价格 情况 经 价格 公司债券 情况 公司债券 持有人 名单 量 担保人 盈利 能力 资产 状况 信用 状况 情况 公司 负债 情况 资信 情况 年度 现金 中国证监会 规定 内容 公司 规则 规定 义务 规定 重大事件 情况 董事会 监事会 股东大会 重大事件 决议 决议 情况 公司 重大事件 当事人 意向书 协议 意向书 协议 内容 意向书 协议 内容 情况 公司 情况 原因 重大事件 部门 情况 重大事件 情形 原因 重大事件 标的 过户 过户 事宜 过户 期限 过户 原因 情况 时间 公告 情况 过户 重大事件 上市 公司股票 品种 交易价格 产生 事件 情况 公司 股东大会 信息 交易 交易 事项 资产 委托 委托 贷款 子公司 财务 资助 资产 管理方面 委托 资产 债权 债务 项目 许可 协议 深交所 交易 资产 原材料 燃料 动力 产品 商品 资产 资产 资产 公司 交易 标准 交易 资产 总额 上市公司 经 总资产 交易 资产 总额 账面 值 值 高者 数据 交易 标的 股权 会计年度 营业 上市公司 会计年度 经 营业 金额 交易 标的 股权 会计年度 净利润 上市公司 会计年度 经 净利润 金额 交易 金额 债务 费用 上市公司 经 净资产 金额 交易 产生 利润 上市公司 会计年度 经 净利润 金额 指标 数据 负值 绝对值 公司 交易 标的 同类 交易 原则 标准 公司 关联 交易 标准 公司 关联 交易 金额 关联 交易 公司 关联 法人 交易 金额 上市公司 经 净资产 绝对值 关联 交易 公司 关联 人 交易 公司 现金 资产 金额 公司 经 净资产 绝对值 关联 交易 项 证券 业务 资格 中介机构 交易 标的 交易 股东大会 公司 交易 标的 同类 关联 交易 经 款项 标准 标准 条 公司 事项 金额 公司 经 净资产 绝对值 金额 标准 金额 事项 董事会 案件 特殊性 公司 证券 品种 交易价格 产生 深交所 公司 股东大会 董事会 决议 宣告无效 公司 公司 事项 原则 经 标准 规定 条 公司 资金 项目 董事会 股东大会 原 项目 基本 情况 原因 项目 基本 情况 市场前景 风险 项目 部门 资金 项目 需提交 股东大会 深交所 内容 项目 资产 规定 公司 年度 业绩 情形 业绩 净利润 负值 净利润 基数 公司 前款 项 情形 经 深交所 业绩 年度 收益 绝对值 收益 绝对值 收益 绝对值 公司 客观 业绩 公司 业绩 业绩 业绩 差异 深交所 规定 业绩 修正 公告 公司 报告 业绩 快报 业绩 快报 公司 营业 营业 利润 利润总额 净利润 总资产 净资产 收益 净资产 净资产 收益率 数据 指标 条 公司 业绩 快报 财务数据 指标 报告 实际 数据 指标 差异 财务数据 指标 差异 幅度 公司 报告 董事会 公告 形式 差异 内容 原因 公司 责任人 情况 公司 董事会 利润分配 资本 公积金 股本 方案 方案 方案 具体内容 实施方案 股权 登记日 交易日 内 方案 公告 条 公司 公司 证券 交易 情况 媒体 公司 证券 交易 媒体 消息 公司 证券交易 产生 时 公司 时 书面 方式 公司 控股股东 实际 人 人 公司 股权 资产重组 重大事件 公司 信息 公司 股权 计划 严格遵守 中国证监会 深交所 股权 规定 程序 报告 公告 义务 公司 董事会 法院 时 债权人 法院 公司 时 深交所 报告 事项 公司 原因 时间 公司 情形 申请人 基本 情况 目的 事实 理由 债权人 情形 公司 风险 情况 条 公司 报告 法院 情况 条 公司 信息 义务人 严格遵守 事项 公司 公司 事项 信息 义务人 事项 深交所 备案 深交所 网站 公司 报告 专项 事项 情况 公司 信息 义务人 情形 公司 原因 董事会 措施 公司 公司 风险 情形 深交所 报告 重大损失 债务 债务 债权 依法 大额 责任 计提 大额 资产 公司 依法 公司 指 净资产 负值 债务人 程序 公司 债权 足额 坏账 资产 全部 业务 公司 因涉嫌 有权 机关 行政 公司 董事 监事 管理人员 因涉嫌 有权 机关 强制措施 无法 履行职责 身体 原因 无法 履行职责 深交所 公司 风险 情况 公司 前款 项 情形 因涉嫌 信息 中国证监会 立案 公司 风险 公告 立案 情况 公司股票 上市 风险 深交所 公司 董事会 风险 公告 次数 情况 公司股票 品种 公司 情形 深交所 报告 公司 名称 股票 公司章程 注册资本 地址 办公 地址 公司章程 公司章程 网站 方针 经营范围 会计 政策 会计 董事会 新股 再融资 方案 中国证监会 委员会 上市公司 委员会 公司 新股 再融资 资产重组 事项 意见 公司 股份 股东 实际 人 情况 公司 情况 公司 董事长 经理 董事 独立董事 监事 情况 条件 环境 产品价格 原材料 方式 公司 资产 负债 权益 成果 产生 法律 行政 法规 部门规章 规范性 文件 政策 公司 产生 公司 会计师 事务所 法院 控股股东 股份 股东 公司 股份 司法 信托 依法 大额 补贴 收益 上市公司 资产 负债 权益 成果 产生 事项 公司 情形 条 公司 财务会计 报告 差错 责令 经 董事会 责令 董事会 时 中国证监会 规定 办理 财务 信息 事宜 公司 信息 委员会 公司 信息 跨部门 机制 信息 委员会 董事会秘书 部分 条款 制度 所指 信息 公司 股票价格 品种 交易价格 产生 信息 机构 深圳证券交易所 深交所 信息 信息 公司 信息 义务人 法律 行政 法规 部门规章 规范性 文件 深圳证券交易所 股票 上市 规则 深交所 细则 指引 规定 公平 信息 信息 误导性 陈述 遗漏 公司 董事 监事 管理人员 履行职责 信息 公平 公司 董事 监事 管理人员 履行职责 信息 公平 信息内容 公告 声明 理由 公司 内幕 信息 依法 知情人 信息 利用 信息 内幕 交易 公司 公司 董事 监事 管理人员 信息 义务人 知情人 信息 信息 知情者 范围 内 公司 内幕 信息 依法 知情人 信息 内幕 交易 股票 品种 交易价格 公司 信息 义务人 依法 信息 公告 文稿 文件 深圳证券交易所 中国证监会 媒体 公司 信息 义务人 依法 信息 公告 文稿 文件 时间 深交所 中国证监会 媒体 公告 文稿 文件 深交所 公司 信息 义务人 公告 文稿 文件 中文 文本 外文 文本 信息 义务人 文本 内容 文本 歧义 时 中文 文本 公司 报告 年度报告 报告 季度 报告 投资者 投资决策 信息 年度报告 财务会计 报告 经 证券 期货 业务 资格 会计师 事务所 公司 报告 年度报告 报告 季度 报告 投资者 投资决策 信息 公司 年度报告 会计年度 之日起 报告 会计年度 之日起 季度 报告 会计年度 季度 报告 时间 年度 年度报告 时间 公司 年度报告 会计年度 之日起 报告 会计年度 之日起 季度 报告 会计年度 季度 报告 时间 年度 年度报告 时间 公司 法律 行政 法规 部门规章 规范性 文件 规定 期限内 中国证监会 深交所 规定 报告 公司 规定 期限内 报告 深交所 报告 公告 原因 解决方案 期限 公司 证券交易 中国证监会 证券 交易所 交易 公司 证券交易 因素 公司 股票交易 中国证监会 深交所 公司 交易日 股票交易 公告 股票交易 公告 之日起 交易日 交易日 公司 中国 证券报 证券时报 巨潮 资讯网 公司公告 信息 媒体 网站 公司 信息 媒体 网站 时 报告 深圳证券交易所 条 公司 中国 证券报 证券时报 中国证监会 信息 报刊 报刊 巨潮 资讯网 公司公告 信息 媒体 网站 公司 信息 媒体 网站 时 报告 深圳证券交易所 总经理 总裁 股票 股票 品种 董事会 秘书室 董事会 秘书室 证券部 公司 信息 管理制度 章节 条款 规则 全文 信息 管理制度 公告 深圳市 中金岭南 有色金属 股份 有限公司 董事局 证券 代码 证券 中金岭南 公告 编号 深圳市 中金岭南 有色金属 股份 有限公司 监事会 议事规则 公告 公司 监事会 全体成员 信息 内容 误导性 陈述 遗漏 公司 监事会 会议 监事会 议事规则 议案 中华人民共和国 公司法 公司法 中华人民共和国 证券法 证券法 深圳证券交易所 股票 上市 规则 深圳证券交易所 主板 上市公司 规范 指引 深圳市 中金岭南 有色金属 股份 有限公司 章程 公司章程 规定 监事会 议事规则 内容 总则 深圳证券交易所 主板 上市公司 规范 指引 规范 公司 监事会 议事 方式 程序 监事 监事会 职责 公司法人 结构 中华人民共和国 公司法 公司法 中华人民共和国 证券法 证券法 深圳证券交易所 股票 上市 规则 深圳证券交易所 主板 上市公司 规范 指引 深圳市 中金岭南 有色金属 股份 有限公司 章程 公司章程 规定 规则 监事会 职权 公司 依法 监事会 监事会 全体 股东 公司财务 公司 董事 经理 管理人员 履行职责 合法 公司 股东 合法权益 公司章程 监事会 行使 职权 董事会 公司 报告 书面 意见 公司财务 董事 管理人员 公司 职务 法律 行政 法规 章程 股东 大会决议 董事 管理人员 建议 董事 管理人员 公司 利益 时 董事 管理人员 中国证监会 深交所 部门 报告 独立董事 履行职责 情况 独立董事 独立性 时间 精力 履行职责 履行职责 时 上市公司 股东 实际 人 独立董事 监事 管理人员 董事会 专门 委员会 情况 董事会 专门 委员会 成员 董事会 专门 委员会 议事规则 履行职责 股东大会 董事会 公司法 规定 股东大会 职责 时 股东大会 股东大会 公司法 规定 董事 管理人员 公司 时 会计师 事务所 律师 事务所 专业 机构 费用 公司 公司 采取有效 措施 监事 知情权 监事 政策 履行职责 监事会 成员 监事会 行使 董事 管理人员 上市公司 财务监督 权利 监事会 报告 书面 意见 董事会 报告 程序 法律 行政 法规 中国证监会 深交所 规定 报告 内容 上市公司 实际 情况 书面 会议 会议 时间 地点 事项 会议 会议 召集人 主持人 会议 人 书面 监事 会议 材料 监事 联系人 口头 会议 项 内容 监事会 会议 书面 会议 会议 时间 地点 事项 会议 会议 召集人 主持人 会议 人 书面 监事 会议 材料 监事 联系人 口头 会议 项 内容 监事会 会议 监事会 会议 现场 方式 监事会 会议 通讯 方式 监事会 召集人 会议 主持人 监事 通讯 时 监事 事项 书面 意见 投票 意向 监事会 办公室 监事 投票 意见 表达 书面 意见 投票 理由 监事会 会议 现场 原则 时 监事 前提 经 召集人 主持人 人 视频 电话 电子邮件 方式 监事会 会议 现场 方式 方式 现场 方式 视频 在场 监事 电话会议 监事 规定 期限内 实际 电子邮件 票 监事 会议 书面 监事 人数 监事会 会议 现场 方式 监事会 会议 通讯 方式 监事会 召集人 会议 主持人 监事 通讯 时 监事 事项 书面 意见 投票 意向 监事会 办公室 监事 投票 意见 表达 书面 意见 投票 理由 监事 会议记录 监事 会议记录 意见 时 书面 时 监管部门 报告 声明 监事 前款 规定 意见 书面 监管部门 报告 声明 会议记录 内容 监事 会议记录 监事 会议记录 意见 时 书面 时 监管部门 报告 声明 监事 有权 记录 会议 说明性 监事 前款 规定 意见 书面 监管部门 报告 声明 会议记录 内容 公司 监事会 议事规则 章节 条款 规则 全文 监事会 议事规则 规则 需提交 股东大会 公告 深圳市 中金岭南 有色金属 股份 有限公司 监事会 证券 代码 证券 中金岭南 公告 编号 深圳市 中金岭南 有色金属 股份 有限公司 公告 公司 董事局 全体成员 信息 内容 误导性 陈述 遗漏 国家 规范 深圳市 中金岭南 有色金属 股份 有限公司 直属 凡口 铅锌矿 分阶段 流程 公司 中国 证券报 证券时报 巨潮 资讯网 公告 编号 公告 公司 年度 计划 深圳市 中金岭南 有色金属 股份 有限公司 直属 凡口 铅锌矿 全面 公告 深圳市 中金岭南 有色金属 股份 有限公司 董事局 证券 代码 证券 中金岭南 公告 编号 深圳市 中金岭南 有色金属 股份 有限公司 续聘 会计师 事务所 公告 公司 董事局 全体成员 信息 内容 误导性 陈述 遗漏 深圳市 中金岭南 有色金属 股份 有限公司 公司 董事局 会议 续聘 瑞华 会计师 事务所 公司 年度 财务报表 机构 议案 事宜 公告 瑞华 会计师 事务所 普通 合伙 公司 机构 公司 瑞华 会计师 事务所 普通 合伙 独立性 专业 胜任 能力 方面 公司 年度 审计工作 公司法 公司章程 规定 公司 续聘 瑞华 会计师 事务所 普通 合伙 公司 年度 机构 公司 董事局 续聘 瑞华 会计师 事务所 普通 合伙 公司 年度 机构 公司 独立董事 续聘 事项 意见 具体内容 于巨潮 资讯网 中金岭南 董事局 会议 独立董事 意见 事项 需提交 公司 股东大会 文件 中金岭南 董事局 会议 决议 中金岭南 董事局 会议 独立董事 意见 公告 深圳市 中金岭南 有色金属 股份 有限公司 董事局 东方金钰 独立董事 公司 董事会 会议 事项 意见 证券 代码 证券 方正 电机 公告 编号 浙江 方正 电机 股份 有限公司 董事会 换届选举 提示性 公告 公司 董事 监事 管理人员 公告 内容 公告 误导性 陈述 遗漏 浙江 方正 电机 股份 有限公司 公司 董事会 任期 董事会 换届选举 换届选举 公司 董事会 公司法 公司章程 上市公司 独立董事 制度 指导 意见 规定 董事会 方式 董事 候选人 换届选举 程序 董事 候选人 资格 事项 公告 董事会 董事会 名 董事 独立董事 名 董事 任期 股东大会 之日起 任期 方式 换届选举 投票制 股东大会 独立董事 独立董事 时 股份 独立董事 独立董事 人数 股东 董事 候选人 独立董事 候选人 公司 董事会 公告 公司 股份 股东 有权 董事会 书面 董事会 独立董事 候选人 推荐人 人数 独立董事 人数 独立董事 候选人 公司 董事会 监事会 公告 公司 股份 股东 有权 董事会 书面 董事会 独立董事 候选人 推荐人 人数 独立董事 人数 换届选举 程序 推荐人 公告 之日起 时 公告 方式 公司 董事 候选人 文件 时间 公司 董事会 委员会 董事 人选 资格 资格 董事 人选 公司 董事会 公司 董事会 人选 董事会 董事 候选人 名单 方式 公司 股东大会 董事 候选人 股东大会 书面 资料 董事 职责 公司 独立董事 股东大会 时 独立董事 候选人 材料 人 声明 候选人 声明 独立董事 履历表 独立董事 资格证书 深圳证券交易所 备案 董事会 董事会 董事 法律法规 规定 履行职责 董事 资格 独立董事 资格 公司法 公司章程 法律法规 规定 公司 董事 候选人 情形 公司 董事 民事行为 能力 民事行为 能力 财产 财产 社会主义 市场经济 秩序 权利 公司 企业 董事 厂长 经理 公司 企业 个人 责任 公司 企业破产 之日起 营业执照 责令 公司 企业 法定代表人 个人 责任 公司 企业 营业执照 之日起 个人 数额较大 债务 中国证监会 证券市场 期限 内 中国证监会 行政处罚 内 证券 交易所 证券 交易所 上市公司 董事 监事 管理人员 无法 任职期间 时间 精力 公司 事务 董事 监事 管理人员 职责 国家 公务员 公司 董事 公务员法 规定 法律 行政 法规 部门规章 规定 内容 独立董事 资格 公司 独立董事 候选人 董事 资格 条件 中国证监会 上市公司 独立董事 制度 指导 意见 规定 独立性 法律 经济 独立董事 职责 经验 上市公司 基本知识 法律 行政 法规 规章 规则 时间 精力 职责 中国证监会 证券 交易所 独立董事 证书 公务员法 公务员 职务 规定 中央 干部 规范 中管 干部 公职 上市公司 基金 公司 独立董事 监事 中纪 高校 党政 领导班子 成员 意见 教监 会计专业 人士 身份 独立董事 候选人 会计专业 经验 注册会计师 资格 高级会计师 会计学 副教授 职称 专业 资质 上市公司 独立董事 事实 之日起 内 上市公司 独立董事 候选人 公司章程 规定 条件 情形 公司 独立董事 公司 公司 企业 人员 指 父母 子女 指 兄弟姐妹 岳父母 儿媳 女婿 兄弟 姐 妹 兄弟姐妹 公司 股份 公司 股东 股东 公司 股份 股东 单位 公司 股东 单位 人员 上市公司 控股股东 实际 人 企业 人员 上市公司 控股股东 企业 财务 法律 人员 中介机构 项目组 全体人员 人员 报告 人员 合伙人 负责人 上市公司 控股股东 实际 人 企业 业务 往来 单位 业务 往来 单位 控股股东 单位 内 情形 人员 公司 企业 财务 法律 人员 公司章程 规定 人员 中国证监会 人员 推荐人 文件 董事 候选人 公司 董事会 文件 董事 候选人 推荐书 原件 格式 附件 董事 候选人 身份证明 复印件 原件 董事 候选人 学历 学位证书 复印件 独立董事 候选人 独立董事 证书 复印件 原件 证明 公告 规定 条件 文件 推荐人 公司 股东 推荐人 文件 个人 股东 身份证明 复印件 原件 法人 股东 营业执照 复印件 公章 原件 股票 账户卡 复印件 原件 股份 证明文件 推荐人 公司 董事会 董事 候选人 方式 方式 方式 推荐人 时 文件 收件 邮戳 时间 公司 联系人 处方 联系人 舒琳 证券 事务 代表 联系 部门 董事会 办公室 联系 联系地址 浙江省 丽水市 莲都区 水阁 工业区 石牛 路 邮政编码 公告 浙江 方正 电机 股份 有限公司 董事会 证券 代码 证券 方正 电机 公告 编号 浙江 方正 电机 股份 有限公司 监事会 换届选举 提示性 公告 公司 董事 监事 管理人员 公告 内容 公告 误导性 陈述 遗漏 浙江 方正 电机 股份 有限公司 公司 监事会 任期 监事会 换届选举 换届选举 公司 监事会 中华人民共和国 公司法 浙江 方正 电机 股份 有限公司 章程 规定 监事会 方式 监事 候选人 换届选举 程序 监事 候选人 资格 事项 公告 监事会 公司 现行 公司章程 规定 监事会 名 监事 职工 监事 名 股东 代表 监事 名 监事会 监事 任期 公司 股东大会 之日起 方式 换届选举 投票制 股东大会 股东 代表 监事 时 股份 股东 代表 监事 人数 股东 监事 候选人 监事 候选人 推荐表 样本 附件 股东 代表 监事 候选人 公司 监事会 公告 之日起 公司 股份 股东 公司 监事会 书面 股东 代表 监事会 监事 候选人 人 人数 股东 代表 监事 人数 职工代表 监事 候选人 产生 职工代表 监事 公司 职工 代表大会 民主选举 产生 换届选举 程序 推荐人 公告 之日起 时 公告 方式 公司 监事会 监事 候选人 文件 时间 公司 监事 候选人 时间 公司 董事会 监事 候选人 资格 公司 监事会 合格 监事 候选人 监事会 公司 监事会 监事 候选人 名单 方式 公司 股东大会 监事 候选人 股东大会 书面 资料 监事 职责 监事会 成员 监事会 监事 法律法规 规定 履行职责 监事 候选人 资格 公司法 公司章程 法律法规 规定 公司 监事 候选人 监事 相适应 经验 时间 精力 监事 职责 情形 公司 监事 民事行为 能力 民事行为 能力 财产 财产 社会主义 市场经济 秩序 权利 公司 企业 董事 厂长 总经理 公司 企业 个人 责任 公司 企业破产 之日起 营业执照 责令 公司 企业 法定代表人 个人 责任 公司 企业 营业执照 之日起 个人 数额较大 债务 中国证监会 证券市场 期限 公司 董事 总裁 管理人员 法律 行政 法规 部门规章 规定 内容 推荐人 文件 监事 候选人 公司 董事会 文件 监事 候选人 推荐书 原件 格式 附件 监事 候选人 身份证明 复印件 原件 监事 候选人 学历 学位证书 复印件 原件 证明 公告 规定 条件 文件 推荐人 公司 股东 推荐人 文件 个人 股东 身份证明 复印件 原件 法人 股东 营业执照 复印件 公章 原件 股票 账户卡 复印件 原件 股份 证明文件 推荐人 公司 董事会 监事 候选人 方式 方式 方式 推荐人 时 文件 收件 邮戳 时间 公司 联系人 处方 联系人 舒琳 证券 事务 代表 联系 部门 董事会 办公室 联系 联系地址 浙江省 丽水市 莲都区 水阁 工业区 石牛 路 邮政编码 公告 浙江 方正 电机 股份 有限公司 监事会',\n",
       " '中国科协 道德 权益 专委会 会议 中国科协 科技 工作者 道德 权益 专门 委员会 会议 中国 科技 会堂 中国科协 副主席 专委会 主任 主持会议 中国科协 党组 成员 书记处 书记 项 昌乐 中国科协 党组 成员 人事部 部长 王守东 专委会 委员 陈勇 和平 何鸣鸿 饶克勤 会议 专委会 总结 要点 科研 诚信 科学 道德 论坛 品牌 方案 科学 道德 学风 教材 动漫 产品设计 方案 世界 科研 诚信 大会 基本 情况 事项 报告 会议 专委会 总结 要点 委员 中国科协 党组 书记处 领导 专委会 肿瘤 生物学 事件 专委会 重点 科研 诚信 精神 充分发挥 全国 学会 人才 优势 全国 学会 科学 道德 科研 诚信 格局 委员 建议 科学 道德 论坛 品牌 主题 科学 道德 科研 诚信 国际交流 组团 世界 科研 诚信 大会 会议 专委会 全国 科学 道德 学风 领导小组 成员 单位 联动机制 委员 机制 科学 道德 科研 诚信 评价 平台 科研 诚信 科技 伦理 交叉 学会 科学 道德 科研 诚信 科技 伦理 方面 理论 科学 道德 科研 诚信 专委会 道德 权益 专委会 办公室 负责人 会议',\n",
       " '公告 机器之心 全球化 产品 机器之心 星路 资本 人民网 TalkingData 百度 风 资本 投资方 科大讯飞 机器之心 内容 数据 产品 全球化 布局 产业 方面 高质量 内容 产品 显著效果 内容 产品 内容 方面 公众 机器之心 研究成果 论文 学术会议 技术 趋势 工程 用户 量 子 品牌 机器 人工智能 落地 产业化 采访报道 人工智能 创业 公司 行业 解决方案 微信 公众 账号 人数 今日头条 知乎 内容 平台 用户 量 报告 技术人员 技术 趋势 人工智能 技术 趋势 报告 产业 动态 全球 人工智能 行业 评论 得到 高度 公司 上线 首款 数据库 产品 商用 人工智能 实例 库 人工智能 技术 需求方 信息 人工智能 技术 行业 落地 全球 范围 内 人工智能 实例 条 产业 商用 基础 产业 全球化 机器之心 离岸 团队 数据 产业 维度 顶级 机构 系统 关系 双语 原创 内容 市场 助力 本土 团队 跨国 业务 产业 服务项目 系统 机器之心 全球 Medium 英文 内容 原创 账号 全球 读者 技术 博客 行业 趋势 新闻 分析师 报告 优质 原创 英文 内容 机器之心 中国 机器 智能 产业 原创 英文 版本 机器之心 离岸 记者 分析师 团队 现场报道 高质量 学术 产业 会议 美国 加拿大 欧洲 地区 优质 机器 智能 公司 一手 全球 机器 智能 社区 核心 机器 智能 中心 实地 全球 机器 智能 生态 特稿 一手 系统 信息内容 国家 地区 机器 智能 中心 格局 机器之心 全球 高质量 英文 原创 内容 机器 智能 领域 全球 品牌 认知度 中国 媒体 英文 内容 平台 Medium 称号 内容 账号 平台 账号 数 官方 称号 Medium 内容 生产者 机器之心 全球 内容 顶尖 专家 教授 教授 联合国 加拿大政府 官方 社交 媒体 账号 官方网站 评选活动 方面 机器之心 全球 机器 智能 大会 全世界 顶级 专家 人次 专业 观众 大会 得到 人民日报 北京电视台 媒体 中国 美国 加拿大 数据 IP 学术会议 华人 学者 聚会 机器之心 年度 奖项 Intel 全球 三十大 创业 公司 中国 实力 企业 中国 潜力 公司 三十大 案例 奖项 企业 行业 巨头 领域 独角兽 创业 公司 医疗 金融 交通 领域 结果 权威性 客观性 创新性 得到 专业人士 高度 奖项 成绩 Medium 今日头条 年度 榜单 科技 头条 云 笔记 微信 价值 排行榜 科技 智能 品途 年度 产业 影响力 媒体 知乎 新榜 影响力 机构 一家 IP 大会 官方 媒体 中国 媒体 联合国 电信 中国 媒体 一家 CC 加拿大 峰会 中国 科技 媒体 开幕式 亚洲 媒体 官方 媒体 Google 英伟达 全球 技术 大会 机器之心 用户 高质量 内容 产业 全球化 社区 内容 数据 方面 信息化 产品 星路 资本 董事 星路鼎泰 大 数据 产业 股权 基金 事务 合伙人 戚娟娟 创始人 赵云峰 机器之心 蓬勃 团队 科技 媒体 结合点 中国 媒体 智能化 可能性 数据 人工智能 媒体 技术 媒体 阶段 信息 用户 有效率 方式 链接 机器之心 有益 星路 资本 思路 前景 团队 人民 总经理 人民网 文化产业 基金 执行合伙人 赵亚辉 机器之心 权威 客观 极具 影响力 人工智能 媒体 平台 人民 机器之心 内容 质量 行业 影响力 媒体 态度 转型 方向 人民网 机器之心 人工智能 内容 方面 人工智能 创业项目 产业 TalkingData 产业 基金 机器之心 领域 内容 专业 调性 科技 媒体 数据 科技领域 产品 数据 方面 经验 TalkingData 数据 科学 平台 协同 性 TalkingData 优势 助力 机器之心 数据 科学 领域 产品 百度 风 CEO 刘维 机器之心 投资人 机器之心 专业性 机器之心 世界 信息 世界 社群 大 格局 专业 基金 共鸣 社群 规模 主战场 时代 机器之心 内容 工具 人 时代 社会 价值 科大讯飞 机器之心 机器之心 影响力 质量 品牌效应 一体 人工智能 媒体 机器之心 链接 科技前沿 科技 产业 核心 全球 人工智能 行业 从业者 用户 科大讯飞 人工智能 核心技术 创业 人工智能 世界 机器之心 中国 人工智能 世界 路程 共创 高捷 资本 创始人 团队 合伙人 机器之心 人工智能 领域 媒体 佼佼者 行业 内 极具 影响力 高捷 资本 机器之心 内容 行业 影响力 团队 高捷 资本 一家 人工智能 智能 新能源 汽车 智能 科技 金融 领域 股权 管理机构 中国 科技 公司 资本 战略 团队 行业 内 经验 经验 机器之心 助力 中国 人工智能 领域 机器之心 全球 职位 信息',\n",
       " '摩拜 轮 腾讯 搜狐 财经 摩拜单车 公司 新一轮 高瓴资本 美国 华平 集团 腾讯 红杉资本 贝塔斯曼 愉悦资本 熊猫 资本 祥峰 创新工场 机构 得到 美团 创始人CEO 王兴 个人 王晓峰 淡定 态度 焦点 军队 黄车 双方 黄车 校园 中关村 网友 爆料 摩拜 蓝车 上海 真容 普通 自行车 红色 摩拜单车 摩拜 方面 人士 中国 企业家 证实 摩拜 新车 监管者 二者 摩拜 物业管理 照片 网络 摩拜 方面 情况 摩拜 园区 用户 摩 单车 新生事物 变数 熊猫 资本 摩拜单车 投资人 熊猫 资本 合伙人 李论 熊猫 摩拜 动用 公司 资源 摩拜 内容 熊猫 资本 合伙人 李论 单车 火 大众 市场 小鸣单车 优拜单车 行业 行业 格局 李论 摩拜 市场 公司 空间 创业 竞争对手 滴滴 滴滴 能干 事情 市场 敌人 仗 基本 滴滴 关键 李论 单车 用户 关心 车 关键 投车量 规模 经济 市场 需求量 上海 自行车 保有量 人 量 单车 领域 用户 用车 大量 办法 同质化 产品 苹果 用户 三星 华为 信心 用户 节奏 产品 多用户 用户 车 有点 问题 办法 体验 摩拜 和小鸣 创业 公司 护城河 李论 竞争者 模式 企业 问题 版本 车 密码锁 模型 联网 事 本质 链接 人 模式 传统 自行车 寿命 大量 车 炮灰 产生 垃圾 车连 人力 定位 成本 商业 模型 摩拜 李论 一家 公司 滴滴 一家 产品 公司 有点 体验 有点 苹果 代 时候 苹果 产品 人 时候 所有人 产品 过程 产品 资本 战争 规模 产品 机会 单车 硬件 成 智能 李论 大家 方向 时间 问题 摩拜 产品 定位 李论 摩拜 普通 自行车 造车 时候 阶段 压力 投资人 分歧 大家 模式 摩拜 COO 胡玮炜 极客 汽车 创始人 事情 摩拜 核心 基因 花大 力气 成本 车 模型 明白 造车 创业者 团队 地方 造车 模型 李论 然后 时候 经济模型 车 数量 次数 用户数量 生命周期 结果 结果 结果 数据 车 造车 投资人 模型 轮华平 高瓴 红杉 华平 大量 市场调研 一家 科学 公司 模型 红杉 那天 香港 红杉 办公室 沈南鹏 聊天 摩拜 大家 明白 规划 大家 逆向 用户 摩拜 问题 骑太 范围 车锁 李论 车 骑 太冷 风 天热 浑身 北京 摩拜 问题 车锁 扫码 问题 定位 问题 小区 北京 项目 经历 过程 李论 摩拜 CEO 王晓峰 朋友 Uber 时候 能干 成 公司 公司 办公室 骑车 摩拜 交通 人 城市 方式 骑车 东西 一家 咖啡馆 花店 宠物店 项目 时候 分歧 资产 团队 玮 炜 产品 理解能力 用户 规划 关键 数据 情况 用户 情况 李论 轮 爬坡 实际 摩拜 榜单 滴滴 携程 艺龙 用户 团队 摩拜 用户 自带 广告 产品 用户 产品 用户 时候 车 用户数量 单量 用户量 用户量 空间 用户数量 数量 比值 原因 车少 后台 数据 大量 用户 骑车 次数 次数 比例 数量 摩拜 轮 过程 一下 李论 轮 TS 协议 手软 所有人 额度 电话 前辈 要点 红杉 华平 高瓴 愉悦资本 创新工场 贝塔斯曼 美团 王兴 经纬 风向标 机构 轮 款 王兴 人参 摩拜 轮 王兴 经验 熊猫 资本 股权 比重 李论 董事 大股东 股权 摩拜 股权结构 摩拜 团队 公司 阶段 李论 独角兽 时间 理想 全球 城市 用户 计划 城市 李论 问题 市场 摩拜 盈利模式 李论 盈利 活 做广告 骑车 块钱 利润 图片 搜狐 责任编辑',\n",
       " '投资界 快讯 核桃空间 天使 创 资本 品络 匠源 投资界 消息 核桃空间 商铺 人民币 天使 资本 品络 匠源 核桃空间 CEO 胡羿泽 精力 店铺 企业 战略 关系 核桃空间 计划 内 覆盖全国 城市 点位 核桃空间 一家 云端 体系 地理 商业智能 选址 商铺 落地 公司 致力于 个体 商家 品牌 商户 商铺 落地 解决方案 地方 品牌 加盟商 桥梁 核桃空间 全国 餐饮 企业 商业模式 核桃空间 店铺 费用 精准 收益 选址 规划 项目 商业广场 产业园 区 工业园区 景区 校园 社区 场景 传统 商铺 业务 核桃空间 智能 选址 目标 消费者 平台 定位 数据 智能 技术 智慧城市 线下 落地 终端 精准 模型 定位 核桃空间 数据库 参数 细分 行业 空间 客流 模型 商铺 范围 内 客户 全国 品牌 商户 全国 城市 核心 品牌 空白 区域 门槛 方式 开店 精准 品牌 产品运营 方案 创 资本 董事合伙人 贾璐 中国 新 经济 时代 热潮 实体 品牌 创 资本 致力于 大众 产业 核桃空间 利用 商业 闲置 空间 增量 市场 定位 数据 极具 潜力 空间 品络 匠源 董事长 汪志刚 核桃空间 店铺 个体 商家 品牌 商户 客源 选址 消费者 行业 场景 品络 匠源 核桃空间 市场 模式 投资界 原创 作者 原文 投资界 精彩 资讯 金融界 网站']"
      ]
     },
     "execution_count": 59,
     "metadata": {},
     "output_type": "execute_result"
    }
   ],
   "source": [
    "print(len(content_list))\n",
    "content_list[-10:]"
   ]
  },
  {
   "cell_type": "markdown",
   "metadata": {},
   "source": [
    "### 从es中选几篇文本，测试模型准确度"
   ]
  },
  {
   "cell_type": "code",
   "execution_count": 118,
   "metadata": {},
   "outputs": [],
   "source": [
    "'''\n",
    "    从es里读取的content是html格式，需要解析成文本\n",
    "'''\n",
    "def sentencesMaker(html):\n",
    "    sentences = []\n",
    "    if not html or not html.strip():\n",
    "        return sentences\n",
    "    try:\n",
    "        from html.parser import unescape\n",
    "        html = unescape(html)\n",
    "\n",
    "        import justext\n",
    "        paragraphs = justext.justext(html, [])\n",
    "\n",
    "        cache_sentences = ''\n",
    "\n",
    "        for p in paragraphs:\n",
    "            sent = p.text.strip().replace('\\xa0', '').replace('\\u3000', '')\n",
    "            sent = sent.encode('gb2312', 'ignore').decode('gb2312').encode('gbk', 'ignore').decode('gbk')\n",
    "            if not sent:\n",
    "                continue\n",
    "\n",
    "            # 可能是含有名字，需要进一步处理\n",
    "            if len(cache_sentences) < 5:\n",
    "                cache_sentences += ' ' + sent\n",
    "            else:\n",
    "                sentences.append(cache_sentences.strip())\n",
    "                cache_sentences = sent\n",
    "\n",
    "        if not not cache_sentences:\n",
    "            sentences.append(cache_sentences.strip())\n",
    "    except Exception as e:\n",
    "        logger.error(e)\n",
    "\n",
    "    return sentences"
   ]
  },
  {
   "cell_type": "code",
   "execution_count": 150,
   "metadata": {},
   "outputs": [],
   "source": [
    "'''\n",
    "    连接es，helpers.scan输出的是全部的数据！不能批量输出！！\n",
    "'''\n",
    "from elasticsearch import Elasticsearch\n",
    "from elasticsearch import helpers\n",
    "\n",
    "es = Elasticsearch('http://123.206.13.101:59200')\n",
    "\n",
    "doc_index = '*_bl2'\n",
    "doc_type = 'news'\n",
    "\n",
    "query = {\n",
    "  \"from\":3, \"size\":10,\n",
    "  \"query\": {\n",
    "    \"match_all\": {}\n",
    "  }\n",
    "}\n",
    "\n",
    "data = es.search(index=\"*_bl2\", doc_type='news', body=query) # 解析结果需要data[\"hits\"][\"hits\"]\n",
    "# es_result = helpers.scan(es, query=query, scroll='5m', index=\"*_bl2\", doc_type='news', timeout=\"1m\")"
   ]
  },
  {
   "cell_type": "code",
   "execution_count": 151,
   "metadata": {},
   "outputs": [],
   "source": [
    "id_content_dit={}\n",
    "for item in data[\"hits\"][\"hits\"]: # \n",
    "    id_content_dit[item[\"_id\"]] = item[\"_source\"][\"title\"] + \"////\" +\"\".join(sentencesMaker(item[\"_source\"][\"content\"]))\n",
    "\n",
    "result = []\n",
    "for key,value in id_content_dit.items():\n",
    "    result.append(value)\n",
    "#     print(key, value)\n",
    "#     print(\"*******************\")"
   ]
  },
  {
   "cell_type": "markdown",
   "metadata": {},
   "source": [
    "#### 数据处理，模型预测"
   ]
  },
  {
   "cell_type": "code",
   "execution_count": 152,
   "metadata": {},
   "outputs": [],
   "source": [
    "# 分词，去掉词性是非n开头的词，去除停用词,中英文特殊符号\n",
    "token_texts_test = []\n",
    "import jieba.posseg as psg\n",
    "for line in result:\n",
    "    word = [word for word, flag in psg.cut(line) if flag.startswith('n')]\n",
    "    token_texts_test.append(\" \".join(word))\n",
    "\n",
    "\n",
    "# 加载中文特殊符号\n",
    "import zhon.hanzi\n",
    "chi_char = zhon.hanzi.punctuation\n",
    "# 加载英文特殊符号\n",
    "import string\n",
    "eng_char = string.punctuation\n",
    "# 加载停用词\n",
    "with open(\"./stop_words.utf8\", \"r\", encoding=\"utf-8\") as stop_word:\n",
    "    stop_words = stop_word.readlines()\n",
    "    filtered_token_texts_test = []\n",
    "    for token_text in token_texts_test:\n",
    "        filtered_token_text = [token for token in token_text \n",
    "                               if token not in stop_words and token not in chi_char and token not in eng_char]\n",
    "        filtered_token_texts_test.append(\"\".join(filtered_token_text))"
   ]
  },
  {
   "cell_type": "code",
   "execution_count": 153,
   "metadata": {},
   "outputs": [
    {
     "name": "stdout",
     "output_type": "stream",
     "text": [
      "['0' '1' '1' '1' '1' '0' '0' '0' '1' '1']\n"
     ]
    }
   ],
   "source": [
    "test_features = vectorizer.transform(filtered_token_texts_test)\n",
    "y_prediction = svm.predict(test_features)\n",
    "print(y_prediction)"
   ]
  },
  {
   "cell_type": "code",
   "execution_count": 154,
   "metadata": {},
   "outputs": [
    {
     "name": "stdout",
     "output_type": "stream",
     "text": [
      "0\n",
      "0 星球首发 | AI版“币圈同花顺”「币智慧」获千万级人民币融资，OK资本领投////编者按：本文来自36氪战略合作区块链媒体“Odaily星球日报”（公众号ID：o-daily，APP下载）星球日报获悉，定位于数字资产智能投资平台的“币智慧”日前获千万级人民币Pre-A轮融资，领投方为OK Blockchain Capital，数贝投资、流动资本跟投。据创始人龙世增介绍，本轮融资将用于数据研发、产品运营及市场推广。“币智慧”将人工智能技术应用到区块链领域，针对当前数字资产投资者难以评估资产价值、及时把控买卖点并选择科学投资组合的痛点，“币智慧”对全网币种进行知识图谱的分析，实时监控动态异动事件，并提供16个已量化的组合维度（持续增加中），给投资者个性化投资建议。继今年4月上线微信小程序之后，此次“币智慧”上线了APP版本，其功能相比小程序更为全面，提供动态资讯（全球媒体站点、交易所、社交媒体）、数字资产数据维度（行情、资讯、基本面）、深度分析数据（图谱关系、技术指标、情绪指数等）、动态异动监控四个板块。本轮投资方中，OK Blockchain Capital 隶属于区块链集团OK Group旗下，专注于区块链领域的风险投资基金；数贝投资由浙江清华长三角研究院杭州分院发起成立，创始合伙人孔剑平为嘉楠耘智董事会联席董事长；流动资本Liquidity Technology Ltd 则由知名区块链投资人楼霁月创立，专注于区块链生态投资。另外，币智慧在2016年底曾获得创大资本数百万天使投资。以下为星球日报今年5月对“币智慧”的报道：对于一个小白而言，要学习如何炒币并不容易，从选币到盯盘都要步步为营。根据Coinmarketcap最新数据，当前场上数字货币已超过1600种，24小时之内数字货币市场交易量在100亿美元以上。现有代币投资中，代币种类繁多，信息过载且难以成体系，致使投资者们对数字货币的评估与投资选择上变得更为简单粗暴；此外，在管理其数字货币的过程中，相比起传统股票市场，数字货币价格涨跌幅对于政策、技术变革、网络安全等动态因素更为敏感，且受影响因素更为复杂，为此，无法及时获取资讯把握买卖点，且无可供参考的投资组合维度、风险评估也难以形成健康有效的投资。定位于数字资产智能投资平台的“币智慧”，正在尝试用人工智能的方法来解决这些痛点，基于对token经济的看好态度，以及人工智能的适用性，该平台在2017年底由人工智能技术公司转型All in 区块链。据创始人龙世增介绍，面向C端用户，“币智慧”涵盖数字货币的行情、基础面与消息面。前两者的信息呈现与Coinmarketcap、非小号类似，基础面包含项目官网、白皮书、团队结构、技术框架、代币发行总量等基础信息。平台主要在消息面上实现AI的突破。其在消息面上的AI优势主要体现NLP算法和知识图谱上。一是清洗全网信息数据，开通快讯资讯版块，且做出利好利空的判断。二是据信息生成量化参考维度，目前平台已上线代币市值排名、媒体热度、开源代码热度、明星团队等16个已量化的相关组合维度（持续增加中），供用户自由选币参考，维度划分来源于国外研报以及平台自身相关性分析得出，并根据个人风险承受情况，给出个性化的组合建议，并将支持个人回测功能。三则是根据代币白皮书、全网资讯等上线可视化的人物-币种关系知识图谱，类似于“天眼查”。四则是通过人工智能技术对于监控的币种，提供异动事件实时监控并实时推送，监控内容包括团队异动、政策/技术异动、市场情绪异动等，帮助用户调整持仓。针对同类竞品Coindash、以及近期开通数字货币行情版块的同花顺，龙世增认为币智慧优势除了其人工智能背景以及时间上的先发优势之外，还在于其在运营模式上的成功探索。今年4月币智慧已上线小程序，预计于2019年上线DApp，目前币智慧平台注册用户数量已达10万+，月活已达6万，谈及如何吸引用户，龙世增表示，平台主要通过“内容+社群+token激励”方式来拉新留存。目前币智慧旗下运营的币圈内容公众号粉丝已达5万+，自有社群已达60多个，旨在为平台拉新引流；BZH则为平台通行token,用户通过平台注册、阅读分享资讯、纠正反馈等参与行为获得BZH奖励，平台允许用户使用BZH购买币智慧资讯平台、智能选币与及时监控服务，且通过BZH的回购销毁实现一部分变现功能。当前，其商业模式除为C端用户提供增值服务之外，还有以下两种：一为开放API接口为企业客户提供全网资讯、币分析、智能问答等数据服务，二为专家用户策略模型交易撮合，与专家用户分成。此前，币智慧曾获得创大资本数百万天使投资，现在打算寻求一笔1500万元的融资，融资目的一半用于技术研发，一半用于产品运营与市场推广。团队成员数量为30+，数据研发人员占比40%以上。币智慧CEO龙世增原为人工智能公司技术负责人，原网易、阿里巴巴高级数据研发负责人，网易邮箱数据产品负责人。首席科学家蔡瑞初为教授、博士生导师、原网易数据中心高级顾问。（我是Odaily星球日报记者芦荟，探索真实区块链，爆料、交流请加微信1012387983，烦请备注姓名、单位、职务和事由。）\n",
      "**********************************************\n",
      "1\n",
      "1 纳斯达克CEO：ICO正在“利用”散户投资者，背后高风险需警惕////编者按：本文来自36氪战略合作区块链媒体“Odaily星球日报”（公众号ID：o-daily，APP下载）今年，加密货币筹款方式（ICO）为散户投资者带来了数十亿美元的收入。昨天，纳斯达克 CEO Adena Friedman 在纽约金融科技大会的未来会议上，对ICO行为进行了批评。她认为，ICO对散户投资者来说存在很高风险。Friedman 表示，在完全没有规则的情况下，公司可以不提供任何信息随意拿走散户投资者的钱，而且没有任何监管。这听起来，散户正在被ICO发行机构利用。Friedman所指的“被利用的散户”通常是像“爱荷华州的阿姨”（美国版中国大妈）这类对投资业务了解很少的首次投资者，他们缺乏相关信息。尽管SEC要求公司向IPO散户投资者提供与机构投资者相同的信息，但由于加密货币市场监管的缺乏，这一点并未得到很好的执行。Friedman表示，目前ICO领域的监管很少，且散户投资者较多。这意味着公司通过ICO方式募资过程的透明度、监督管理和问责机制缺失。在ICO过程中，代币通常被拿来以众筹形式出售。与用来获得投票权或者股息的股票不同，这些代币仅可以用来访问网络、平台以及获得相关服务，而背后支撑代币的也可能只是一个抽象的概念或者想法。CNBC认为，EOS的开发公司Block.one5月下旬募资40亿美元，这一数字使得今年证券交易所上市的全球最大规模IPO都黯然失色。但是，获得这笔巨额筹款时，Block.one的旗舰产品尚未推出。EOS这笔史上最大规模ICO，只是虚拟货币募资“狂潮”的个案。据研究公司Autonomous Next数据显示，2017年ICO募资金额66亿美元，而今年这一数字已经达到了91亿美元。ICO募资规模以及增速令人瞩目，SEC已经着手加强监管。近来，SEC已陆续关闭了一些ICO公司，将Floyd Mayweather和 DJ Khalid负责的一家公司认定为诈骗公司。此外，SEC还对部分ICO募资机构发出警告。SEC主席 Jay Clayton认为，大多数ICO和许多其他的加密资产应被视为未注册的证券。Friedman 对此持赞同和支持态度。今年4月，Friedman曾向CNBC透露，一旦监管平稳，市场发展成熟，纳斯达克将考虑成立数字货币交易所；但是目前，纳斯达克倾向于走合作路线。此前，纳斯达克宣布与加密货币交易所Gemini合作，该交易所由早期比特币投资者Tyler Winklevoss和Cameron Winklevoss联合创立。Gemini CEO Tyler Winklevoss在一份声明中表示，此次合作使Gemini可以使用纳斯达克的监控技术，确保为其平台参与者提供公平的、基于规则的市场环境。对此，Friedman进一步表示，虽然比特币等加密货币将来可能会金融行业产生巨大的影响，但由于当前加密货币处于完全一个监管尚未成型的市场环境，相较于纳斯达克自己做数字货币交易所而言，选择合作伙伴的入场方式更为稳妥。最后，Friedman认为，应该假定加密货币将是一件非常有趣的事情，而且它会成为互联网的真实构成。但是它可也能“夭折在藤曼上”，甚至成为豆豆娃现象（泡沫经济的一种实例）。我是Odaily星球日报记者张一，探索真实区块链，爆料、交流请加微信ro20110723，烦请备注姓名、单位、职务和事由。\n",
      "**********************************************\n",
      "2\n",
      "1 美国资产管理公司Reality Share推出新基金，专门投资中国的区块链上市公司////编者按：本文来自36氪战略合作区块链媒体“Odaily星球日报”（公众号ID：o-daily，APP下载）根据CCN报道，美国资产管理公司Reality Shares推出Reality Shares Nasdaq NexGen Economy China ETF，专门投资中国的区块链上市公司。目前已经在纳斯达克挂牌上市，代码为BCNA。ETF是开放式指数基金，是以特定指数（如沪深300指数、纳斯达克100指数等）为标的指数，并以该指数的成份股为投资对象，通过购买该指数的全部或部分成份股构建投资组合，以追踪指数表现的基金产品。据了解，Reality Shares早在4 月份之前就已经向美国证券交易委员会提交申报该基金的文件。Reality Shares Nasdaq NexGen Economy China ETF投资的有中国内地上市的 A 股公司、香港上市的 H 股公司，通过存托凭证在美国上市的中国企业等使用区块链技术的公司。每半年根据指数进行一次调整。星球日报记者从BCNA网站上获悉，目前，有阿里巴巴集团控股公司，百度公司，中国平安保险集团公司等10家公司。Reality Shares的团队开发了一套评估区块链上市公司的方法，利用 7 个指标来评估每家企业，根据得分情况调整区块链经济指数的成分股构成。这 7 个指标包括：该公司在区块链生态中的角色（投资者、应用者、顾问、供应商和开发者）；区块链产品所处阶段；经济影响力；在区块链联盟（比如Hyperledger）中的角色；区块链研发支出占总收入的比例；目标企业与区块链技术相关的公开信息披露状况；企业在区块链技术方面的创新能力和水平，比如区块链专利申请数量等。Reality Shares会公布这些打分情况，公众可以根据这些信息，选择是否购买该基金。据悉，Reality Shares 资产管理公司成立于 2012年，总部位于美国圣迭戈。目前管理着 5 支 ETF 基金。这家公司团队一共 11 个成员，其中两位来自中国。其实，早在今年 1 月，这家公司就推出了投资区块链上市公司的 基金Reality Shares Nasdaq NexGen Economy ETF，代码为BLCN，在纳斯达克市场正式交易。该基金覆盖全球的区块链上市公司，北美和欧洲的公司较多，亚洲的公司所占比例较小，仅包含了通过存托凭证在美国上市的中国企业。Reality Shares的首席执行官Eric Ervin认为，目前中国对许多区块链投资者都有吸引力，中国在区块链相关专利数量较多，并且投资可以跨越基础设施、金融服务、制造业和技术行业。所以Reality Shares对针对中国的区块链上市公司的投资基金很有信心。然而，值得注意的是，今年 1 月份 ，在BLCN在正式上市挂牌前几天，美国证券监管委员提出质疑，这只基金投资的公司中不到 80% 是区块链公司。我是Odaily星球日报记者燕南，探索真实区块链，爆料、交流请加微信nangua421262，烦请备注姓名、单位、职务和事由。\n",
      "**********************************************\n",
      "3\n",
      "1 OKEx上线“开放交易所计划”，要转型做“生态搭建者\"////编者按：本文来自36氪战略合作区块链媒体“Odaily星球日报”（公众号ID：o-daily，APP下载 ）6月19日数字资产交易平台OKEx发布公告，启动“数字资产交易所开放共赢计划”，即提供全流程解决方案，来帮助合作成员搭建数字资产交易所。OKEx的这一计划是将自己在数字资产交易领域积累的撮合系统、柜台系统、冷钱包系统、热钱包系统、资金清算系统、全球多语言的客服能力、全球客户身份识别和反洗钱系统等共享给合作成员“OK伙伴”。目前，国内外数字货币交易所参差不齐，网络延迟、网络黑客、超量交易产生的服务器崩溃问题都困扰着投资者和初创项目团队。因此，OKEx选择向优质团队开放全链路解决方案，一方面为创业团队提供了优质的底层基础设施，让团队可以把更多资源聚焦于项目与产品研发。另一方面，也是OKEx平台自身在战略上的调整。OKEx平台拥有国内外大量数字货币投资者，有着运营经验和核心技术的积累。该平台的发展战略上，选择从“参与者”到“生态搭建者”的转变，来进行对优质项目的推广；这种转变类似于其他独角兽企业，如百度阿波罗计划（2017年4月19日，百度宣布开放自动驾驶平台，向汽车行业及自动驾驶领域的合作伙伴提供一个开放、完整、安全的软件平台）等。同时，这一计划也许能优化整条数字货币产业链。据悉，本次招募的“OK伙伴”和开放交易所，将拿出24%的币值向OKB持有者分红。这也是OKEx在平台币上探索创新玩法。OK开放共赢计划首期开放100个名额，锁定50万枚OKB的团队（认证商家、投票上币、专业投资人等锁定的额度不参与计算）能够参与报名。根据“候选者”在运营经验、服务意识、行业影响力方面的综合表现，OKEx将在7月下旬选出并协助搭建第一批交易所。（我是李晓红，探索真实区块链，爆料、交流请加微信Florence-abc，烦请备注姓名、单位、职务和事由。）\n",
      "**********************************************\n",
      "4\n",
      "1 开发者测试闪电网络新思路，在区块链上玩《神奇宝贝》////编者按：本文来自36氪战略合作区块链媒体“Odaily星球日报”（公众号ID：o-daily，APP下载 ）最近开发者们找到一个测试区块链闪电网络（一种将大量交易放到比特币区块链之外进行的解决方案）新方法：让玩家们在区块链上玩任天堂的标志性游戏《 神奇宝贝 》。据报道，软件工程师JooAlmeida创建一个名为“Poketoshi”的平台，并将《神奇宝贝》置入其中。这款特殊的游戏目前托管在直播视频平台Twitch上，用户在聊天室上打出命令代码来，游戏可以读取指令进行相关动作。每个命令需要花费10个Satoshi币，一个Satoshi币等于一个比特币的百万分之一。“Poketoshi”平台的支付系统通过“OpenNode”（交易系统）完成，主要测试大容量外链即时交易功能。开发人员称，闪电网络不会让游戏变得更有趣，该平台只是为了展示闪电网络的实用性和快速交易性功能。开发者们认为““OpenNode”在企业级交易时具备优势，可实现类似PayPal功能。目前“OpenNode”正在和一些电子商务平台插件进行合作，以兼容电商网站。据了解，“Poketoshi”平台开发者曾在3月15日推出了第一个支持比特币主网的闪电网络，于4月4日推出安卓用户第一款闪电网络手机钱包。这已经不是开发人员第一次创建测试闪电网络的新方式。此前一位开发人员建立了一个闪电网络绘图板，另外还有开发人员创建过闪电网络糖果机，让用户通过闪电网络进行支付。（我是Odaily星球日报记者赵欢鑫，探索真实区块链，爆料、交流请加微信17778170972，烦请备注姓名、单位、职务和事由。）\n",
      "**********************************************\n",
      "5\n",
      "0 氪星晚报丨AI称本届世界杯巴西将夺冠；今日头条App上线游戏业务；多家电影公司解散发行业务////大公司 小米在中国证监会更新招股书小米在中国证监会更新招股书：本次发行的cdr所对应的基础股票占cdr和港股发行后总股本的比例不低于7%，且本次发行cdr所对应的基础股份占本次cdr和港股发行总规模（含老股发行规模）的比例不低于50%。好未来回应浑水做空：存在大量恶意解读，将对指控进行评估36氪获悉，针对浑水的做空报告，好未来官方回应称：“报告中存在大量错误、无依据的猜测以及恶意解读。”董事会与审计委员会将对指控进行评估，并考虑采取适当手段保护公司股东利益。次回应是针对昨日晚间，浑水公司发布约70页的做空报告以及一段13分钟的视频，表示正在做空中国好未来教育集团，浑水创始人卡森.布洛克称好未来正欺诈性的创造利润。陆奇宣布卸任后，百度Apollo “300亿美元身家”在CES全线展出在今年CES Asia上，百度一并展出了Apollo平台发布一年多来的产品化、量产化成果，这些是Apollo 300亿美元估值的核心。期间，百度与三家车企在自动驾驶、车联网方面达成合作，包括宝马、现代和刚获得5亿美元融资的车企拜腾。据百度官方介绍，百度与宝马合作将围绕车家互联展开，与拜腾则达成基于小度车载系统的深度合作。另外，百度与现代在自动驾驶领域的合作将更深入和全面。顺丰回应将投资易到：市场传闻，不做评论36氪讯，此前有自媒体爆料称，顺丰有望投资易到用车。顺丰方面回应36氪称，顺丰将投资易到用车是市场传闻，不做评论。腾讯To B业务新探索：“金融版QQ”上线腾讯将在七月初正式宣布上线金融行业OTC（场外交易）解决方案“腾讯企点QTrade”。这个“金融版QQ”定位于面向交易员和金融机构的企业沟通工具，提供沟通便利的同时，旨在解决机构在报价、咨询中可能涉及的风险与违规行为。这是腾讯To B业务上的一个新探索。今日头条App上线游戏业务，“头腾大战”矛盾进一步激化36氪今日获悉，字节跳动旗下今日头条安卓版App悄悄上线了“今日游戏”模块。在App主页端点击位于左上方的用户头像，进入二级页面里的“我的钱包”模块，就可以看到已在钱包服务里的“今日游戏”。目前，iOS版本还没有该模块。36氪就此求证今日头条，对方表示：“不予置评”。QQ放开微视、快手分享，头条系依然被封锁36氪讯，今日有网友爆料，微视和快手以已经可以在QQ正常分享，而抖音、火山和西瓜等头条系产品仍然处于被封禁的状态。记者测试证实，下饭视频、微视和快手在分享到QQ之后，点击链接可以正常播放。与此同时，在QQ里抖音、西瓜和火山的链接，仍然处于被封禁状态。爱立信：2023年底将有超过10亿5G用户爱立信移动报告显示，到2023年全球超过20％的移动数据流量将由5G网络承载，将有超过10亿5G用户，约占所有移动用户的12％。物联网连接自2017年11月以来几乎翻了一番，预计到2023年将继续高增长，这主要得益于正在中国进行的大规模部署。本田汽车加入百度的自动驾驶汽车项目据日经新闻报道，本田汽车加入百度的自动驾驶汽车项目。AI接棒世界杯“预测帝”，称巴西夺冠高盛用AI计算出巴西队将会夺冠2018年世界杯。预测最终决赛将在德国和巴西之间进行，巴西有望最终赢得决赛的胜利，第六次获得世界杯冠军。俄世界杯收益或创历史新高，中国赞助商占三成以上此次俄罗斯世界杯将为国际足联带来61亿美元收益，创历史新高。此外，国际足联财务文件显示，世界杯赞助商中国公司占三成以上。电影发行大洗牌，多家公司解散发行业务中国影视产业持续变革，产业链上的每个环节也纷纷进入洗牌期，其中电影发行业是受到冲击最为明显的环节之一。2018年起多家电影公司已经开始调整收缩自身发行业务，其中包括星美影业、众合千澄、恒业影业等公司。百度与中国移动签署战略合作框架协议，将推免流量产品36氪讯，中国移动与百度今日在京举行战略合作签约仪式，双方将围绕各自核心优势，在人工智能、大数据、5G等前沿领域展开深度合作。此次合作的第一个落地产品将是双方联合推出的免流量产品。用户办理后可在手机上免流量费使用百度App、爱奇艺、百度贴吧等13款百度旗下产品，预计最快将在本月底正式上线。苏宁冷链物流前置仓全国覆盖173城苏宁物流位于南京的冷链仓已完成搬仓升级，仓库规模较之前扩大了3倍。本月底，苏宁新增徐州、天津两大冷链仓也将投入运营。这样一来，苏宁物流全国15座冷链仓将增加到17座，全国覆盖范围也从150城扩大到173城。肯德基全国餐厅支持口碑APP点餐，涉及5000多家店阿里巴巴旗下本地生活服务平台口碑的点单功能接入肯德基所有门店，将其手机点单服务扩展到全国。这距离口碑在无锡、上海、北京先后试点“手机点单”新功能不到半个月时间。目前肯德基已在全国1200多个城市和乡镇开设超过5000家餐厅。微软开发无人商店自动结账技术，欲挑战亚马逊地位据透露社消息，微软正在开发无人便利店所使用的自动结账技术，希望在这个领域挑战亚马逊。消息人士透露，微软目前正在开发能够追踪消费者在购物车中放入的商品的技术。有三位消息人士表示，微软已经在世界范围内向零售商展示了这个技术，并且正在与沃尔玛进行对话，商讨合作的可能性。Axiom Space计划2020年推出国际空间站旅行业务，每人费用5500万美元据《纽约时报》报道，自称打造世界第一个私人融资商业空间站的 Axiom Space公司表示，计划在2020年推出国际空间站旅行业务。太空游客将可以在国际空间站停留7至10天，而每个人的费用为5500万美元。该公司计划在2022年推出连接国际空间站的居住舱。与母公司亚马逊意见不合，全食CEO：我不怕被开除据The Verge报道，全食联合创始人兼首席执行官约翰麦基在近日的一次公司会议上提到全食与母公司亚马逊之间再次出现紧张关系。麦基没有具体说明他和亚马逊到底发生了什么冲突，但他明确表示，如果他认为有必要，他会毫不犹豫地进行反击。“我不怕他们开除我，这给予我向权力说话的勇气，我已经这样做了很多次。”投融资 陆金所计划融资至多20亿美元今日，据路透社报道，平安集团旗下理财平台陆金所计划融资至多20亿美元，估值将达400亿美元。在线房屋买卖平台「Opendoor」获新一轮3.25亿美元融资36氪获悉，在线房屋买卖平台Opendoor获新一轮3.25亿美元融资，投后估值达到20亿美金。此轮融资由General Atlantic、Access Technology Ventures和Lennar Corporation共同领投，此轮融资主要用于其业务扩张、团队建设以及“Trade Up”换购业务的推行。药师帮完成C轮4.2亿融资 ，DCM 、顺为、 SIG参投动脉网称，今日药师帮对外宣布于近日完成C轮系列总额4.2亿人民币的融资。本轮融资由冲盈资本担任独家财务顾问。其中C1轮顺为资本领投，松禾资本和高捷资本跟投；C2轮由DCM资本领投，SIG跟投。其上一轮1.1亿人民币的B轮融资于2016年年底完成，由松禾和复星领投。截止目前，药师帮的总融资额已超过6亿。造全球电子产品“翻新”品牌，「Back Market」获4800万美元融资36氪获悉，法国创业公司Back Market宣布获得4800万美元（4100万欧元）融资，投资方为Groupe Arnault，Eurazeo，AglaéVentures和Daphni。此次融资将用于Back Market在全球范围扩张翻新电子产品市场，尤其是北美市场。智慧芽完成3800万美元D轮融资据腾讯一线报道，智慧芽宣布完成3800万美元D轮融资，本次融资由红杉资本领投，顺为资本及Qualgro跟投。截至目前，智慧芽累计融资金额已超1亿美元，成为全球研发情报与知识产权管理SaaS行业领跑者。智慧芽致力于通过人工智能技术为科技企业、高校、研究院等提供创新研发和知识产权全生命周期解决方案。豆包网年初完成了新一轮融资，融资规模为7500万元36氪讯，豆包网于2018年年初完成了新一轮7500万元融资，由中国最大的全球化母基金盛景嘉成领投，尚势资本、博将资本、盛腾喜大跟投，原股东汇财投资等持续加持参与。豆包网创始人张启科介绍，本轮融资将用于“科技赋能”战略的落地，为中小保险公司、保险中介公司提供数据化管理系统，搭建数字化资产。P2P支付应用 Mezu 获1000万美元融资36氪获悉，针对陌生人支付的美国P2P支付应用Mezu昨日正式上线，为无需透露个人信息的陌生人支付场景提出解决方案。同日，Mezu还宣布获得1000万美元的融资，本轮融资由匹兹堡的 Draper Triangle Ventures领投。专做沙拉，烹饪机器人Chowbotics获1100万A轮融资旧金山湾区创企Chowbotics获得了1100万A轮融资，领投方为Foundry Group和Techstars。这轮融资将帮助公司添加绿叶蔬菜之外的食材，目前公司的沙拉制作机器人Sally已经在这类食材上赚了一笔钱。公司推出的产品包括谷物碗、早餐碗、懒人餐等。区块链 周小川示警纯炒作性加密货币，金融要为实体经济服务央行原行长周小川表示，最近出现了纯粹炒作性的数字类的、加密类的产品，跟实体经济没什么关系，但仍旧还可以继续炒热。“危机的早期，大家共同的认识都是，有些衍生产品发展得非常过度，像CDO、CDO平方、CDO立方，这些产品可能过多地脱离实体经济，变成金融市场玩家的炒作工具，最后可能产生巨大的风险。”百万EOS私钥被盗，这会影响EOS投票率吗？今日，IMEOS发布消息称，百万EOS私钥被黑客盗走，交易所延缓推进EOS主网激活。目前已经统计出60多位英文区和韩文区的受害者，中文区受害者还未进行统计。EOS42、EOSCannon（佳能社区）、EOS纽约、EOSNation、BlockSmith、EOSAmsterdam、EOSRio、EOSDAC节点协作，正在找回丢失的EOS。目前，已经有3个账号被找回，一个被认领。根据佳能节点CTO bean分析，本次EOS被盗现象可能是因为用户在复制粘贴私钥的时候，被某些恶意程序监听，建议用户不要复制私钥。2018年第一季度，全球ICO项目共筹集66亿美元据CNBC报道，2018年第一季度，全球共有217个ICO项目，筹集了66亿美元，比去年第四季度增长超69%。2017年四个季度筹集资金分别达到：第一季度为4000万美元；第二季度为10亿美元；第三季度为23亿美元；第四季度为39亿美元。百度内测区块链应用绿洲，度宇宙上线推迟百度绿洲于百度钱包app内进行内测，该应用似乎是对标网易星球、京东哈希庄园等区块链小游戏，玩法十分相似。与此同时，度宇宙上线时间却一再推迟，百度曾承诺将于13日上线相关app，至今，度宇宙官网中仅更新了安卓下载码，用户依旧无法通过下载码提供的地址下载度宇宙app。区块链游戏氪星球获700万天使融资，英诺天使基金体系内三家机构参投区块链游戏氪星球的开发团队获700万人民币天使轮融资，投资方为英诺天使基金体系内的水木区块链基金、丹华资本、AC加速器三家机构。英诺天使基金投资总监徐景心表示，该公司的数字收藏品交易平台有一定先发优势，具有成为区块链游戏分发平台的入口级应用的潜力。今日观点 周鸿：要定期清理小白兔员工以避免“死海效应”36氪讯，周鸿微博发文称，公司部门领导和人力资源部门要定期清理小白兔员工，否则就会发生死海效应：公司发展到一定阶段，能力强的员工容易离职，因为他们对公司内愚蠢的行为的容忍度不高，他们也容易找到好工作，能力差的员工倾向于留着不走，他们也不太好找工作，年头久了，他们就变中高层了。这种现象叫“死海效应”；好员工像死海的水一样蒸发掉，然后死海盐度就变得很高，正常生物不容易存活。\n",
      "**********************************************\n",
      "6\n",
      "0 聚焦2018微软人工智能大会：四大亮点不容错过////Build 2018开发者大会刚结束不久，微软举办的另一场大会又要拉开帷幕。据悉，微软将会在5月21日在北京举办微软人工智能大会 ai//innovate。与Build 大会不同，本次大会的主题更加聚焦，将集中展示微软近年来在人工智能领域的科研成果和新一代应用。近年来，以人工智能、云计算为代表的新技术正在席卷全球。微软、谷歌、苹果、亚马逊、Facebook、腾讯、阿里巴巴等巨头公司都投入了大量资源，大力发展人工智能。微软作为其中一员，已经在人工智能领域已经深耕了20多年，2017年更是将公司的业务重点从“移动为先云为先”改为“智能云+智能边缘”，在人工智能领域重兵布阵。在各大巨头竞相抢占人工智能制高点的现在，本次大会无疑是微软向外界展现实力的一个舞台。在刚刚过去的Build大会上，微软发布了深度神经网络处理架构 Project Brainwave，并对聊天机器人框架和认知服务进行了更新。而本次微软人工智能大会，将更深入地在技术研究、商业化等方面的最新进展给出介绍并集中呈现出来。根据官方信息，我们梳理了本次大会的四大亮点：亮点1：宣布微软人工智能黑科技新进展，进一步解读Build大会上的重要成果在人工智能领域，微软最早涉足的是自然语言、语音和计算机视觉方面。早在27年前，创立了相关的研究小组，近年来也取得了不少的成果。比如在SQuAD挑战赛中，其机器阅读水平以82.650的最高分率先超越人类；在深度学习相关的RESNET测试上，以152层、96%的准确率拔得头筹；在Switchboard语音识别基准测试中，错误率降低至5.1%，媲美专业速记员；对新闻报道测试集的中英翻译可以比肩人类，且文本翻译已支持超过60种语言等等。除此以外，微软的情绪识别技术也有不少成果，已经可以识别图片和视频中人物的幸福、愤怒、悲伤、惊喜等共8种情感，在影像、语音、语言、知识、搜索等领域也都有着重大进展。本次大会，微软将向外界展示这些最新的人工智能技术，而且也会就Build大会上的重要人工智能成果给出进一步的解读。亮点2：探索人工智能的行业应用，展示人工智能的商业应用场景和案例商业化是人工智能技术发展的重中之重。越来越多的行业和企业正在引入人工智能，人工会智能也在改写各种传统的应用场景和服务。微软已经在这方面做了不少工作，比如，通过人脸识别和情绪识别，让零售业通过“刷脸”实时分析顾客数据，获取商机；“同步翻译”，让企业员工能够实时与客户跨国交流，游戏公司和创业公司也可以将游戏、产品和方案快速推向全球市场；会回答问题、会对话、会卖萌的“智能客服”，将提升顾客粘性和满意度，减轻人工客服的负担等等。人工智能还有那些商业化的场景？微软将会进一步展示更多的商业应用场景和案例。亮点3：发布新的开发工具，给人工智能开发者赋能开发者是推动人工智能技术进步的关键，也是微软打造人工智能平台的基础所在。近年来，各大公司都在推出相应的开发工具与服务，微软也不遑多让，从底层平台、框架、到开发工具和服务，都在为开发者赋能。比如Azure云服务提供了100多种服务和工具，为AI开发提供了强大的数据处理能力和更快的运算效率；不仅广泛支持TensorFlow、CNTK等深度学习框架，更通过ONNX合作引领推动行业内的互通性；Bot Framework让开发者轻松搭建智能聊天机器人，还有Machine Learning Studio、Visual Studio Code Tools for AI、ML.NET等诸多AI开发工具；认知服务为开发者提供了最广泛、可定制的人工智能技术，用几行代码就能创造视觉、语音、语言、知识和搜索等智能应用等等。微软将推出并而介绍更多的工具，比如认知服务的最新更新、AI开发工具集等等。亮点4：ai//innovate全天候研讨会值得关注和Build大会不同的是，本次大会也更偏向于行业内部的交流，思想碰撞。本次大会，不仅有沈向洋、黄学东、郭昱廷等多位微软人工智能领域的领军人物发表演讲，还设有ai//innovate全天候研讨会，在这些研讨会上，微软的顶级人工智能专家、研发人员、以及业界的相关合作伙伴、专家分享行业见解与心得，研讨的内容从“新一代人工智能教育科研平台”、“混合现实与AI”等人工智能领域近期的热门话题，到翻译服务、语音服务、对话服务、自然语言理解等微软最新的人工智能技术与应用。PS：本次大会将于5月21日9:00开始，采取的是邀请制，如果无法到场，届时可以观看现场直播。直播链接点击（https://www.microsoft.com/china/aiinnovate2018/index.html）\n",
      "**********************************************\n",
      "7\n",
      "0 数字经济发展如何衡量？全国首份“用云量”报告出炉////编者按：本文来自微信公众号“腾讯研究院”（ID：cyberlawrc），36氪经授权转载。2018年，“数字中国”被首次写入政府工作报告，政府明确提出大力发展数字经济。云计算、大数据、人工智能等技术的集中爆发既为我们的生活带来便利，也为经济发展提供了新的机遇和动力，全国各地、各行各业都积极“上云”寻求数字化变革。那么，如何科学的测量新技术为各地市场带来的效果呢？用云量这一全新指标受到了关注。5月23日，2018腾讯“云+未来”峰会正式拉开帷幕。在峰会上，腾讯研究院联合腾讯云发布了《用云量与数字经济发展报告（2017）》（以下简称“报告”）。这是国内首份用云量专题报告，通过覆盖全国 351个地级以上城市的“用云量”指标，精确反映各地市场主体在云端的活动状况，并将为各界理解数字经济，搭建数字基础设施提供参考。对于云计算的重要性，腾讯董事会主席兼首席执行官马化腾多次表示，数字经济发展的重要指标是云化程度，未来数字经济时代，将通过计算云的数量，来衡量发展程度。在未来，“数据”是驱动数字经济发展的第一生产性要素，而云就是存储、运输、加工、应用“数据”的基础设施。“用云量”本质上衡量的是数据这一“新能源”投入和小号的关键指标。用云量的统计，将形成一时一地数字经济热度的“晴雨表”。从具体内容来看，报告展现了2017 年全国“用云量”快速增长的特点：2017 年下半年全国“用云量”总量较上半年环比增长66.5%，年化增长率 133.1%。2018一季度增速再上台阶，较去年同期同比增长138.6%。具体到地域分布，“用云量”则高度集中在北京、上海、深圳、天津、广州等一线城市，且正向规模较小的城市快速渗透。值得注意的是，2017 年香港 “用云量”年化增速达到 595.6% ，也可以排进全国城市“用云量”的前 20 名。从行业分布看，互联网行业是云计算诞生之地，也是云计算最早商用落地之处，目前仍然是云计算消费的绝对主力。2017年中国互联网行业“用云量”占全国总量的 79.1%。不仅如此，互联网行业整体的“用云量”还在保持高增长，且行业内部不同板块之间的“用云量”呈现分化趋势。同时，传统行业也正在急速数字化转型，“用云量”酝酿出新的行业增长点。例如，在政务领域，2017 年政务服务“用云量”增长超过十倍，在新技术驱动下，公共服务正快速推进数字化、远程化，实现数据多跑腿、群众少跑腿。同时，传统产业“用云量”年化增速达到278.6%，位列增速第二名。这一结果也从侧面表明，各行各业数字化进程正在快速推进，且已取得积极成果。以下为报告全文：\n",
      "**********************************************\n",
      "8\n",
      "1 彭博：中国科技公司纷纷破发，预示独角兽IPO前途“无亮”////在过去一年里上市的中国科技创业公司处境艰难，这对一大串寻求首次公开募股(IPO)的独角兽来说是个不祥的预兆。彭博汇编的数据显示，至少有23家中国科技初创企业着眼于在亚洲和美国进行IPO，其中包括智能手机制造商小米和网约车巨头滴滴出行。然而，在过去一年里上市的公司的走势预示着前景并不妙。在过去一年IPO的21家科技公司中，有三分之二的股价已经跌破发行价，截至上周五的平均跌幅约为20%。互联网融资平台趣店和拍拍贷跌幅居前，分别下挫55%和48%，搜索引擎搜狗跌27%。非公开市场估值的疯狂飙升，促使中国涌出了164家价值至少10亿美元的公司，现在这对公开市场构成了挑战。IPO交易料将抽走的流动性规模是如此之大，以至于投资者担心香港的现金将告急。而雪上加霜的是，随着科技巨头腾讯控股和阿里巴巴集团从此前创下的新高水平跌落，投资者对增长的认识更为清醒。大华继显驻上海分析师Julia Pan称，这些中资公司正在接近需要从公开市场获得资金的阶段，许多公司将尽可能地抬高估值；正如你看到去年上市的公司股价下挫那样，如果业务无法提供支撑，它们的价值将会跌落。本文来自Bloomberg，作者Lulu Yilun Chen\n",
      "**********************************************\n",
      "9\n",
      "1 互联网时代，如何深度工作？////编者按：本文来自一站式办公文档管理平台WPS+的微信公众号 WPS+（ID：WPS-SaaS）。作为一款旨在帮大家提高效率的办公神器，WPS+ 在本文中分享了深度工作的四大准则，希望对大家有所启发。小 A 是个刚入职一家新公司的员工，他经常早早的到公司，为了不让自己封闭落后，小 A 总是选择先看看新闻，然后刷刷朋友圈、刷刷微博，一个网页接一个网页点击过去，不知不觉到了上班时间…小 A 看看上午的工作：有几个重要的邮件要回，还有几个会议要开，先做什么呢？先回邮件吧。邮件还没有写完，微信就闪了起来，点开以后，和一些人聊“一会”，不知不觉开会时间到了，于是匆匆的去开会，开会的时候还总是忍不住收收邮件、看看即时通信工具，生怕错过什么信息。一天就在这样忙忙碌碌中过去了…麻省理工学院计算机科学博士卡尔纽波特教授称小 A 这种工作称为 “浮浅工作”：对认知要求不高的事务性任务，往往在受到干扰的情况下开展。此类工作通常不会为世界创造太多新价值，且容易复制。也许你还没有认识到，这种“浮浅工作”，正在让你逐渐失去职场竞争力，因为长期处于这种浮浅状态下，你的工作都是没有价值或者价值很低的，而你的能力也没有得到提升。互联网时代，人们深度工作能力的逐渐丧失。J.K.罗琳在写作《哈利波特》小说期间会远离社交媒体，尽管这段时间恰逢社交网络迅猛发展，公众人物也多对此趋之若鹜。罗琳手下的工作人员最终还是在 2009 年秋天用她的名字开设了推特账户，当时她正在写作《偶发空缺》，开设账户之后的头一年半里，她只发布了一条推特消息：“这是我的实名账户，但恐怕我不会经常发声，因为当前纸笔仍是我的最爱。”当然，深度工作不仅仅局限于历史人物和厌恶电脑之人，比尔盖茨每年都要进行两次“思考周”，在这段时间里，他会远离世事（通常是在湖边小屋），只读书，思考大局。正是在 1995 年的一次思考周中，盖茨写下了著名的“互联网浪潮”（Internet Tidal Wave）备忘录，将微软的注意力转移到一家名为网景通讯（Netscape Communications）的新兴公司。2012 年麦肯锡一份调查发现，知识工作者 60% 以上的工作时间都花费在处理此类浮浅事务上，而这些工作不仅产出的价值有限，还会永久性地损害人们深度工作的能力！ 知识工作者之所以远离深度工作，原因显而易见网络工具，不论是手机电话邮箱等通讯工具，还是微信微博推特等社交网络，以及头条抖音游戏等娱乐信息和京东淘宝小红书等电商网站，网络工具的兴起，辅以智能手机和可联网办公电脑的广泛使用，将大多数知识工作者的注意力肢解的支离破碎。卡尔纽波特提出的深度工作假设认为：深度工作的能力日益稀少，而几乎同时，其在社会经济中的价值也日益提升。因此，能够培养这项技能，并将其内化为工作生活之核心的人，将会取得成功。什么是深度工作呢？深度工作的含义是：在无干扰的状态下进行专注的职业活动，使个人的认知能力达到极限。这种努力能够创造新价值，提升技能，而且难以复制。深度工作，是信息碎片时代的自控力、专注力、精力管理和时间管理指南，是在新经济形势下取得成就必备的核心技能。在这个以快为先的网络时代，深度工作能力日益稀缺，所以它也变得比以往任何时代更有价值。比尔盖茨、西奥多罗斯福、理查德费曼、马克吐温、伍迪艾伦、J. K. 罗琳、乔纳森弗兰岑、卡尔荣格、唐纳德克努特、查尔斯达尔文，这些引领时代潮流的行业翘楚，都是深度工作的践行者！如何做到深度工作呢？深度工作准则一：工作要深入全心投入和无干扰的工作主要障碍是将注意力转移到某种肤浅事物上的冲动。大多数人都能意识到这种冲动会使专注于困难工作的努力变得无效，但是大多数人低估了这种冲动出现的频率及其力量，因为有可能一整天你将会遭受到各种欲望的连番攻击。你需要布置一些惯例和固定程序，比如每天下午安排特定的时间或安静的场所用于完成深度任务，就只需很少的意志力便能启动工作并保持下去。从长远看，你会因此更成功地实现深度工作。一次练习很难养成深度学习的状态，需要培养习惯，确保每一次练习开始之前保持高度关注。利用简单的启发法控制你大脑的刺激中枢，另有一些则旨在以最快的速度补充你的意志力。深度工作准则二：拥抱无聊如果你不同时减少对分心事物的依赖，增强专注度的努力（准则一）可能就会白费。就如同运动员在训练时段之外也要照顾好自己的身体一样，如果在自己其余的时间里有一点无聊，你就打发时间，那么你将很难实现最大程度的专注。不管你怎么计划网络时段，都必须保证在这些时段外尽可能屏蔽网络，接受并享受这种“无聊”的感受，进而为增强专注度而努力。深度工作准则三：远离社交媒体你对世界没那么重要。微信电话和邮件，这些大多不需要即刻作出回应。同时，世界对你也没那么重要。微博、朋友圈永远有新动态，一只股票大涨能引来十条推送但错过这些也没什么大不了的。工具选择的手艺人方法：明确在你的职业和个人生活中决定成功与幸福的核心因素。只有一种工具对这些因素的实际益处大于实际害处时才选择这种工具。深度工作准则四：减少浮浅工作一定量的浮浅工作在大多数知识工作中是必要的。你应该可以避免每 10 分钟检查一次自己的电子邮件，但是不可能永远不回复重要的信息。从这个意义讲，我们应该明白该准则的目标是减少浮浅工作在我们日程中的分量，而不是将其消除。学会恰当分配时间。如果有琐事要处理，尽量把琐事搓到一起，集中去办。剩下的大段时间，给自己做最重要的事。深度工作不是一项过时的技能，而是将人们从技术垄断导致的精神异化状态中解救出来的良药。在当前这个以网络为中心的浮浅信息时代，倡导深度工作无异于呼唤一种匠人精神的回归。希望这篇文章对你有所裨益。关于WPS+：一站式办公文档管理平台WPS+免费提供 PDF转word、图片转文字、协作文档、文档修复、文档模板等6大常用办公神器。关注WPS+微信公众号（ID：WPS-SaaS），所有功能无限次免费使用。\n",
      "**********************************************\n"
     ]
    }
   ],
   "source": [
    "count = 0\n",
    "for i, j  in zip(y_prediction, result):\n",
    "    print(count)\n",
    "    print(i, j)\n",
    "    print(\"**********************************************\")\n",
    "    count += 1"
   ]
  },
  {
   "cell_type": "code",
   "execution_count": null,
   "metadata": {},
   "outputs": [],
   "source": []
  },
  {
   "cell_type": "code",
   "execution_count": null,
   "metadata": {},
   "outputs": [],
   "source": []
  }
 ],
 "metadata": {
  "kernelspec": {
   "display_name": "Python 3",
   "language": "python",
   "name": "python3"
  },
  "language_info": {
   "codemirror_mode": {
    "name": "ipython",
    "version": 3
   },
   "file_extension": ".py",
   "mimetype": "text/x-python",
   "name": "python",
   "nbconvert_exporter": "python",
   "pygments_lexer": "ipython3",
   "version": "3.6.5"
  }
 },
 "nbformat": 4,
 "nbformat_minor": 2
}
